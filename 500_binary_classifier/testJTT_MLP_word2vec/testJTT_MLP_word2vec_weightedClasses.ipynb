{
 "cells": [
  {
   "cell_type": "markdown",
   "metadata": {},
   "source": [
    "# Multi-layer Perceptron (MLP)\n",
    "\n",
    "- **Training set**: LO_SARD102\n",
    "- **Test/Validation set:** JTT\n",
    "- **Features**: word2vec average\n",
    "- **Class imbalance processing**: Weighted classes"
   ]
  },
  {
   "cell_type": "code",
   "execution_count": 1,
   "metadata": {},
   "outputs": [
    {
     "name": "stderr",
     "output_type": "stream",
     "text": [
      "/home/scheuererra68323/venv37/lib/python3.7/site-packages/pandas/compat/__init__.py:117: UserWarning: Could not import the lzma module. Your installed Python is incomplete. Attempting to use lzma compression will result in a RuntimeError.\n",
      "  warnings.warn(msg)\n"
     ]
    }
   ],
   "source": [
    "import tensorflow as tf\n",
    "from tensorflow import keras\n",
    "from tensorflow.keras import layers\n",
    "from tensorflow.keras.utils import to_categorical\n",
    "import pandas as pd\n",
    "import numpy\n",
    "import matplotlib.pyplot as plt\n",
    "from helper_functions import *\n",
    "from sklearn.model_selection import train_test_split\n",
    "from sklearn.metrics import classification_report"
   ]
  },
  {
   "cell_type": "markdown",
   "metadata": {},
   "source": [
    "## Load labeled dataset"
   ]
  },
  {
   "cell_type": "code",
   "execution_count": 2,
   "metadata": {},
   "outputs": [
    {
     "name": "stdout",
     "output_type": "stream",
     "text": [
      "(292724, 2)\n",
      "0.0    269721\n",
      "1.0     23003\n",
      "Name: is_vulnerable, dtype: int64\n",
      "\n",
      "(24999, 2)\n",
      "0.0    24171\n",
      "1.0      828\n",
      "Name: is_vulnerable, dtype: int64\n"
     ]
    }
   ],
   "source": [
    "dataset = pd.read_hdf(\"/mnt/md0/user/scheuererra68323/LO_SARD102/LO_SARD102_word2vec.h5\")\n",
    "testset = pd.read_hdf(\"/mnt/md0/user/scheuererra68323/JTT/JTT_word2vec.h5\")\n",
    "print(dataset.shape)\n",
    "print(dataset.is_vulnerable.value_counts())\n",
    "print()\n",
    "print(testset.shape)\n",
    "print(testset.is_vulnerable.value_counts())"
   ]
  },
  {
   "cell_type": "markdown",
   "metadata": {},
   "source": [
    "## Prepare train and test datasets"
   ]
  },
  {
   "cell_type": "code",
   "execution_count": 4,
   "metadata": {},
   "outputs": [
    {
     "name": "stdout",
     "output_type": "stream",
     "text": [
      "Training Set:\n",
      "234179 total\n",
      "Counter({0.0: 215777, 1.0: 18402})\n",
      "\n",
      "Validation Set:\n",
      "58545 total\n",
      "Counter({0.0: 53944, 1.0: 4601})\n",
      "\n",
      "Test Set:\n",
      "24999 total\n",
      "Counter({0.0: 24171, 1.0: 828})\n",
      "\n",
      "Class weights:\n",
      "(0.5426412453597927, 6.362868166503641)\n"
     ]
    }
   ],
   "source": [
    "# randomize both datasets\n",
    "dataset = dataset.sample(frac=1).reset_index(drop=True)\n",
    "testset = testset.sample(frac=1).reset_index(drop=True)\n",
    "\n",
    "X_train, X_val, Y_train, Y_val = train_test_split(\n",
    "    dataset.word2vec_avg,\n",
    "    dataset.is_vulnerable,\n",
    "    test_size=0.2,\n",
    "    stratify=dataset.is_vulnerable,\n",
    "    random_state=0\n",
    ")\n",
    "X_test, Y_test = testset.word2vec_avg, testset.is_vulnerable\n",
    "\n",
    "X_train = numpy.stack(X_train, axis=0)\n",
    "Y_train = numpy.stack(Y_train, axis=0)\n",
    "X_val = numpy.stack(X_val, axis=0)\n",
    "Y_val = numpy.stack(Y_val, axis=0)\n",
    "X_test = numpy.stack(X_test, axis=0)\n",
    "Y_test = numpy.stack(Y_test, axis=0)\n",
    "\n",
    "# prepare class weights\n",
    "weight_0 = ( 1 / Counter(Y_train)[0] ) * Y_train.shape[0] / 2.0\n",
    "weight_1 = ( 1 / Counter(Y_train)[1] ) * Y_train.shape[0] / 2.0\n",
    "\n",
    "print(\"Training Set:\")\n",
    "print(f\"{len(X_train)} total\")\n",
    "print(Counter(Y_train))\n",
    "print()      \n",
    "print(\"Validation Set:\")\n",
    "print(f\"{len(X_val)} total\")\n",
    "print(Counter(Y_val))\n",
    "print()      \n",
    "print(\"Test Set:\")\n",
    "print(f\"{len(X_test)} total\")\n",
    "print(Counter(Y_test))\n",
    "print()\n",
    "print(\"Class weights:\")\n",
    "print((weight_0, weight_1))"
   ]
  },
  {
   "cell_type": "markdown",
   "metadata": {},
   "source": [
    "## Model definition & Training"
   ]
  },
  {
   "cell_type": "code",
   "execution_count": 21,
   "metadata": {
    "scrolled": true
   },
   "outputs": [
    {
     "name": "stdout",
     "output_type": "stream",
     "text": [
      "Model: \"sequential_6\"\n",
      "_________________________________________________________________\n",
      "Layer (type)                 Output Shape              Param #   \n",
      "=================================================================\n",
      "dense_24 (Dense)             (None, 64)                6464      \n",
      "_________________________________________________________________\n",
      "dropout_6 (Dropout)          (None, 64)                0         \n",
      "_________________________________________________________________\n",
      "dense_25 (Dense)             (None, 64)                4160      \n",
      "_________________________________________________________________\n",
      "dense_26 (Dense)             (None, 64)                4160      \n",
      "_________________________________________________________________\n",
      "dense_27 (Dense)             (None, 1)                 65        \n",
      "=================================================================\n",
      "Total params: 14,849\n",
      "Trainable params: 14,849\n",
      "Non-trainable params: 0\n",
      "_________________________________________________________________\n",
      "Train on 234179 samples, validate on 58545 samples\n",
      "Epoch 1/100\n",
      "234179/234179 [==============================] - 1s 4us/sample - loss: 0.7214 - accuracy: 0.8916 - val_loss: 0.7090 - val_accuracy: 0.8948\n",
      "Epoch 2/100\n",
      "234179/234179 [==============================] - 0s 1us/sample - loss: 0.7114 - accuracy: 0.8817 - val_loss: 0.6926 - val_accuracy: 0.8726\n",
      "Epoch 3/100\n",
      "234179/234179 [==============================] - 0s 1us/sample - loss: 0.6956 - accuracy: 0.8462 - val_loss: 0.6740 - val_accuracy: 0.7472\n",
      "Epoch 4/100\n",
      "234179/234179 [==============================] - 0s 1us/sample - loss: 0.6776 - accuracy: 0.7463 - val_loss: 0.6566 - val_accuracy: 0.6094\n",
      "Epoch 5/100\n",
      "234179/234179 [==============================] - 0s 1us/sample - loss: 0.6611 - accuracy: 0.6196 - val_loss: 0.6416 - val_accuracy: 0.5201\n",
      "Epoch 6/100\n",
      "234179/234179 [==============================] - 0s 1us/sample - loss: 0.6466 - accuracy: 0.5215 - val_loss: 0.6283 - val_accuracy: 0.4794\n",
      "Epoch 7/100\n",
      "234179/234179 [==============================] - 0s 1us/sample - loss: 0.6339 - accuracy: 0.4809 - val_loss: 0.6155 - val_accuracy: 0.4741\n",
      "Epoch 8/100\n",
      "234179/234179 [==============================] - 0s 1us/sample - loss: 0.6214 - accuracy: 0.4762 - val_loss: 0.6017 - val_accuracy: 0.5006\n",
      "Epoch 9/100\n",
      "234179/234179 [==============================] - 0s 1us/sample - loss: 0.6082 - accuracy: 0.4983 - val_loss: 0.5863 - val_accuracy: 0.5415\n",
      "Epoch 10/100\n",
      "234179/234179 [==============================] - 0s 1us/sample - loss: 0.5939 - accuracy: 0.5396 - val_loss: 0.5688 - val_accuracy: 0.5875\n",
      "Epoch 11/100\n",
      "234179/234179 [==============================] - 0s 1us/sample - loss: 0.5770 - accuracy: 0.5877 - val_loss: 0.5504 - val_accuracy: 0.6388\n",
      "Epoch 12/100\n",
      "234179/234179 [==============================] - 0s 1us/sample - loss: 0.5595 - accuracy: 0.6395 - val_loss: 0.5312 - val_accuracy: 0.6954\n",
      "Epoch 13/100\n",
      "234179/234179 [==============================] - 0s 1us/sample - loss: 0.5415 - accuracy: 0.6912 - val_loss: 0.5123 - val_accuracy: 0.7404\n",
      "Epoch 14/100\n",
      "234179/234179 [==============================] - 0s 1us/sample - loss: 0.5234 - accuracy: 0.7348 - val_loss: 0.4939 - val_accuracy: 0.7625\n",
      "Epoch 15/100\n",
      "234179/234179 [==============================] - 0s 1us/sample - loss: 0.5053 - accuracy: 0.7640 - val_loss: 0.4760 - val_accuracy: 0.7863\n",
      "Epoch 16/100\n",
      "234179/234179 [==============================] - 0s 1us/sample - loss: 0.4885 - accuracy: 0.7826 - val_loss: 0.4581 - val_accuracy: 0.7915\n",
      "Epoch 17/100\n",
      "234179/234179 [==============================] - 0s 1us/sample - loss: 0.4708 - accuracy: 0.7892 - val_loss: 0.4403 - val_accuracy: 0.7854\n",
      "Epoch 18/100\n",
      "234179/234179 [==============================] - 0s 1us/sample - loss: 0.4537 - accuracy: 0.7856 - val_loss: 0.4237 - val_accuracy: 0.7752\n",
      "Epoch 19/100\n",
      "234179/234179 [==============================] - 0s 1us/sample - loss: 0.4376 - accuracy: 0.7789 - val_loss: 0.4093 - val_accuracy: 0.7720\n",
      "Epoch 20/100\n",
      "234179/234179 [==============================] - 0s 1us/sample - loss: 0.4234 - accuracy: 0.7723 - val_loss: 0.3965 - val_accuracy: 0.7743\n",
      "Epoch 21/100\n",
      "234179/234179 [==============================] - 0s 1us/sample - loss: 0.4110 - accuracy: 0.7712 - val_loss: 0.3844 - val_accuracy: 0.7793\n",
      "Epoch 22/100\n",
      "234179/234179 [==============================] - 0s 1us/sample - loss: 0.3996 - accuracy: 0.7750 - val_loss: 0.3721 - val_accuracy: 0.7900\n",
      "Epoch 23/100\n",
      "234179/234179 [==============================] - 0s 1us/sample - loss: 0.3882 - accuracy: 0.7857 - val_loss: 0.3600 - val_accuracy: 0.8012\n",
      "Epoch 24/100\n",
      "234179/234179 [==============================] - 0s 1us/sample - loss: 0.3770 - accuracy: 0.8010 - val_loss: 0.3489 - val_accuracy: 0.8213\n",
      "Epoch 25/100\n",
      "234179/234179 [==============================] - 0s 1us/sample - loss: 0.3665 - accuracy: 0.8163 - val_loss: 0.3389 - val_accuracy: 0.8361\n",
      "Epoch 26/100\n",
      "234179/234179 [==============================] - 0s 1us/sample - loss: 0.3576 - accuracy: 0.8296 - val_loss: 0.3294 - val_accuracy: 0.8425\n",
      "Epoch 27/100\n",
      "234179/234179 [==============================] - 0s 1us/sample - loss: 0.3489 - accuracy: 0.8376 - val_loss: 0.3210 - val_accuracy: 0.8466\n",
      "Epoch 28/100\n",
      "234179/234179 [==============================] - 0s 1us/sample - loss: 0.3398 - accuracy: 0.8395 - val_loss: 0.3138 - val_accuracy: 0.8441\n",
      "Epoch 29/100\n",
      "234179/234179 [==============================] - 0s 1us/sample - loss: 0.3334 - accuracy: 0.8381 - val_loss: 0.3079 - val_accuracy: 0.8422\n",
      "Epoch 30/100\n",
      "234179/234179 [==============================] - 0s 1us/sample - loss: 0.3267 - accuracy: 0.8389 - val_loss: 0.3027 - val_accuracy: 0.8439\n",
      "Epoch 31/100\n",
      "234179/234179 [==============================] - 0s 1us/sample - loss: 0.3209 - accuracy: 0.8421 - val_loss: 0.2976 - val_accuracy: 0.8541\n",
      "Epoch 32/100\n",
      "234179/234179 [==============================] - 0s 1us/sample - loss: 0.3170 - accuracy: 0.8485 - val_loss: 0.2929 - val_accuracy: 0.8655\n",
      "Epoch 33/100\n",
      "234179/234179 [==============================] - 0s 1us/sample - loss: 0.3119 - accuracy: 0.8572 - val_loss: 0.2886 - val_accuracy: 0.8698\n",
      "Epoch 34/100\n",
      "234179/234179 [==============================] - 0s 1us/sample - loss: 0.3077 - accuracy: 0.8641 - val_loss: 0.2843 - val_accuracy: 0.8739\n",
      "Epoch 35/100\n",
      "234179/234179 [==============================] - 0s 1us/sample - loss: 0.3041 - accuracy: 0.8692 - val_loss: 0.2798 - val_accuracy: 0.8742\n",
      "Epoch 36/100\n",
      "234179/234179 [==============================] - 0s 1us/sample - loss: 0.2981 - accuracy: 0.8704 - val_loss: 0.2752 - val_accuracy: 0.8739\n",
      "Epoch 37/100\n",
      "234179/234179 [==============================] - 0s 1us/sample - loss: 0.2924 - accuracy: 0.8697 - val_loss: 0.2708 - val_accuracy: 0.8727\n",
      "Epoch 38/100\n",
      "234179/234179 [==============================] - 0s 1us/sample - loss: 0.2878 - accuracy: 0.8685 - val_loss: 0.2663 - val_accuracy: 0.8750\n",
      "Epoch 39/100\n",
      "234179/234179 [==============================] - 0s 1us/sample - loss: 0.2832 - accuracy: 0.8713 - val_loss: 0.2618 - val_accuracy: 0.8766\n",
      "Epoch 40/100\n",
      "234179/234179 [==============================] - 0s 1us/sample - loss: 0.2776 - accuracy: 0.8743 - val_loss: 0.2576 - val_accuracy: 0.8810\n",
      "Epoch 41/100\n",
      "234179/234179 [==============================] - 0s 1us/sample - loss: 0.2741 - accuracy: 0.8793 - val_loss: 0.2537 - val_accuracy: 0.8849\n",
      "Epoch 42/100\n",
      "234179/234179 [==============================] - 0s 1us/sample - loss: 0.2687 - accuracy: 0.8838 - val_loss: 0.2506 - val_accuracy: 0.8897\n",
      "Epoch 43/100\n",
      "234179/234179 [==============================] - 0s 1us/sample - loss: 0.2669 - accuracy: 0.8862 - val_loss: 0.2477 - val_accuracy: 0.8903\n",
      "Epoch 44/100\n",
      "234179/234179 [==============================] - 0s 1us/sample - loss: 0.2627 - accuracy: 0.8876 - val_loss: 0.2450 - val_accuracy: 0.8886\n",
      "Epoch 45/100\n",
      "234179/234179 [==============================] - 0s 1us/sample - loss: 0.2599 - accuracy: 0.8860 - val_loss: 0.2426 - val_accuracy: 0.8856\n",
      "Epoch 46/100\n",
      "234179/234179 [==============================] - 0s 1us/sample - loss: 0.2580 - accuracy: 0.8847 - val_loss: 0.2407 - val_accuracy: 0.8853\n",
      "Epoch 47/100\n",
      "234179/234179 [==============================] - 0s 1us/sample - loss: 0.2556 - accuracy: 0.8836 - val_loss: 0.2387 - val_accuracy: 0.8876\n"
     ]
    },
    {
     "name": "stdout",
     "output_type": "stream",
     "text": [
      "Epoch 48/100\n",
      "234179/234179 [==============================] - 0s 1us/sample - loss: 0.2525 - accuracy: 0.8856 - val_loss: 0.2364 - val_accuracy: 0.8918\n",
      "Epoch 49/100\n",
      "234179/234179 [==============================] - 0s 1us/sample - loss: 0.2499 - accuracy: 0.8879 - val_loss: 0.2340 - val_accuracy: 0.8957\n",
      "Epoch 50/100\n",
      "234179/234179 [==============================] - 0s 1us/sample - loss: 0.2480 - accuracy: 0.8913 - val_loss: 0.2316 - val_accuracy: 0.9025\n",
      "Epoch 51/100\n",
      "234179/234179 [==============================] - 0s 1us/sample - loss: 0.2455 - accuracy: 0.8943 - val_loss: 0.2291 - val_accuracy: 0.9023\n",
      "Epoch 52/100\n",
      "234179/234179 [==============================] - 0s 1us/sample - loss: 0.2424 - accuracy: 0.8974 - val_loss: 0.2268 - val_accuracy: 0.9043\n",
      "Epoch 53/100\n",
      "234179/234179 [==============================] - 0s 1us/sample - loss: 0.2396 - accuracy: 0.8983 - val_loss: 0.2247 - val_accuracy: 0.9054\n",
      "Epoch 54/100\n",
      "234179/234179 [==============================] - 0s 1us/sample - loss: 0.2372 - accuracy: 0.8996 - val_loss: 0.2227 - val_accuracy: 0.9065\n",
      "Epoch 55/100\n",
      "234179/234179 [==============================] - 0s 1us/sample - loss: 0.2353 - accuracy: 0.9001 - val_loss: 0.2208 - val_accuracy: 0.9075\n",
      "Epoch 56/100\n",
      "234179/234179 [==============================] - 0s 1us/sample - loss: 0.2335 - accuracy: 0.9018 - val_loss: 0.2188 - val_accuracy: 0.9085\n",
      "Epoch 57/100\n",
      "234179/234179 [==============================] - 0s 1us/sample - loss: 0.2313 - accuracy: 0.9035 - val_loss: 0.2166 - val_accuracy: 0.9111\n",
      "Epoch 58/100\n",
      "234179/234179 [==============================] - 0s 1us/sample - loss: 0.2292 - accuracy: 0.9062 - val_loss: 0.2145 - val_accuracy: 0.9125\n",
      "Epoch 59/100\n",
      "234179/234179 [==============================] - 0s 1us/sample - loss: 0.2275 - accuracy: 0.9071 - val_loss: 0.2124 - val_accuracy: 0.9120\n",
      "Epoch 60/100\n",
      "234179/234179 [==============================] - 0s 1us/sample - loss: 0.2253 - accuracy: 0.9082 - val_loss: 0.2105 - val_accuracy: 0.9128\n",
      "Epoch 61/100\n",
      "234179/234179 [==============================] - 0s 1us/sample - loss: 0.2242 - accuracy: 0.9089 - val_loss: 0.2086 - val_accuracy: 0.9130\n",
      "Epoch 62/100\n",
      "234179/234179 [==============================] - 0s 1us/sample - loss: 0.2216 - accuracy: 0.9082 - val_loss: 0.2068 - val_accuracy: 0.9124\n",
      "Epoch 63/100\n",
      "234179/234179 [==============================] - 0s 1us/sample - loss: 0.2198 - accuracy: 0.9077 - val_loss: 0.2049 - val_accuracy: 0.9125\n",
      "Epoch 64/100\n",
      "234179/234179 [==============================] - 0s 1us/sample - loss: 0.2187 - accuracy: 0.9086 - val_loss: 0.2030 - val_accuracy: 0.9141\n",
      "Epoch 65/100\n",
      "234179/234179 [==============================] - 0s 1us/sample - loss: 0.2165 - accuracy: 0.9102 - val_loss: 0.2014 - val_accuracy: 0.9158\n",
      "Epoch 66/100\n",
      "234179/234179 [==============================] - 0s 1us/sample - loss: 0.2140 - accuracy: 0.9121 - val_loss: 0.1999 - val_accuracy: 0.9168\n",
      "Epoch 67/100\n",
      "234179/234179 [==============================] - 0s 1us/sample - loss: 0.2143 - accuracy: 0.9139 - val_loss: 0.1984 - val_accuracy: 0.9194\n",
      "Epoch 68/100\n",
      "234179/234179 [==============================] - 0s 1us/sample - loss: 0.2109 - accuracy: 0.9143 - val_loss: 0.1970 - val_accuracy: 0.9196\n",
      "Epoch 69/100\n",
      "234179/234179 [==============================] - 0s 1us/sample - loss: 0.2101 - accuracy: 0.9147 - val_loss: 0.1955 - val_accuracy: 0.9195\n",
      "Epoch 70/100\n",
      "234179/234179 [==============================] - 0s 1us/sample - loss: 0.2089 - accuracy: 0.9148 - val_loss: 0.1942 - val_accuracy: 0.9199\n",
      "Epoch 71/100\n",
      "234179/234179 [==============================] - 0s 1us/sample - loss: 0.2072 - accuracy: 0.9148 - val_loss: 0.1928 - val_accuracy: 0.9202\n",
      "Epoch 72/100\n",
      "234179/234179 [==============================] - 0s 1us/sample - loss: 0.2055 - accuracy: 0.9153 - val_loss: 0.1915 - val_accuracy: 0.9216\n",
      "Epoch 73/100\n",
      "234179/234179 [==============================] - 0s 1us/sample - loss: 0.2047 - accuracy: 0.9168 - val_loss: 0.1903 - val_accuracy: 0.9228\n",
      "Epoch 74/100\n",
      "234179/234179 [==============================] - 0s 1us/sample - loss: 0.2038 - accuracy: 0.9174 - val_loss: 0.1892 - val_accuracy: 0.9231\n",
      "Epoch 75/100\n",
      "234179/234179 [==============================] - 0s 1us/sample - loss: 0.2023 - accuracy: 0.9189 - val_loss: 0.1881 - val_accuracy: 0.9239\n",
      "Epoch 76/100\n",
      "234179/234179 [==============================] - 0s 1us/sample - loss: 0.2023 - accuracy: 0.9187 - val_loss: 0.1869 - val_accuracy: 0.9247\n",
      "Epoch 77/100\n",
      "234179/234179 [==============================] - 0s 1us/sample - loss: 0.2004 - accuracy: 0.9195 - val_loss: 0.1858 - val_accuracy: 0.9255\n",
      "Epoch 78/100\n",
      "234179/234179 [==============================] - 0s 1us/sample - loss: 0.1988 - accuracy: 0.9202 - val_loss: 0.1847 - val_accuracy: 0.9261\n",
      "Epoch 79/100\n",
      "234179/234179 [==============================] - 0s 1us/sample - loss: 0.1978 - accuracy: 0.9202 - val_loss: 0.1836 - val_accuracy: 0.9268\n",
      "Epoch 80/100\n",
      "234179/234179 [==============================] - 0s 1us/sample - loss: 0.1969 - accuracy: 0.9206 - val_loss: 0.1826 - val_accuracy: 0.9273\n",
      "Epoch 81/100\n",
      "234179/234179 [==============================] - 0s 1us/sample - loss: 0.1960 - accuracy: 0.9219 - val_loss: 0.1816 - val_accuracy: 0.9282\n",
      "Epoch 82/100\n",
      "234179/234179 [==============================] - 0s 1us/sample - loss: 0.1947 - accuracy: 0.9217 - val_loss: 0.1806 - val_accuracy: 0.9288\n",
      "Epoch 83/100\n",
      "234179/234179 [==============================] - 0s 1us/sample - loss: 0.1941 - accuracy: 0.9229 - val_loss: 0.1795 - val_accuracy: 0.9291\n",
      "Epoch 84/100\n",
      "234179/234179 [==============================] - 0s 1us/sample - loss: 0.1928 - accuracy: 0.9232 - val_loss: 0.1786 - val_accuracy: 0.9298\n",
      "Epoch 85/100\n",
      "234179/234179 [==============================] - 0s 1us/sample - loss: 0.1918 - accuracy: 0.9236 - val_loss: 0.1777 - val_accuracy: 0.9305\n",
      "Epoch 86/100\n",
      "234179/234179 [==============================] - 0s 1us/sample - loss: 0.1911 - accuracy: 0.9243 - val_loss: 0.1767 - val_accuracy: 0.9311\n",
      "Epoch 87/100\n",
      "234179/234179 [==============================] - 0s 1us/sample - loss: 0.1901 - accuracy: 0.9248 - val_loss: 0.1758 - val_accuracy: 0.9310\n",
      "Epoch 88/100\n",
      "234179/234179 [==============================] - 0s 1us/sample - loss: 0.1886 - accuracy: 0.9260 - val_loss: 0.1750 - val_accuracy: 0.9311\n",
      "Epoch 89/100\n",
      "234179/234179 [==============================] - 0s 1us/sample - loss: 0.1880 - accuracy: 0.9261 - val_loss: 0.1741 - val_accuracy: 0.9319\n",
      "Epoch 90/100\n",
      "234179/234179 [==============================] - 0s 1us/sample - loss: 0.1873 - accuracy: 0.9260 - val_loss: 0.1732 - val_accuracy: 0.9325\n",
      "Epoch 91/100\n",
      "234179/234179 [==============================] - 0s 1us/sample - loss: 0.1859 - accuracy: 0.9269 - val_loss: 0.1724 - val_accuracy: 0.9333\n",
      "Epoch 92/100\n",
      "234179/234179 [==============================] - 0s 1us/sample - loss: 0.1859 - accuracy: 0.9271 - val_loss: 0.1716 - val_accuracy: 0.9340\n",
      "Epoch 93/100\n",
      "234179/234179 [==============================] - 0s 1us/sample - loss: 0.1858 - accuracy: 0.9271 - val_loss: 0.1708 - val_accuracy: 0.9333\n",
      "Epoch 94/100\n",
      "234179/234179 [==============================] - 0s 1us/sample - loss: 0.1841 - accuracy: 0.9272 - val_loss: 0.1701 - val_accuracy: 0.9337\n",
      "Epoch 95/100\n",
      "234179/234179 [==============================] - 0s 1us/sample - loss: 0.1833 - accuracy: 0.9278 - val_loss: 0.1693 - val_accuracy: 0.9346\n",
      "Epoch 96/100\n",
      "234179/234179 [==============================] - 0s 1us/sample - loss: 0.1836 - accuracy: 0.9286 - val_loss: 0.1686 - val_accuracy: 0.9355\n",
      "Epoch 97/100\n",
      "234179/234179 [==============================] - 0s 1us/sample - loss: 0.1825 - accuracy: 0.9294 - val_loss: 0.1679 - val_accuracy: 0.9351\n",
      "Epoch 98/100\n",
      "234179/234179 [==============================] - 0s 1us/sample - loss: 0.1819 - accuracy: 0.9294 - val_loss: 0.1671 - val_accuracy: 0.9356\n",
      "Epoch 99/100\n",
      "234179/234179 [==============================] - 0s 1us/sample - loss: 0.1806 - accuracy: 0.9292 - val_loss: 0.1664 - val_accuracy: 0.9353\n",
      "Epoch 100/100\n",
      "234179/234179 [==============================] - 0s 1us/sample - loss: 0.1801 - accuracy: 0.9295 - val_loss: 0.1657 - val_accuracy: 0.9364\n"
     ]
    }
   ],
   "source": [
    "init_mode = 'glorot_uniform'\n",
    "model = keras.Sequential(\n",
    "    [\n",
    "        layers.Dense(64,\n",
    "                     input_dim=100,\n",
    "                     kernel_initializer=init_mode,\n",
    "                     activation=tf.nn.relu),\n",
    "\n",
    "\n",
    "        layers.Dropout(0.1),\n",
    "\n",
    "        layers.Dense(64,\n",
    "                     kernel_initializer=init_mode,\n",
    "                     activation=tf.nn.relu),\n",
    "\n",
    "        layers.Dense(64,\n",
    "                     kernel_initializer=init_mode,\n",
    "                     activation=tf.nn.relu),\n",
    "\n",
    "\n",
    "        layers.Dense(1, \n",
    "                     kernel_initializer=init_mode, \n",
    "                     activation=tf.nn.sigmoid),\n",
    "    ]\n",
    ")\n",
    "model.summary()\n",
    "\n",
    "model.compile(loss='binary_crossentropy',\n",
    "              optimizer=keras.optimizers.SGD(learning_rate=0.03, momentum=0.9, decay=0.001),\n",
    "              metrics=['accuracy'])\n",
    "history = model.fit(X_train, Y_train,\n",
    "                    batch_size=X_train.shape[0],\n",
    "                    epochs=100,\n",
    "                    verbose=True,\n",
    "                    validation_data=(X_val, Y_val),\n",
    "                    class_weight = {0: weight_0, 1: weight_1})"
   ]
  },
  {
   "cell_type": "markdown",
   "metadata": {},
   "source": [
    "## Evaluation"
   ]
  },
  {
   "cell_type": "code",
   "execution_count": 22,
   "metadata": {},
   "outputs": [
    {
     "name": "stdout",
     "output_type": "stream",
     "text": [
      "              precision    recall  f1-score   support\n",
      "\n",
      "         0.0       0.98      0.02      0.04     24171\n",
      "         1.0       0.03      0.99      0.06       828\n",
      "\n",
      "    accuracy                           0.05     24999\n",
      "   macro avg       0.51      0.51      0.05     24999\n",
      "weighted avg       0.95      0.05      0.04     24999\n",
      "\n",
      "Confusion matrix:\n",
      "[[  537 23634]\n",
      " [   10   818]]\n",
      "\n",
      "Confusion matrix (Percentages):\n",
      "[[2.148e+00 9.454e+01]\n",
      " [4.000e-02 3.272e+00]]\n",
      "\n",
      "Metrics:\n",
      "Sensitivity (TPR): 0.987923\n",
      "Specifity (TNR):   0.022217\n",
      "\n",
      "FPR: 0.977783\n",
      "FNR: 0.012077\n",
      "\n",
      "Balanced accuracy: 0.505070\n",
      "\n",
      "Test loss:\t1.494657\n",
      "Test accuracy:\t0.054202\n"
     ]
    },
    {
     "data": {
      "image/png": "[encoded data removed]",
      "text/plain": [
       "<Figure size 432x288 with 1 Axes>"
      ]
     },
     "metadata": {
      "needs_background": "light"
     },
     "output_type": "display_data"
    },
    {
     "data": {
      "image/png": "[encoded data removed]",
      "text/plain": [
       "<Figure size 432x288 with 1 Axes>"
      ]
     },
     "metadata": {
      "needs_background": "light"
     },
     "output_type": "display_data"
    }
   ],
   "source": [
    "Y_pred = numpy.round(model.predict(X_test))\n",
    "\n",
    "print(classification_report(Y_test, Y_pred))\n",
    "print_metrics(confusion_matrix(Y_test, Y_pred), Y_test)\n",
    "print()\n",
    "score = model.evaluate(X_test, Y_test, verbose=0)\n",
    "print('Test loss:\\t{:.6f}'.format(score[0]))\n",
    "print('Test accuracy:\\t{:.6f}'.format(score[1]))\n",
    "\n",
    "plot_loss(history)\n",
    "plot_accuracy(history)"
   ]
  },
  {
   "cell_type": "code",
   "execution_count": 23,
   "metadata": {},
   "outputs": [
    {
     "name": "stdout",
     "output_type": "stream",
     "text": [
      "INFO:tensorflow:Assets written to: testJTT_MLP_word2vec_weightedClasses/assets\n"
     ]
    }
   ],
   "source": [
    "model.save('testJTT_MLP_word2vec_weightedClasses')"
   ]
  },
  {
   "cell_type": "markdown",
   "metadata": {},
   "source": [
    "## Discussion"
   ]
  },
  {
   "cell_type": "code",
   "execution_count": null,
   "metadata": {},
   "outputs": [],
   "source": []
  }
 ],
 "metadata": {
  "kernelspec": {
   "display_name": "Python 3.7",
   "language": "python",
   "name": "python3"
  },
  "language_info": {
   "codemirror_mode": {
    "name": "ipython",
    "version": 3
   },
   "file_extension": ".py",
   "mimetype": "text/x-python",
   "name": "python",
   "nbconvert_exporter": "python",
   "pygments_lexer": "ipython3",
   "version": "3.7.8"
  }
 },
 "nbformat": 4,
 "nbformat_minor": 2
}
