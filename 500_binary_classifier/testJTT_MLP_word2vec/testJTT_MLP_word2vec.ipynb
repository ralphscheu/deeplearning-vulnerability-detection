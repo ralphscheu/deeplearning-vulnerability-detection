{
 "cells": [
  {
   "cell_type": "markdown",
   "metadata": {},
   "source": [
    "# Multi-layer Perceptron (MLP)\n",
    "\n",
    "- **Training set**: LO_SARD102\n",
    "- **Test/Validation set:** JTT\n",
    "- **Features**: word2vec average\n",
    "- **Class imbalance processing**: None"
   ]
  },
  {
   "cell_type": "code",
   "execution_count": 1,
   "metadata": {},
   "outputs": [
    {
     "name": "stderr",
     "output_type": "stream",
     "text": [
      "/home/scheuererra68323/venv37/lib/python3.7/site-packages/pandas/compat/__init__.py:117: UserWarning: Could not import the lzma module. Your installed Python is incomplete. Attempting to use lzma compression will result in a RuntimeError.\n",
      "  warnings.warn(msg)\n"
     ]
    }
   ],
   "source": [
    "import tensorflow as tf\n",
    "from tensorflow import keras\n",
    "from tensorflow.keras import layers\n",
    "from tensorflow.keras.utils import to_categorical\n",
    "import pandas as pd\n",
    "import numpy\n",
    "import matplotlib.pyplot as plt\n",
    "from helper_functions import *\n",
    "from sklearn.model_selection import train_test_split\n",
    "from sklearn.metrics import classification_report"
   ]
  },
  {
   "cell_type": "markdown",
   "metadata": {},
   "source": [
    "## Load labeled dataset"
   ]
  },
  {
   "cell_type": "code",
   "execution_count": 2,
   "metadata": {},
   "outputs": [
    {
     "name": "stdout",
     "output_type": "stream",
     "text": [
      "(292724, 2)\n",
      "0.0    269721\n",
      "1.0     23003\n",
      "Name: is_vulnerable, dtype: int64\n",
      "\n",
      "(24999, 2)\n",
      "0.0    24171\n",
      "1.0      828\n",
      "Name: is_vulnerable, dtype: int64\n"
     ]
    }
   ],
   "source": [
    "dataset = pd.read_hdf(\"/mnt/md0/user/scheuererra68323/LO_SARD102/LO_SARD102_word2vec.h5\")\n",
    "testset = pd.read_hdf(\"/mnt/md0/user/scheuererra68323/JTT/JTT_word2vec.h5\")\n",
    "print(dataset.shape)\n",
    "print(dataset.is_vulnerable.value_counts())\n",
    "print()\n",
    "print(testset.shape)\n",
    "print(testset.is_vulnerable.value_counts())"
   ]
  },
  {
   "cell_type": "markdown",
   "metadata": {},
   "source": [
    "## Prepare train and test datasets"
   ]
  },
  {
   "cell_type": "code",
   "execution_count": 4,
   "metadata": {},
   "outputs": [
    {
     "name": "stdout",
     "output_type": "stream",
     "text": [
      "Training Set:\n",
      "234179 total\n",
      "Counter({0.0: 215777, 1.0: 18402})\n",
      "\n",
      "Validation Set:\n",
      "58545 total\n",
      "Counter({0.0: 53944, 1.0: 4601})\n",
      "\n",
      "Test Set:\n",
      "24999 total\n",
      "Counter({0.0: 24171, 1.0: 828})\n"
     ]
    }
   ],
   "source": [
    "# randomize both datasets\n",
    "dataset = dataset.sample(frac=1).reset_index(drop=True)\n",
    "testset = testset.sample(frac=1).reset_index(drop=True)\n",
    "\n",
    "X_train, X_val, Y_train, Y_val = train_test_split(\n",
    "    dataset.word2vec_avg,\n",
    "    dataset.is_vulnerable,\n",
    "    test_size=0.2,\n",
    "    stratify=dataset.is_vulnerable,\n",
    "    random_state=0\n",
    ")\n",
    "X_test, Y_test = testset.word2vec_avg, testset.is_vulnerable\n",
    "\n",
    "X_train = numpy.stack(X_train, axis=0)\n",
    "Y_train = numpy.stack(Y_train, axis=0)\n",
    "X_val = numpy.stack(X_val, axis=0)\n",
    "Y_val = numpy.stack(Y_val, axis=0)\n",
    "X_test = numpy.stack(X_test, axis=0)\n",
    "Y_test = numpy.stack(Y_test, axis=0)\n",
    "\n",
    "print(\"Training Set:\")\n",
    "print(f\"{len(X_train)} total\")\n",
    "print(Counter(Y_train))\n",
    "print()      \n",
    "print(\"Validation Set:\")\n",
    "print(f\"{len(X_val)} total\")\n",
    "print(Counter(Y_val))\n",
    "print()      \n",
    "print(\"Test Set:\")\n",
    "print(f\"{len(X_test)} total\")\n",
    "print(Counter(Y_test))"
   ]
  },
  {
   "cell_type": "markdown",
   "metadata": {},
   "source": [
    "## Model definition & Training"
   ]
  },
  {
   "cell_type": "code",
   "execution_count": 21,
   "metadata": {
    "scrolled": true
   },
   "outputs": [
    {
     "name": "stdout",
     "output_type": "stream",
     "text": [
      "Model: \"sequential_7\"\n",
      "_________________________________________________________________\n",
      "Layer (type)                 Output Shape              Param #   \n",
      "=================================================================\n",
      "dense_28 (Dense)             (None, 64)                6464      \n",
      "_________________________________________________________________\n",
      "dropout_7 (Dropout)          (None, 64)                0         \n",
      "_________________________________________________________________\n",
      "dense_29 (Dense)             (None, 64)                4160      \n",
      "_________________________________________________________________\n",
      "dense_30 (Dense)             (None, 64)                4160      \n",
      "_________________________________________________________________\n",
      "dense_31 (Dense)             (None, 1)                 65        \n",
      "=================================================================\n",
      "Total params: 14,849\n",
      "Trainable params: 14,849\n",
      "Non-trainable params: 0\n",
      "_________________________________________________________________\n",
      "Train on 234179 samples, validate on 58545 samples\n",
      "Epoch 1/60\n",
      "234179/234179 [==============================] - 1s 4us/sample - loss: 0.5917 - accuracy: 0.9045 - val_loss: 0.5586 - val_accuracy: 0.9187\n",
      "Epoch 2/60\n",
      "234179/234179 [==============================] - 0s 1us/sample - loss: 0.5576 - accuracy: 0.9173 - val_loss: 0.5011 - val_accuracy: 0.9214\n",
      "Epoch 3/60\n",
      "234179/234179 [==============================] - 0s 1us/sample - loss: 0.5001 - accuracy: 0.9211 - val_loss: 0.4341 - val_accuracy: 0.9214\n",
      "Epoch 4/60\n",
      "234179/234179 [==============================] - 0s 1us/sample - loss: 0.4331 - accuracy: 0.9214 - val_loss: 0.3711 - val_accuracy: 0.9214\n",
      "Epoch 5/60\n",
      "234179/234179 [==============================] - 0s 1us/sample - loss: 0.3703 - accuracy: 0.9214 - val_loss: 0.3236 - val_accuracy: 0.9214\n",
      "Epoch 6/60\n",
      "234179/234179 [==============================] - 0s 1us/sample - loss: 0.3232 - accuracy: 0.9214 - val_loss: 0.2977 - val_accuracy: 0.9214\n",
      "Epoch 7/60\n",
      "234179/234179 [==============================] - 0s 1us/sample - loss: 0.2983 - accuracy: 0.9214 - val_loss: 0.2919 - val_accuracy: 0.9214\n",
      "Epoch 8/60\n",
      "234179/234179 [==============================] - 0s 1us/sample - loss: 0.2932 - accuracy: 0.9214 - val_loss: 0.2993 - val_accuracy: 0.9214\n",
      "Epoch 9/60\n",
      "234179/234179 [==============================] - 0s 1us/sample - loss: 0.3011 - accuracy: 0.9214 - val_loss: 0.3113 - val_accuracy: 0.9214\n",
      "Epoch 10/60\n",
      "234179/234179 [==============================] - 0s 1us/sample - loss: 0.3139 - accuracy: 0.9214 - val_loss: 0.3211 - val_accuracy: 0.9214\n",
      "Epoch 11/60\n",
      "234179/234179 [==============================] - 0s 1us/sample - loss: 0.3238 - accuracy: 0.9214 - val_loss: 0.3247 - val_accuracy: 0.9214\n",
      "Epoch 12/60\n",
      "234179/234179 [==============================] - 0s 1us/sample - loss: 0.3278 - accuracy: 0.9214 - val_loss: 0.3206 - val_accuracy: 0.9214\n",
      "Epoch 13/60\n",
      "234179/234179 [==============================] - 0s 1us/sample - loss: 0.3238 - accuracy: 0.9214 - val_loss: 0.3097 - val_accuracy: 0.9214\n",
      "Epoch 14/60\n",
      "234179/234179 [==============================] - 0s 1us/sample - loss: 0.3131 - accuracy: 0.9214 - val_loss: 0.2941 - val_accuracy: 0.9214\n",
      "Epoch 15/60\n",
      "234179/234179 [==============================] - 0s 1us/sample - loss: 0.2975 - accuracy: 0.9214 - val_loss: 0.2767 - val_accuracy: 0.9214\n",
      "Epoch 16/60\n",
      "234179/234179 [==============================] - 0s 1us/sample - loss: 0.2802 - accuracy: 0.9214 - val_loss: 0.2605 - val_accuracy: 0.9214\n",
      "Epoch 17/60\n",
      "234179/234179 [==============================] - 0s 1us/sample - loss: 0.2637 - accuracy: 0.9214 - val_loss: 0.2478 - val_accuracy: 0.9214\n",
      "Epoch 18/60\n",
      "234179/234179 [==============================] - 0s 1us/sample - loss: 0.2510 - accuracy: 0.9214 - val_loss: 0.2398 - val_accuracy: 0.9214\n",
      "Epoch 19/60\n",
      "234179/234179 [==============================] - 0s 1us/sample - loss: 0.2422 - accuracy: 0.9214 - val_loss: 0.2361 - val_accuracy: 0.9214\n",
      "Epoch 20/60\n",
      "234179/234179 [==============================] - 0s 1us/sample - loss: 0.2377 - accuracy: 0.9214 - val_loss: 0.2354 - val_accuracy: 0.9214\n",
      "Epoch 21/60\n",
      "234179/234179 [==============================] - 0s 1us/sample - loss: 0.2364 - accuracy: 0.9214 - val_loss: 0.2362 - val_accuracy: 0.9214\n",
      "Epoch 22/60\n",
      "234179/234179 [==============================] - 0s 1us/sample - loss: 0.2367 - accuracy: 0.9214 - val_loss: 0.2369 - val_accuracy: 0.9214\n",
      "Epoch 23/60\n",
      "234179/234179 [==============================] - 0s 1us/sample - loss: 0.2372 - accuracy: 0.9214 - val_loss: 0.2368 - val_accuracy: 0.9214\n",
      "Epoch 24/60\n",
      "234179/234179 [==============================] - 0s 1us/sample - loss: 0.2368 - accuracy: 0.9214 - val_loss: 0.2351 - val_accuracy: 0.9214\n",
      "Epoch 25/60\n",
      "234179/234179 [==============================] - 0s 1us/sample - loss: 0.2351 - accuracy: 0.9214 - val_loss: 0.2320 - val_accuracy: 0.9214\n",
      "Epoch 26/60\n",
      "234179/234179 [==============================] - 0s 1us/sample - loss: 0.2323 - accuracy: 0.9214 - val_loss: 0.2277 - val_accuracy: 0.9214\n",
      "Epoch 27/60\n",
      "234179/234179 [==============================] - 0s 1us/sample - loss: 0.2280 - accuracy: 0.9214 - val_loss: 0.2226 - val_accuracy: 0.9214\n",
      "Epoch 28/60\n",
      "234179/234179 [==============================] - 0s 1us/sample - loss: 0.2232 - accuracy: 0.9214 - val_loss: 0.2173 - val_accuracy: 0.9214\n",
      "Epoch 29/60\n",
      "234179/234179 [==============================] - 0s 1us/sample - loss: 0.2183 - accuracy: 0.9214 - val_loss: 0.2126 - val_accuracy: 0.9214\n",
      "Epoch 30/60\n",
      "234179/234179 [==============================] - 0s 1us/sample - loss: 0.2140 - accuracy: 0.9214 - val_loss: 0.2087 - val_accuracy: 0.9214\n",
      "Epoch 31/60\n",
      "234179/234179 [==============================] - 0s 1us/sample - loss: 0.2105 - accuracy: 0.9214 - val_loss: 0.2059 - val_accuracy: 0.9214\n",
      "Epoch 32/60\n",
      "234179/234179 [==============================] - 0s 1us/sample - loss: 0.2080 - accuracy: 0.9214 - val_loss: 0.2041 - val_accuracy: 0.9214\n",
      "Epoch 33/60\n",
      "234179/234179 [==============================] - 0s 1us/sample - loss: 0.2062 - accuracy: 0.9214 - val_loss: 0.2030 - val_accuracy: 0.9214\n",
      "Epoch 34/60\n",
      "234179/234179 [==============================] - 0s 1us/sample - loss: 0.2053 - accuracy: 0.9214 - val_loss: 0.2021 - val_accuracy: 0.9214\n",
      "Epoch 35/60\n",
      "234179/234179 [==============================] - 0s 1us/sample - loss: 0.2044 - accuracy: 0.9214 - val_loss: 0.2010 - val_accuracy: 0.9214\n",
      "Epoch 36/60\n",
      "234179/234179 [==============================] - 0s 1us/sample - loss: 0.2032 - accuracy: 0.9214 - val_loss: 0.1995 - val_accuracy: 0.9214\n",
      "Epoch 37/60\n",
      "234179/234179 [==============================] - 0s 1us/sample - loss: 0.2018 - accuracy: 0.9214 - val_loss: 0.1976 - val_accuracy: 0.9214\n",
      "Epoch 38/60\n",
      "234179/234179 [==============================] - 0s 1us/sample - loss: 0.2002 - accuracy: 0.9214 - val_loss: 0.1952 - val_accuracy: 0.9214\n",
      "Epoch 39/60\n",
      "234179/234179 [==============================] - 0s 1us/sample - loss: 0.1977 - accuracy: 0.9214 - val_loss: 0.1926 - val_accuracy: 0.9214\n",
      "Epoch 40/60\n",
      "234179/234179 [==============================] - 0s 1us/sample - loss: 0.1954 - accuracy: 0.9214 - val_loss: 0.1900 - val_accuracy: 0.9214\n",
      "Epoch 41/60\n",
      "234179/234179 [==============================] - 0s 1us/sample - loss: 0.1927 - accuracy: 0.9214 - val_loss: 0.1876 - val_accuracy: 0.9214\n",
      "Epoch 42/60\n",
      "234179/234179 [==============================] - 0s 1us/sample - loss: 0.1903 - accuracy: 0.9214 - val_loss: 0.1856 - val_accuracy: 0.9214\n",
      "Epoch 43/60\n",
      "234179/234179 [==============================] - 0s 1us/sample - loss: 0.1884 - accuracy: 0.9214 - val_loss: 0.1839 - val_accuracy: 0.9214\n",
      "Epoch 44/60\n",
      "234179/234179 [==============================] - 0s 1us/sample - loss: 0.1865 - accuracy: 0.9214 - val_loss: 0.1828 - val_accuracy: 0.9214\n",
      "Epoch 45/60\n",
      "234179/234179 [==============================] - 0s 1us/sample - loss: 0.1854 - accuracy: 0.9214 - val_loss: 0.1817 - val_accuracy: 0.9214\n",
      "Epoch 46/60\n",
      "234179/234179 [==============================] - 0s 1us/sample - loss: 0.1844 - accuracy: 0.9214 - val_loss: 0.1808 - val_accuracy: 0.9214\n",
      "Epoch 47/60\n",
      "234179/234179 [==============================] - 0s 1us/sample - loss: 0.1833 - accuracy: 0.9214 - val_loss: 0.1797 - val_accuracy: 0.9214\n",
      "Epoch 48/60\n",
      "234179/234179 [==============================] - 0s 1us/sample - loss: 0.1820 - accuracy: 0.9214 - val_loss: 0.1784 - val_accuracy: 0.9214\n"
     ]
    },
    {
     "name": "stdout",
     "output_type": "stream",
     "text": [
      "Epoch 49/60\n",
      "234179/234179 [==============================] - 0s 1us/sample - loss: 0.1808 - accuracy: 0.9214 - val_loss: 0.1769 - val_accuracy: 0.9214\n",
      "Epoch 50/60\n",
      "234179/234179 [==============================] - 0s 1us/sample - loss: 0.1794 - accuracy: 0.9214 - val_loss: 0.1752 - val_accuracy: 0.9214\n",
      "Epoch 51/60\n",
      "234179/234179 [==============================] - 0s 1us/sample - loss: 0.1776 - accuracy: 0.9214 - val_loss: 0.1735 - val_accuracy: 0.9214\n",
      "Epoch 52/60\n",
      "234179/234179 [==============================] - 0s 1us/sample - loss: 0.1759 - accuracy: 0.9214 - val_loss: 0.1719 - val_accuracy: 0.9214\n",
      "Epoch 53/60\n",
      "234179/234179 [==============================] - 0s 1us/sample - loss: 0.1746 - accuracy: 0.9214 - val_loss: 0.1703 - val_accuracy: 0.9214\n",
      "Epoch 54/60\n",
      "234179/234179 [==============================] - 0s 1us/sample - loss: 0.1730 - accuracy: 0.9214 - val_loss: 0.1689 - val_accuracy: 0.9214\n",
      "Epoch 55/60\n",
      "234179/234179 [==============================] - 0s 1us/sample - loss: 0.1717 - accuracy: 0.9214 - val_loss: 0.1677 - val_accuracy: 0.9214\n",
      "Epoch 56/60\n",
      "234179/234179 [==============================] - 0s 1us/sample - loss: 0.1705 - accuracy: 0.9214 - val_loss: 0.1665 - val_accuracy: 0.9214\n",
      "Epoch 57/60\n",
      "234179/234179 [==============================] - 0s 1us/sample - loss: 0.1694 - accuracy: 0.9214 - val_loss: 0.1654 - val_accuracy: 0.9214\n",
      "Epoch 58/60\n",
      "234179/234179 [==============================] - 0s 1us/sample - loss: 0.1681 - accuracy: 0.9214 - val_loss: 0.1644 - val_accuracy: 0.9214\n",
      "Epoch 59/60\n",
      "234179/234179 [==============================] - 0s 1us/sample - loss: 0.1671 - accuracy: 0.9214 - val_loss: 0.1633 - val_accuracy: 0.9214\n",
      "Epoch 60/60\n",
      "234179/234179 [==============================] - 0s 1us/sample - loss: 0.1662 - accuracy: 0.9214 - val_loss: 0.1621 - val_accuracy: 0.9214\n"
     ]
    }
   ],
   "source": [
    "init_mode = 'glorot_uniform'\n",
    "model = keras.Sequential(\n",
    "    [\n",
    "        layers.Dense(64,\n",
    "                     input_dim=100,\n",
    "                     kernel_initializer=init_mode,\n",
    "                     activation=tf.nn.relu),\n",
    "\n",
    "\n",
    "        layers.Dropout(0.1),\n",
    "\n",
    "        layers.Dense(64,\n",
    "                     kernel_initializer=init_mode,\n",
    "                     activation=tf.nn.relu),\n",
    "\n",
    "        layers.Dense(64,\n",
    "                     kernel_initializer=init_mode,\n",
    "                     activation=tf.nn.relu),\n",
    "\n",
    "\n",
    "        layers.Dense(1, \n",
    "                     kernel_initializer=init_mode, \n",
    "                     activation=tf.nn.sigmoid),\n",
    "    ]\n",
    ")\n",
    "model.summary()\n",
    "\n",
    "model.compile(loss='binary_crossentropy',\n",
    "              optimizer=keras.optimizers.SGD(learning_rate=0.03, momentum=0.9, decay=0.001),\n",
    "              metrics=['accuracy'])\n",
    "history = model.fit(X_train, Y_train,\n",
    "                    batch_size=X_train.shape[0],\n",
    "                    epochs=60,\n",
    "                    verbose=True,\n",
    "                    validation_data=(X_val, Y_val))"
   ]
  },
  {
   "cell_type": "markdown",
   "metadata": {},
   "source": [
    "## Evaluation"
   ]
  },
  {
   "cell_type": "code",
   "execution_count": 22,
   "metadata": {},
   "outputs": [
    {
     "name": "stdout",
     "output_type": "stream",
     "text": [
      "              precision    recall  f1-score   support\n",
      "\n",
      "         0.0       0.97      1.00      0.98     24171\n",
      "         1.0       0.00      0.00      0.00       828\n",
      "\n",
      "    accuracy                           0.97     24999\n",
      "   macro avg       0.48      0.50      0.49     24999\n",
      "weighted avg       0.93      0.97      0.95     24999\n",
      "\n",
      "Confusion matrix:\n",
      "[[24171     0]\n",
      " [  828     0]]\n",
      "\n",
      "Confusion matrix (Percentages):\n",
      "[[96.688  0.   ]\n",
      " [ 3.312  0.   ]]\n",
      "\n",
      "Metrics:\n",
      "Sensitivity (TPR): 0.000000\n",
      "Specifity (TNR):   1.000000\n",
      "\n",
      "FPR: 0.000000\n",
      "FNR: 1.000000\n",
      "\n",
      "Balanced accuracy: 0.500000\n",
      "\n",
      "Test loss:\t0.188372\n",
      "Test accuracy:\t0.966879\n"
     ]
    },
    {
     "data": {
      "image/png": "[encoded data removed]",
      "text/plain": [
       "<Figure size 432x288 with 1 Axes>"
      ]
     },
     "metadata": {
      "needs_background": "light"
     },
     "output_type": "display_data"
    },
    {
     "data": {
      "image/png": "[encoded data removed]",
      "text/plain": [
       "<Figure size 432x288 with 1 Axes>"
      ]
     },
     "metadata": {
      "needs_background": "light"
     },
     "output_type": "display_data"
    }
   ],
   "source": [
    "Y_pred = numpy.round(model.predict(X_test))\n",
    "\n",
    "print(classification_report(Y_test, Y_pred))\n",
    "print_metrics(confusion_matrix(Y_test, Y_pred), Y_test)\n",
    "print()\n",
    "score = model.evaluate(X_test, Y_test, verbose=0)\n",
    "print('Test loss:\\t{:.6f}'.format(score[0]))\n",
    "print('Test accuracy:\\t{:.6f}'.format(score[1]))\n",
    "\n",
    "plot_loss(history)\n",
    "plot_accuracy(history)"
   ]
  },
  {
   "cell_type": "code",
   "execution_count": 7,
   "metadata": {},
   "outputs": [
    {
     "name": "stdout",
     "output_type": "stream",
     "text": [
      "WARNING:tensorflow:From /home/scheuererra68323/venv37/lib/python3.7/site-packages/tensorflow_core/python/ops/resource_variable_ops.py:1781: calling BaseResourceVariable.__init__ (from tensorflow.python.ops.resource_variable_ops) with constraint is deprecated and will be removed in a future version.\n",
      "Instructions for updating:\n",
      "If using Keras pass *_constraint arguments to layers.\n",
      "INFO:tensorflow:Assets written to: testJTT_MLP_word2vec/assets\n"
     ]
    }
   ],
   "source": [
    "model.save('testJTT_MLP_word2vec')"
   ]
  },
  {
   "cell_type": "markdown",
   "metadata": {},
   "source": [
    "## Discussion"
   ]
  },
  {
   "cell_type": "markdown",
   "metadata": {},
   "source": [
    "Prone to getting stuck in local minima (> 50% of runs)"
   ]
  }
 ],
 "metadata": {
  "kernelspec": {
   "display_name": "Python 3.7",
   "language": "python",
   "name": "python3"
  },
  "language_info": {
   "codemirror_mode": {
    "name": "ipython",
    "version": 3
   },
   "file_extension": ".py",
   "mimetype": "text/x-python",
   "name": "python",
   "nbconvert_exporter": "python",
   "pygments_lexer": "ipython3",
   "version": "3.7.8"
  }
 },
 "nbformat": 4,
 "nbformat_minor": 2
}
