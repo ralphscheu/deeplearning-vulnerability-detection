{
 "cells": [
  {
   "cell_type": "markdown",
   "metadata": {},
   "source": [
    "# LSTM - word2vec sequence\n",
    "\n",
    "- **Training set**: LO_SARD102 (0.75 split)\n",
    "- **Test/Validation set:** LO_SARD102 (0.20 split)\n",
    "- **Features**: word2vec sequence (100)\n",
    "- **Class imbalance processing**: Undersampling"
   ]
  },
  {
   "cell_type": "code",
   "execution_count": null,
   "metadata": {
    "scrolled": true
   },
   "outputs": [],
   "source": [
    "import tensorflow as tf\n",
    "from tensorflow import keras\n",
    "from tensorflow.keras import layers\n",
    "import pandas as pd\n",
    "import numpy as np\n",
    "import matplotlib.pyplot as plt\n",
    "from helper_functions import *\n",
    "from sklearn.model_selection import train_test_split\n",
    "from sklearn.metrics import classification_report"
   ]
  },
  {
   "cell_type": "code",
   "execution_count": null,
   "metadata": {},
   "outputs": [],
   "source": [
    "X_train = numpy.load('/mnt/md0/user/scheuererra68323/LOSARD_w2vseq_undersample_X_train.npy', mmap_mode='r')\n",
    "Y_train = numpy.load('/mnt/md0/user/scheuererra68323/LOSARD_w2vseq_undersample_Y_train.npy', mmap_mode='r')\n",
    "\n",
    "X_val = numpy.load('/mnt/md0/user/scheuererra68323/LOSARD_w2vseq_X_val.npy', mmap_mode='r')\n",
    "Y_val = numpy.load('/mnt/md0/user/scheuererra68323/LOSARD_w2vseq_Y_val.npy', mmap_mode='r')\n",
    "\n",
    "X_test =  numpy.load('/mnt/md0/user/scheuererra68323/LOSARD_w2vseq_X_test.npy',  mmap_mode='r')\n",
    "Y_test =  numpy.load('/mnt/md0/user/scheuererra68323/LOSARD_w2vseq_Y_test.npy',  mmap_mode='r')\n",
    "\n",
    "print(X_train.shape)\n",
    "print(Y_train.shape)\n",
    "print(X_val.shape)\n",
    "print(Y_val.shape)\n",
    "print(X_test.shape)\n",
    "print(Y_test.shape)"
   ]
  },
  {
   "cell_type": "code",
   "execution_count": 2,
   "metadata": {},
   "outputs": [],
   "source": [
    "train_gen = DataGenerator(_X=X_train, _y=Y_train, batch_size=2048)\n",
    "val_gen =   DataGenerator(_X=X_val,   _y=Y_val,   batch_size=2048)\n",
    "test_gen =  DataGenerator(_X=X_test,  _y=Y_test,  batch_size=2048)"
   ]
  },
  {
   "cell_type": "markdown",
   "metadata": {},
   "source": [
    "## Build & train keras model"
   ]
  },
  {
   "cell_type": "code",
   "execution_count": 3,
   "metadata": {
    "scrolled": true
   },
   "outputs": [
    {
     "name": "stdout",
     "output_type": "stream",
     "text": [
      "Model: \"sequential\"\n",
      "_________________________________________________________________\n",
      "Layer (type)                 Output Shape              Param #   \n",
      "=================================================================\n",
      "lstm (LSTM)                  (None, 100, 64)           42240     \n",
      "_________________________________________________________________\n",
      "dropout (Dropout)            (None, 100, 64)           0         \n",
      "_________________________________________________________________\n",
      "time_distributed (TimeDistri (None, 100, 16)           1040      \n",
      "_________________________________________________________________\n",
      "flatten (Flatten)            (None, 1600)              0         \n",
      "_________________________________________________________________\n",
      "dense_1 (Dense)              (None, 1)                 1601      \n",
      "=================================================================\n",
      "Total params: 44,881\n",
      "Trainable params: 44,881\n",
      "Non-trainable params: 0\n",
      "_________________________________________________________________\n"
     ]
    }
   ],
   "source": [
    "model = keras.Sequential()\n",
    "model.add(layers.LSTM(64, input_shape=(100, 100), \n",
    "                      return_sequences=True))\n",
    "model.add(layers.Dropout(0.1))\n",
    "model.add( layers.TimeDistributed(layers.Dense(16)) )\n",
    "model.add(layers.Flatten())\n",
    "model.add(layers.Dense(1, activation='sigmoid'))\n",
    "\n",
    "model.summary()\n",
    "model.compile(loss='binary_crossentropy', \n",
    "              optimizer='adam', \n",
    "              metrics=['accuracy']\n",
    "             )"
   ]
  },
  {
   "cell_type": "code",
   "execution_count": 4,
   "metadata": {
    "scrolled": true
   },
   "outputs": [
    {
     "name": "stdout",
     "output_type": "stream",
     "text": [
      "Epoch 1/16\n",
      "4/4 [==============================] - 11s 3s/step - loss: 0.6206 - accuracy: 0.5939 - val_loss: 0.6840 - val_accuracy: 0.5713\n",
      "Epoch 2/16\n",
      "4/4 [==============================] - 12s 3s/step - loss: 0.4617 - accuracy: 0.8272 - val_loss: 0.4345 - val_accuracy: 0.9349\n",
      "Epoch 3/16\n",
      "4/4 [==============================] - 11s 3s/step - loss: 0.3464 - accuracy: 0.8866 - val_loss: 0.2993 - val_accuracy: 0.9414\n",
      "Epoch 4/16\n",
      "4/4 [==============================] - 11s 3s/step - loss: 0.2617 - accuracy: 0.8964 - val_loss: 0.2186 - val_accuracy: 0.9362\n",
      "Epoch 5/16\n",
      "4/4 [==============================] - 11s 3s/step - loss: 0.2083 - accuracy: 0.9048 - val_loss: 0.1341 - val_accuracy: 0.9615\n",
      "Epoch 6/16\n",
      "4/4 [==============================] - 11s 3s/step - loss: 0.1678 - accuracy: 0.9312 - val_loss: 0.1315 - val_accuracy: 0.9602\n",
      "Epoch 7/16\n",
      "4/4 [==============================] - 11s 3s/step - loss: 0.1302 - accuracy: 0.9596 - val_loss: 0.1080 - val_accuracy: 0.9712\n",
      "Epoch 8/16\n",
      "4/4 [==============================] - 11s 3s/step - loss: 0.1061 - accuracy: 0.9692 - val_loss: 0.0876 - val_accuracy: 0.9735\n",
      "Epoch 9/16\n",
      "4/4 [==============================] - 11s 3s/step - loss: 0.0890 - accuracy: 0.9750 - val_loss: 0.0851 - val_accuracy: 0.9665\n",
      "Epoch 10/16\n",
      "4/4 [==============================] - 11s 3s/step - loss: 0.0791 - accuracy: 0.9763 - val_loss: 0.0675 - val_accuracy: 0.9755\n",
      "Epoch 11/16\n",
      "4/4 [==============================] - 11s 3s/step - loss: 0.0675 - accuracy: 0.9796 - val_loss: 0.0599 - val_accuracy: 0.9812\n",
      "Epoch 12/16\n",
      "4/4 [==============================] - 12s 3s/step - loss: 0.0584 - accuracy: 0.9820 - val_loss: 0.0452 - val_accuracy: 0.9893\n",
      "Epoch 13/16\n",
      "4/4 [==============================] - 12s 3s/step - loss: 0.0498 - accuracy: 0.9874 - val_loss: 0.0404 - val_accuracy: 0.9896\n",
      "Epoch 14/16\n",
      "4/4 [==============================] - 12s 3s/step - loss: 0.0434 - accuracy: 0.9908 - val_loss: 0.0459 - val_accuracy: 0.9850\n",
      "Epoch 15/16\n",
      "4/4 [==============================] - 11s 3s/step - loss: 0.0417 - accuracy: 0.9886 - val_loss: 0.0227 - val_accuracy: 0.9935\n",
      "Epoch 16/16\n",
      "4/4 [==============================] - 12s 3s/step - loss: 0.0389 - accuracy: 0.9899 - val_loss: 0.0258 - val_accuracy: 0.9929\n"
     ]
    }
   ],
   "source": [
    "history = model.fit_generator(train_gen,\n",
    "                    epochs=16,\n",
    "                    verbose=True,\n",
    "                    validation_data=val_gen\n",
    "                   )"
   ]
  },
  {
   "cell_type": "markdown",
   "metadata": {},
   "source": [
    "## Evaluation"
   ]
  },
  {
   "cell_type": "code",
   "execution_count": 11,
   "metadata": {
    "scrolled": false
   },
   "outputs": [
    {
     "name": "stdout",
     "output_type": "stream",
     "text": [
      "              precision    recall  f1-score   support\n",
      "\n",
      "         0.0       1.00      0.99      1.00     31916\n",
      "         1.0       0.87      0.99      0.93      1299\n",
      "\n",
      "    accuracy                           0.99     33215\n",
      "   macro avg       0.93      0.99      0.96     33215\n",
      "weighted avg       0.99      0.99      0.99     33215\n",
      "\n",
      "Confusion matrix:\n",
      "[[31722   194]\n",
      " [   11  1288]]\n",
      "\n",
      "Confusion matrix (Percentages):\n",
      "[[9.5505e+01 5.8400e-01]\n",
      " [3.3000e-02 3.8780e+00]]\n",
      "\n",
      "Metrics:\n",
      "Sensitivity (TPR): 0.991532\n",
      "Specifity (TNR):   0.993922\n",
      "\n",
      "FPR: 0.006078\n",
      "FNR: 0.008468\n",
      "\n",
      "Balanced accuracy: 0.992727\n",
      "\n",
      "Test loss:\t0.025439\n",
      "Test accuracy:\t0.993828\n"
     ]
    },
    {
     "data": {
      "image/png": "[encoded data removed]",
      "text/plain": [
       "<Figure size 432x288 with 1 Axes>"
      ]
     },
     "metadata": {
      "needs_background": "light"
     },
     "output_type": "display_data"
    },
    {
     "data": {
      "image/png": "[encoded data removed]",
      "text/plain": [
       "<Figure size 432x288 with 1 Axes>"
      ]
     },
     "metadata": {
      "needs_background": "light"
     },
     "output_type": "display_data"
    }
   ],
   "source": [
    "Y_pred = numpy.round(model.predict_generator(test_gen))\n",
    "\n",
    "print(classification_report(Y_test, Y_pred))\n",
    "print_metrics(confusion_matrix(Y_test, Y_pred), Y_test)\n",
    "print()\n",
    "score = model.evaluate_generator(test_gen, verbose=False)\n",
    "print('Test loss:\\t{:.6f}'.format(score[0]))\n",
    "print('Test accuracy:\\t{:.6f}'.format(score[1]))\n",
    "\n",
    "plot_loss(history)\n",
    "plot_accuracy(history)"
   ]
  },
  {
   "cell_type": "markdown",
   "metadata": {},
   "source": [
    "## Discussion\n",
    "..."
   ]
  },
  {
   "cell_type": "code",
   "execution_count": 12,
   "metadata": {},
   "outputs": [],
   "source": [
    "model.save('LSTM_word2vec_undersample.h5')"
   ]
  }
 ],
 "metadata": {
  "kernelspec": {
   "display_name": "Python 3.7",
   "language": "python",
   "name": "python3"
  },
  "language_info": {
   "codemirror_mode": {
    "name": "ipython",
    "version": 3
   },
   "file_extension": ".py",
   "mimetype": "text/x-python",
   "name": "python",
   "nbconvert_exporter": "python",
   "pygments_lexer": "ipython3",
   "version": "3.7.8"
  }
 },
 "nbformat": 4,
 "nbformat_minor": 2
}
