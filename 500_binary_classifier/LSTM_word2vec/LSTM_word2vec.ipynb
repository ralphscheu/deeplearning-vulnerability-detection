{
 "cells": [
  {
   "cell_type": "markdown",
   "metadata": {},
   "source": [
    "# LSTM - word2vec sequence\n",
    "\n",
    "- **Training set**: LO_SARD102 (95%) (0.75 split)\n",
    "- **Test/Validation set:** LO_SARD102 (95%) (0.25 split)\n",
    "- **Features**: word2vec sequence (100)\n",
    "- **Class imbalance processing**: None"
   ]
  },
  {
   "cell_type": "code",
   "execution_count": 1,
   "metadata": {},
   "outputs": [
    {
     "name": "stderr",
     "output_type": "stream",
     "text": [
      "/home/scheuererra68323/venv37/lib/python3.7/site-packages/pandas/compat/__init__.py:117: UserWarning: Could not import the lzma module. Your installed Python is incomplete. Attempting to use lzma compression will result in a RuntimeError.\n",
      "  warnings.warn(msg)\n"
     ]
    }
   ],
   "source": [
    "import tensorflow as tf\n",
    "from tensorflow import keras\n",
    "from tensorflow.keras import layers\n",
    "import pandas as pd\n",
    "import numpy as np\n",
    "import matplotlib.pyplot as plt\n",
    "from helper_functions import *\n",
    "from sklearn.model_selection import train_test_split\n",
    "from sklearn.metrics import classification_report"
   ]
  },
  {
   "cell_type": "code",
   "execution_count": 2,
   "metadata": {
    "scrolled": true
   },
   "outputs": [
    {
     "name": "stdout",
     "output_type": "stream",
     "text": [
      "(99644, 100, 100)\n",
      "(99644,)\n",
      "(33215, 100, 100)\n",
      "(33215,)\n",
      "(33215, 100, 100)\n",
      "(33215,)\n"
     ]
    }
   ],
   "source": [
    "import tensorflow as tf\n",
    "from tensorflow import keras\n",
    "from tensorflow.keras import layers\n",
    "import pandas as pd\n",
    "import numpy as np\n",
    "import matplotlib.pyplot as plt\n",
    "from helper_functions import *\n",
    "from sklearn.model_selection import train_test_split\n",
    "\n",
    "X_train = numpy.load('/mnt/md0/user/scheuererra68323/LOSARD_w2vseq_X_train.npy', mmap_mode='r')\n",
    "Y_train = numpy.load('/mnt/md0/user/scheuererra68323/LOSARD_w2vseq_Y_train.npy', mmap_mode='r')\n",
    "\n",
    "X_val = numpy.load('/mnt/md0/user/scheuererra68323/LOSARD_w2vseq_X_val.npy', mmap_mode='r')\n",
    "Y_val = numpy.load('/mnt/md0/user/scheuererra68323/LOSARD_w2vseq_Y_val.npy', mmap_mode='r')\n",
    "\n",
    "X_test =  numpy.load('/mnt/md0/user/scheuererra68323/LOSARD_w2vseq_X_test.npy',  mmap_mode='r')\n",
    "Y_test =  numpy.load('/mnt/md0/user/scheuererra68323/LOSARD_w2vseq_Y_test.npy',  mmap_mode='r')\n",
    "\n",
    "print(X_train.shape)\n",
    "print(Y_train.shape)\n",
    "print(X_val.shape)\n",
    "print(Y_val.shape)\n",
    "print(X_test.shape)\n",
    "print(Y_test.shape)"
   ]
  },
  {
   "cell_type": "code",
   "execution_count": 3,
   "metadata": {},
   "outputs": [],
   "source": [
    "train_gen = DataGenerator(_X=X_train, _y=Y_train, batch_size=2048)\n",
    "val_gen =   DataGenerator(_X=X_val,   _y=Y_val,   batch_size=2048)\n",
    "test_gen =  DataGenerator(_X=X_test,  _y=Y_test,  batch_size=2048)"
   ]
  },
  {
   "cell_type": "markdown",
   "metadata": {},
   "source": [
    "## Build & train keras model"
   ]
  },
  {
   "cell_type": "code",
   "execution_count": 4,
   "metadata": {
    "scrolled": true
   },
   "outputs": [
    {
     "name": "stdout",
     "output_type": "stream",
     "text": [
      "Model: \"sequential\"\n",
      "_________________________________________________________________\n",
      "Layer (type)                 Output Shape              Param #   \n",
      "=================================================================\n",
      "lstm (LSTM)                  (None, 100, 64)           42240     \n",
      "_________________________________________________________________\n",
      "dropout (Dropout)            (None, 100, 64)           0         \n",
      "_________________________________________________________________\n",
      "time_distributed (TimeDistri (None, 100, 16)           1040      \n",
      "_________________________________________________________________\n",
      "flatten (Flatten)            (None, 1600)              0         \n",
      "_________________________________________________________________\n",
      "dense_1 (Dense)              (None, 1)                 1601      \n",
      "=================================================================\n",
      "Total params: 44,881\n",
      "Trainable params: 44,881\n",
      "Non-trainable params: 0\n",
      "_________________________________________________________________\n"
     ]
    }
   ],
   "source": [
    "model = keras.Sequential()\n",
    "model.add(layers.LSTM(64, input_shape=(100, 100), \n",
    "                      return_sequences=True))\n",
    "model.add(layers.Dropout(0.1))\n",
    "model.add( layers.TimeDistributed(layers.Dense(16)) )\n",
    "model.add(layers.Flatten())\n",
    "model.add(layers.Dense(1, activation='sigmoid'))\n",
    "\n",
    "model.summary()\n",
    "model.compile(loss='binary_crossentropy', \n",
    "              optimizer='adam', \n",
    "              metrics=['accuracy']\n",
    "             )"
   ]
  },
  {
   "cell_type": "code",
   "execution_count": 6,
   "metadata": {
    "scrolled": false
   },
   "outputs": [
    {
     "name": "stdout",
     "output_type": "stream",
     "text": [
      "Epoch 1/6\n",
      "49/49 [==============================] - 69s 1s/step - loss: 0.1672 - accuracy: 0.9486 - val_loss: 0.0416 - val_accuracy: 0.9896\n",
      "Epoch 2/6\n",
      "49/49 [==============================] - 58s 1s/step - loss: 0.0307 - accuracy: 0.9923 - val_loss: 0.0160 - val_accuracy: 0.9955\n",
      "Epoch 3/6\n",
      "49/49 [==============================] - 58s 1s/step - loss: 0.0128 - accuracy: 0.9974 - val_loss: 0.0060 - val_accuracy: 0.9991\n",
      "Epoch 4/6\n",
      "49/49 [==============================] - 58s 1s/step - loss: 0.0070 - accuracy: 0.9987 - val_loss: 0.0046 - val_accuracy: 0.9991\n",
      "Epoch 5/6\n",
      "49/49 [==============================] - 58s 1s/step - loss: 0.0061 - accuracy: 0.9988 - val_loss: 0.0032 - val_accuracy: 0.9993\n",
      "Epoch 6/6\n",
      "49/49 [==============================] - 58s 1s/step - loss: 0.0048 - accuracy: 0.9990 - val_loss: 0.0027 - val_accuracy: 0.9994\n"
     ]
    }
   ],
   "source": [
    "history = model.fit_generator(train_gen,\n",
    "                    epochs=6,\n",
    "                    verbose=True,\n",
    "                    validation_data=val_gen)"
   ]
  },
  {
   "cell_type": "markdown",
   "metadata": {},
   "source": [
    "## Evaluation"
   ]
  },
  {
   "cell_type": "code",
   "execution_count": 7,
   "metadata": {
    "scrolled": false
   },
   "outputs": [
    {
     "name": "stdout",
     "output_type": "stream",
     "text": [
      "              precision    recall  f1-score   support\n",
      "\n",
      "         0.0       1.00      1.00      1.00     31916\n",
      "         1.0       0.99      0.99      0.99      1299\n",
      "\n",
      "    accuracy                           1.00     33215\n",
      "   macro avg       0.99      0.99      0.99     33215\n",
      "weighted avg       1.00      1.00      1.00     33215\n",
      "\n",
      "Confusion matrix:\n",
      "[[31903    13]\n",
      " [   14  1285]]\n",
      "\n",
      "Confusion matrix (Percentages):\n",
      "[[9.605e+01 3.900e-02]\n",
      " [4.200e-02 3.869e+00]]\n",
      "\n",
      "Metrics:\n",
      "Sensitivity (TPR): 0.989222\n",
      "Specifity (TNR):   0.999593\n",
      "\n",
      "FPR: 0.000407\n",
      "FNR: 0.010778\n",
      "\n",
      "Balanced accuracy: 0.994408\n",
      "\n",
      "Test loss:\t0.004647\n",
      "Test accuracy:\t0.999187\n"
     ]
    },
    {
     "data": {
      "image/png": "[encoded data removed]",
      "text/plain": [
       "<Figure size 432x288 with 1 Axes>"
      ]
     },
     "metadata": {
      "needs_background": "light"
     },
     "output_type": "display_data"
    },
    {
     "data": {
      "image/png": "[encoded data removed]",
      "text/plain": [
       "<Figure size 432x288 with 1 Axes>"
      ]
     },
     "metadata": {
      "needs_background": "light"
     },
     "output_type": "display_data"
    }
   ],
   "source": [
    "Y_pred = numpy.round(model.predict_generator(test_gen))\n",
    "\n",
    "print(classification_report(Y_test, Y_pred))\n",
    "print_metrics(confusion_matrix(Y_test, Y_pred), Y_test)\n",
    "print()\n",
    "score = model.evaluate_generator(test_gen, verbose=False)\n",
    "print('Test loss:\\t{:.6f}'.format(score[0]))\n",
    "print('Test accuracy:\\t{:.6f}'.format(score[1]))\n",
    "\n",
    "plot_loss(history)\n",
    "plot_accuracy(history)"
   ]
  },
  {
   "cell_type": "code",
   "execution_count": 8,
   "metadata": {},
   "outputs": [],
   "source": [
    "model.save('LSTM_word2vec.h5')"
   ]
  },
  {
   "cell_type": "markdown",
   "metadata": {},
   "source": [
    "## Discussion\n",
    "..."
   ]
  }
 ],
 "metadata": {
  "kernelspec": {
   "display_name": "Python 3.7",
   "language": "python",
   "name": "python3"
  },
  "language_info": {
   "codemirror_mode": {
    "name": "ipython",
    "version": 3
   },
   "file_extension": ".py",
   "mimetype": "text/x-python",
   "name": "python",
   "nbconvert_exporter": "python",
   "pygments_lexer": "ipython3",
   "version": "3.7.8"
  }
 },
 "nbformat": 4,
 "nbformat_minor": 2
}
