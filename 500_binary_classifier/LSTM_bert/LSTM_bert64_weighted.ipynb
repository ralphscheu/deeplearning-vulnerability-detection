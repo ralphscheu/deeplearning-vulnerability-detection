{
 "cells": [
  {
   "cell_type": "markdown",
   "metadata": {},
   "source": [
    "# LSTM - bert64\n",
    "\n",
    "- **Training set**: LO_SARD102(0.6 split)\n",
    "- **Test/Validation set:** LO_SARD102 (0.2 split)\n",
    "- **Features**: bert sequence (64)\n",
    "- **Class imbalance processing**: weighted classes"
   ]
  },
  {
   "cell_type": "code",
   "execution_count": 1,
   "metadata": {
    "scrolled": false
   },
   "outputs": [
    {
     "name": "stdout",
     "output_type": "stream",
     "text": [
      "class counts data set: Counter({0: 11742, 1: 231})\n",
      "(11973, 64, 768)\n",
      "(11973,)\n",
      "(11973, 64, 768)\n",
      "(11973,)\n",
      "(3991, 64, 768)\n",
      "(3991,)\n",
      "(3991, 64, 768)\n",
      "(3991,)\n"
     ]
    }
   ],
   "source": [
    "import tensorflow as tf\n",
    "from tensorflow import keras\n",
    "from tensorflow.keras import layers\n",
    "import pandas as pd\n",
    "import numpy as np\n",
    "import matplotlib.pyplot as plt\n",
    "from helper_functions import *\n",
    "from sklearn.model_selection import train_test_split\n",
    "from sklearn.metrics import classification_report\n",
    "from collections import Counter\n",
    "\n",
    "X = numpy.load('/mnt/md0/user/scheuererra68323/LOSARD102_bert64_X.npy')\n",
    "y = pd.read_hdf('/mnt/md0/user/scheuererra68323/LOSARD102_bert64_y.h5').is_vulnerable.values\n",
    "\n",
    "X_train, X_test, Y_train, Y_test = train_test_split(X, y, stratify=y, test_size=0.2, random_state=5)\n",
    "X_train, X_val, Y_train, Y_val = train_test_split(X_train, Y_train, stratify=Y_train, test_size=0.25, random_state=10)\n",
    "\n",
    "del X\n",
    "del y\n",
    "\n",
    "print(\"class counts data set:\", Counter(Y_train))\n",
    "print(X_train.shape)\n",
    "print(Y_train.shape)\n",
    "\n",
    "print(X_train.shape)\n",
    "print(Y_train.shape)\n",
    "print(X_val.shape)\n",
    "print(Y_val.shape)\n",
    "print(X_test.shape)\n",
    "print(Y_test.shape)"
   ]
  },
  {
   "cell_type": "code",
   "execution_count": 9,
   "metadata": {
    "scrolled": false
   },
   "outputs": [
    {
     "name": "stdout",
     "output_type": "stream",
     "text": [
      "Model: \"sequential_3\"\n",
      "_________________________________________________________________\n",
      "Layer (type)                 Output Shape              Param #   \n",
      "=================================================================\n",
      "lstm_6 (LSTM)                (None, 64, 64)            213248    \n",
      "_________________________________________________________________\n",
      "dropout_3 (Dropout)          (None, 64, 64)            0         \n",
      "_________________________________________________________________\n",
      "lstm_7 (LSTM)                (None, 64, 16)            5184      \n",
      "_________________________________________________________________\n",
      "time_distributed_3 (TimeDist (None, 64, 16)            272       \n",
      "_________________________________________________________________\n",
      "flatten_3 (Flatten)          (None, 1024)              0         \n",
      "_________________________________________________________________\n",
      "dense_7 (Dense)              (None, 1)                 1025      \n",
      "=================================================================\n",
      "Total params: 219,729\n",
      "Trainable params: 219,729\n",
      "Non-trainable params: 0\n",
      "_________________________________________________________________\n",
      "\n",
      "classWeights: {0: 0.5098364844149208, 1: 25.915584415584416}\n",
      "\n",
      "Epoch 1/6\n",
      "47/47 [==============================] - 3s 69ms/step - loss: 0.1350 - accuracy: 0.9274 - val_loss: 0.0116 - val_accuracy: 0.9960\n",
      "Epoch 2/6\n",
      "47/47 [==============================] - 2s 50ms/step - loss: 0.0493 - accuracy: 0.9977 - val_loss: 0.0103 - val_accuracy: 0.9997\n",
      "Epoch 3/6\n",
      "47/47 [==============================] - 3s 66ms/step - loss: 0.0338 - accuracy: 0.9982 - val_loss: 0.0217 - val_accuracy: 0.9982\n",
      "Epoch 4/6\n",
      "47/47 [==============================] - 4s 89ms/step - loss: 0.0214 - accuracy: 0.9981 - val_loss: 0.0103 - val_accuracy: 0.9975\n",
      "Epoch 5/6\n",
      "47/47 [==============================] - 3s 72ms/step - loss: 0.0164 - accuracy: 0.9976 - val_loss: 0.0118 - val_accuracy: 0.9975\n",
      "Epoch 6/6\n",
      "47/47 [==============================] - 3s 63ms/step - loss: 0.0128 - accuracy: 0.9979 - val_loss: 0.0078 - val_accuracy: 0.9975\n"
     ]
    }
   ],
   "source": [
    "def run_classifier(_X_train, _Y_train, _X_val, _Y_val):\n",
    "    model = keras.Sequential()\n",
    "    model.add(layers.LSTM(64, input_shape=(_X_train.shape[1], _X_train.shape[2]), \n",
    "                          return_sequences=True))\n",
    "    model.add(layers.Dropout(0.1))\n",
    "    model.add(layers.LSTM(16, return_sequences=True))\n",
    "    model.add( layers.TimeDistributed(layers.Dense(16)) )\n",
    "    model.add(layers.Flatten())\n",
    "    model.add(layers.Dense(1, activation='sigmoid'))\n",
    "\n",
    "    model.summary()\n",
    "    model.compile(loss='binary_crossentropy', \n",
    "                  optimizer='adam', \n",
    "                  metrics=['accuracy']\n",
    "                 )\n",
    "    \n",
    "    classWeights = {\n",
    "        0: ( 1 / Counter(Y_train)[0] ) * Y_train.shape[0] / 2.0 ,\n",
    "        1: ( 1 / Counter(Y_train)[1] ) * Y_train.shape[0] / 2.0\n",
    "    }\n",
    "    print(f\"\\nclassWeights: {classWeights}\\n\")\n",
    "    \n",
    "    history = model.fit(_X_train, _Y_train,\n",
    "                        batch_size=256,\n",
    "                        epochs=6,\n",
    "                        verbose=True,\n",
    "                        validation_data=(_X_val, _Y_val),\n",
    "                        class_weight=classWeights\n",
    "                        )\n",
    "    \n",
    "    return model, history\n",
    "\n",
    "\n",
    "model, history = run_classifier(X_train, Y_train, X_val, Y_val)"
   ]
  },
  {
   "cell_type": "code",
   "execution_count": 10,
   "metadata": {
    "scrolled": true
   },
   "outputs": [],
   "source": [
    "def evaluate_classifier(_model, _history):\n",
    "    Y_pred = numpy.round(_model.predict(X_test))\n",
    "\n",
    "    print(classification_report(Y_test, Y_pred))\n",
    "    print_metrics(confusion_matrix(Y_test, Y_pred), Y_test)\n",
    "    print()\n",
    "    score = _model.evaluate(X_test, Y_test, verbose=False)\n",
    "    print('Test loss:\\t{:.6f}'.format(score[0]))\n",
    "    print('Test accuracy:\\t{:.6f}'.format(score[1]))\n",
    "\n",
    "    plot_loss(_history)\n",
    "    plot_accuracy(_history)"
   ]
  },
  {
   "cell_type": "code",
   "execution_count": 11,
   "metadata": {
    "scrolled": false
   },
   "outputs": [
    {
     "name": "stdout",
     "output_type": "stream",
     "text": [
      "              precision    recall  f1-score   support\n",
      "\n",
      "           0       1.00      1.00      1.00      3914\n",
      "           1       0.93      1.00      0.96        77\n",
      "\n",
      "    accuracy                           1.00      3991\n",
      "   macro avg       0.96      1.00      0.98      3991\n",
      "weighted avg       1.00      1.00      1.00      3991\n",
      "\n",
      "Confusion matrix:\n",
      "[[3908    6]\n",
      " [   0   77]]\n",
      "\n",
      "Confusion matrix (Percentages):\n",
      "[[97.92   0.15 ]\n",
      " [ 0.     1.929]]\n",
      "\n",
      "Metrics:\n",
      "Sensitivity (TPR): 1.000000\n",
      "Specifity (TNR):   0.998467\n",
      "\n",
      "FPR: 0.001533\n",
      "FNR: 0.000000\n",
      "\n",
      "Balanced accuracy: 0.999234\n",
      "\n",
      "Test loss:\t0.005715\n",
      "Test accuracy:\t0.998497\n"
     ]
    },
    {
     "data": {
      "image/png": "[encoded data removed]",
      "text/plain": [
       "<Figure size 432x288 with 1 Axes>"
      ]
     },
     "metadata": {
      "needs_background": "light"
     },
     "output_type": "display_data"
    },
    {
     "data": {
      "image/png": "[encoded data removed]",
      "text/plain": [
       "<Figure size 432x288 with 1 Axes>"
      ]
     },
     "metadata": {
      "needs_background": "light"
     },
     "output_type": "display_data"
    }
   ],
   "source": [
    "evaluate_classifier(model, history)"
   ]
  },
  {
   "cell_type": "code",
   "execution_count": 12,
   "metadata": {},
   "outputs": [],
   "source": [
    "model.save('LSTM_bert64_weighted.h5')"
   ]
  },
  {
   "cell_type": "code",
   "execution_count": null,
   "metadata": {},
   "outputs": [],
   "source": []
  },
  {
   "cell_type": "code",
   "execution_count": null,
   "metadata": {},
   "outputs": [],
   "source": []
  }
 ],
 "metadata": {
  "kernelspec": {
   "display_name": "Python 3.8",
   "language": "python",
   "name": "python38"
  },
  "language_info": {
   "codemirror_mode": {
    "name": "ipython",
    "version": 3
   },
   "file_extension": ".py",
   "mimetype": "text/x-python",
   "name": "python",
   "nbconvert_exporter": "python",
   "pygments_lexer": "ipython3",
   "version": "3.8.2"
  }
 },
 "nbformat": 4,
 "nbformat_minor": 2
}
