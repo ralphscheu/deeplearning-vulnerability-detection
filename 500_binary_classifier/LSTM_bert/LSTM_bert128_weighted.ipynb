{
 "cells": [
  {
   "cell_type": "markdown",
   "metadata": {},
   "source": [
    "# LSTM - bert128\n",
    "\n",
    "- **Training set**: LO_SARD102(0.6 split)\n",
    "- **Test/Validation set:** LO_SARD102 (0.2 split)\n",
    "- **Features**: bert sequence (128)\n",
    "- **Class imbalance processing**: Class weights"
   ]
  },
  {
   "cell_type": "code",
   "execution_count": 9,
   "metadata": {
    "scrolled": false
   },
   "outputs": [
    {
     "name": "stdout",
     "output_type": "stream",
     "text": [
      "(30712, 128, 768)\n",
      "(30712,)\n",
      "(10238, 128, 768)\n",
      "(10238,)\n",
      "(10238, 128, 768)\n",
      "(10238,)\n"
     ]
    }
   ],
   "source": [
    "import tensorflow as tf\n",
    "from tensorflow import keras\n",
    "from tensorflow.keras import layers\n",
    "import pandas as pd\n",
    "import numpy as np\n",
    "import matplotlib.pyplot as plt\n",
    "from helper_functions import *\n",
    "from sklearn.model_selection import train_test_split\n",
    "from sklearn.metrics import classification_report\n",
    "\n",
    "X = numpy.load('/mnt/md0/user/scheuererra68323/LOSARD102_bert128_X.npy')\n",
    "y = pd.read_hdf('/mnt/md0/user/scheuererra68323/LOSARD102_bert128_y.h5').is_vulnerable.values\n",
    "\n",
    "X_train, X_test, Y_train, Y_test = train_test_split(X, y, stratify=y, test_size=0.2, random_state=0)\n",
    "X_train, X_val, Y_train, Y_val = train_test_split(X_train, Y_train, stratify=Y_train, test_size=0.25, random_state=0)\n",
    "\n",
    "print(X_train.shape)\n",
    "print(Y_train.shape)\n",
    "print(X_val.shape)\n",
    "print(Y_val.shape)\n",
    "print(X_test.shape)\n",
    "print(Y_test.shape)"
   ]
  },
  {
   "cell_type": "code",
   "execution_count": 10,
   "metadata": {
    "scrolled": true
   },
   "outputs": [
    {
     "name": "stdout",
     "output_type": "stream",
     "text": [
      "Model: \"sequential_2\"\n",
      "_________________________________________________________________\n",
      "Layer (type)                 Output Shape              Param #   \n",
      "=================================================================\n",
      "lstm_2 (LSTM)                (None, 128, 512)          2623488   \n",
      "_________________________________________________________________\n",
      "dropout_2 (Dropout)          (None, 128, 512)          0         \n",
      "_________________________________________________________________\n",
      "time_distributed_2 (TimeDist (None, 128, 256)          131328    \n",
      "_________________________________________________________________\n",
      "flatten_2 (Flatten)          (None, 32768)             0         \n",
      "_________________________________________________________________\n",
      "dense_5 (Dense)              (None, 128)               4194432   \n",
      "_________________________________________________________________\n",
      "dense_6 (Dense)              (None, 64)                8256      \n",
      "_________________________________________________________________\n",
      "dense_7 (Dense)              (None, 1)                 65        \n",
      "=================================================================\n",
      "Total params: 6,957,569\n",
      "Trainable params: 6,957,569\n",
      "Non-trainable params: 0\n",
      "_________________________________________________________________\n",
      "\n",
      "classWeights: {0: 0.5045009527564229, 1: 56.043795620437955}\n",
      "\n",
      "Epoch 1/10\n",
      "120/120 [==============================] - 17s 144ms/step - loss: 1.7202 - accuracy: 0.9224 - val_loss: 0.0180 - val_accuracy: 0.9971\n",
      "Epoch 2/10\n",
      "120/120 [==============================] - 14s 118ms/step - loss: 0.0867 - accuracy: 0.9877 - val_loss: 0.0240 - val_accuracy: 0.9969\n",
      "Epoch 3/10\n",
      "120/120 [==============================] - 14s 115ms/step - loss: 0.0609 - accuracy: 0.9877 - val_loss: 0.0123 - val_accuracy: 0.9960\n",
      "Epoch 4/10\n",
      "120/120 [==============================] - 14s 118ms/step - loss: 0.0463 - accuracy: 0.9883 - val_loss: 0.0092 - val_accuracy: 0.9983\n",
      "Epoch 5/10\n",
      "120/120 [==============================] - 15s 126ms/step - loss: 0.0442 - accuracy: 0.9888 - val_loss: 0.0150 - val_accuracy: 0.9936\n",
      "Epoch 6/10\n",
      "120/120 [==============================] - 14s 120ms/step - loss: 0.0384 - accuracy: 0.9889 - val_loss: 0.0075 - val_accuracy: 0.9959\n",
      "Epoch 7/10\n",
      "120/120 [==============================] - 18s 150ms/step - loss: 0.0318 - accuracy: 0.9892 - val_loss: 0.0092 - val_accuracy: 0.9976\n",
      "Epoch 8/10\n",
      "120/120 [==============================] - 16s 131ms/step - loss: 0.0302 - accuracy: 0.9925 - val_loss: 0.0223 - val_accuracy: 0.9942\n",
      "Epoch 9/10\n",
      "120/120 [==============================] - 14s 118ms/step - loss: 0.0223 - accuracy: 0.9928 - val_loss: 0.1094 - val_accuracy: 0.9712\n",
      "Epoch 10/10\n",
      "120/120 [==============================] - 15s 123ms/step - loss: 0.0254 - accuracy: 0.9896 - val_loss: 0.0063 - val_accuracy: 0.9987\n"
     ]
    }
   ],
   "source": [
    "def run_classifier():\n",
    "    model = keras.Sequential()\n",
    "    model.add(layers.LSTM(512, input_shape=(X_train.shape[1], X_train.shape[2]), \n",
    "                          return_sequences=True))\n",
    "    model.add(layers.Dropout(0.1))\n",
    "    model.add( layers.TimeDistributed(layers.Dense(256)) )\n",
    "    model.add(layers.Flatten())\n",
    "    model.add( layers.Dense(128))\n",
    "    model.add( layers.Dense(64))\n",
    "    model.add(layers.Dense(1, activation='sigmoid'))\n",
    "\n",
    "    model.summary()\n",
    "    model.compile(loss='binary_crossentropy', \n",
    "                  optimizer='adam', \n",
    "                  metrics=['accuracy']\n",
    "                 )\n",
    "    \n",
    "    classWeights = {\n",
    "        0: ( 1 / Counter(Y_train)[0] ) * Y_train.shape[0] / 2.0 ,\n",
    "        1: ( 1 / Counter(Y_train)[1] ) * Y_train.shape[0] / 2.0\n",
    "    }\n",
    "    print(f\"\\nclassWeights: {classWeights}\\n\")\n",
    "\n",
    "    history = model.fit(X_train, Y_train,\n",
    "                        batch_size=256,\n",
    "                        epochs=10,\n",
    "                        verbose=True,\n",
    "                        validation_data=(X_val, Y_val),\n",
    "                        class_weight=classWeights\n",
    "                        )\n",
    "    \n",
    "    return model, history\n",
    "\n",
    "\n",
    "model, history = run_classifier()"
   ]
  },
  {
   "cell_type": "code",
   "execution_count": null,
   "metadata": {
    "scrolled": false
   },
   "outputs": [],
   "source": [
    "def evaluate_classifier(_model, _history):\n",
    "    Y_pred = numpy.round(_model.predict(X_test))\n",
    "\n",
    "    print(classification_report(Y_test, Y_pred))\n",
    "    print_metrics(confusion_matrix(Y_test, Y_pred), Y_test)\n",
    "    print()\n",
    "    score = _model.evaluate(X_test, Y_test, verbose=False)\n",
    "    print('Test loss:\\t{:.6f}'.format(score[0]))\n",
    "    print('Test accuracy:\\t{:.6f}'.format(score[1]))\n",
    "\n",
    "    plot_loss(_history)\n",
    "    plot_accuracy(_history)\n",
    "\n",
    "\n",
    "evaluate_classifier(model, history)"
   ]
  },
  {
   "cell_type": "code",
   "execution_count": 7,
   "metadata": {},
   "outputs": [
    {
     "name": "stdout",
     "output_type": "stream",
     "text": [
      "INFO:tensorflow:Assets written to: LSTM_bert128_weighted/assets\n"
     ]
    }
   ],
   "source": [
    "model.save('LSTM_bert128_weighted')\n",
    "model.save('LSTM_bert128_weighted.h5')"
   ]
  }
 ],
 "metadata": {
  "kernelspec": {
   "display_name": "Python 3.8",
   "language": "python",
   "name": "python38"
  },
  "language_info": {
   "codemirror_mode": {
    "name": "ipython",
    "version": 3
   },
   "file_extension": ".py",
   "mimetype": "text/x-python",
   "name": "python",
   "nbconvert_exporter": "python",
   "pygments_lexer": "ipython3",
   "version": "3.8.2"
  }
 },
 "nbformat": 4,
 "nbformat_minor": 2
}
