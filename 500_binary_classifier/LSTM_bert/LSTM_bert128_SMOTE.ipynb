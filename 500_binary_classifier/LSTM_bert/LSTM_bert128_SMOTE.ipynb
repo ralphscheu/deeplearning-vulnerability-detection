{
 "cells": [
  {
   "cell_type": "markdown",
   "metadata": {},
   "source": [
    "# LSTM - bert128\n",
    "\n",
    "- **Training set**: LO_SARD102(0.6 split)\n",
    "- **Test/Validation set:** LO_SARD102 (0.2 split)\n",
    "- **Features**: bert sequence (128)\n",
    "- **Class imbalance processing**: SMOTE"
   ]
  },
  {
   "cell_type": "code",
   "execution_count": 1,
   "metadata": {
    "scrolled": false
   },
   "outputs": [
    {
     "name": "stdout",
     "output_type": "stream",
     "text": [
      "imbalanced_learn version  0.7.0\n",
      "Counter output before SMOTE: Counter({0: 30438, 1: 274})\n",
      "Counter output after SMOTE: Counter({0: 30438, 1: 30438})\n",
      "class counts oversampled data set: (60876, 60876)\n",
      "(60876, 128, 768)\n",
      "(60876,)\n",
      "(10238, 128, 768)\n",
      "(10238,)\n",
      "(10238, 128, 768)\n",
      "(10238,)\n"
     ]
    }
   ],
   "source": [
    "import tensorflow as tf\n",
    "from tensorflow import keras\n",
    "from tensorflow.keras import layers\n",
    "import pandas as pd\n",
    "import numpy as np\n",
    "import matplotlib.pyplot as plt\n",
    "from helper_functions import *\n",
    "from sklearn.model_selection import train_test_split\n",
    "from sklearn.metrics import classification_report\n",
    "\n",
    "X = numpy.load('/mnt/md0/user/scheuererra68323/LOSARD102_bert128_X.npy')\n",
    "y = pd.read_hdf('/mnt/md0/user/scheuererra68323/LOSARD102_bert128_y.h5').is_vulnerable.values\n",
    "\n",
    "X_train, X_test, Y_train, Y_test = train_test_split(X, y, stratify=y, test_size=0.2, random_state=5)\n",
    "X_train, X_val, Y_train, Y_val = train_test_split(X_train, Y_train, stratify=Y_train, test_size=0.25, random_state=10)\n",
    "\n",
    "del X\n",
    "del y\n",
    "\n",
    "\n",
    "# oversample class 1\n",
    "X_train, Y_train = oversample_smote(np.reshape(X_train, (-1, 128*768)), Y_train )\n",
    "\n",
    "X_train = np.reshape( X_train, (-1, 128, 768) )\n",
    "\n",
    "print(\"class counts oversampled data set:\", (X_train.shape[0], Y_train.shape[0]))\n",
    "\n",
    "print(X_train.shape)\n",
    "print(Y_train.shape)\n",
    "print(X_val.shape)\n",
    "print(Y_val.shape)\n",
    "print(X_test.shape)\n",
    "print(Y_test.shape)"
   ]
  },
  {
   "cell_type": "markdown",
   "metadata": {},
   "source": [
    "## Variant 1"
   ]
  },
  {
   "cell_type": "code",
   "execution_count": 25,
   "metadata": {
    "scrolled": false
   },
   "outputs": [
    {
     "name": "stdout",
     "output_type": "stream",
     "text": [
      "Model: \"sequential_9\"\n",
      "_________________________________________________________________\n",
      "Layer (type)                 Output Shape              Param #   \n",
      "=================================================================\n",
      "lstm_9 (LSTM)                (None, 128, 512)          2623488   \n",
      "_________________________________________________________________\n",
      "dropout_9 (Dropout)          (None, 128, 512)          0         \n",
      "_________________________________________________________________\n",
      "time_distributed_13 (TimeDis (None, 128, 256)          131328    \n",
      "_________________________________________________________________\n",
      "flatten_9 (Flatten)          (None, 32768)             0         \n",
      "_________________________________________________________________\n",
      "dense_39 (Dense)             (None, 128)               4194432   \n",
      "_________________________________________________________________\n",
      "dense_40 (Dense)             (None, 64)                8256      \n",
      "_________________________________________________________________\n",
      "dense_41 (Dense)             (None, 1)                 65        \n",
      "=================================================================\n",
      "Total params: 6,957,569\n",
      "Trainable params: 6,957,569\n",
      "Non-trainable params: 0\n",
      "_________________________________________________________________\n",
      "Epoch 1/4\n",
      "119/119 [==============================] - 26s 215ms/step - loss: 0.7267 - accuracy: 0.9578 - val_loss: 0.0166 - val_accuracy: 0.9944\n",
      "Epoch 2/4\n",
      "119/119 [==============================] - 23s 194ms/step - loss: 0.0121 - accuracy: 0.9964 - val_loss: 0.0084 - val_accuracy: 0.9981\n",
      "Epoch 3/4\n",
      "119/119 [==============================] - 22s 188ms/step - loss: 0.0080 - accuracy: 0.9980 - val_loss: 0.0068 - val_accuracy: 0.9984\n",
      "Epoch 4/4\n",
      "119/119 [==============================] - 24s 203ms/step - loss: 0.0056 - accuracy: 0.9987 - val_loss: 0.0060 - val_accuracy: 0.9987\n"
     ]
    }
   ],
   "source": [
    "def oversample_smote(X, y):\n",
    "    from imblearn.over_sampling import SMOTE\n",
    "    # summarize the new class distribution\n",
    "    counter = Counter(y)\n",
    "    print(\"Counter output before SMOTE:\", counter)\n",
    "    \n",
    "    # transform the dataset\n",
    "    oversample = SMOTE()\n",
    "    X, y = oversample.fit_resample(X, y)\n",
    "    \n",
    "    # summarize the new class distribution\n",
    "    counter = Counter(y)\n",
    "    print(\"Counter output after SMOTE:\", counter)\n",
    "    return X, y\n",
    "\n",
    "\n",
    "def run_classifier(_X_train, _Y_train, _X_val, _Y_val):\n",
    "    \n",
    "    model = keras.Sequential()\n",
    "    model.add(layers.LSTM(512, input_shape=(_X_train.shape[1], _X_train.shape[2]), \n",
    "                          return_sequences=True))\n",
    "    model.add(layers.Dropout(0.1))\n",
    "    model.add( layers.TimeDistributed(layers.Dense(256)) )\n",
    "    model.add(layers.Flatten())\n",
    "    model.add(layers.Dense(128))\n",
    "    model.add(layers.Dense(64))\n",
    "    model.add(layers.Dense(1, activation='sigmoid'))\n",
    "\n",
    "    model.summary()\n",
    "    model.compile(loss='binary_crossentropy', \n",
    "                  optimizer='adam', \n",
    "                  metrics=['accuracy']\n",
    "                 )\n",
    "    \n",
    "    \n",
    "    history = model.fit(_X_train, _Y_train,\n",
    "                        batch_size=512,\n",
    "                        epochs=4,\n",
    "                        verbose=True,\n",
    "                        validation_data=(_X_val, _Y_val)\n",
    "                        )\n",
    "    \n",
    "    return model, history\n",
    "\n",
    "\n",
    "model, history = run_classifier(X_train, Y_train, X_val, Y_val)"
   ]
  },
  {
   "cell_type": "code",
   "execution_count": 26,
   "metadata": {
    "scrolled": false
   },
   "outputs": [
    {
     "name": "stdout",
     "output_type": "stream",
     "text": [
      "              precision    recall  f1-score   support\n",
      "\n",
      "           0       1.00      1.00      1.00     10146\n",
      "           1       0.84      0.98      0.90        92\n",
      "\n",
      "    accuracy                           1.00     10238\n",
      "   macro avg       0.92      0.99      0.95     10238\n",
      "weighted avg       1.00      1.00      1.00     10238\n",
      "\n",
      "Confusion matrix:\n",
      "[[10129    17]\n",
      " [    2    90]]\n",
      "\n",
      "Confusion matrix (Percentages):\n",
      "[[9.8935e+01 1.6600e-01]\n",
      " [2.0000e-02 8.7900e-01]]\n",
      "\n",
      "Metrics:\n",
      "Sensitivity (TPR): 0.978261\n",
      "Specifity (TNR):   0.998324\n",
      "\n",
      "FPR: 0.001676\n",
      "FNR: 0.021739\n",
      "\n",
      "Balanced accuracy: 0.988293\n",
      "\n",
      "Test loss:\t0.008766\n",
      "Test accuracy:\t0.998144\n"
     ]
    },
    {
     "data": {
      "image/png": "[encoded data removed]",
      "text/plain": [
       "<Figure size 432x288 with 1 Axes>"
      ]
     },
     "metadata": {
      "needs_background": "light"
     },
     "output_type": "display_data"
    },
    {
     "data": {
      "image/png": "[encoded data removed]",
      "text/plain": [
       "<Figure size 432x288 with 1 Axes>"
      ]
     },
     "metadata": {
      "needs_background": "light"
     },
     "output_type": "display_data"
    }
   ],
   "source": [
    "def evaluate_classifier(_model, _history):\n",
    "    Y_pred = numpy.round(_model.predict(X_test))\n",
    "\n",
    "    print(classification_report(Y_test, Y_pred))\n",
    "    print_metrics(confusion_matrix(Y_test, Y_pred), Y_test)\n",
    "    print()\n",
    "    score = _model.evaluate(X_test, Y_test, verbose=False)\n",
    "    print('Test loss:\\t{:.6f}'.format(score[0]))\n",
    "    print('Test accuracy:\\t{:.6f}'.format(score[1]))\n",
    "\n",
    "    plot_loss(_history)\n",
    "    plot_accuracy(_history)\n",
    "\n",
    "\n",
    "evaluate_classifier(model, history)"
   ]
  },
  {
   "cell_type": "code",
   "execution_count": 27,
   "metadata": {},
   "outputs": [
    {
     "name": "stdout",
     "output_type": "stream",
     "text": [
      "INFO:tensorflow:Assets written to: LSTM_Var1_bert128_SMOTE/assets\n"
     ]
    }
   ],
   "source": [
    "model.save('LSTM_Var1_bert128_SMOTE')\n",
    "model.save('LSTM_Var1_bert128_SMOTE.h5')"
   ]
  },
  {
   "cell_type": "code",
   "execution_count": null,
   "metadata": {},
   "outputs": [],
   "source": []
  },
  {
   "cell_type": "code",
   "execution_count": null,
   "metadata": {},
   "outputs": [],
   "source": []
  },
  {
   "cell_type": "markdown",
   "metadata": {},
   "source": [
    "## Variant 2"
   ]
  },
  {
   "cell_type": "code",
   "execution_count": 32,
   "metadata": {},
   "outputs": [
    {
     "name": "stdout",
     "output_type": "stream",
     "text": [
      "Model: \"sequential_13\"\n",
      "_________________________________________________________________\n",
      "Layer (type)                 Output Shape              Param #   \n",
      "=================================================================\n",
      "lstm_16 (LSTM)               (None, 128, 64)           213248    \n",
      "_________________________________________________________________\n",
      "dropout_13 (Dropout)         (None, 128, 64)           0         \n",
      "_________________________________________________________________\n",
      "lstm_17 (LSTM)               (None, 128, 16)           5184      \n",
      "_________________________________________________________________\n",
      "time_distributed_17 (TimeDis (None, 128, 16)           272       \n",
      "_________________________________________________________________\n",
      "flatten_13 (Flatten)         (None, 2048)              0         \n",
      "_________________________________________________________________\n",
      "dense_49 (Dense)             (None, 1)                 2049      \n",
      "=================================================================\n",
      "Total params: 220,753\n",
      "Trainable params: 220,753\n",
      "Non-trainable params: 0\n",
      "_________________________________________________________________\n",
      "Epoch 1/4\n",
      "119/119 [==============================] - 21s 177ms/step - loss: 0.0500 - accuracy: 0.9835 - val_loss: 0.0104 - val_accuracy: 0.9971\n",
      "Epoch 2/4\n",
      "119/119 [==============================] - 12s 103ms/step - loss: 0.0080 - accuracy: 0.9978 - val_loss: 0.0052 - val_accuracy: 0.9987\n",
      "Epoch 3/4\n",
      "119/119 [==============================] - 12s 98ms/step - loss: 0.0053 - accuracy: 0.9987 - val_loss: 0.0063 - val_accuracy: 0.9988\n",
      "Epoch 4/4\n",
      "119/119 [==============================] - 11s 94ms/step - loss: 0.0093 - accuracy: 0.9974 - val_loss: 0.0048 - val_accuracy: 0.9989\n"
     ]
    }
   ],
   "source": [
    "def run_classifier(_X_train, _Y_train, _X_val, _Y_val):\n",
    "    \n",
    "    model = keras.Sequential()\n",
    "    model.add(layers.LSTM(64, input_shape=(_X_train.shape[1], _X_train.shape[2]), \n",
    "                          return_sequences=True))\n",
    "    model.add(layers.Dropout(0.1))\n",
    "    model.add(layers.LSTM(16, return_sequences=True))\n",
    "    model.add( layers.TimeDistributed(layers.Dense(16)) )\n",
    "    model.add(layers.Flatten())\n",
    "    model.add(layers.Dense(1, activation='sigmoid'))\n",
    "\n",
    "    model.summary()\n",
    "    model.compile(loss='binary_crossentropy', \n",
    "                  optimizer='adam', \n",
    "                  metrics=['accuracy']\n",
    "                 )\n",
    "    \n",
    "    \n",
    "    history = model.fit(_X_train, _Y_train,\n",
    "                        batch_size=512,\n",
    "                        epochs=4,\n",
    "                        verbose=True,\n",
    "                        validation_data=(_X_val, _Y_val)\n",
    "                        )\n",
    "    \n",
    "    return model, history\n",
    "\n",
    "\n",
    "modelv2, historyv2 = run_classifier(X_train, Y_train, X_val, Y_val)"
   ]
  },
  {
   "cell_type": "code",
   "execution_count": 33,
   "metadata": {},
   "outputs": [
    {
     "name": "stdout",
     "output_type": "stream",
     "text": [
      "              precision    recall  f1-score   support\n",
      "\n",
      "           0       1.00      1.00      1.00     10146\n",
      "           1       0.85      0.98      0.91        92\n",
      "\n",
      "    accuracy                           1.00     10238\n",
      "   macro avg       0.92      0.99      0.95     10238\n",
      "weighted avg       1.00      1.00      1.00     10238\n",
      "\n",
      "Confusion matrix:\n",
      "[[10130    16]\n",
      " [    2    90]]\n",
      "\n",
      "Confusion matrix (Percentages):\n",
      "[[9.8945e+01 1.5600e-01]\n",
      " [2.0000e-02 8.7900e-01]]\n",
      "\n",
      "Metrics:\n",
      "Sensitivity (TPR): 0.978261\n",
      "Specifity (TNR):   0.998423\n",
      "\n",
      "FPR: 0.001577\n",
      "FNR: 0.021739\n",
      "\n",
      "Balanced accuracy: 0.988342\n",
      "\n",
      "Test loss:\t0.008696\n",
      "Test accuracy:\t0.998242\n"
     ]
    },
    {
     "data": {
      "image/png": "[encoded data removed]",
      "text/plain": [
       "<Figure size 432x288 with 1 Axes>"
      ]
     },
     "metadata": {
      "needs_background": "light"
     },
     "output_type": "display_data"
    },
    {
     "data": {
      "image/png": "[encoded data removed]",
      "text/plain": [
       "<Figure size 432x288 with 1 Axes>"
      ]
     },
     "metadata": {
      "needs_background": "light"
     },
     "output_type": "display_data"
    }
   ],
   "source": [
    "evaluate_classifier(modelv2, historyv2)"
   ]
  },
  {
   "cell_type": "code",
   "execution_count": 34,
   "metadata": {},
   "outputs": [
    {
     "name": "stdout",
     "output_type": "stream",
     "text": [
      "INFO:tensorflow:Assets written to: LSTM_Var2_bert128_SMOTE/assets\n"
     ]
    }
   ],
   "source": [
    "modelv2.save('LSTM_Var2_bert128_SMOTE')\n",
    "modelv2.save('LSTM_Var2_bert128_SMOTE.h5')"
   ]
  },
  {
   "cell_type": "code",
   "execution_count": null,
   "metadata": {},
   "outputs": [],
   "source": []
  },
  {
   "cell_type": "code",
   "execution_count": null,
   "metadata": {},
   "outputs": [],
   "source": []
  }
 ],
 "metadata": {
  "kernelspec": {
   "display_name": "Python 3.8",
   "language": "python",
   "name": "python38"
  },
  "language_info": {
   "codemirror_mode": {
    "name": "ipython",
    "version": 3
   },
   "file_extension": ".py",
   "mimetype": "text/x-python",
   "name": "python",
   "nbconvert_exporter": "python",
   "pygments_lexer": "ipython3",
   "version": "3.8.2"
  }
 },
 "nbformat": 4,
 "nbformat_minor": 2
}
