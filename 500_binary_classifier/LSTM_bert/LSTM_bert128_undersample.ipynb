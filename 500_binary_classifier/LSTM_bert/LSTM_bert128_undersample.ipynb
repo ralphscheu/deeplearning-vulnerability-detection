{
 "cells": [
  {
   "cell_type": "markdown",
   "metadata": {},
   "source": [
    "# LSTM - bert128\n",
    "\n",
    "- **Training set**: LO_SARD102(0.6 split)\n",
    "- **Test/Validation set:** LO_SARD102 (0.2 split)\n",
    "- **Features**: bert sequence (128)\n",
    "- **Class imbalance processing**: Undersample"
   ]
  },
  {
   "cell_type": "code",
   "execution_count": 1,
   "metadata": {
    "scrolled": false
   },
   "outputs": [
    {
     "name": "stdout",
     "output_type": "stream",
     "text": [
      "(30712, 128, 768)\n",
      "(30712,)\n",
      "(10238, 128, 768)\n",
      "(10238,)\n",
      "(10238, 128, 768)\n",
      "(10238,)\n"
     ]
    }
   ],
   "source": [
    "import tensorflow as tf\n",
    "from tensorflow import keras\n",
    "from tensorflow.keras import layers\n",
    "import pandas as pd\n",
    "import numpy as np\n",
    "import matplotlib.pyplot as plt\n",
    "from helper_functions import *\n",
    "from sklearn.model_selection import train_test_split\n",
    "from sklearn.metrics import classification_report\n",
    "\n",
    "X = numpy.load('/mnt/md0/user/scheuererra68323/LOSARD102_bert128_X.npy')\n",
    "y = pd.read_hdf('/mnt/md0/user/scheuererra68323/LOSARD102_bert128_y.h5').is_vulnerable.values\n",
    "\n",
    "X_train, X_test, Y_train, Y_test = train_test_split(X, y, stratify=y, test_size=0.2, random_state=5)\n",
    "X_train, X_val, Y_train, Y_val = train_test_split(X_train, Y_train, stratify=Y_train, test_size=0.25, random_state=10)\n",
    "\n",
    "del X\n",
    "del y\n",
    "\n",
    "print(X_train.shape)\n",
    "print(Y_train.shape)\n",
    "print(X_val.shape)\n",
    "print(Y_val.shape)\n",
    "print(X_test.shape)\n",
    "print(Y_test.shape)"
   ]
  },
  {
   "cell_type": "code",
   "execution_count": 5,
   "metadata": {
    "scrolled": true
   },
   "outputs": [
    {
     "name": "stdout",
     "output_type": "stream",
     "text": [
      "class counts undersampled data set: (30712, 30712)\n",
      "Model: \"sequential_2\"\n",
      "_________________________________________________________________\n",
      "Layer (type)                 Output Shape              Param #   \n",
      "=================================================================\n",
      "lstm_2 (LSTM)                (None, 128, 256)          1049600   \n",
      "_________________________________________________________________\n",
      "dropout_2 (Dropout)          (None, 128, 256)          0         \n",
      "_________________________________________________________________\n",
      "time_distributed_2 (TimeDist (None, 128, 16)           4112      \n",
      "_________________________________________________________________\n",
      "flatten_2 (Flatten)          (None, 2048)              0         \n",
      "_________________________________________________________________\n",
      "dense_5 (Dense)              (None, 1)                 2049      \n",
      "=================================================================\n",
      "Total params: 1,055,761\n",
      "Trainable params: 1,055,761\n",
      "Non-trainable params: 0\n",
      "_________________________________________________________________\n",
      "Epoch 1/8\n",
      "120/120 [==============================] - 15s 123ms/step - loss: 0.0204 - accuracy: 0.9911 - val_loss: 0.0077 - val_accuracy: 0.9981\n",
      "Epoch 2/8\n",
      "120/120 [==============================] - 10s 85ms/step - loss: 0.0053 - accuracy: 0.9986 - val_loss: 0.0051 - val_accuracy: 0.9991\n",
      "Epoch 3/8\n",
      "120/120 [==============================] - 13s 109ms/step - loss: 0.0037 - accuracy: 0.9990 - val_loss: 0.0047 - val_accuracy: 0.9991\n",
      "Epoch 4/8\n",
      "120/120 [==============================] - 19s 156ms/step - loss: 0.0034 - accuracy: 0.9990 - val_loss: 0.0050 - val_accuracy: 0.9981\n",
      "Epoch 5/8\n",
      "120/120 [==============================] - 15s 123ms/step - loss: 0.0030 - accuracy: 0.9990 - val_loss: 0.0057 - val_accuracy: 0.9990\n",
      "Epoch 6/8\n",
      "120/120 [==============================] - 10s 85ms/step - loss: 0.0037 - accuracy: 0.9988 - val_loss: 0.0044 - val_accuracy: 0.9991\n",
      "Epoch 7/8\n",
      "120/120 [==============================] - 11s 94ms/step - loss: 0.0029 - accuracy: 0.9990 - val_loss: 0.0044 - val_accuracy: 0.9981\n",
      "Epoch 8/8\n",
      "120/120 [==============================] - 11s 93ms/step - loss: 0.0034 - accuracy: 0.9989 - val_loss: 0.0040 - val_accuracy: 0.9991\n"
     ]
    }
   ],
   "source": [
    "def run_classifier(_X_train, _Y_train, _X_val, _Y_val):\n",
    "    # undersample class 0\n",
    "    X_train, Y_train = undersample(_X_train, _Y_train)\n",
    "    print(\"class counts undersampled data set:\", (_X_train.shape[0], _Y_train.shape[0]))\n",
    "    \n",
    "    model = keras.Sequential()\n",
    "    model.add(layers.LSTM(256, input_shape=(_X_train.shape[1], _X_train.shape[2]), \n",
    "                          return_sequences=True))\n",
    "    model.add(layers.Dropout(0.1))\n",
    "    model.add( layers.TimeDistributed(layers.Dense(16)) )\n",
    "    model.add(layers.Flatten())\n",
    "    model.add(layers.Dense(1, activation='sigmoid'))\n",
    "\n",
    "    model.summary()\n",
    "    model.compile(loss='binary_crossentropy', \n",
    "                  optimizer='adam', \n",
    "                  metrics=['accuracy']\n",
    "                 )\n",
    "    \n",
    "    \n",
    "    history = model.fit(_X_train, _Y_train,\n",
    "                        batch_size=256,\n",
    "                        epochs=8,\n",
    "                        verbose=True,\n",
    "                        validation_data=(_X_val, _Y_val)\n",
    "                        )\n",
    "    \n",
    "    return model, history\n",
    "\n",
    "\n",
    "model, history = run_classifier(X_train, Y_train, X_val, Y_val)"
   ]
  },
  {
   "cell_type": "code",
   "execution_count": 6,
   "metadata": {
    "scrolled": false
   },
   "outputs": [
    {
     "name": "stdout",
     "output_type": "stream",
     "text": [
      "              precision    recall  f1-score   support\n",
      "\n",
      "           0       1.00      1.00      1.00     10146\n",
      "           1       0.91      0.97      0.94        92\n",
      "\n",
      "    accuracy                           1.00     10238\n",
      "   macro avg       0.95      0.98      0.97     10238\n",
      "weighted avg       1.00      1.00      1.00     10238\n",
      "\n",
      "Confusion matrix:\n",
      "[[10137     9]\n",
      " [    3    89]]\n",
      "\n",
      "Confusion matrix (Percentages):\n",
      "[[9.9013e+01 8.8000e-02]\n",
      " [2.9000e-02 8.6900e-01]]\n",
      "\n",
      "Metrics:\n",
      "Sensitivity (TPR): 0.967391\n",
      "Specifity (TNR):   0.999113\n",
      "\n",
      "FPR: 0.000887\n",
      "FNR: 0.032609\n",
      "\n",
      "Balanced accuracy: 0.983252\n",
      "\n",
      "Test loss:\t0.003859\n",
      "Test accuracy:\t0.998828\n"
     ]
    },
    {
     "data": {
      "image/png": "[encoded data removed]",
      "text/plain": [
       "<Figure size 432x288 with 1 Axes>"
      ]
     },
     "metadata": {
      "needs_background": "light"
     },
     "output_type": "display_data"
    },
    {
     "data": {
      "image/png": "[encoded data removed]",
      "text/plain": [
       "<Figure size 432x288 with 1 Axes>"
      ]
     },
     "metadata": {
      "needs_background": "light"
     },
     "output_type": "display_data"
    }
   ],
   "source": [
    "def evaluate_classifier(_model, _history):\n",
    "    Y_pred = numpy.round(_model.predict(X_test))\n",
    "\n",
    "    print(classification_report(Y_test, Y_pred))\n",
    "    print_metrics(confusion_matrix(Y_test, Y_pred), Y_test)\n",
    "    print()\n",
    "    score = _model.evaluate(X_test, Y_test, verbose=False)\n",
    "    print('Test loss:\\t{:.6f}'.format(score[0]))\n",
    "    print('Test accuracy:\\t{:.6f}'.format(score[1]))\n",
    "\n",
    "    plot_loss(_history)\n",
    "    plot_accuracy(_history)\n",
    "\n",
    "\n",
    "evaluate_classifier(model, history)"
   ]
  },
  {
   "cell_type": "code",
   "execution_count": 9,
   "metadata": {},
   "outputs": [
    {
     "name": "stdout",
     "output_type": "stream",
     "text": [
      "INFO:tensorflow:Assets written to: LSTM_bert128_undersample/assets\n"
     ]
    }
   ],
   "source": [
    "model.save('LSTM_bert128_undersample')"
   ]
  },
  {
   "cell_type": "code",
   "execution_count": 10,
   "metadata": {},
   "outputs": [],
   "source": [
    "model.save('LSTM_bert128_undersample.h5')"
   ]
  },
  {
   "cell_type": "markdown",
   "metadata": {},
   "source": [
    "## Discussion\n",
    "..."
   ]
  }
 ],
 "metadata": {
  "kernelspec": {
   "display_name": "Python 3.8",
   "language": "python",
   "name": "python38"
  },
  "language_info": {
   "codemirror_mode": {
    "name": "ipython",
    "version": 3
   },
   "file_extension": ".py",
   "mimetype": "text/x-python",
   "name": "python",
   "nbconvert_exporter": "python",
   "pygments_lexer": "ipython3",
   "version": "3.8.2"
  }
 },
 "nbformat": 4,
 "nbformat_minor": 2
}
