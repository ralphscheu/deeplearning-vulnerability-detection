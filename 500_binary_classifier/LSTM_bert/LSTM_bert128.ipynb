{
 "cells": [
  {
   "cell_type": "markdown",
   "metadata": {},
   "source": [
    "# LSTM - bert128\n",
    "\n",
    "- **Training set**: LO_SARD102(0.6 split)\n",
    "- **Test/Validation set:** LO_SARD102 (0.2 split)\n",
    "- **Features**: bert sequence (128)\n",
    "- **Class imbalance processing**: None"
   ]
  },
  {
   "cell_type": "code",
   "execution_count": 1,
   "metadata": {
    "scrolled": false
   },
   "outputs": [
    {
     "name": "stdout",
     "output_type": "stream",
     "text": [
      "class counts training data set: Counter({0: 30438, 1: 274})\n",
      "(30712, 128, 768)\n",
      "(30712,)\n",
      "(10238, 128, 768)\n",
      "(10238,)\n",
      "(10238, 128, 768)\n",
      "(10238,)\n"
     ]
    }
   ],
   "source": [
    "import tensorflow as tf\n",
    "from tensorflow import keras\n",
    "from tensorflow.keras import layers\n",
    "import pandas as pd\n",
    "import numpy as np\n",
    "import matplotlib.pyplot as plt\n",
    "from helper_functions import *\n",
    "from sklearn.model_selection import train_test_split\n",
    "from sklearn.metrics import classification_report\n",
    "from collections import Counter\n",
    "\n",
    "X = numpy.load('/mnt/md0/user/scheuererra68323/LOSARD102_bert128_X.npy')\n",
    "y = pd.read_hdf('/mnt/md0/user/scheuererra68323/LOSARD102_bert128_y.h5').is_vulnerable.values\n",
    "\n",
    "X_train, X_test, Y_train, Y_test = train_test_split(X, y, stratify=y, test_size=0.2, random_state=5)\n",
    "X_train, X_val, Y_train, Y_val = train_test_split(X_train, Y_train, stratify=Y_train, test_size=0.25, random_state=10)\n",
    "\n",
    "del X\n",
    "del y\n",
    "\n",
    "print(\"class counts training data set:\", Counter(Y_train))\n",
    "\n",
    "print(X_train.shape)\n",
    "print(Y_train.shape)\n",
    "print(X_val.shape)\n",
    "print(Y_val.shape)\n",
    "print(X_test.shape)\n",
    "print(Y_test.shape)"
   ]
  },
  {
   "cell_type": "code",
   "execution_count": 2,
   "metadata": {},
   "outputs": [
    {
     "name": "stdout",
     "output_type": "stream",
     "text": [
      "Model: \"sequential\"\n",
      "_________________________________________________________________\n",
      "Layer (type)                 Output Shape              Param #   \n",
      "=================================================================\n",
      "lstm (LSTM)                  (None, 128, 64)           213248    \n",
      "_________________________________________________________________\n",
      "dropout (Dropout)            (None, 128, 64)           0         \n",
      "_________________________________________________________________\n",
      "time_distributed (TimeDistri (None, 128, 16)           1040      \n",
      "_________________________________________________________________\n",
      "flatten (Flatten)            (None, 2048)              0         \n",
      "_________________________________________________________________\n",
      "dense_1 (Dense)              (None, 1)                 2049      \n",
      "=================================================================\n",
      "Total params: 216,337\n",
      "Trainable params: 216,337\n",
      "Non-trainable params: 0\n",
      "_________________________________________________________________\n",
      "Epoch 1/4\n",
      "60/60 [==============================] - 12s 193ms/step - loss: 0.0438 - accuracy: 0.9823 - val_loss: 0.0128 - val_accuracy: 0.9981\n",
      "Epoch 2/4\n",
      "60/60 [==============================] - 10s 167ms/step - loss: 0.0077 - accuracy: 0.9985 - val_loss: 0.0070 - val_accuracy: 0.9981\n",
      "Epoch 3/4\n",
      "60/60 [==============================] - 10s 168ms/step - loss: 0.0052 - accuracy: 0.9984 - val_loss: 0.0059 - val_accuracy: 0.9993\n",
      "Epoch 4/4\n",
      "60/60 [==============================] - 10s 164ms/step - loss: 0.0041 - accuracy: 0.9990 - val_loss: 0.0057 - val_accuracy: 0.9991\n"
     ]
    }
   ],
   "source": [
    "def run_classifier(_X_train, _Y_train, _X_val, _Y_val):\n",
    "    model = keras.Sequential()\n",
    "    model.add(layers.LSTM(64, input_shape=(_X_train.shape[1], _X_train.shape[2]), \n",
    "                          return_sequences=True))\n",
    "    model.add(layers.Dropout(0.1))\n",
    "    model.add( layers.TimeDistributed(layers.Dense(16)) )\n",
    "    model.add(layers.Flatten())\n",
    "    model.add(layers.Dense(1, activation='sigmoid'))\n",
    "\n",
    "    model.summary()\n",
    "    model.compile(loss='binary_crossentropy', \n",
    "                  optimizer='adam', \n",
    "                  metrics=['accuracy']\n",
    "                 )\n",
    "    \n",
    "    \n",
    "    history = model.fit(_X_train, _Y_train,\n",
    "                        batch_size=512,\n",
    "                        epochs=4,\n",
    "                        verbose=True,\n",
    "                        validation_data=(_X_val, _Y_val)\n",
    "                        )\n",
    "    \n",
    "    return model, history\n",
    "\n",
    "\n",
    "model, history = run_classifier(X_train, Y_train, X_val, Y_val)"
   ]
  },
  {
   "cell_type": "code",
   "execution_count": 6,
   "metadata": {},
   "outputs": [
    {
     "name": "stdout",
     "output_type": "stream",
     "text": [
      "              precision    recall  f1-score   support\n",
      "\n",
      "           0       1.00      1.00      1.00     10146\n",
      "           1       0.91      0.97      0.94        92\n",
      "\n",
      "    accuracy                           1.00     10238\n",
      "   macro avg       0.95      0.98      0.97     10238\n",
      "weighted avg       1.00      1.00      1.00     10238\n",
      "\n",
      "Confusion matrix:\n",
      "[[10137     9]\n",
      " [    3    89]]\n",
      "\n",
      "Confusion matrix (Percentages):\n",
      "[[9.9013e+01 8.8000e-02]\n",
      " [2.9000e-02 8.6900e-01]]\n",
      "\n",
      "Metrics:\n",
      "Sensitivity (TPR): 0.967391\n",
      "Specifity (TNR):   0.999113\n",
      "\n",
      "FPR: 0.000887\n",
      "FNR: 0.032609\n",
      "\n",
      "Balanced accuracy: 0.983252\n",
      "\n",
      "Test loss:\t0.005410\n",
      "Test accuracy:\t0.998828\n"
     ]
    },
    {
     "data": {
      "image/png": "[encoded data removed]",
      "text/plain": [
       "<Figure size 432x288 with 1 Axes>"
      ]
     },
     "metadata": {
      "needs_background": "light"
     },
     "output_type": "display_data"
    },
    {
     "data": {
      "image/png": "[encoded data removed]",
      "text/plain": [
       "<Figure size 432x288 with 1 Axes>"
      ]
     },
     "metadata": {
      "needs_background": "light"
     },
     "output_type": "display_data"
    }
   ],
   "source": [
    "def evaluate_classifier(_model, _history):\n",
    "    Y_pred = numpy.round(_model.predict(X_test))\n",
    "\n",
    "    print(classification_report(Y_test, Y_pred))\n",
    "    print_metrics(confusion_matrix(Y_test, Y_pred), Y_test)\n",
    "    print()\n",
    "    score = _model.evaluate(X_test, Y_test, verbose=False)\n",
    "    print('Test loss:\\t{:.6f}'.format(score[0]))\n",
    "    print('Test accuracy:\\t{:.6f}'.format(score[1]))\n",
    "\n",
    "    plot_loss(_history)\n",
    "    plot_accuracy(_history)\n",
    "\n",
    "\n",
    "evaluate_classifier(modelv2, historyv2)"
   ]
  },
  {
   "cell_type": "code",
   "execution_count": 8,
   "metadata": {},
   "outputs": [],
   "source": [
    "modelv2.save('LSTM_bert128.h5')"
   ]
  }
 ],
 "metadata": {
  "kernelspec": {
   "display_name": "Python 3.8",
   "language": "python",
   "name": "python38"
  },
  "language_info": {
   "codemirror_mode": {
    "name": "ipython",
    "version": 3
   },
   "file_extension": ".py",
   "mimetype": "text/x-python",
   "name": "python",
   "nbconvert_exporter": "python",
   "pygments_lexer": "ipython3",
   "version": "3.8.2"
  }
 },
 "nbformat": 4,
 "nbformat_minor": 2
}
