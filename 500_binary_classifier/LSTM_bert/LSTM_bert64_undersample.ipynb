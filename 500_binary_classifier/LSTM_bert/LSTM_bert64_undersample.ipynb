{
 "cells": [
  {
   "cell_type": "markdown",
   "metadata": {},
   "source": [
    "# LSTM - bert64\n",
    "\n",
    "- **Training set**: LO_SARD102(0.6 split)\n",
    "- **Test/Validation set:** LO_SARD102 (0.2 split)\n",
    "- **Features**: bert sequence (64)\n",
    "- **Class imbalance processing**: undersampling"
   ]
  },
  {
   "cell_type": "code",
   "execution_count": 8,
   "metadata": {
    "scrolled": false
   },
   "outputs": [
    {
     "name": "stdout",
     "output_type": "stream",
     "text": [
      "class counts data set before undersampling: Counter({0: 11742, 1: 231})\n",
      "(11973, 64, 768)\n",
      "(11973,)\n",
      "class counts undersampled data set: Counter({0: 231, 1: 231})\n",
      "(462, 64, 768)\n",
      "(462,)\n",
      "(3991, 64, 768)\n",
      "(3991,)\n",
      "(3991, 64, 768)\n",
      "(3991,)\n"
     ]
    }
   ],
   "source": [
    "import tensorflow as tf\n",
    "from tensorflow import keras\n",
    "from tensorflow.keras import layers\n",
    "import pandas as pd\n",
    "import numpy as np\n",
    "import matplotlib.pyplot as plt\n",
    "from helper_functions import *\n",
    "from sklearn.model_selection import train_test_split\n",
    "from sklearn.metrics import classification_report\n",
    "from collections import Counter\n",
    "\n",
    "X = numpy.load('/mnt/md0/user/scheuererra68323/LOSARD102_bert64_X.npy')\n",
    "y = pd.read_hdf('/mnt/md0/user/scheuererra68323/LOSARD102_bert64_y.h5').is_vulnerable.values\n",
    "\n",
    "X_train, X_test, Y_train, Y_test = train_test_split(X, y, stratify=y, test_size=0.2, random_state=5)\n",
    "X_train, X_val, Y_train, Y_val = train_test_split(X_train, Y_train, stratify=Y_train, test_size=0.25, random_state=10)\n",
    "\n",
    "del X\n",
    "del y\n",
    "\n",
    "print(\"class counts data set before undersampling:\", Counter(Y_train))\n",
    "print(X_train.shape)\n",
    "print(Y_train.shape)\n",
    "\n",
    "\n",
    "# undersample class 0\n",
    "X_train, Y_train = undersample( np.reshape(X_train, (-1, 64*768) ), Y_train)\n",
    "X_train = np.reshape(X_train, (-1, 64, 768))\n",
    "print(\"class counts undersampled data set:\", Counter(Y_train))\n",
    "\n",
    "print(X_train.shape)\n",
    "print(Y_train.shape)\n",
    "print(X_val.shape)\n",
    "print(Y_val.shape)\n",
    "print(X_test.shape)\n",
    "print(Y_test.shape)"
   ]
  },
  {
   "cell_type": "code",
   "execution_count": 20,
   "metadata": {},
   "outputs": [
    {
     "name": "stdout",
     "output_type": "stream",
     "text": [
      "Model: \"sequential_6\"\n",
      "_________________________________________________________________\n",
      "Layer (type)                 Output Shape              Param #   \n",
      "=================================================================\n",
      "lstm_5 (LSTM)                (None, 64, 64)            213248    \n",
      "_________________________________________________________________\n",
      "dropout_3 (Dropout)          (None, 64, 64)            0         \n",
      "_________________________________________________________________\n",
      "lstm_6 (LSTM)                (None, 64, 16)            5184      \n",
      "_________________________________________________________________\n",
      "time_distributed_3 (TimeDist (None, 64, 16)            272       \n",
      "_________________________________________________________________\n",
      "flatten_3 (Flatten)          (None, 1024)              0         \n",
      "_________________________________________________________________\n",
      "dense_9 (Dense)              (None, 1)                 1025      \n",
      "=================================================================\n",
      "Total params: 219,729\n",
      "Trainable params: 219,729\n",
      "Non-trainable params: 0\n",
      "_________________________________________________________________\n",
      "Epoch 1/6\n",
      "15/15 [==============================] - 2s 166ms/step - loss: 0.3080 - accuracy: 0.8810 - val_loss: 0.0783 - val_accuracy: 0.9902\n",
      "Epoch 2/6\n",
      "15/15 [==============================] - 2s 103ms/step - loss: 0.0692 - accuracy: 0.9870 - val_loss: 0.0194 - val_accuracy: 0.9960\n",
      "Epoch 3/6\n",
      "15/15 [==============================] - 1s 98ms/step - loss: 0.0680 - accuracy: 0.9870 - val_loss: 0.0305 - val_accuracy: 0.9932\n",
      "Epoch 4/6\n",
      "15/15 [==============================] - 1s 93ms/step - loss: 0.0484 - accuracy: 0.9870 - val_loss: 0.0195 - val_accuracy: 0.9960\n",
      "Epoch 5/6\n",
      "15/15 [==============================] - 1s 97ms/step - loss: 0.0370 - accuracy: 0.9892 - val_loss: 0.0226 - val_accuracy: 0.9947\n",
      "Epoch 6/6\n",
      "15/15 [==============================] - 1s 95ms/step - loss: 0.0419 - accuracy: 0.9935 - val_loss: 0.0537 - val_accuracy: 0.9895\n"
     ]
    }
   ],
   "source": [
    "def run_classifier(_X_train, _Y_train, _X_val, _Y_val):\n",
    "    \n",
    "    model = keras.Sequential()\n",
    "    model.add(layers.LSTM(64, input_shape=(_X_train.shape[1], _X_train.shape[2]), \n",
    "                          return_sequences=True))\n",
    "    model.add(layers.Dropout(0.1))\n",
    "    model.add(layers.LSTM(16, return_sequences=True))\n",
    "    model.add( layers.TimeDistributed(layers.Dense(16)) )\n",
    "    model.add(layers.Flatten())\n",
    "    model.add(layers.Dense(1, activation='sigmoid'))\n",
    "\n",
    "    model.summary()\n",
    "    model.compile(loss='binary_crossentropy', \n",
    "                  optimizer='adam', \n",
    "                  metrics=['accuracy']\n",
    "                 )\n",
    "    \n",
    "    \n",
    "    history = model.fit(_X_train, _Y_train,\n",
    "                        batch_size=32,\n",
    "                        epochs=6,\n",
    "                        verbose=True,\n",
    "                        validation_data=(_X_val, _Y_val)\n",
    "                        )\n",
    "    \n",
    "    return model, history\n",
    "\n",
    "\n",
    "modelv2, historyv2 = run_classifier(X_train, Y_train, X_val, Y_val)"
   ]
  },
  {
   "cell_type": "code",
   "execution_count": null,
   "metadata": {
    "scrolled": true
   },
   "outputs": [],
   "source": [
    "def evaluate_classifier(_model, _history):\n",
    "    Y_pred = numpy.round(_model.predict(X_test))\n",
    "\n",
    "    print(classification_report(Y_test, Y_pred))\n",
    "    print_metrics(confusion_matrix(Y_test, Y_pred), Y_test)\n",
    "    print()\n",
    "    score = _model.evaluate(X_test, Y_test, verbose=False)\n",
    "    print('Test loss:\\t{:.6f}'.format(score[0]))\n",
    "    print('Test accuracy:\\t{:.6f}'.format(score[1]))\n",
    "\n",
    "    plot_loss(_history)\n",
    "    plot_accuracy(_history"
   ]
  },
  {
   "cell_type": "code",
   "execution_count": 17,
   "metadata": {
    "scrolled": false
   },
   "outputs": [
    {
     "name": "stdout",
     "output_type": "stream",
     "text": [
      "              precision    recall  f1-score   support\n",
      "\n",
      "           0       1.00      1.00      1.00      3914\n",
      "           1       0.89      1.00      0.94        77\n",
      "\n",
      "    accuracy                           1.00      3991\n",
      "   macro avg       0.94      1.00      0.97      3991\n",
      "weighted avg       1.00      1.00      1.00      3991\n",
      "\n",
      "Confusion matrix:\n",
      "[[3904   10]\n",
      " [   0   77]]\n",
      "\n",
      "Confusion matrix (Percentages):\n",
      "[[97.82   0.251]\n",
      " [ 0.     1.929]]\n",
      "\n",
      "Metrics:\n",
      "Sensitivity (TPR): 1.000000\n",
      "Specifity (TNR):   0.997445\n",
      "\n",
      "FPR: 0.002555\n",
      "FNR: 0.000000\n",
      "\n",
      "Balanced accuracy: 0.998723\n",
      "\n",
      "Test loss:\t0.011139\n",
      "Test accuracy:\t0.997494\n"
     ]
    },
    {
     "data": {
      "image/png": "[encoded data removed]",
      "text/plain": [
       "<Figure size 432x288 with 1 Axes>"
      ]
     },
     "metadata": {
      "needs_background": "light"
     },
     "output_type": "display_data"
    },
    {
     "data": {
      "image/png": "[encoded data removed]",
      "text/plain": [
       "<Figure size 432x288 with 1 Axes>"
      ]
     },
     "metadata": {
      "needs_background": "light"
     },
     "output_type": "display_data"
    }
   ],
   "source": [
    "evaluate_classifier(modelv2, historyv2)"
   ]
  },
  {
   "cell_type": "code",
   "execution_count": 21,
   "metadata": {},
   "outputs": [
    {
     "name": "stdout",
     "output_type": "stream",
     "text": [
      "INFO:tensorflow:Assets written to: LSTM_bert64_undersample/assets\n"
     ]
    },
    {
     "name": "stderr",
     "output_type": "stream",
     "text": [
      "INFO:tensorflow:Assets written to: LSTM_bert64_undersample/assets\n"
     ]
    }
   ],
   "source": [
    "modelv2.save('LSTM_bert64_undersample')\n",
    "modelv2.save('LSTM_bert64_undersample.h5')"
   ]
  },
  {
   "cell_type": "code",
   "execution_count": null,
   "metadata": {},
   "outputs": [],
   "source": []
  },
  {
   "cell_type": "code",
   "execution_count": null,
   "metadata": {},
   "outputs": [],
   "source": []
  }
 ],
 "metadata": {
  "kernelspec": {
   "display_name": "Python 3.8",
   "language": "python",
   "name": "python38"
  },
  "language_info": {
   "codemirror_mode": {
    "name": "ipython",
    "version": 3
   },
   "file_extension": ".py",
   "mimetype": "text/x-python",
   "name": "python",
   "nbconvert_exporter": "python",
   "pygments_lexer": "ipython3",
   "version": "3.8.2"
  }
 },
 "nbformat": 4,
 "nbformat_minor": 2
}
