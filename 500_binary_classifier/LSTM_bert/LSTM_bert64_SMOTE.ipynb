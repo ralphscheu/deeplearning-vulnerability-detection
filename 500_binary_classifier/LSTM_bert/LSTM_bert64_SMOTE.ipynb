{
 "cells": [
  {
   "cell_type": "markdown",
   "metadata": {},
   "source": [
    "# LSTM - bert64\n",
    "\n",
    "- **Training set**: LO_SARD102(0.6 split)\n",
    "- **Test/Validation set:** LO_SARD102 (0.2 split)\n",
    "- **Features**: bert sequence (64)\n",
    "- **Class imbalance processing**: SMOTE"
   ]
  },
  {
   "cell_type": "code",
   "execution_count": 1,
   "metadata": {
    "scrolled": false
   },
   "outputs": [
    {
     "name": "stdout",
     "output_type": "stream",
     "text": [
      "imbalanced_learn version  0.7.0\n",
      "Counter output before SMOTE: Counter({0: 11742, 1: 231})\n",
      "Counter output after SMOTE: Counter({0: 11742, 1: 11742})\n",
      "class counts oversampled data set: (23484, 23484)\n",
      "(23484, 64, 768)\n",
      "(23484,)\n",
      "(3991, 64, 768)\n",
      "(3991,)\n",
      "(3991, 64, 768)\n",
      "(3991,)\n"
     ]
    }
   ],
   "source": [
    "import tensorflow as tf\n",
    "from tensorflow import keras\n",
    "from tensorflow.keras import layers\n",
    "import pandas as pd\n",
    "import numpy as np\n",
    "import matplotlib.pyplot as plt\n",
    "from helper_functions import *\n",
    "from sklearn.model_selection import train_test_split\n",
    "from sklearn.metrics import classification_report\n",
    "\n",
    "X = numpy.load('/mnt/md0/user/scheuererra68323/LOSARD102_bert64_X.npy')\n",
    "y = pd.read_hdf('/mnt/md0/user/scheuererra68323/LOSARD102_bert64_y.h5').is_vulnerable.values\n",
    "\n",
    "X_train, X_test, Y_train, Y_test = train_test_split(X, y, stratify=y, test_size=0.2, random_state=5)\n",
    "X_train, X_val, Y_train, Y_val = train_test_split(X_train, Y_train, stratify=Y_train, test_size=0.25, random_state=10)\n",
    "\n",
    "del X\n",
    "del y\n",
    "\n",
    "\n",
    "# oversample class 1\n",
    "X_train, Y_train = oversample_smote(np.reshape(X_train, (-1, 64*768)), Y_train )\n",
    "\n",
    "X_train = np.reshape( X_train, (-1, 64, 768) )\n",
    "\n",
    "print(\"class counts oversampled data set:\", (X_train.shape[0], Y_train.shape[0]))\n",
    "\n",
    "print(X_train.shape)\n",
    "print(Y_train.shape)\n",
    "print(X_val.shape)\n",
    "print(Y_val.shape)\n",
    "print(X_test.shape)\n",
    "print(Y_test.shape)"
   ]
  },
  {
   "cell_type": "markdown",
   "metadata": {},
   "source": [
    "## Variant 1"
   ]
  },
  {
   "cell_type": "code",
   "execution_count": 2,
   "metadata": {
    "scrolled": false
   },
   "outputs": [
    {
     "name": "stdout",
     "output_type": "stream",
     "text": [
      "Model: \"sequential\"\n",
      "_________________________________________________________________\n",
      "Layer (type)                 Output Shape              Param #   \n",
      "=================================================================\n",
      "lstm (LSTM)                  (None, 64, 512)           2623488   \n",
      "_________________________________________________________________\n",
      "dropout (Dropout)            (None, 64, 512)           0         \n",
      "_________________________________________________________________\n",
      "time_distributed (TimeDistri (None, 64, 256)           131328    \n",
      "_________________________________________________________________\n",
      "flatten (Flatten)            (None, 16384)             0         \n",
      "_________________________________________________________________\n",
      "dense_1 (Dense)              (None, 128)               2097280   \n",
      "_________________________________________________________________\n",
      "dense_2 (Dense)              (None, 64)                8256      \n",
      "_________________________________________________________________\n",
      "dense_3 (Dense)              (None, 1)                 65        \n",
      "=================================================================\n",
      "Total params: 4,860,417\n",
      "Trainable params: 4,860,417\n",
      "Non-trainable params: 0\n",
      "_________________________________________________________________\n",
      "Epoch 1/4\n",
      "46/46 [==============================] - 6s 122ms/step - loss: 1.0790 - accuracy: 0.9280 - val_loss: 0.0158 - val_accuracy: 0.9945\n",
      "Epoch 2/4\n",
      "46/46 [==============================] - 5s 102ms/step - loss: 0.0153 - accuracy: 0.9943 - val_loss: 0.0135 - val_accuracy: 0.9927\n",
      "Epoch 3/4\n",
      "46/46 [==============================] - 5s 104ms/step - loss: 0.0082 - accuracy: 0.9968 - val_loss: 0.0091 - val_accuracy: 0.9965\n",
      "Epoch 4/4\n",
      "46/46 [==============================] - 8s 164ms/step - loss: 0.0058 - accuracy: 0.9980 - val_loss: 0.0028 - val_accuracy: 0.9990\n"
     ]
    }
   ],
   "source": [
    "def oversample_smote(X, y):\n",
    "    from imblearn.over_sampling import SMOTE\n",
    "    # summarize the new class distribution\n",
    "    counter = Counter(y)\n",
    "    print(\"Counter output before SMOTE:\", counter)\n",
    "    \n",
    "    # transform the dataset\n",
    "    oversample = SMOTE()\n",
    "    X, y = oversample.fit_resample(X, y)\n",
    "    \n",
    "    # summarize the new class distribution\n",
    "    counter = Counter(y)\n",
    "    print(\"Counter output after SMOTE:\", counter)\n",
    "    return X, y\n",
    "\n",
    "\n",
    "def run_classifier(_X_train, _Y_train, _X_val, _Y_val):\n",
    "    \n",
    "    model = keras.Sequential()\n",
    "    model.add(layers.LSTM(512, input_shape=(_X_train.shape[1], _X_train.shape[2]), \n",
    "                          return_sequences=True))\n",
    "    model.add(layers.Dropout(0.1))\n",
    "    model.add( layers.TimeDistributed(layers.Dense(256)) )\n",
    "    model.add(layers.Flatten())\n",
    "    model.add(layers.Dense(128))\n",
    "    model.add(layers.Dense(64))\n",
    "    model.add(layers.Dense(1, activation='sigmoid'))\n",
    "\n",
    "    model.summary()\n",
    "    model.compile(loss='binary_crossentropy', \n",
    "                  optimizer='adam', \n",
    "                  metrics=['accuracy']\n",
    "                 )\n",
    "    \n",
    "    \n",
    "    history = model.fit(_X_train, _Y_train,\n",
    "                        batch_size=512,\n",
    "                        epochs=4,\n",
    "                        verbose=True,\n",
    "                        validation_data=(_X_val, _Y_val)\n",
    "                        )\n",
    "    \n",
    "    return model, history\n",
    "\n",
    "\n",
    "model, history = run_classifier(X_train, Y_train, X_val, Y_val)"
   ]
  },
  {
   "cell_type": "code",
   "execution_count": 3,
   "metadata": {
    "scrolled": false
   },
   "outputs": [
    {
     "name": "stdout",
     "output_type": "stream",
     "text": [
      "              precision    recall  f1-score   support\n",
      "\n",
      "           0       1.00      1.00      1.00      3914\n",
      "           1       0.96      1.00      0.98        77\n",
      "\n",
      "    accuracy                           1.00      3991\n",
      "   macro avg       0.98      1.00      0.99      3991\n",
      "weighted avg       1.00      1.00      1.00      3991\n",
      "\n",
      "Confusion matrix:\n",
      "[[3911    3]\n",
      " [   0   77]]\n",
      "\n",
      "Confusion matrix (Percentages):\n",
      "[[9.7995e+01 7.5000e-02]\n",
      " [0.0000e+00 1.9290e+00]]\n",
      "\n",
      "Metrics:\n",
      "Sensitivity (TPR): 1.000000\n",
      "Specifity (TNR):   0.999234\n",
      "\n",
      "FPR: 0.000766\n",
      "FNR: 0.000000\n",
      "\n",
      "Balanced accuracy: 0.999617\n",
      "\n",
      "Test loss:\t0.002091\n",
      "Test accuracy:\t0.999248\n"
     ]
    },
    {
     "data": {
      "image/png": "[encoded data removed]",
      "text/plain": [
       "<Figure size 432x288 with 1 Axes>"
      ]
     },
     "metadata": {
      "needs_background": "light"
     },
     "output_type": "display_data"
    },
    {
     "data": {
      "image/png": "[encoded data removed]",
      "text/plain": [
       "<Figure size 432x288 with 1 Axes>"
      ]
     },
     "metadata": {
      "needs_background": "light"
     },
     "output_type": "display_data"
    }
   ],
   "source": [
    "def evaluate_classifier(_model, _history):\n",
    "    Y_pred = numpy.round(_model.predict(X_test))\n",
    "\n",
    "    print(classification_report(Y_test, Y_pred))\n",
    "    print_metrics(confusion_matrix(Y_test, Y_pred), Y_test)\n",
    "    print()\n",
    "    score = _model.evaluate(X_test, Y_test, verbose=False)\n",
    "    print('Test loss:\\t{:.6f}'.format(score[0]))\n",
    "    print('Test accuracy:\\t{:.6f}'.format(score[1]))\n",
    "\n",
    "    plot_loss(_history)\n",
    "    plot_accuracy(_history)\n",
    "\n",
    "\n",
    "evaluate_classifier(model, history)"
   ]
  },
  {
   "cell_type": "code",
   "execution_count": 9,
   "metadata": {},
   "outputs": [
    {
     "name": "stdout",
     "output_type": "stream",
     "text": [
      "INFO:tensorflow:Assets written to: LSTM_Var1_bert64_SMOTE/assets\n"
     ]
    }
   ],
   "source": [
    "model.save('LSTM_Var1_bert64_SMOTE')\n",
    "model.save('LSTM_Var1_bert64_SMOTE.h5')"
   ]
  },
  {
   "cell_type": "code",
   "execution_count": null,
   "metadata": {},
   "outputs": [],
   "source": []
  },
  {
   "cell_type": "code",
   "execution_count": null,
   "metadata": {},
   "outputs": [],
   "source": []
  },
  {
   "cell_type": "markdown",
   "metadata": {},
   "source": [
    "## Variant 2"
   ]
  },
  {
   "cell_type": "code",
   "execution_count": 5,
   "metadata": {},
   "outputs": [
    {
     "name": "stdout",
     "output_type": "stream",
     "text": [
      "Model: \"sequential_1\"\n",
      "_________________________________________________________________\n",
      "Layer (type)                 Output Shape              Param #   \n",
      "=================================================================\n",
      "lstm_1 (LSTM)                (None, 64, 64)            213248    \n",
      "_________________________________________________________________\n",
      "dropout_1 (Dropout)          (None, 64, 64)            0         \n",
      "_________________________________________________________________\n",
      "lstm_2 (LSTM)                (None, 64, 16)            5184      \n",
      "_________________________________________________________________\n",
      "time_distributed_1 (TimeDist (None, 64, 16)            272       \n",
      "_________________________________________________________________\n",
      "flatten_1 (Flatten)          (None, 1024)              0         \n",
      "_________________________________________________________________\n",
      "dense_5 (Dense)              (None, 1)                 1025      \n",
      "=================================================================\n",
      "Total params: 219,729\n",
      "Trainable params: 219,729\n",
      "Non-trainable params: 0\n",
      "_________________________________________________________________\n",
      "Epoch 1/4\n",
      "46/46 [==============================] - 4s 93ms/step - loss: 0.0830 - accuracy: 0.9798 - val_loss: 0.0186 - val_accuracy: 0.9935\n",
      "Epoch 2/4\n",
      "46/46 [==============================] - 3s 69ms/step - loss: 0.0113 - accuracy: 0.9966 - val_loss: 0.0040 - val_accuracy: 0.9982\n",
      "Epoch 3/4\n",
      "46/46 [==============================] - 3s 70ms/step - loss: 0.0057 - accuracy: 0.9981 - val_loss: 0.0026 - val_accuracy: 0.9985\n",
      "Epoch 4/4\n",
      "46/46 [==============================] - 5s 119ms/step - loss: 0.0046 - accuracy: 0.9983 - val_loss: 0.0033 - val_accuracy: 0.9985\n"
     ]
    }
   ],
   "source": [
    "def run_classifier(_X_train, _Y_train, _X_val, _Y_val):\n",
    "    \n",
    "    model = keras.Sequential()\n",
    "    model.add(layers.LSTM(64, input_shape=(_X_train.shape[1], _X_train.shape[2]), \n",
    "                          return_sequences=True))\n",
    "    model.add(layers.Dropout(0.1))\n",
    "    model.add(layers.LSTM(16, return_sequences=True))\n",
    "    model.add( layers.TimeDistributed(layers.Dense(16)) )\n",
    "    model.add(layers.Flatten())\n",
    "    model.add(layers.Dense(1, activation='sigmoid'))\n",
    "\n",
    "    model.summary()\n",
    "    model.compile(loss='binary_crossentropy', \n",
    "                  optimizer='adam', \n",
    "                  metrics=['accuracy']\n",
    "                 )\n",
    "    \n",
    "    \n",
    "    history = model.fit(_X_train, _Y_train,\n",
    "                        batch_size=512,\n",
    "                        epochs=4,\n",
    "                        verbose=True,\n",
    "                        validation_data=(_X_val, _Y_val)\n",
    "                        )\n",
    "    \n",
    "    return model, history\n",
    "\n",
    "\n",
    "modelv2, historyv2 = run_classifier(X_train, Y_train, X_val, Y_val)"
   ]
  },
  {
   "cell_type": "code",
   "execution_count": 6,
   "metadata": {},
   "outputs": [
    {
     "name": "stdout",
     "output_type": "stream",
     "text": [
      "              precision    recall  f1-score   support\n",
      "\n",
      "           0       1.00      1.00      1.00      3914\n",
      "           1       0.95      1.00      0.97        77\n",
      "\n",
      "    accuracy                           1.00      3991\n",
      "   macro avg       0.98      1.00      0.99      3991\n",
      "weighted avg       1.00      1.00      1.00      3991\n",
      "\n",
      "Confusion matrix:\n",
      "[[3910    4]\n",
      " [   0   77]]\n",
      "\n",
      "Confusion matrix (Percentages):\n",
      "[[97.97   0.1  ]\n",
      " [ 0.     1.929]]\n",
      "\n",
      "Metrics:\n",
      "Sensitivity (TPR): 1.000000\n",
      "Specifity (TNR):   0.998978\n",
      "\n",
      "FPR: 0.001022\n",
      "FNR: 0.000000\n",
      "\n",
      "Balanced accuracy: 0.999489\n",
      "\n",
      "Test loss:\t0.002409\n",
      "Test accuracy:\t0.998998\n"
     ]
    },
    {
     "data": {
      "image/png": "[encoded data removed]",
      "text/plain": [
       "<Figure size 432x288 with 1 Axes>"
      ]
     },
     "metadata": {
      "needs_background": "light"
     },
     "output_type": "display_data"
    },
    {
     "data": {
      "image/png": "[encoded data removed]",
      "text/plain": [
       "<Figure size 432x288 with 1 Axes>"
      ]
     },
     "metadata": {
      "needs_background": "light"
     },
     "output_type": "display_data"
    }
   ],
   "source": [
    "evaluate_classifier(modelv2, historyv2)"
   ]
  },
  {
   "cell_type": "code",
   "execution_count": 8,
   "metadata": {},
   "outputs": [
    {
     "name": "stdout",
     "output_type": "stream",
     "text": [
      "INFO:tensorflow:Assets written to: LSTM_Var2_bert64_SMOTE/assets\n"
     ]
    }
   ],
   "source": [
    "modelv2.save('LSTM_Var2_bert64_SMOTE')\n",
    "modelv2.save('LSTM_Var2_bert64_SMOTE.h5')"
   ]
  },
  {
   "cell_type": "code",
   "execution_count": null,
   "metadata": {},
   "outputs": [],
   "source": []
  },
  {
   "cell_type": "code",
   "execution_count": null,
   "metadata": {},
   "outputs": [],
   "source": []
  }
 ],
 "metadata": {
  "kernelspec": {
   "display_name": "Python 3.8",
   "language": "python",
   "name": "python38"
  },
  "language_info": {
   "codemirror_mode": {
    "name": "ipython",
    "version": 3
   },
   "file_extension": ".py",
   "mimetype": "text/x-python",
   "name": "python",
   "nbconvert_exporter": "python",
   "pygments_lexer": "ipython3",
   "version": "3.8.2"
  }
 },
 "nbformat": 4,
 "nbformat_minor": 2
}
