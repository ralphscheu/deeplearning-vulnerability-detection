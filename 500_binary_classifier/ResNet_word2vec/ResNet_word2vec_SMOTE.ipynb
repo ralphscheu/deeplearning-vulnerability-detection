{
 "cells": [
  {
   "cell_type": "markdown",
   "metadata": {},
   "source": [
    "# ResNet\n",
    "\n",
    "- **Training set**: LO_SARD102\n",
    "- **Test/Validation set:** LO_SARD102\n",
    "- **Features**: word2vec sequence\n",
    "- **Class imbalance processing**: SMOTE"
   ]
  },
  {
   "cell_type": "code",
   "execution_count": 1,
   "metadata": {},
   "outputs": [
    {
     "name": "stdout",
     "output_type": "stream",
     "text": [
      "Y_train:\n",
      "Counter({0.0: 95746, 1.0: 95746})\n",
      "(191492, 100, 100)\n",
      "(191492,)\n",
      "\n",
      "Y_val:\n",
      "Counter({0.0: 31975, 1.0: 1240})\n",
      "(33215, 100, 100)\n",
      "(33215,)\n",
      "\n",
      "Y_test:\n",
      "Counter({0.0: 31916, 1.0: 1299})\n",
      "(33215, 100, 100)\n",
      "(33215,)\n"
     ]
    }
   ],
   "source": [
    "import tensorflow as tf\n",
    "from tensorflow import keras\n",
    "from tensorflow.keras import layers\n",
    "from tensorflow.keras import applications\n",
    "from tensorflow.keras.utils import to_categorical\n",
    "import pandas as pd\n",
    "import numpy as np\n",
    "import matplotlib.pyplot as plt\n",
    "from helper_functions import *\n",
    "from sklearn.model_selection import train_test_split\n",
    "from collections import Counter\n",
    "from sklearn.metrics import classification_report\n",
    "\n",
    "X_train = np.load('/mnt/md0/user/scheuererra68323/LOSARD_w2vseq_SMOTE_X_train.npy', mmap_mode='r')\n",
    "Y_train = np.load('/mnt/md0/user/scheuererra68323/LOSARD_w2vseq_SMOTE_Y_train.npy', mmap_mode='r')\n",
    "\n",
    "X_val = numpy.load('/mnt/md0/user/scheuererra68323/LOSARD_w2vseq_X_val.npy', mmap_mode='r')\n",
    "Y_val = numpy.load('/mnt/md0/user/scheuererra68323/LOSARD_w2vseq_Y_val.npy', mmap_mode='r')\n",
    "\n",
    "X_test =  numpy.load('/mnt/md0/user/scheuererra68323/LOSARD_w2vseq_X_test.npy',  mmap_mode='r')\n",
    "Y_test =  numpy.load('/mnt/md0/user/scheuererra68323/LOSARD_w2vseq_Y_test.npy',  mmap_mode='r')\n",
    "\n",
    "print(\"Y_train:\")\n",
    "print(Counter(Y_train))\n",
    "print(X_train.shape)\n",
    "print(Y_train.shape)\n",
    "\n",
    "print(\"\\nY_val:\")\n",
    "print(Counter(Y_val))\n",
    "print(X_val.shape)\n",
    "print(Y_val.shape)\n",
    "\n",
    "print(\"\\nY_test:\")\n",
    "print(Counter(Y_test))\n",
    "print(X_test.shape)\n",
    "print(Y_test.shape)\n",
    "\n",
    "train_gen = ResNetDataGenerator(_X=X_train, _y=Y_train, batch_size=512)\n",
    "val_gen =   ResNetDataGenerator(_X=X_val,   _y=Y_val,   batch_size=512)\n",
    "test_gen =  ResNetDataGenerator(_X=X_test,  _y=Y_test,  batch_size=512)"
   ]
  },
  {
   "cell_type": "markdown",
   "metadata": {},
   "source": [
    "## Build & train keras model"
   ]
  },
  {
   "cell_type": "code",
   "execution_count": 2,
   "metadata": {
    "scrolled": true
   },
   "outputs": [
    {
     "name": "stdout",
     "output_type": "stream",
     "text": [
      "Epoch 1/8\n",
      "375/375 [==============================] - 192s 512ms/step - loss: 3.5788 - accuracy: 0.5508 - val_loss: 1.1111 - val_accuracy: 0.0665\n",
      "Epoch 2/8\n",
      "375/375 [==============================] - 192s 512ms/step - loss: 0.8936 - accuracy: 0.4985 - val_loss: 0.6864 - val_accuracy: 0.0721\n",
      "Epoch 3/8\n",
      "375/375 [==============================] - 192s 512ms/step - loss: 0.8838 - accuracy: 0.5059 - val_loss: 0.4663 - val_accuracy: 0.9604\n",
      "Epoch 4/8\n",
      "375/375 [==============================] - 192s 512ms/step - loss: 0.3775 - accuracy: 0.8324 - val_loss: 1.5823 - val_accuracy: 0.9542\n",
      "Epoch 5/8\n",
      "375/375 [==============================] - 192s 512ms/step - loss: 0.1218 - accuracy: 0.9729 - val_loss: 0.1666 - val_accuracy: 0.9592\n",
      "Epoch 6/8\n",
      "375/375 [==============================] - 192s 511ms/step - loss: 0.1620 - accuracy: 0.9485 - val_loss: 1.0677 - val_accuracy: 0.9294\n",
      "Epoch 7/8\n",
      "375/375 [==============================] - 192s 512ms/step - loss: 0.1950 - accuracy: 0.9558 - val_loss: 0.1873 - val_accuracy: 0.9574\n",
      "Epoch 8/8\n",
      "375/375 [==============================] - 192s 512ms/step - loss: 0.0911 - accuracy: 0.9784 - val_loss: 0.2083 - val_accuracy: 0.9564\n"
     ]
    }
   ],
   "source": [
    "# https://keras.io/api/applications/resnet/#resnet50-function\n",
    "model = applications.ResNet50(\n",
    "    include_top=True,\n",
    "    weights=None,\n",
    "    input_tensor=None,\n",
    "    input_shape=(100, 100, 1),\n",
    "    pooling=None,\n",
    "    classes=2\n",
    ")\n",
    "\n",
    "sgd = tf.keras.optimizers.SGD(learning_rate=0.1, momentum=0.95)\n",
    "model.compile(loss='categorical_crossentropy', optimizer=sgd, metrics=['accuracy'])\n",
    "\n",
    "history = model.fit(train_gen,\n",
    "                    epochs=8,\n",
    "                    verbose=True,\n",
    "                    validation_data=val_gen\n",
    "                   )"
   ]
  },
  {
   "cell_type": "markdown",
   "metadata": {},
   "source": [
    "## Evaluation"
   ]
  },
  {
   "cell_type": "code",
   "execution_count": 3,
   "metadata": {
    "scrolled": false
   },
   "outputs": [
    {
     "name": "stdout",
     "output_type": "stream",
     "text": [
      "WARNING:tensorflow:From <ipython-input-3-3b19a52e3ba0>:1: Model.predict_generator (from tensorflow.python.keras.engine.training) is deprecated and will be removed in a future version.\n",
      "Instructions for updating:\n",
      "Please use Model.predict, which supports generators.\n",
      "              precision    recall  f1-score   support\n",
      "\n",
      "         0.0       0.96      0.99      0.98     31916\n",
      "         1.0       0.20      0.05      0.08      1299\n",
      "\n",
      "    accuracy                           0.95     33215\n",
      "   macro avg       0.58      0.52      0.53     33215\n",
      "weighted avg       0.93      0.95      0.94     33215\n",
      "\n",
      "Confusion matrix:\n",
      "[[31654   262]\n",
      " [ 1235    64]]\n",
      "\n",
      "Confusion matrix (Percentages):\n",
      "[[95.3    0.789]\n",
      " [ 3.718  0.193]]\n",
      "\n",
      "Metrics:\n",
      "Sensitivity (TPR): 0.049269\n",
      "Specifity (TNR):   0.991791\n",
      "\n",
      "FPR: 0.008209\n",
      "FNR: 0.950731\n",
      "\n",
      "Balanced accuracy: 0.520530\n",
      "\n",
      "Test loss:\t0.214347\n",
      "Test accuracy:\t0.954930\n"
     ]
    },
    {
     "data": {
      "image/png": "[encoded data removed]",
      "text/plain": [
       "<Figure size 432x288 with 1 Axes>"
      ]
     },
     "metadata": {
      "needs_background": "light"
     },
     "output_type": "display_data"
    },
    {
     "data": {
      "image/png": "[encoded data removed]",
      "text/plain": [
       "<Figure size 432x288 with 1 Axes>"
      ]
     },
     "metadata": {
      "needs_background": "light"
     },
     "output_type": "display_data"
    }
   ],
   "source": [
    "Y_pred = numpy.argmax( model.predict_generator(test_gen) , axis=1 )\n",
    "\n",
    "print(classification_report(Y_test, Y_pred))\n",
    "print_metrics(confusion_matrix(Y_test, Y_pred), Y_test)\n",
    "print()\n",
    "score = model.evaluate(test_gen, verbose=False)\n",
    "print('Test loss:\\t{:.6f}'.format(score[0]))\n",
    "print('Test accuracy:\\t{:.6f}'.format(score[1]))\n",
    "\n",
    "plot_loss(history)\n",
    "plot_accuracy(history)"
   ]
  },
  {
   "cell_type": "code",
   "execution_count": 4,
   "metadata": {},
   "outputs": [],
   "source": [
    "model.save('ResNet_word2vec_SMOTE.h5')"
   ]
  },
  {
   "cell_type": "code",
   "execution_count": null,
   "metadata": {},
   "outputs": [],
   "source": []
  }
 ],
 "metadata": {
  "kernelspec": {
   "display_name": "Python 3.8",
   "language": "python",
   "name": "python38"
  },
  "language_info": {
   "codemirror_mode": {
    "name": "ipython",
    "version": 3
   },
   "file_extension": ".py",
   "mimetype": "text/x-python",
   "name": "python",
   "nbconvert_exporter": "python",
   "pygments_lexer": "ipython3",
   "version": "3.8.2"
  }
 },
 "nbformat": 4,
 "nbformat_minor": 2
}
