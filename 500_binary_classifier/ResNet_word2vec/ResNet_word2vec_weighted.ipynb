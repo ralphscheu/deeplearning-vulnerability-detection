{
 "cells": [
  {
   "cell_type": "markdown",
   "metadata": {},
   "source": [
    "# ResNet\n",
    "\n",
    "- **Training set**: LO_SARD102\n",
    "- **Test/Validation set:** LO_SARD102\n",
    "- **Features**: word2vec sequence (100)\n",
    "- **Class imbalance processing**: weights"
   ]
  },
  {
   "cell_type": "code",
   "execution_count": 3,
   "metadata": {
    "scrolled": true
   },
   "outputs": [
    {
     "name": "stdout",
     "output_type": "stream",
     "text": [
      "class weights: {0: 0.5203559417625802, 1: 12.781426372498716}\n",
      "\n",
      "Y_train:\n",
      "Counter({0.0: 95746, 1.0: 3898})\n",
      "(99644, 100, 100)\n",
      "(99644,)\n",
      "\n",
      "Y_val:\n",
      "Counter({0.0: 31975, 1.0: 1240})\n",
      "(33215, 100, 100)\n",
      "(33215,)\n",
      "\n",
      "Y_test:\n",
      "Counter({0.0: 31916, 1.0: 1299})\n",
      "(33215, 100, 100)\n",
      "(33215,)\n"
     ]
    }
   ],
   "source": [
    "import tensorflow as tf\n",
    "from tensorflow import keras\n",
    "from tensorflow.keras import layers\n",
    "from tensorflow.keras import applications\n",
    "from tensorflow.keras.utils import to_categorical\n",
    "import pandas as pd\n",
    "import numpy as np\n",
    "import matplotlib.pyplot as plt\n",
    "from helper_functions import *\n",
    "from sklearn.model_selection import train_test_split\n",
    "from collections import Counter\n",
    "from sklearn.metrics import classification_report\n",
    "\n",
    "X_train = numpy.load('/mnt/md0/user/scheuererra68323/LOSARD_w2vseq_X_train.npy', mmap_mode='r')\n",
    "Y_train = numpy.load('/mnt/md0/user/scheuererra68323/LOSARD_w2vseq_Y_train.npy', mmap_mode='r')\n",
    "\n",
    "X_val = numpy.load('/mnt/md0/user/scheuererra68323/LOSARD_w2vseq_X_val.npy', mmap_mode='r')\n",
    "Y_val = numpy.load('/mnt/md0/user/scheuererra68323/LOSARD_w2vseq_Y_val.npy', mmap_mode='r')\n",
    "\n",
    "X_test =  numpy.load('/mnt/md0/user/scheuererra68323/LOSARD_w2vseq_X_test.npy',  mmap_mode='r')\n",
    "Y_test =  numpy.load('/mnt/md0/user/scheuererra68323/LOSARD_w2vseq_Y_test.npy',  mmap_mode='r')\n",
    "\n",
    "classWeights = numpy.load('/mnt/md0/user/scheuererra68323/LOSARD_w2vseq_weights_train.npy')\n",
    "classWeights = { 0: classWeights[0], 1: classWeights[1] }\n",
    "print(f\"class weights: {classWeights}\\n\")\n",
    "\n",
    "print(\"Y_train:\")\n",
    "print(Counter(Y_train))\n",
    "print(X_train.shape)\n",
    "print(Y_train.shape)\n",
    "\n",
    "print(\"\\nY_val:\")\n",
    "print(Counter(Y_val))\n",
    "print(X_val.shape)\n",
    "print(Y_val.shape)\n",
    "\n",
    "print(\"\\nY_test:\")\n",
    "print(Counter(Y_test))\n",
    "print(X_test.shape)\n",
    "print(Y_test.shape)\n",
    "\n",
    "train_gen = ResNetDataGenerator(_X=X_train, _y=Y_train, batch_size=512)\n",
    "val_gen =   ResNetDataGenerator(_X=X_val,   _y=Y_val,   batch_size=512)\n",
    "test_gen =  ResNetDataGenerator(_X=X_test,  _y=Y_test,  batch_size=512)"
   ]
  },
  {
   "cell_type": "markdown",
   "metadata": {},
   "source": [
    "## Build & train keras model"
   ]
  },
  {
   "cell_type": "code",
   "execution_count": 4,
   "metadata": {
    "scrolled": true
   },
   "outputs": [
    {
     "name": "stdout",
     "output_type": "stream",
     "text": [
      "Epoch 1/8\n",
      "195/195 [==============================] - 105s 541ms/step - loss: 1.3184 - accuracy: 0.5364 - val_loss: 106211.7344 - val_accuracy: 0.9193\n",
      "Epoch 2/8\n",
      "195/195 [==============================] - 104s 535ms/step - loss: 0.4997 - accuracy: 0.7566 - val_loss: 0.8038 - val_accuracy: 0.6639\n",
      "Epoch 3/8\n",
      "195/195 [==============================] - 104s 536ms/step - loss: 0.1066 - accuracy: 0.9675 - val_loss: 0.0906 - val_accuracy: 0.9632\n",
      "Epoch 4/8\n",
      "195/195 [==============================] - 104s 535ms/step - loss: 0.0669 - accuracy: 0.9862 - val_loss: 0.0118 - val_accuracy: 0.9980\n",
      "Epoch 5/8\n",
      "195/195 [==============================] - 104s 535ms/step - loss: 0.0516 - accuracy: 0.9895 - val_loss: 0.0773 - val_accuracy: 0.9716\n",
      "Epoch 6/8\n",
      "195/195 [==============================] - 104s 535ms/step - loss: 0.0357 - accuracy: 0.9929 - val_loss: 0.0097 - val_accuracy: 0.9967\n",
      "Epoch 7/8\n",
      "195/195 [==============================] - 104s 535ms/step - loss: 0.0311 - accuracy: 0.9933 - val_loss: 0.0091 - val_accuracy: 0.9969\n",
      "Epoch 8/8\n",
      "195/195 [==============================] - 104s 534ms/step - loss: 0.0241 - accuracy: 0.9943 - val_loss: 0.0571 - val_accuracy: 0.9866\n"
     ]
    }
   ],
   "source": [
    "# https://keras.io/api/applications/resnet/#resnet50-function\n",
    "model = applications.ResNet50(\n",
    "    include_top=True,\n",
    "    weights=None,\n",
    "    input_tensor=None,\n",
    "    input_shape=(100, 100, 1),\n",
    "    pooling=None,\n",
    "    classes=2\n",
    ")\n",
    "\n",
    "sgd = tf.keras.optimizers.SGD(learning_rate=0.1, momentum=0.95)\n",
    "model.compile(loss='categorical_crossentropy', optimizer=sgd, metrics=['accuracy'])\n",
    "\n",
    "history = model.fit(train_gen,\n",
    "                    epochs=8,\n",
    "                    verbose=True,\n",
    "                    validation_data=val_gen,\n",
    "                    class_weight=classWeights\n",
    "                   )"
   ]
  },
  {
   "cell_type": "markdown",
   "metadata": {},
   "source": [
    "## Evaluation"
   ]
  },
  {
   "cell_type": "code",
   "execution_count": 5,
   "metadata": {
    "scrolled": false
   },
   "outputs": [
    {
     "name": "stdout",
     "output_type": "stream",
     "text": [
      "              precision    recall  f1-score   support\n",
      "\n",
      "         0.0       1.00      0.99      0.99     31916\n",
      "         1.0       0.74      1.00      0.85      1299\n",
      "\n",
      "    accuracy                           0.99     33215\n",
      "   macro avg       0.87      0.99      0.92     33215\n",
      "weighted avg       0.99      0.99      0.99     33215\n",
      "\n",
      "Confusion matrix:\n",
      "[[31468   448]\n",
      " [    6  1293]]\n",
      "\n",
      "Confusion matrix (Percentages):\n",
      "[[9.474e+01 1.349e+00]\n",
      " [1.800e-02 3.893e+00]]\n",
      "\n",
      "Metrics:\n",
      "Sensitivity (TPR): 0.995381\n",
      "Specifity (TNR):   0.985963\n",
      "\n",
      "FPR: 0.014037\n",
      "FNR: 0.004619\n",
      "\n",
      "Balanced accuracy: 0.990672\n",
      "\n",
      "Test loss:\t0.057563\n",
      "Test accuracy:\t0.986331\n"
     ]
    },
    {
     "data": {
      "image/png": "[encoded data removed]",
      "text/plain": [
       "<Figure size 432x288 with 1 Axes>"
      ]
     },
     "metadata": {
      "needs_background": "light"
     },
     "output_type": "display_data"
    },
    {
     "data": {
      "image/png": "[encoded data removed]",
      "text/plain": [
       "<Figure size 432x288 with 1 Axes>"
      ]
     },
     "metadata": {
      "needs_background": "light"
     },
     "output_type": "display_data"
    }
   ],
   "source": [
    "Y_pred = numpy.argmax( model.predict(test_gen) , axis=1 )\n",
    "\n",
    "print(classification_report(Y_test, Y_pred))\n",
    "print_metrics(confusion_matrix(Y_test, Y_pred), Y_test)\n",
    "print()\n",
    "score = model.evaluate(test_gen, verbose=False)\n",
    "print('Test loss:\\t{:.6f}'.format(score[0]))\n",
    "print('Test accuracy:\\t{:.6f}'.format(score[1]))\n",
    "\n",
    "plot_loss(history)\n",
    "plot_accuracy(history)"
   ]
  },
  {
   "cell_type": "code",
   "execution_count": 6,
   "metadata": {},
   "outputs": [],
   "source": [
    "model.save('ResNet_word2vec_weighted.h5')"
   ]
  },
  {
   "cell_type": "code",
   "execution_count": null,
   "metadata": {},
   "outputs": [],
   "source": []
  }
 ],
 "metadata": {
  "kernelspec": {
   "display_name": "Python 3.8",
   "language": "python",
   "name": "python38"
  },
  "language_info": {
   "codemirror_mode": {
    "name": "ipython",
    "version": 3
   },
   "file_extension": ".py",
   "mimetype": "text/x-python",
   "name": "python",
   "nbconvert_exporter": "python",
   "pygments_lexer": "ipython3",
   "version": "3.8.2"
  }
 },
 "nbformat": 4,
 "nbformat_minor": 2
}
