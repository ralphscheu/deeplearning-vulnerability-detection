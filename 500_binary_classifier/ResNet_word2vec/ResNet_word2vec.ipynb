{
 "cells": [
  {
   "cell_type": "markdown",
   "metadata": {},
   "source": [
    "# ResNet\n",
    "\n",
    "- **Training set**: LO_SARD102\n",
    "- **Test/Validation set:** LO_SARD102\n",
    "- **Features**: word2vec sequence (100)\n",
    "- **Class imbalance processing**: None"
   ]
  },
  {
   "cell_type": "code",
   "execution_count": 3,
   "metadata": {},
   "outputs": [
    {
     "name": "stdout",
     "output_type": "stream",
     "text": [
      "class weights: [ 0.52035594 12.78142637]\n",
      "\n",
      "Y_train:\n",
      "Counter({0.0: 95746, 1.0: 3898})\n",
      "(99644, 100, 100)\n",
      "(99644,)\n",
      "\n",
      "Y_val:\n",
      "Counter({0.0: 31975, 1.0: 1240})\n",
      "(33215, 100, 100)\n",
      "(33215,)\n",
      "\n",
      "Y_test:\n",
      "Counter({0.0: 31916, 1.0: 1299})\n",
      "(33215, 100, 100)\n",
      "(33215,)\n"
     ]
    }
   ],
   "source": [
    "import tensorflow as tf\n",
    "from tensorflow import keras\n",
    "from tensorflow.keras import layers\n",
    "from tensorflow.keras import applications\n",
    "from tensorflow.keras.utils import to_categorical\n",
    "import pandas as pd\n",
    "import numpy as np\n",
    "import matplotlib.pyplot as plt\n",
    "from helper_functions import *\n",
    "from sklearn.model_selection import train_test_split\n",
    "from collections import Counter\n",
    "from sklearn.metrics import classification_report\n",
    "\n",
    "X_train = numpy.load('/mnt/md0/user/scheuererra68323/LOSARD_w2vseq_X_train.npy', mmap_mode='r')\n",
    "Y_train = numpy.load('/mnt/md0/user/scheuererra68323/LOSARD_w2vseq_Y_train.npy', mmap_mode='r')\n",
    "\n",
    "X_val = numpy.load('/mnt/md0/user/scheuererra68323/LOSARD_w2vseq_X_val.npy', mmap_mode='r')\n",
    "Y_val = numpy.load('/mnt/md0/user/scheuererra68323/LOSARD_w2vseq_Y_val.npy', mmap_mode='r')\n",
    "\n",
    "X_test =  numpy.load('/mnt/md0/user/scheuererra68323/LOSARD_w2vseq_X_test.npy',  mmap_mode='r')\n",
    "Y_test =  numpy.load('/mnt/md0/user/scheuererra68323/LOSARD_w2vseq_Y_test.npy',  mmap_mode='r')\n",
    "\n",
    "classWeights = numpy.load('/mnt/md0/user/scheuererra68323/LOSARD_w2vseq_weights_train.npy')\n",
    "print(f\"class weights: {classWeights}\\n\")\n",
    "\n",
    "print(\"Y_train:\")\n",
    "print(Counter(Y_train))\n",
    "print(X_train.shape)\n",
    "print(Y_train.shape)\n",
    "\n",
    "print(\"\\nY_val:\")\n",
    "print(Counter(Y_val))\n",
    "print(X_val.shape)\n",
    "print(Y_val.shape)\n",
    "\n",
    "print(\"\\nY_test:\")\n",
    "print(Counter(Y_test))\n",
    "print(X_test.shape)\n",
    "print(Y_test.shape)\n",
    "\n",
    "train_gen = ResNetDataGenerator(_X=X_train, _y=Y_train, batch_size=512)\n",
    "val_gen =   ResNetDataGenerator(_X=X_val,   _y=Y_val,   batch_size=512)\n",
    "test_gen =  ResNetDataGenerator(_X=X_test,  _y=Y_test,  batch_size=512)"
   ]
  },
  {
   "cell_type": "markdown",
   "metadata": {},
   "source": [
    "## Build & train keras model"
   ]
  },
  {
   "cell_type": "code",
   "execution_count": 5,
   "metadata": {
    "scrolled": true
   },
   "outputs": [
    {
     "name": "stdout",
     "output_type": "stream",
     "text": [
      "Epoch 1/8\n",
      "195/195 [==============================] - 106s 542ms/step - loss: 0.3365 - accuracy: 0.9561 - val_loss: 77590.3125 - val_accuracy: 0.9627\n",
      "Epoch 2/8\n",
      "195/195 [==============================] - 104s 536ms/step - loss: 0.1629 - accuracy: 0.9609 - val_loss: 0.1574 - val_accuracy: 0.9627\n",
      "Epoch 3/8\n",
      "195/195 [==============================] - 104s 536ms/step - loss: 0.1622 - accuracy: 0.9609 - val_loss: 0.1562 - val_accuracy: 0.9627\n",
      "Epoch 4/8\n",
      "195/195 [==============================] - 105s 537ms/step - loss: 0.1588 - accuracy: 0.9609 - val_loss: 0.1585 - val_accuracy: 0.9627\n",
      "Epoch 5/8\n",
      "195/195 [==============================] - 105s 537ms/step - loss: 0.0698 - accuracy: 0.9785 - val_loss: 0.0515 - val_accuracy: 0.9773\n",
      "Epoch 6/8\n",
      "195/195 [==============================] - 105s 536ms/step - loss: 0.0156 - accuracy: 0.9968 - val_loss: 0.1146 - val_accuracy: 0.9746\n",
      "Epoch 7/8\n",
      "195/195 [==============================] - 105s 538ms/step - loss: 0.0090 - accuracy: 0.9984 - val_loss: 0.0266 - val_accuracy: 0.9984\n",
      "Epoch 8/8\n",
      "195/195 [==============================] - 105s 538ms/step - loss: 0.0072 - accuracy: 0.9987 - val_loss: 0.0379 - val_accuracy: 0.9944\n"
     ]
    }
   ],
   "source": [
    "# https://keras.io/api/applications/resnet/#resnet50-function\n",
    "model = applications.ResNet50(\n",
    "    include_top=True,\n",
    "    weights=None,\n",
    "    input_tensor=None,\n",
    "    input_shape=(100, 100, 1),\n",
    "    pooling=None,\n",
    "    classes=2\n",
    ")\n",
    "\n",
    "sgd = tf.keras.optimizers.SGD(learning_rate=0.1, momentum=0.95)\n",
    "model.compile(loss='categorical_crossentropy', optimizer=sgd, metrics=['accuracy'])\n",
    "\n",
    "history = model.fit(train_gen,\n",
    "                    epochs=8,\n",
    "                    verbose=True,\n",
    "                    validation_data=val_gen\n",
    "                   )"
   ]
  },
  {
   "cell_type": "markdown",
   "metadata": {},
   "source": [
    "## Evaluation"
   ]
  },
  {
   "cell_type": "code",
   "execution_count": 6,
   "metadata": {
    "scrolled": false
   },
   "outputs": [
    {
     "name": "stdout",
     "output_type": "stream",
     "text": [
      "WARNING:tensorflow:From <ipython-input-6-3b19a52e3ba0>:1: Model.predict_generator (from tensorflow.python.keras.engine.training) is deprecated and will be removed in a future version.\n",
      "Instructions for updating:\n",
      "Please use Model.predict, which supports generators.\n",
      "              precision    recall  f1-score   support\n",
      "\n",
      "         0.0       1.00      0.99      1.00     31916\n",
      "         1.0       0.88      0.99      0.93      1299\n",
      "\n",
      "    accuracy                           0.99     33215\n",
      "   macro avg       0.94      0.99      0.96     33215\n",
      "weighted avg       0.99      0.99      0.99     33215\n",
      "\n",
      "Confusion matrix:\n",
      "[[31738   178]\n",
      " [   12  1287]]\n",
      "\n",
      "Confusion matrix (Percentages):\n",
      "[[9.5553e+01 5.3600e-01]\n",
      " [3.6000e-02 3.8750e+00]]\n",
      "\n",
      "Metrics:\n",
      "Sensitivity (TPR): 0.990762\n",
      "Specifity (TNR):   0.994423\n",
      "\n",
      "FPR: 0.005577\n",
      "FNR: 0.009238\n",
      "\n",
      "Balanced accuracy: 0.992592\n",
      "\n",
      "Test loss:\t0.038905\n",
      "Test accuracy:\t0.994280\n"
     ]
    },
    {
     "data": {
      "image/png": "[encoded data removed]",
      "text/plain": [
       "<Figure size 432x288 with 1 Axes>"
      ]
     },
     "metadata": {
      "needs_background": "light"
     },
     "output_type": "display_data"
    },
    {
     "data": {
      "image/png": "[encoded data removed]",
      "text/plain": [
       "<Figure size 432x288 with 1 Axes>"
      ]
     },
     "metadata": {
      "needs_background": "light"
     },
     "output_type": "display_data"
    }
   ],
   "source": [
    "Y_pred = numpy.argmax( model.predict_generator(test_gen) , axis=1 )\n",
    "\n",
    "print(classification_report(Y_test, Y_pred))\n",
    "print_metrics(confusion_matrix(Y_test, Y_pred), Y_test)\n",
    "print()\n",
    "score = model.evaluate(test_gen, verbose=False)\n",
    "print('Test loss:\\t{:.6f}'.format(score[0]))\n",
    "print('Test accuracy:\\t{:.6f}'.format(score[1]))\n",
    "\n",
    "plot_loss(history)\n",
    "plot_accuracy(history)"
   ]
  },
  {
   "cell_type": "code",
   "execution_count": 1,
   "metadata": {},
   "outputs": [
    {
     "ename": "NameError",
     "evalue": "name 'model' is not defined",
     "output_type": "error",
     "traceback": [
      "\u001b[0;31m---------------------------------------------------------------------------\u001b[0m",
      "\u001b[0;31mNameError\u001b[0m                                 Traceback (most recent call last)",
      "\u001b[0;32m<ipython-input-1-61d258b80aad>\u001b[0m in \u001b[0;36m<module>\u001b[0;34m\u001b[0m\n\u001b[0;32m----> 1\u001b[0;31m \u001b[0mmodel\u001b[0m\u001b[0;34m.\u001b[0m\u001b[0msave\u001b[0m\u001b[0;34m(\u001b[0m\u001b[0;34m'ResNet_word2vec_weighted.h5'\u001b[0m\u001b[0;34m)\u001b[0m\u001b[0;34m\u001b[0m\u001b[0;34m\u001b[0m\u001b[0m\n\u001b[0m",
      "\u001b[0;31mNameError\u001b[0m: name 'model' is not defined"
     ]
    }
   ],
   "source": [
    "model.save('ResNet_word2vec.h5')"
   ]
  },
  {
   "cell_type": "code",
   "execution_count": null,
   "metadata": {},
   "outputs": [],
   "source": []
  }
 ],
 "metadata": {
  "kernelspec": {
   "display_name": "Python 3.8",
   "language": "python",
   "name": "python38"
  },
  "language_info": {
   "codemirror_mode": {
    "name": "ipython",
    "version": 3
   },
   "file_extension": ".py",
   "mimetype": "text/x-python",
   "name": "python",
   "nbconvert_exporter": "python",
   "pygments_lexer": "ipython3",
   "version": "3.8.2"
  }
 },
 "nbformat": 4,
 "nbformat_minor": 2
}
