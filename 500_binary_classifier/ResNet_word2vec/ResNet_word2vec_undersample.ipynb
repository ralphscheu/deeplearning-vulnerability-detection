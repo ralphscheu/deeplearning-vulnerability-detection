{
 "cells": [
  {
   "cell_type": "markdown",
   "metadata": {},
   "source": [
    "# ResNet\n",
    "\n",
    "- **Training set**: LO_SARD102\n",
    "- **Test/Validation set:** LO_SARD102\n",
    "- **Features**: word2vec sequence (100)\n",
    "- **Class imbalance processing**: undersampling"
   ]
  },
  {
   "cell_type": "code",
   "execution_count": 1,
   "metadata": {
    "scrolled": false
   },
   "outputs": [
    {
     "name": "stdout",
     "output_type": "stream",
     "text": [
      "Y_train:\n",
      "Counter({1.0: 3898, 0.0: 3898})\n",
      "(7796, 100, 100)\n",
      "(7796,)\n",
      "\n",
      "Y_val:\n",
      "Counter({0.0: 31975, 1.0: 1240})\n",
      "(33215, 100, 100)\n",
      "(33215,)\n",
      "\n",
      "Y_test:\n",
      "Counter({0.0: 31916, 1.0: 1299})\n",
      "(33215, 100, 100)\n",
      "(33215,)\n"
     ]
    }
   ],
   "source": [
    "import tensorflow as tf\n",
    "from tensorflow import keras\n",
    "from tensorflow.keras import layers\n",
    "from tensorflow.keras import applications\n",
    "from tensorflow.keras.utils import to_categorical\n",
    "import pandas as pd\n",
    "import numpy as np\n",
    "import matplotlib.pyplot as plt\n",
    "from helper_functions import *\n",
    "from sklearn.model_selection import train_test_split\n",
    "from collections import Counter\n",
    "from sklearn.metrics import classification_report\n",
    "\n",
    "X_train = numpy.load('/mnt/md0/user/scheuererra68323/LOSARD_w2vseq_undersample_X_train.npy', mmap_mode='r')\n",
    "Y_train = numpy.load('/mnt/md0/user/scheuererra68323/LOSARD_w2vseq_undersample_Y_train.npy', mmap_mode='r')\n",
    "\n",
    "X_val = numpy.load('/mnt/md0/user/scheuererra68323/LOSARD_w2vseq_X_val.npy', mmap_mode='r')\n",
    "Y_val = numpy.load('/mnt/md0/user/scheuererra68323/LOSARD_w2vseq_Y_val.npy', mmap_mode='r')\n",
    "\n",
    "X_test =  numpy.load('/mnt/md0/user/scheuererra68323/LOSARD_w2vseq_X_test.npy',  mmap_mode='r')\n",
    "Y_test =  numpy.load('/mnt/md0/user/scheuererra68323/LOSARD_w2vseq_Y_test.npy',  mmap_mode='r')\n",
    "\n",
    "print(\"Y_train:\")\n",
    "print(Counter(Y_train))\n",
    "print(X_train.shape)\n",
    "print(Y_train.shape)\n",
    "\n",
    "print(\"\\nY_val:\")\n",
    "print(Counter(Y_val))\n",
    "print(X_val.shape)\n",
    "print(Y_val.shape)\n",
    "\n",
    "print(\"\\nY_test:\")\n",
    "print(Counter(Y_test))\n",
    "print(X_test.shape)\n",
    "print(Y_test.shape)\n",
    "\n",
    "train_gen = ResNetDataGenerator(_X=X_train, _y=Y_train, batch_size=512)\n",
    "val_gen =   ResNetDataGenerator(_X=X_val,   _y=Y_val,   batch_size=512)\n",
    "test_gen =  ResNetDataGenerator(_X=X_test,  _y=Y_test,  batch_size=512)"
   ]
  },
  {
   "cell_type": "markdown",
   "metadata": {},
   "source": [
    "## Build & train keras model"
   ]
  },
  {
   "cell_type": "code",
   "execution_count": 5,
   "metadata": {
    "scrolled": true
   },
   "outputs": [
    {
     "name": "stdout",
     "output_type": "stream",
     "text": [
      "Epoch 1/32\n",
      "16/16 [==============================] - 17s 1s/step - loss: 2.2174 - accuracy: 0.7192 - val_loss: 2220330.5000 - val_accuracy: 0.0373\n",
      "Epoch 2/32\n",
      "16/16 [==============================] - 17s 1s/step - loss: 0.1937 - accuracy: 0.9282 - val_loss: 2774876.7500 - val_accuracy: 0.0373\n",
      "Epoch 3/32\n",
      "16/16 [==============================] - 17s 1s/step - loss: 0.0958 - accuracy: 0.9709 - val_loss: 747940.7500 - val_accuracy: 0.0373\n",
      "Epoch 4/32\n",
      "16/16 [==============================] - 17s 1s/step - loss: 0.0511 - accuracy: 0.9895 - val_loss: 134352.5156 - val_accuracy: 0.0373\n",
      "Epoch 5/32\n",
      "16/16 [==============================] - 17s 1s/step - loss: 0.0381 - accuracy: 0.9922 - val_loss: 30118.8809 - val_accuracy: 0.0373\n",
      "Epoch 6/32\n",
      "16/16 [==============================] - 17s 1s/step - loss: 0.0293 - accuracy: 0.9929 - val_loss: 8685.9346 - val_accuracy: 0.0374\n",
      "Epoch 7/32\n",
      "16/16 [==============================] - 17s 1s/step - loss: 0.0224 - accuracy: 0.9953 - val_loss: 2967.6069 - val_accuracy: 0.0434\n",
      "Epoch 8/32\n",
      "16/16 [==============================] - 17s 1s/step - loss: 0.0158 - accuracy: 0.9963 - val_loss: 1206.2224 - val_accuracy: 0.1261\n",
      "Epoch 9/32\n",
      "16/16 [==============================] - 17s 1s/step - loss: 0.0134 - accuracy: 0.9976 - val_loss: 543.3465 - val_accuracy: 0.1741\n",
      "Epoch 10/32\n",
      "16/16 [==============================] - 17s 1s/step - loss: 0.0161 - accuracy: 0.9973 - val_loss: 202.2664 - val_accuracy: 0.3049\n",
      "Epoch 11/32\n",
      "16/16 [==============================] - 17s 1s/step - loss: 0.0149 - accuracy: 0.9967 - val_loss: 125.1582 - val_accuracy: 0.3542\n",
      "Epoch 12/32\n",
      "16/16 [==============================] - 17s 1s/step - loss: 0.0118 - accuracy: 0.9976 - val_loss: 60.7184 - val_accuracy: 0.4710\n",
      "Epoch 13/32\n",
      "16/16 [==============================] - 17s 1s/step - loss: 0.0072 - accuracy: 0.9987 - val_loss: 23.6646 - val_accuracy: 0.6201\n",
      "Epoch 14/32\n",
      "16/16 [==============================] - 17s 1s/step - loss: 0.0050 - accuracy: 0.9982 - val_loss: 6.3112 - val_accuracy: 0.8138\n",
      "Epoch 15/32\n",
      "16/16 [==============================] - 17s 1s/step - loss: 0.0033 - accuracy: 0.9992 - val_loss: 2.4362 - val_accuracy: 0.9078\n",
      "Epoch 16/32\n",
      "16/16 [==============================] - 17s 1s/step - loss: 0.0022 - accuracy: 0.9992 - val_loss: 1.0281 - val_accuracy: 0.9523\n",
      "Epoch 17/32\n",
      "16/16 [==============================] - 17s 1s/step - loss: 0.0026 - accuracy: 0.9991 - val_loss: 0.5153 - val_accuracy: 0.9691\n",
      "Epoch 18/32\n",
      "16/16 [==============================] - 17s 1s/step - loss: 0.0047 - accuracy: 0.9990 - val_loss: 0.1845 - val_accuracy: 0.9796\n",
      "Epoch 19/32\n",
      "16/16 [==============================] - 17s 1s/step - loss: 0.0022 - accuracy: 0.9994 - val_loss: 0.1066 - val_accuracy: 0.9867\n",
      "Epoch 20/32\n",
      "16/16 [==============================] - 17s 1s/step - loss: 0.0018 - accuracy: 0.9995 - val_loss: 0.0755 - val_accuracy: 0.9891\n",
      "Epoch 21/32\n",
      "16/16 [==============================] - 17s 1s/step - loss: 0.0021 - accuracy: 0.9990 - val_loss: 0.0406 - val_accuracy: 0.9929\n",
      "Epoch 22/32\n",
      "16/16 [==============================] - 17s 1s/step - loss: 0.0026 - accuracy: 0.9992 - val_loss: 0.0315 - val_accuracy: 0.9940\n",
      "Epoch 23/32\n",
      "16/16 [==============================] - 17s 1s/step - loss: 0.0027 - accuracy: 0.9991 - val_loss: 0.0222 - val_accuracy: 0.9961\n",
      "Epoch 24/32\n",
      "16/16 [==============================] - 17s 1s/step - loss: 0.0027 - accuracy: 0.9991 - val_loss: 0.0134 - val_accuracy: 0.9983\n",
      "Epoch 25/32\n",
      "16/16 [==============================] - 17s 1s/step - loss: 0.0016 - accuracy: 0.9994 - val_loss: 0.0157 - val_accuracy: 0.9980\n",
      "Epoch 26/32\n",
      "16/16 [==============================] - 17s 1s/step - loss: 0.0017 - accuracy: 0.9994 - val_loss: 0.0171 - val_accuracy: 0.9980\n",
      "Epoch 27/32\n",
      "16/16 [==============================] - 17s 1s/step - loss: 0.0017 - accuracy: 0.9992 - val_loss: 0.0168 - val_accuracy: 0.9979\n",
      "Epoch 28/32\n",
      "16/16 [==============================] - 17s 1s/step - loss: 0.0013 - accuracy: 0.9995 - val_loss: 0.0161 - val_accuracy: 0.9980\n",
      "Epoch 29/32\n",
      "16/16 [==============================] - 17s 1s/step - loss: 0.0023 - accuracy: 0.9992 - val_loss: 0.0140 - val_accuracy: 0.9981\n",
      "Epoch 30/32\n",
      "16/16 [==============================] - 17s 1s/step - loss: 0.0014 - accuracy: 0.9994 - val_loss: 0.0178 - val_accuracy: 0.9978\n",
      "Epoch 31/32\n",
      "16/16 [==============================] - 17s 1s/step - loss: 0.0028 - accuracy: 0.9991 - val_loss: 0.0178 - val_accuracy: 0.9974\n",
      "Epoch 32/32\n",
      "16/16 [==============================] - 17s 1s/step - loss: 0.0024 - accuracy: 0.9991 - val_loss: 0.0154 - val_accuracy: 0.9979\n"
     ]
    }
   ],
   "source": [
    "# https://keras.io/api/applications/resnet/#resnet50-function\n",
    "model = applications.ResNet50(\n",
    "    include_top=True,\n",
    "    weights=None,\n",
    "    input_tensor=None,\n",
    "    input_shape=(100, 100, 1),\n",
    "    pooling=None,\n",
    "    classes=2\n",
    ")\n",
    "\n",
    "sgd = tf.keras.optimizers.SGD(learning_rate=0.01, momentum=0.95)\n",
    "model.compile(loss='categorical_crossentropy', optimizer=sgd, metrics=['accuracy'])\n",
    "\n",
    "history = model.fit(train_gen,\n",
    "                    epochs=32,\n",
    "                    verbose=True,\n",
    "                    validation_data=val_gen\n",
    "                   )"
   ]
  },
  {
   "cell_type": "markdown",
   "metadata": {},
   "source": [
    "## Evaluation"
   ]
  },
  {
   "cell_type": "code",
   "execution_count": 6,
   "metadata": {
    "scrolled": false
   },
   "outputs": [
    {
     "name": "stdout",
     "output_type": "stream",
     "text": [
      "              precision    recall  f1-score   support\n",
      "\n",
      "         0.0       1.00      1.00      1.00     31916\n",
      "         1.0       0.95      0.99      0.97      1299\n",
      "\n",
      "    accuracy                           1.00     33215\n",
      "   macro avg       0.97      0.99      0.98     33215\n",
      "weighted avg       1.00      1.00      1.00     33215\n",
      "\n",
      "Confusion matrix:\n",
      "[[31841    75]\n",
      " [   10  1289]]\n",
      "\n",
      "Confusion matrix (Percentages):\n",
      "[[9.5863e+01 2.2600e-01]\n",
      " [3.0000e-02 3.8810e+00]]\n",
      "\n",
      "Metrics:\n",
      "Sensitivity (TPR): 0.992302\n",
      "Specifity (TNR):   0.997650\n",
      "\n",
      "FPR: 0.002350\n",
      "FNR: 0.007698\n",
      "\n",
      "Balanced accuracy: 0.994976\n",
      "\n",
      "Test loss:\t0.025537\n",
      "Test accuracy:\t0.997441\n"
     ]
    },
    {
     "data": {
      "image/png": "[encoded data removed]",
      "text/plain": [
       "<Figure size 432x288 with 1 Axes>"
      ]
     },
     "metadata": {
      "needs_background": "light"
     },
     "output_type": "display_data"
    },
    {
     "data": {
      "image/png": "[encoded data removed]",
      "text/plain": [
       "<Figure size 432x288 with 1 Axes>"
      ]
     },
     "metadata": {
      "needs_background": "light"
     },
     "output_type": "display_data"
    }
   ],
   "source": [
    "Y_pred = numpy.argmax( model.predict_generator(test_gen) , axis=1 )\n",
    "\n",
    "print(classification_report(Y_test, Y_pred))\n",
    "print_metrics(confusion_matrix(Y_test, Y_pred), Y_test)\n",
    "print()\n",
    "score = model.evaluate(test_gen, verbose=False)\n",
    "print('Test loss:\\t{:.6f}'.format(score[0]))\n",
    "print('Test accuracy:\\t{:.6f}'.format(score[1]))\n",
    "\n",
    "plot_loss(history)\n",
    "plot_accuracy(history)"
   ]
  },
  {
   "cell_type": "code",
   "execution_count": 8,
   "metadata": {},
   "outputs": [],
   "source": [
    "model.save('ResNet_word2vec_undersample.h5')"
   ]
  },
  {
   "cell_type": "code",
   "execution_count": null,
   "metadata": {},
   "outputs": [],
   "source": []
  }
 ],
 "metadata": {
  "kernelspec": {
   "display_name": "Python 3.8",
   "language": "python",
   "name": "python38"
  },
  "language_info": {
   "codemirror_mode": {
    "name": "ipython",
    "version": 3
   },
   "file_extension": ".py",
   "mimetype": "text/x-python",
   "name": "python",
   "nbconvert_exporter": "python",
   "pygments_lexer": "ipython3",
   "version": "3.8.2"
  }
 },
 "nbformat": 4,
 "nbformat_minor": 2
}
