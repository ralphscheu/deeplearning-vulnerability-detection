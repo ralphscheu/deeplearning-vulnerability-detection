{
 "cells": [
  {
   "cell_type": "markdown",
   "metadata": {},
   "source": [
    "# ResNet\n",
    "\n",
    "- **Training set**: LO_SARD102\n",
    "- **Test/Validation set:** LO_SARD102\n",
    "- **Features**: bert (64)"
   ]
  },
  {
   "cell_type": "code",
   "execution_count": 1,
   "metadata": {},
   "outputs": [
    {
     "name": "stdout",
     "output_type": "stream",
     "text": [
      "class counts data set before undersampling: Counter({0: 15656, 1: 308})\n",
      "Y_train:\n",
      "Counter({0: 308, 1: 308})\n",
      "(616, 64, 768)\n",
      "(616,)\n",
      "\n",
      "Y_val:\n",
      "Counter({0: 3914, 1: 77})\n",
      "(3991, 64, 768)\n",
      "(3991,)\n",
      "\n",
      "Y_test:\n",
      "Counter({0: 5578, 1: 29})\n",
      "(5607, 64, 768)\n",
      "(5607,)\n"
     ]
    }
   ],
   "source": [
    "import tensorflow as tf\n",
    "from tensorflow import keras\n",
    "from tensorflow.keras import layers\n",
    "from tensorflow.keras import applications\n",
    "from tensorflow.keras.utils import to_categorical\n",
    "import pandas as pd\n",
    "import numpy as np\n",
    "import matplotlib.pyplot as plt\n",
    "from helper_functions import *\n",
    "from sklearn.model_selection import train_test_split\n",
    "from collections import Counter\n",
    "from sklearn.metrics import classification_report\n",
    "\n",
    "\n",
    "X_train = numpy.load('/mnt/md0/user/scheuererra68323/LOSARD102_bert64_X.npy')\n",
    "Y_train = pd.read_hdf('/mnt/md0/user/scheuererra68323/LOSARD102_bert64_y.h5').is_vulnerable.values\n",
    "\n",
    "X_train, X_val, Y_train, Y_val = train_test_split(\n",
    "    X_train, Y_train, stratify=Y_train, test_size=0.2, random_state=10\n",
    ")\n",
    "\n",
    "X_test = numpy.load('/mnt/md0/user/scheuererra68323/JTT_bert64_X.npy')\n",
    "Y_test = pd.read_hdf('/mnt/md0/user/scheuererra68323/JTT_bert64_y.h5').is_vulnerable.values\n",
    "\n",
    "print(\"class counts data set before undersampling:\", Counter(Y_train))\n",
    "# undersample class 0\n",
    "X_train, Y_train = undersample( np.reshape(X_train, (-1, 64*768) ), Y_train)\n",
    "X_train = np.reshape(X_train, (-1, 64, 768))\n",
    "\n",
    "print(\"Y_train:\")\n",
    "print(Counter(Y_train))\n",
    "print(X_train.shape)\n",
    "print(Y_train.shape)\n",
    "print(\"\\nY_val:\")\n",
    "print(Counter(Y_val))\n",
    "print(X_val.shape)\n",
    "print(Y_val.shape)\n",
    "print(\"\\nY_test:\")\n",
    "print(Counter(Y_test))\n",
    "print(X_test.shape)\n",
    "print(Y_test.shape)\n",
    "\n",
    "Y_train, Y_val = to_categorical(Y_train), to_categorical(Y_val)"
   ]
  },
  {
   "cell_type": "markdown",
   "metadata": {},
   "source": [
    "## Undersampling"
   ]
  },
  {
   "cell_type": "code",
   "execution_count": 2,
   "metadata": {
    "scrolled": true
   },
   "outputs": [
    {
     "name": "stdout",
     "output_type": "stream",
     "text": [
      "Epoch 1/8\n",
      "20/20 [==============================] - 9s 427ms/step - loss: 1.6173 - accuracy: 0.7581 - val_loss: 0.7902 - val_accuracy: 0.0193\n",
      "Epoch 2/8\n",
      "20/20 [==============================] - 7s 347ms/step - loss: 0.0322 - accuracy: 0.9935 - val_loss: 0.8909 - val_accuracy: 0.0193\n",
      "Epoch 3/8\n",
      "20/20 [==============================] - 7s 349ms/step - loss: 0.0032 - accuracy: 1.0000 - val_loss: 0.8494 - val_accuracy: 0.0193\n",
      "Epoch 4/8\n",
      "20/20 [==============================] - 7s 351ms/step - loss: 0.0012 - accuracy: 1.0000 - val_loss: 0.8211 - val_accuracy: 0.0193\n",
      "Epoch 5/8\n",
      "20/20 [==============================] - 7s 355ms/step - loss: 7.0063e-04 - accuracy: 1.0000 - val_loss: 0.7856 - val_accuracy: 0.0193\n",
      "Epoch 6/8\n",
      "20/20 [==============================] - 7s 358ms/step - loss: 7.1361e-04 - accuracy: 1.0000 - val_loss: 0.7323 - val_accuracy: 0.0193\n",
      "Epoch 7/8\n",
      "20/20 [==============================] - 7s 358ms/step - loss: 9.2158e-04 - accuracy: 1.0000 - val_loss: 0.6899 - val_accuracy: 0.5257\n",
      "Epoch 8/8\n",
      "20/20 [==============================] - 7s 366ms/step - loss: 4.1469e-04 - accuracy: 1.0000 - val_loss: 0.6246 - val_accuracy: 0.9807\n"
     ]
    }
   ],
   "source": [
    "# https://keras.io/api/applications/resnet/#resnet50-function\n",
    "model = applications.ResNet50(\n",
    "    include_top=True,\n",
    "    weights=None,\n",
    "    input_tensor=None,\n",
    "    input_shape=(64, 768, 1),\n",
    "    pooling=None,\n",
    "    classes=2\n",
    ")\n",
    "\n",
    "sgd = tf.keras.optimizers.SGD(learning_rate=0.01)\n",
    "model.compile(loss='categorical_crossentropy', optimizer=sgd, metrics=['accuracy'])\n",
    "\n",
    "history = model.fit(X_train, Y_train,\n",
    "                    epochs=8,\n",
    "                    verbose=True,\n",
    "                    validation_data=(X_val, Y_val)\n",
    "                   )"
   ]
  },
  {
   "cell_type": "markdown",
   "metadata": {},
   "source": [
    "## Evaluation"
   ]
  },
  {
   "cell_type": "code",
   "execution_count": 3,
   "metadata": {
    "scrolled": false
   },
   "outputs": [
    {
     "name": "stderr",
     "output_type": "stream",
     "text": [
      "/usr/local/lib/python3.8/dist-packages/sklearn/metrics/_classification.py:1221: UndefinedMetricWarning: Precision and F-score are ill-defined and being set to 0.0 in labels with no predicted samples. Use `zero_division` parameter to control this behavior.\n",
      "  _warn_prf(average, modifier, msg_start, len(result))\n"
     ]
    },
    {
     "name": "stdout",
     "output_type": "stream",
     "text": [
      "              precision    recall  f1-score   support\n",
      "\n",
      "           0       0.99      1.00      1.00      5578\n",
      "           1       0.00      0.00      0.00        29\n",
      "\n",
      "    accuracy                           0.99      5607\n",
      "   macro avg       0.50      0.50      0.50      5607\n",
      "weighted avg       0.99      0.99      0.99      5607\n",
      "\n",
      "Confusion matrix:\n",
      "[[5578    0]\n",
      " [  29    0]]\n",
      "\n",
      "Confusion matrix (Percentages):\n",
      "[[99.483  0.   ]\n",
      " [ 0.517  0.   ]]\n",
      "\n",
      "Metrics:\n",
      "Sensitivity (TPR): 0.000000\n",
      "Specifity (TNR):   1.000000\n",
      "\n",
      "FPR: 0.000000\n",
      "FNR: 1.000000\n",
      "\n",
      "Balanced accuracy: 0.500000\n",
      "\n"
     ]
    },
    {
     "data": {
      "image/png": "[encoded data removed]",
      "text/plain": [
       "<Figure size 432x288 with 1 Axes>"
      ]
     },
     "metadata": {
      "needs_background": "light"
     },
     "output_type": "display_data"
    },
    {
     "data": {
      "image/png": "[encoded data removed]",
      "text/plain": [
       "<Figure size 432x288 with 1 Axes>"
      ]
     },
     "metadata": {
      "needs_background": "light"
     },
     "output_type": "display_data"
    }
   ],
   "source": [
    "Y_pred = numpy.argmax(model.predict(X_test) , axis=1 )\n",
    "\n",
    "print(classification_report(Y_test, Y_pred))\n",
    "print_metrics(confusion_matrix(Y_test, Y_pred), Y_test)\n",
    "print()\n",
    "\n",
    "plot_loss(history)\n",
    "plot_accuracy(history)"
   ]
  },
  {
   "cell_type": "code",
   "execution_count": 4,
   "metadata": {},
   "outputs": [],
   "source": [
    "model.save('testJTT_ResNet_bert64_undersample.h5')"
   ]
  },
  {
   "cell_type": "code",
   "execution_count": null,
   "metadata": {},
   "outputs": [],
   "source": []
  },
  {
   "cell_type": "code",
   "execution_count": null,
   "metadata": {},
   "outputs": [],
   "source": []
  },
  {
   "cell_type": "code",
   "execution_count": null,
   "metadata": {},
   "outputs": [],
   "source": []
  },
  {
   "cell_type": "code",
   "execution_count": null,
   "metadata": {},
   "outputs": [],
   "source": []
  },
  {
   "cell_type": "code",
   "execution_count": null,
   "metadata": {},
   "outputs": [],
   "source": []
  },
  {
   "cell_type": "code",
   "execution_count": null,
   "metadata": {},
   "outputs": [],
   "source": []
  },
  {
   "cell_type": "markdown",
   "metadata": {},
   "source": [
    "## weighted"
   ]
  },
  {
   "cell_type": "code",
   "execution_count": 5,
   "metadata": {},
   "outputs": [
    {
     "name": "stdout",
     "output_type": "stream",
     "text": [
      "weights: {0: 0.5098364844149208, 1: 25.915584415584416}\n",
      "train:\n",
      "Counter({0: 15656, 1: 308})\n",
      "(15964, 64, 768)\n",
      "(15964,)\n",
      "\n",
      "val:\n",
      "Counter({0: 3914, 1: 77})\n",
      "(3991, 64, 768)\n",
      "(3991,)\n",
      "\n",
      "test:\n",
      "Counter({0: 5578, 1: 29})\n",
      "(5607, 64, 768)\n",
      "(5607,)\n"
     ]
    }
   ],
   "source": [
    "X_train = numpy.load('/mnt/md0/user/scheuererra68323/LOSARD102_bert64_X.npy')\n",
    "Y_train = pd.read_hdf('/mnt/md0/user/scheuererra68323/LOSARD102_bert64_y.h5').is_vulnerable.values\n",
    "\n",
    "X_train, X_val, Y_train, Y_val = train_test_split(\n",
    "    X_train, Y_train, stratify=Y_train, test_size=0.2, random_state=10\n",
    ")\n",
    "\n",
    "classWeights = {\n",
    "    0: ( 1 / Counter(Y_train)[0] ) * Y_train.shape[0] / 2.0 ,\n",
    "    1: ( 1 / Counter(Y_train)[1] ) * Y_train.shape[0] / 2.0\n",
    "}\n",
    "print(\"weights:\", classWeights)\n",
    "\n",
    "print(\"train:\")\n",
    "print(Counter(Y_train))\n",
    "print(X_train.shape)\n",
    "print(Y_train.shape)\n",
    "print(\"\\nval:\")\n",
    "print(Counter(Y_val))\n",
    "print(X_val.shape)\n",
    "print(Y_val.shape)\n",
    "print(\"\\ntest:\")\n",
    "print(Counter(Y_test))\n",
    "print(X_test.shape)\n",
    "print(Y_test.shape)\n",
    "\n",
    "Y_train, Y_val = to_categorical(Y_train), to_categorical(Y_val)"
   ]
  },
  {
   "cell_type": "code",
   "execution_count": 6,
   "metadata": {},
   "outputs": [
    {
     "name": "stdout",
     "output_type": "stream",
     "text": [
      "Epoch 1/8\n",
      "499/499 [==============================] - 69s 139ms/step - loss: 1.5404 - accuracy: 0.8763 - val_loss: 0.1175 - val_accuracy: 0.9797\n",
      "Epoch 2/8\n",
      "499/499 [==============================] - 68s 136ms/step - loss: 0.1992 - accuracy: 0.9767 - val_loss: 0.1279 - val_accuracy: 0.9807\n",
      "Epoch 3/8\n",
      "499/499 [==============================] - 67s 135ms/step - loss: 0.0336 - accuracy: 0.9919 - val_loss: 0.2942 - val_accuracy: 0.9724\n",
      "Epoch 4/8\n",
      "499/499 [==============================] - 67s 134ms/step - loss: 0.0068 - accuracy: 0.9975 - val_loss: 0.0153 - val_accuracy: 0.9987\n",
      "Epoch 5/8\n",
      "499/499 [==============================] - 67s 134ms/step - loss: 0.0102 - accuracy: 0.9967 - val_loss: 0.0153 - val_accuracy: 0.9987\n",
      "Epoch 6/8\n",
      "499/499 [==============================] - 67s 135ms/step - loss: 0.0339 - accuracy: 0.9962 - val_loss: 0.0111 - val_accuracy: 0.9987\n",
      "Epoch 7/8\n",
      "499/499 [==============================] - 67s 135ms/step - loss: 0.0080 - accuracy: 0.9977 - val_loss: 0.0104 - val_accuracy: 0.9987\n",
      "Epoch 8/8\n",
      "499/499 [==============================] - 67s 134ms/step - loss: 0.0059 - accuracy: 0.9985 - val_loss: 0.0110 - val_accuracy: 0.9987\n"
     ]
    }
   ],
   "source": [
    "# https://keras.io/api/applications/resnet/#resnet50-function\n",
    "model = applications.ResNet50(\n",
    "    include_top=True,\n",
    "    weights=None,\n",
    "    input_tensor=None,\n",
    "    input_shape=(64, 768, 1),\n",
    "    pooling=None,\n",
    "    classes=2\n",
    ")\n",
    "\n",
    "sgd = tf.keras.optimizers.SGD(learning_rate=0.1)\n",
    "model.compile(loss='categorical_crossentropy', optimizer=sgd, metrics=['accuracy'])\n",
    "\n",
    "history = model.fit(X_train, Y_train,\n",
    "                    epochs=8,\n",
    "                    verbose=True,\n",
    "                    validation_data=(X_val, Y_val),\n",
    "                    class_weight=classWeights\n",
    "                   )"
   ]
  },
  {
   "cell_type": "code",
   "execution_count": 7,
   "metadata": {},
   "outputs": [
    {
     "name": "stderr",
     "output_type": "stream",
     "text": [
      "/usr/local/lib/python3.8/dist-packages/sklearn/metrics/_classification.py:1221: UndefinedMetricWarning: Precision and F-score are ill-defined and being set to 0.0 in labels with no predicted samples. Use `zero_division` parameter to control this behavior.\n",
      "  _warn_prf(average, modifier, msg_start, len(result))\n"
     ]
    },
    {
     "name": "stdout",
     "output_type": "stream",
     "text": [
      "              precision    recall  f1-score   support\n",
      "\n",
      "           0       0.99      1.00      1.00      5578\n",
      "           1       0.00      0.00      0.00        29\n",
      "\n",
      "    accuracy                           0.99      5607\n",
      "   macro avg       0.50      0.50      0.50      5607\n",
      "weighted avg       0.99      0.99      0.99      5607\n",
      "\n",
      "Confusion matrix:\n",
      "[[5578    0]\n",
      " [  29    0]]\n",
      "\n",
      "Confusion matrix (Percentages):\n",
      "[[99.483  0.   ]\n",
      " [ 0.517  0.   ]]\n",
      "\n",
      "Metrics:\n",
      "Sensitivity (TPR): 0.000000\n",
      "Specifity (TNR):   1.000000\n",
      "\n",
      "FPR: 0.000000\n",
      "FNR: 1.000000\n",
      "\n",
      "Balanced accuracy: 0.500000\n",
      "\n"
     ]
    },
    {
     "data": {
      "image/png": "[encoded data removed]",
      "text/plain": [
       "<Figure size 432x288 with 1 Axes>"
      ]
     },
     "metadata": {
      "needs_background": "light"
     },
     "output_type": "display_data"
    },
    {
     "data": {
      "image/png": "[encoded data removed]",
      "text/plain": [
       "<Figure size 432x288 with 1 Axes>"
      ]
     },
     "metadata": {
      "needs_background": "light"
     },
     "output_type": "display_data"
    }
   ],
   "source": [
    "Y_pred = numpy.argmax(model.predict(X_test) , axis=1 )\n",
    "\n",
    "print(classification_report(Y_test, Y_pred))\n",
    "print_metrics(confusion_matrix(Y_test, Y_pred), Y_test)\n",
    "print()\n",
    "\n",
    "plot_loss(history)\n",
    "plot_accuracy(history)"
   ]
  },
  {
   "cell_type": "code",
   "execution_count": 8,
   "metadata": {},
   "outputs": [],
   "source": [
    "model.save('testJTT_ResNet_bert64_weighted.h5')"
   ]
  },
  {
   "cell_type": "code",
   "execution_count": null,
   "metadata": {},
   "outputs": [],
   "source": []
  },
  {
   "cell_type": "code",
   "execution_count": null,
   "metadata": {},
   "outputs": [],
   "source": []
  },
  {
   "cell_type": "code",
   "execution_count": null,
   "metadata": {},
   "outputs": [],
   "source": []
  },
  {
   "cell_type": "code",
   "execution_count": null,
   "metadata": {},
   "outputs": [],
   "source": []
  },
  {
   "cell_type": "markdown",
   "metadata": {},
   "source": [
    "## No imbalance migation"
   ]
  },
  {
   "cell_type": "code",
   "execution_count": 9,
   "metadata": {},
   "outputs": [
    {
     "name": "stdout",
     "output_type": "stream",
     "text": [
      "Epoch 1/8\n",
      "499/499 [==============================] - 67s 135ms/step - loss: 0.1413 - accuracy: 0.9876 - val_loss: 22.0288 - val_accuracy: 0.9807\n",
      "Epoch 2/8\n",
      "499/499 [==============================] - 68s 136ms/step - loss: 0.0034 - accuracy: 0.9990 - val_loss: 0.0224 - val_accuracy: 0.9922\n",
      "Epoch 3/8\n",
      "499/499 [==============================] - 67s 135ms/step - loss: 0.0011 - accuracy: 0.9996 - val_loss: 0.0031 - val_accuracy: 0.9992\n",
      "Epoch 4/8\n",
      "499/499 [==============================] - 67s 135ms/step - loss: 0.0013 - accuracy: 0.9996 - val_loss: 0.0144 - val_accuracy: 0.9995\n",
      "Epoch 5/8\n",
      "499/499 [==============================] - 68s 136ms/step - loss: 9.5742e-04 - accuracy: 0.9996 - val_loss: 0.0055 - val_accuracy: 0.9995\n",
      "Epoch 6/8\n",
      "499/499 [==============================] - 67s 134ms/step - loss: 8.7760e-04 - accuracy: 0.9997 - val_loss: 0.0133 - val_accuracy: 0.9995\n",
      "Epoch 7/8\n",
      "499/499 [==============================] - 67s 134ms/step - loss: 5.7682e-04 - accuracy: 0.9997 - val_loss: 0.0091 - val_accuracy: 0.9987\n",
      "Epoch 8/8\n",
      "499/499 [==============================] - 67s 135ms/step - loss: 8.6075e-04 - accuracy: 0.9997 - val_loss: 0.0505 - val_accuracy: 0.9995\n"
     ]
    }
   ],
   "source": [
    "# https://keras.io/api/applications/resnet/#resnet50-function\n",
    "model = applications.ResNet50(\n",
    "    include_top=True,\n",
    "    weights=None,\n",
    "    input_tensor=None,\n",
    "    input_shape=(64, 768, 1),\n",
    "    pooling=None,\n",
    "    classes=2\n",
    ")\n",
    "\n",
    "sgd = tf.keras.optimizers.SGD(learning_rate=0.1)\n",
    "model.compile(loss='categorical_crossentropy', optimizer=sgd, metrics=['accuracy'])\n",
    "\n",
    "history = model.fit(X_train, Y_train,\n",
    "                    epochs=8,\n",
    "                    verbose=True,\n",
    "                    validation_data=(X_val, Y_val)\n",
    "                   )"
   ]
  },
  {
   "cell_type": "code",
   "execution_count": 10,
   "metadata": {},
   "outputs": [
    {
     "name": "stdout",
     "output_type": "stream",
     "text": [
      "              precision    recall  f1-score   support\n",
      "\n",
      "           0       0.99      1.00      1.00      5578\n",
      "           1       0.00      0.00      0.00        29\n",
      "\n",
      "    accuracy                           0.99      5607\n",
      "   macro avg       0.50      0.50      0.50      5607\n",
      "weighted avg       0.99      0.99      0.99      5607\n",
      "\n",
      "Confusion matrix:\n",
      "[[5578    0]\n",
      " [  29    0]]\n",
      "\n",
      "Confusion matrix (Percentages):\n",
      "[[99.483  0.   ]\n",
      " [ 0.517  0.   ]]\n",
      "\n",
      "Metrics:\n",
      "Sensitivity (TPR): 0.000000\n",
      "Specifity (TNR):   1.000000\n",
      "\n",
      "FPR: 0.000000\n",
      "FNR: 1.000000\n",
      "\n",
      "Balanced accuracy: 0.500000\n",
      "\n"
     ]
    },
    {
     "data": {
      "image/png": "[encoded data removed]",
      "text/plain": [
       "<Figure size 432x288 with 1 Axes>"
      ]
     },
     "metadata": {
      "needs_background": "light"
     },
     "output_type": "display_data"
    },
    {
     "data": {
      "image/png": "[encoded data removed]",
      "text/plain": [
       "<Figure size 432x288 with 1 Axes>"
      ]
     },
     "metadata": {
      "needs_background": "light"
     },
     "output_type": "display_data"
    }
   ],
   "source": [
    "Y_pred = numpy.argmax(model.predict(X_test) , axis=1 )\n",
    "\n",
    "print(classification_report(Y_test, Y_pred))\n",
    "print_metrics(confusion_matrix(Y_test, Y_pred), Y_test)\n",
    "print()\n",
    "\n",
    "plot_loss(history)\n",
    "plot_accuracy(history)"
   ]
  },
  {
   "cell_type": "code",
   "execution_count": 11,
   "metadata": {},
   "outputs": [],
   "source": [
    "model.save('testJTT_ResNet_bert64.h5')"
   ]
  },
  {
   "cell_type": "code",
   "execution_count": null,
   "metadata": {},
   "outputs": [],
   "source": []
  },
  {
   "cell_type": "code",
   "execution_count": null,
   "metadata": {},
   "outputs": [],
   "source": []
  },
  {
   "cell_type": "code",
   "execution_count": null,
   "metadata": {},
   "outputs": [],
   "source": []
  },
  {
   "cell_type": "code",
   "execution_count": null,
   "metadata": {},
   "outputs": [],
   "source": []
  },
  {
   "cell_type": "code",
   "execution_count": null,
   "metadata": {},
   "outputs": [],
   "source": []
  },
  {
   "cell_type": "code",
   "execution_count": null,
   "metadata": {},
   "outputs": [],
   "source": []
  },
  {
   "cell_type": "code",
   "execution_count": 13,
   "metadata": {
    "collapsed": true
   },
   "outputs": [
    {
     "name": "stdout",
     "output_type": "stream",
     "text": [
      "imbalanced_learn version  0.7.0\n",
      "Counter output before SMOTE: Counter({0: 15656, 1: 308})\n",
      "Counter output after SMOTE: Counter({0: 15656, 1: 15656})\n",
      "class counts oversampled data set: (31312, 31312)\n",
      "train:\n",
      "Counter({0: 15656, 1: 15656})\n",
      "(31312, 64, 768)\n",
      "(31312,)\n",
      "\n",
      "val:\n",
      "Counter({0: 3914, 1: 77})\n",
      "(3991, 64, 768)\n",
      "(3991,)\n",
      "\n",
      "test:\n",
      "Counter({0: 5578, 1: 29})\n",
      "(5607, 64, 768)\n",
      "(5607,)\n"
     ]
    }
   ],
   "source": [
    "X_train = numpy.load('/mnt/md0/user/scheuererra68323/LOSARD102_bert64_X.npy')\n",
    "Y_train = pd.read_hdf('/mnt/md0/user/scheuererra68323/LOSARD102_bert64_y.h5').is_vulnerable.values\n",
    "\n",
    "X_train, X_val, Y_train, Y_val = train_test_split(\n",
    "    X_train, Y_train, stratify=Y_train, test_size=0.2, random_state=10\n",
    ")\n",
    "\n",
    "# oversample class 1\n",
    "X_train, Y_train = oversample_smote(np.reshape(X_train, (-1, 64*768)), Y_train )\n",
    "X_train = np.reshape( X_train, (-1, 64, 768) )\n",
    "print(\"class counts oversampled data set:\", (X_train.shape[0], Y_train.shape[0]))\n",
    "\n",
    "print(\"train:\")\n",
    "print(Counter(Y_train))\n",
    "print(X_train.shape)\n",
    "print(Y_train.shape)\n",
    "print(\"\\nval:\")\n",
    "print(Counter(Y_val))\n",
    "print(X_val.shape)\n",
    "print(Y_val.shape)\n",
    "print(\"\\ntest:\")\n",
    "print(Counter(Y_test))\n",
    "print(X_test.shape)\n",
    "print(Y_test.shape)\n",
    "\n",
    "Y_train, Y_val = to_categorical(Y_train), to_categorical(Y_val)"
   ]
  },
  {
   "cell_type": "code",
   "execution_count": 14,
   "metadata": {},
   "outputs": [
    {
     "name": "stdout",
     "output_type": "stream",
     "text": [
      "Epoch 1/8\n",
      "979/979 [==============================] - 129s 131ms/step - loss: 0.2979 - accuracy: 0.9807 - val_loss: 0.0083 - val_accuracy: 0.9995\n",
      "Epoch 2/8\n",
      "979/979 [==============================] - 127s 130ms/step - loss: 0.0042 - accuracy: 0.9989 - val_loss: 0.0134 - val_accuracy: 0.9970\n",
      "Epoch 3/8\n",
      "979/979 [==============================] - 127s 130ms/step - loss: 0.0026 - accuracy: 0.9991 - val_loss: 0.0070 - val_accuracy: 0.9987\n",
      "Epoch 4/8\n",
      "979/979 [==============================] - 127s 130ms/step - loss: 0.0028 - accuracy: 0.9992 - val_loss: 0.0106 - val_accuracy: 0.9982\n",
      "Epoch 5/8\n",
      "979/979 [==============================] - 127s 130ms/step - loss: 0.0021 - accuracy: 0.9994 - val_loss: 0.0099 - val_accuracy: 0.9982\n",
      "Epoch 6/8\n",
      "979/979 [==============================] - 127s 130ms/step - loss: 0.0023 - accuracy: 0.9993 - val_loss: 0.0065 - val_accuracy: 0.9987\n",
      "Epoch 7/8\n",
      "979/979 [==============================] - 127s 130ms/step - loss: 0.0018 - accuracy: 0.9994 - val_loss: 0.0062 - val_accuracy: 0.9987\n",
      "Epoch 8/8\n",
      "979/979 [==============================] - 127s 130ms/step - loss: 0.0020 - accuracy: 0.9994 - val_loss: 0.0078 - val_accuracy: 0.9987\n"
     ]
    }
   ],
   "source": [
    "# https://keras.io/api/applications/resnet/#resnet50-function\n",
    "model = applications.ResNet50(\n",
    "    include_top=True,\n",
    "    weights=None,\n",
    "    input_tensor=None,\n",
    "    input_shape=(64, 768, 1),\n",
    "    pooling=None,\n",
    "    classes=2\n",
    ")\n",
    "\n",
    "sgd = tf.keras.optimizers.SGD(learning_rate=0.1)\n",
    "model.compile(loss='categorical_crossentropy', optimizer=sgd, metrics=['accuracy'])\n",
    "\n",
    "history = model.fit(X_train, Y_train,\n",
    "                    epochs=8,\n",
    "                    verbose=True,\n",
    "                    validation_data=(X_val, Y_val)\n",
    "                   )"
   ]
  },
  {
   "cell_type": "code",
   "execution_count": 15,
   "metadata": {},
   "outputs": [
    {
     "name": "stderr",
     "output_type": "stream",
     "text": [
      "/usr/local/lib/python3.8/dist-packages/sklearn/metrics/_classification.py:1221: UndefinedMetricWarning: Precision and F-score are ill-defined and being set to 0.0 in labels with no predicted samples. Use `zero_division` parameter to control this behavior.\n",
      "  _warn_prf(average, modifier, msg_start, len(result))\n"
     ]
    },
    {
     "name": "stdout",
     "output_type": "stream",
     "text": [
      "              precision    recall  f1-score   support\n",
      "\n",
      "           0       0.99      1.00      1.00      5578\n",
      "           1       0.00      0.00      0.00        29\n",
      "\n",
      "    accuracy                           0.99      5607\n",
      "   macro avg       0.50      0.50      0.50      5607\n",
      "weighted avg       0.99      0.99      0.99      5607\n",
      "\n",
      "Confusion matrix:\n",
      "[[5578    0]\n",
      " [  29    0]]\n",
      "\n",
      "Confusion matrix (Percentages):\n",
      "[[99.483  0.   ]\n",
      " [ 0.517  0.   ]]\n",
      "\n",
      "Metrics:\n",
      "Sensitivity (TPR): 0.000000\n",
      "Specifity (TNR):   1.000000\n",
      "\n",
      "FPR: 0.000000\n",
      "FNR: 1.000000\n",
      "\n",
      "Balanced accuracy: 0.500000\n",
      "\n"
     ]
    },
    {
     "data": {
      "image/png": "[encoded data removed]",
      "text/plain": [
       "<Figure size 432x288 with 1 Axes>"
      ]
     },
     "metadata": {
      "needs_background": "light"
     },
     "output_type": "display_data"
    },
    {
     "data": {
      "image/png": "[encoded data removed]",
      "text/plain": [
       "<Figure size 432x288 with 1 Axes>"
      ]
     },
     "metadata": {
      "needs_background": "light"
     },
     "output_type": "display_data"
    }
   ],
   "source": [
    "Y_pred = numpy.argmax(model.predict(X_test) , axis=1 )\n",
    "\n",
    "print(classification_report(Y_test, Y_pred))\n",
    "print_metrics(confusion_matrix(Y_test, Y_pred), Y_test)\n",
    "print()\n",
    "\n",
    "plot_loss(history)\n",
    "plot_accuracy(history)"
   ]
  },
  {
   "cell_type": "code",
   "execution_count": 16,
   "metadata": {},
   "outputs": [],
   "source": [
    "model.save('testJTT_ResNet_bert64_SMOTE.h5')"
   ]
  }
 ],
 "metadata": {
  "kernelspec": {
   "display_name": "Python 3.8",
   "language": "python",
   "name": "python38"
  },
  "language_info": {
   "codemirror_mode": {
    "name": "ipython",
    "version": 3
   },
   "file_extension": ".py",
   "mimetype": "text/x-python",
   "name": "python",
   "nbconvert_exporter": "python",
   "pygments_lexer": "ipython3",
   "version": "3.8.2"
  }
 },
 "nbformat": 4,
 "nbformat_minor": 2
}
