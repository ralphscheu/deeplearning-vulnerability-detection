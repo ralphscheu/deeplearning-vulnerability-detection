{
 "cells": [
  {
   "cell_type": "markdown",
   "metadata": {},
   "source": [
    "# ResNet\n",
    "\n",
    "- **Training set**: LO_SARD102\n",
    "- **Test/Validation set:** LO_SARD102\n",
    "- **Features**: bert (128)\n",
    "- **class imbalance mitigation**: SMOTE"
   ]
  },
  {
   "cell_type": "code",
   "execution_count": 1,
   "metadata": {
    "collapsed": true
   },
   "outputs": [
    {
     "name": "stdout",
     "output_type": "stream",
     "text": [
      "class counts data set before undersampling: Counter({0: 40584, 1: 366})\n",
      "Y_train:\n",
      "Counter({0: 366, 1: 366})\n",
      "(732, 128, 768)\n",
      "(732,)\n",
      "\n",
      "Y_val:\n",
      "Counter({0: 10146, 1: 92})\n",
      "(10238, 128, 768)\n",
      "(10238,)\n",
      "\n",
      "Y_test:\n",
      "Counter({0: 7879, 1: 93})\n",
      "(7972, 128, 768)\n",
      "(7972,)\n"
     ]
    }
   ],
   "source": [
    "import tensorflow as tf\n",
    "from tensorflow import keras\n",
    "from tensorflow.keras import layers\n",
    "from tensorflow.keras import applications\n",
    "from tensorflow.keras.utils import to_categorical\n",
    "import pandas as pd\n",
    "import numpy as np\n",
    "import matplotlib.pyplot as plt\n",
    "from helper_functions import *\n",
    "from sklearn.model_selection import train_test_split\n",
    "from collections import Counter\n",
    "from sklearn.metrics import classification_report\n",
    "\n",
    "\n",
    "X_train = numpy.load('/mnt/md0/user/scheuererra68323/LOSARD102_bert128_X.npy')\n",
    "Y_train = pd.read_hdf('/mnt/md0/user/scheuererra68323/LOSARD102_bert128_y.h5').is_vulnerable.values\n",
    "\n",
    "X_train, X_val, Y_train, Y_val = train_test_split(\n",
    "    X_train, Y_train, stratify=Y_train, test_size=0.2, random_state=10\n",
    ")\n",
    "\n",
    "X_test = numpy.load('/mnt/md0/user/scheuererra68323/JTT_bert128_X.npy')\n",
    "Y_test = pd.read_hdf('/mnt/md0/user/scheuererra68323/JTT_bert128_y.h5').is_vulnerable.values\n",
    "\n",
    "print(\"class counts data set before undersampling:\", Counter(Y_train))\n",
    "# undersample class 0\n",
    "X_train, Y_train = undersample( np.reshape(X_train, (-1, 128*768) ), Y_train)\n",
    "X_train = np.reshape(X_train, (-1, 128, 768))\n",
    "\n",
    "print(\"Y_train:\")\n",
    "print(Counter(Y_train))\n",
    "print(X_train.shape)\n",
    "print(Y_train.shape)\n",
    "print(\"\\nY_val:\")\n",
    "print(Counter(Y_val))\n",
    "print(X_val.shape)\n",
    "print(Y_val.shape)\n",
    "print(\"\\nY_test:\")\n",
    "print(Counter(Y_test))\n",
    "print(X_test.shape)\n",
    "print(Y_test.shape)\n",
    "\n",
    "Y_train, Y_val = to_categorical(Y_train), to_categorical(Y_val)"
   ]
  },
  {
   "cell_type": "markdown",
   "metadata": {},
   "source": [
    "## Undersampling"
   ]
  },
  {
   "cell_type": "code",
   "execution_count": 2,
   "metadata": {
    "collapsed": true
   },
   "outputs": [
    {
     "name": "stdout",
     "output_type": "stream",
     "text": [
      "Epoch 1/8\n",
      "23/23 [==============================] - 30s 1s/step - loss: 6.2983 - accuracy: 0.4973 - val_loss: 505.1424 - val_accuracy: 0.0090\n",
      "Epoch 2/8\n",
      "23/23 [==============================] - 27s 1s/step - loss: 0.6336 - accuracy: 0.8620 - val_loss: 57.2799 - val_accuracy: 0.0090\n",
      "Epoch 3/8\n",
      "23/23 [==============================] - 27s 1s/step - loss: 0.1831 - accuracy: 0.9344 - val_loss: 4.0430 - val_accuracy: 0.0090\n",
      "Epoch 4/8\n",
      "23/23 [==============================] - 27s 1s/step - loss: 0.1179 - accuracy: 0.9686 - val_loss: 0.6086 - val_accuracy: 0.7707\n",
      "Epoch 5/8\n",
      "23/23 [==============================] - 27s 1s/step - loss: 0.1733 - accuracy: 0.9454 - val_loss: 0.3508 - val_accuracy: 0.9910\n",
      "Epoch 6/8\n",
      "23/23 [==============================] - 27s 1s/step - loss: 0.1309 - accuracy: 0.9549 - val_loss: 0.1456 - val_accuracy: 0.9910\n",
      "Epoch 7/8\n",
      "23/23 [==============================] - 27s 1s/step - loss: 0.0539 - accuracy: 0.9863 - val_loss: 0.0833 - val_accuracy: 0.9910\n",
      "Epoch 8/8\n",
      "23/23 [==============================] - 27s 1s/step - loss: 0.0395 - accuracy: 0.9863 - val_loss: 0.0619 - val_accuracy: 0.9910\n"
     ]
    }
   ],
   "source": [
    "# https://keras.io/api/applications/resnet/#resnet50-function\n",
    "model = applications.ResNet50(\n",
    "    include_top=True,\n",
    "    weights=None,\n",
    "    input_tensor=None,\n",
    "    input_shape=(128, 768, 1),\n",
    "    pooling=None,\n",
    "    classes=2\n",
    ")\n",
    "\n",
    "sgd = tf.keras.optimizers.SGD(learning_rate=0.1)\n",
    "model.compile(loss='categorical_crossentropy', optimizer=sgd, metrics=['accuracy'])\n",
    "\n",
    "history = model.fit(X_train, Y_train,\n",
    "                    epochs=8,\n",
    "                    verbose=True,\n",
    "                    validation_data=(X_val, Y_val)\n",
    "                   )"
   ]
  },
  {
   "cell_type": "markdown",
   "metadata": {},
   "source": [
    "## Evaluation"
   ]
  },
  {
   "cell_type": "code",
   "execution_count": 3,
   "metadata": {
    "scrolled": false
   },
   "outputs": [
    {
     "name": "stderr",
     "output_type": "stream",
     "text": [
      "/usr/local/lib/python3.8/dist-packages/sklearn/metrics/_classification.py:1221: UndefinedMetricWarning: Precision and F-score are ill-defined and being set to 0.0 in labels with no predicted samples. Use `zero_division` parameter to control this behavior.\n",
      "  _warn_prf(average, modifier, msg_start, len(result))\n"
     ]
    },
    {
     "name": "stdout",
     "output_type": "stream",
     "text": [
      "              precision    recall  f1-score   support\n",
      "\n",
      "           0       0.99      1.00      0.99      7879\n",
      "           1       0.00      0.00      0.00        93\n",
      "\n",
      "    accuracy                           0.99      7972\n",
      "   macro avg       0.49      0.50      0.50      7972\n",
      "weighted avg       0.98      0.99      0.98      7972\n",
      "\n",
      "Confusion matrix:\n",
      "[[7879    0]\n",
      " [  93    0]]\n",
      "\n",
      "Confusion matrix (Percentages):\n",
      "[[98.833  0.   ]\n",
      " [ 1.167  0.   ]]\n",
      "\n",
      "Metrics:\n",
      "Sensitivity (TPR): 0.000000\n",
      "Specifity (TNR):   1.000000\n",
      "\n",
      "FPR: 0.000000\n",
      "FNR: 1.000000\n",
      "\n",
      "Balanced accuracy: 0.500000\n",
      "\n"
     ]
    },
    {
     "data": {
      "image/png": "[encoded data removed]",
      "text/plain": [
       "<Figure size 432x288 with 1 Axes>"
      ]
     },
     "metadata": {
      "needs_background": "light"
     },
     "output_type": "display_data"
    },
    {
     "data": {
      "image/png": "[encoded data removed]",
      "text/plain": [
       "<Figure size 432x288 with 1 Axes>"
      ]
     },
     "metadata": {
      "needs_background": "light"
     },
     "output_type": "display_data"
    }
   ],
   "source": [
    "Y_pred = numpy.argmax(model.predict(X_test) , axis=1 )\n",
    "\n",
    "print(classification_report(Y_test, Y_pred))\n",
    "print_metrics(confusion_matrix(Y_test, Y_pred), Y_test)\n",
    "print()\n",
    "\n",
    "plot_loss(history)\n",
    "plot_accuracy(history)"
   ]
  },
  {
   "cell_type": "code",
   "execution_count": 4,
   "metadata": {},
   "outputs": [],
   "source": [
    "model.save('testJTT_ResNet_bert128_undersample.h5')"
   ]
  },
  {
   "cell_type": "code",
   "execution_count": null,
   "metadata": {},
   "outputs": [],
   "source": []
  },
  {
   "cell_type": "code",
   "execution_count": null,
   "metadata": {},
   "outputs": [],
   "source": []
  },
  {
   "cell_type": "code",
   "execution_count": null,
   "metadata": {},
   "outputs": [],
   "source": []
  },
  {
   "cell_type": "code",
   "execution_count": null,
   "metadata": {},
   "outputs": [],
   "source": []
  },
  {
   "cell_type": "code",
   "execution_count": null,
   "metadata": {},
   "outputs": [],
   "source": []
  },
  {
   "cell_type": "code",
   "execution_count": null,
   "metadata": {},
   "outputs": [],
   "source": []
  },
  {
   "cell_type": "markdown",
   "metadata": {},
   "source": [
    "## weighted"
   ]
  },
  {
   "cell_type": "code",
   "execution_count": 5,
   "metadata": {
    "collapsed": true
   },
   "outputs": [
    {
     "name": "stdout",
     "output_type": "stream",
     "text": [
      "weights: {0: 0.5045091661738617, 1: 55.942622950819676}\n",
      "train:\n",
      "Counter({0: 40584, 1: 366})\n",
      "(40950, 128, 768)\n",
      "(40950,)\n",
      "\n",
      "val:\n",
      "Counter({0: 10146, 1: 92})\n",
      "(10238, 128, 768)\n",
      "(10238,)\n",
      "\n",
      "test:\n",
      "Counter({0: 7879, 1: 93})\n",
      "(7972, 128, 768)\n",
      "(7972,)\n"
     ]
    }
   ],
   "source": [
    "X_train = numpy.load('/mnt/md0/user/scheuererra68323/LOSARD102_bert128_X.npy')\n",
    "Y_train = pd.read_hdf('/mnt/md0/user/scheuererra68323/LOSARD102_bert128_y.h5').is_vulnerable.values\n",
    "\n",
    "X_train, X_val, Y_train, Y_val = train_test_split(\n",
    "    X_train, Y_train, stratify=Y_train, test_size=0.2, random_state=10\n",
    ")\n",
    "\n",
    "classWeights = {\n",
    "    0: ( 1 / Counter(Y_train)[0] ) * Y_train.shape[0] / 2.0 ,\n",
    "    1: ( 1 / Counter(Y_train)[1] ) * Y_train.shape[0] / 2.0\n",
    "}\n",
    "print(\"weights:\", classWeights)\n",
    "\n",
    "print(\"train:\")\n",
    "print(Counter(Y_train))\n",
    "print(X_train.shape)\n",
    "print(Y_train.shape)\n",
    "print(\"\\nval:\")\n",
    "print(Counter(Y_val))\n",
    "print(X_val.shape)\n",
    "print(Y_val.shape)\n",
    "print(\"\\ntest:\")\n",
    "print(Counter(Y_test))\n",
    "print(X_test.shape)\n",
    "print(Y_test.shape)\n",
    "\n",
    "Y_train, Y_val = to_categorical(Y_train), to_categorical(Y_val)"
   ]
  },
  {
   "cell_type": "code",
   "execution_count": 6,
   "metadata": {
    "collapsed": true
   },
   "outputs": [
    {
     "name": "stdout",
     "output_type": "stream",
     "text": [
      "Epoch 1/8\n",
      "1280/1280 [==============================] - 319s 249ms/step - loss: 0.9730 - accuracy: 0.8105 - val_loss: 1.4997 - val_accuracy: 0.5056\n",
      "Epoch 2/8\n",
      "1280/1280 [==============================] - 315s 246ms/step - loss: 0.2997 - accuracy: 0.9297 - val_loss: 2.6180 - val_accuracy: 0.5292\n",
      "Epoch 3/8\n",
      "1280/1280 [==============================] - 314s 245ms/step - loss: 0.2076 - accuracy: 0.9559 - val_loss: 0.0147 - val_accuracy: 0.9910\n",
      "Epoch 4/8\n",
      "1280/1280 [==============================] - 314s 245ms/step - loss: 0.1020 - accuracy: 0.9735 - val_loss: 0.0887 - val_accuracy: 0.9643\n",
      "Epoch 5/8\n",
      "1280/1280 [==============================] - 315s 246ms/step - loss: 0.0720 - accuracy: 0.9801 - val_loss: 12.9566 - val_accuracy: 0.2449\n",
      "Epoch 6/8\n",
      "1280/1280 [==============================] - 314s 245ms/step - loss: 0.1177 - accuracy: 0.9662 - val_loss: 2.2957 - val_accuracy: 0.5147\n",
      "Epoch 7/8\n",
      "1280/1280 [==============================] - 314s 245ms/step - loss: 0.0927 - accuracy: 0.9780 - val_loss: 0.0084 - val_accuracy: 0.9984\n",
      "Epoch 8/8\n",
      "1280/1280 [==============================] - 313s 245ms/step - loss: 0.0844 - accuracy: 0.9811 - val_loss: 0.0347 - val_accuracy: 0.9937\n"
     ]
    }
   ],
   "source": [
    "# https://keras.io/api/applications/resnet/#resnet50-function\n",
    "model = applications.ResNet50(\n",
    "    include_top=True,\n",
    "    weights=None,\n",
    "    input_tensor=None,\n",
    "    input_shape=(128, 768, 1),\n",
    "    pooling=None,\n",
    "    classes=2\n",
    ")\n",
    "\n",
    "sgd = tf.keras.optimizers.SGD(learning_rate=0.1)\n",
    "model.compile(loss='categorical_crossentropy', optimizer=sgd, metrics=['accuracy'])\n",
    "\n",
    "history = model.fit(X_train, Y_train,\n",
    "                    epochs=8,\n",
    "                    verbose=True,\n",
    "                    validation_data=(X_val, Y_val),\n",
    "                    class_weight=classWeights\n",
    "                   )"
   ]
  },
  {
   "cell_type": "code",
   "execution_count": 7,
   "metadata": {},
   "outputs": [
    {
     "name": "stdout",
     "output_type": "stream",
     "text": [
      "              precision    recall  f1-score   support\n",
      "\n",
      "           0       0.99      0.99      0.99      7879\n",
      "           1       0.08      0.09      0.08        93\n",
      "\n",
      "    accuracy                           0.98      7972\n",
      "   macro avg       0.53      0.54      0.53      7972\n",
      "weighted avg       0.98      0.98      0.98      7972\n",
      "\n",
      "Confusion matrix:\n",
      "[[7783   96]\n",
      " [  85    8]]\n",
      "\n",
      "Confusion matrix (Percentages):\n",
      "[[97.629  1.204]\n",
      " [ 1.066  0.1  ]]\n",
      "\n",
      "Metrics:\n",
      "Sensitivity (TPR): 0.086022\n",
      "Specifity (TNR):   0.987816\n",
      "\n",
      "FPR: 0.012184\n",
      "FNR: 0.913978\n",
      "\n",
      "Balanced accuracy: 0.536919\n",
      "\n"
     ]
    },
    {
     "data": {
      "image/png": "[encoded data removed]",
      "text/plain": [
       "<Figure size 432x288 with 1 Axes>"
      ]
     },
     "metadata": {
      "needs_background": "light"
     },
     "output_type": "display_data"
    },
    {
     "data": {
      "image/png": "[encoded data removed]",
      "text/plain": [
       "<Figure size 432x288 with 1 Axes>"
      ]
     },
     "metadata": {
      "needs_background": "light"
     },
     "output_type": "display_data"
    }
   ],
   "source": [
    "Y_pred = numpy.argmax(model.predict(X_test) , axis=1 )\n",
    "\n",
    "print(classification_report(Y_test, Y_pred))\n",
    "print_metrics(confusion_matrix(Y_test, Y_pred), Y_test)\n",
    "print()\n",
    "\n",
    "plot_loss(history)\n",
    "plot_accuracy(history)"
   ]
  },
  {
   "cell_type": "code",
   "execution_count": 8,
   "metadata": {},
   "outputs": [],
   "source": [
    "model.save('testJTT_ResNet_bert128_weighted.h5')"
   ]
  },
  {
   "cell_type": "code",
   "execution_count": null,
   "metadata": {},
   "outputs": [],
   "source": []
  },
  {
   "cell_type": "code",
   "execution_count": null,
   "metadata": {},
   "outputs": [],
   "source": []
  },
  {
   "cell_type": "code",
   "execution_count": null,
   "metadata": {},
   "outputs": [],
   "source": []
  },
  {
   "cell_type": "code",
   "execution_count": null,
   "metadata": {},
   "outputs": [],
   "source": []
  },
  {
   "cell_type": "markdown",
   "metadata": {},
   "source": [
    "## No imbalance migation"
   ]
  },
  {
   "cell_type": "code",
   "execution_count": 9,
   "metadata": {
    "collapsed": true
   },
   "outputs": [
    {
     "name": "stdout",
     "output_type": "stream",
     "text": [
      "Epoch 1/8\n",
      "1280/1280 [==============================] - 316s 247ms/step - loss: 0.0887 - accuracy: 0.9944 - val_loss: 0.0325 - val_accuracy: 0.9910\n",
      "Epoch 2/8\n",
      "1280/1280 [==============================] - 314s 245ms/step - loss: 0.0115 - accuracy: 0.9979 - val_loss: 0.0098 - val_accuracy: 0.9991\n",
      "Epoch 3/8\n",
      "1280/1280 [==============================] - 313s 245ms/step - loss: 0.0096 - accuracy: 0.9982 - val_loss: 0.0036 - val_accuracy: 0.9985\n",
      "Epoch 4/8\n",
      "1280/1280 [==============================] - 313s 244ms/step - loss: 0.0037 - accuracy: 0.9989 - val_loss: 0.0052 - val_accuracy: 0.9980\n",
      "Epoch 5/8\n",
      "1280/1280 [==============================] - 311s 243ms/step - loss: 0.0029 - accuracy: 0.9989 - val_loss: 0.0037 - val_accuracy: 0.9987\n",
      "Epoch 6/8\n",
      "1280/1280 [==============================] - 312s 243ms/step - loss: 0.0024 - accuracy: 0.9990 - val_loss: 0.0041 - val_accuracy: 0.9987\n",
      "Epoch 7/8\n",
      "1280/1280 [==============================] - 312s 244ms/step - loss: 0.0022 - accuracy: 0.9992 - val_loss: 0.0042 - val_accuracy: 0.9986\n",
      "Epoch 8/8\n",
      "1280/1280 [==============================] - 312s 244ms/step - loss: 0.0024 - accuracy: 0.9991 - val_loss: 0.0043 - val_accuracy: 0.9987\n"
     ]
    }
   ],
   "source": [
    "# https://keras.io/api/applications/resnet/#resnet50-function\n",
    "model = applications.ResNet50(\n",
    "    include_top=True,\n",
    "    weights=None,\n",
    "    input_tensor=None,\n",
    "    input_shape=(128, 768, 1),\n",
    "    pooling=None,\n",
    "    classes=2\n",
    ")\n",
    "\n",
    "sgd = tf.keras.optimizers.SGD(learning_rate=0.1)\n",
    "model.compile(loss='categorical_crossentropy', optimizer=sgd, metrics=['accuracy'])\n",
    "\n",
    "history = model.fit(X_train, Y_train,\n",
    "                    epochs=8,\n",
    "                    verbose=True,\n",
    "                    validation_data=(X_val, Y_val)\n",
    "                   )"
   ]
  },
  {
   "cell_type": "code",
   "execution_count": 10,
   "metadata": {},
   "outputs": [
    {
     "name": "stderr",
     "output_type": "stream",
     "text": [
      "/usr/local/lib/python3.8/dist-packages/sklearn/metrics/_classification.py:1221: UndefinedMetricWarning: Precision and F-score are ill-defined and being set to 0.0 in labels with no predicted samples. Use `zero_division` parameter to control this behavior.\n",
      "  _warn_prf(average, modifier, msg_start, len(result))\n"
     ]
    },
    {
     "name": "stdout",
     "output_type": "stream",
     "text": [
      "              precision    recall  f1-score   support\n",
      "\n",
      "           0       0.99      1.00      0.99      7879\n",
      "           1       0.00      0.00      0.00        93\n",
      "\n",
      "    accuracy                           0.99      7972\n",
      "   macro avg       0.49      0.50      0.50      7972\n",
      "weighted avg       0.98      0.99      0.98      7972\n",
      "\n",
      "Confusion matrix:\n",
      "[[7879    0]\n",
      " [  93    0]]\n",
      "\n",
      "Confusion matrix (Percentages):\n",
      "[[98.833  0.   ]\n",
      " [ 1.167  0.   ]]\n",
      "\n",
      "Metrics:\n",
      "Sensitivity (TPR): 0.000000\n",
      "Specifity (TNR):   1.000000\n",
      "\n",
      "FPR: 0.000000\n",
      "FNR: 1.000000\n",
      "\n",
      "Balanced accuracy: 0.500000\n",
      "\n"
     ]
    },
    {
     "data": {
      "image/png": "[encoded data removed]",
      "text/plain": [
       "<Figure size 432x288 with 1 Axes>"
      ]
     },
     "metadata": {
      "needs_background": "light"
     },
     "output_type": "display_data"
    },
    {
     "data": {
      "image/png": "[encoded data removed]",
      "text/plain": [
       "<Figure size 432x288 with 1 Axes>"
      ]
     },
     "metadata": {
      "needs_background": "light"
     },
     "output_type": "display_data"
    }
   ],
   "source": [
    "Y_pred = numpy.argmax(model.predict(X_test) , axis=1 )\n",
    "\n",
    "print(classification_report(Y_test, Y_pred))\n",
    "print_metrics(confusion_matrix(Y_test, Y_pred), Y_test)\n",
    "print()\n",
    "\n",
    "plot_loss(history)\n",
    "plot_accuracy(history)"
   ]
  },
  {
   "cell_type": "code",
   "execution_count": 11,
   "metadata": {},
   "outputs": [],
   "source": [
    "model.save('testJTT_ResNet_bert128.h5')"
   ]
  },
  {
   "cell_type": "code",
   "execution_count": null,
   "metadata": {},
   "outputs": [],
   "source": []
  },
  {
   "cell_type": "code",
   "execution_count": null,
   "metadata": {},
   "outputs": [],
   "source": []
  },
  {
   "cell_type": "code",
   "execution_count": null,
   "metadata": {},
   "outputs": [],
   "source": []
  },
  {
   "cell_type": "code",
   "execution_count": null,
   "metadata": {},
   "outputs": [],
   "source": []
  },
  {
   "cell_type": "code",
   "execution_count": null,
   "metadata": {},
   "outputs": [],
   "source": []
  },
  {
   "cell_type": "code",
   "execution_count": null,
   "metadata": {},
   "outputs": [],
   "source": []
  },
  {
   "cell_type": "code",
   "execution_count": 13,
   "metadata": {
    "collapsed": true
   },
   "outputs": [
    {
     "name": "stdout",
     "output_type": "stream",
     "text": [
      "imbalanced_learn version  0.7.0\n",
      "Counter output before SMOTE: Counter({0: 40584, 1: 366})\n",
      "Counter output after SMOTE: Counter({0: 40584, 1: 40584})\n",
      "class counts oversampled data set: (81168, 81168)\n",
      "train:\n",
      "Counter({0: 40584, 1: 40584})\n",
      "(81168, 128, 768)\n",
      "(81168,)\n",
      "\n",
      "val:\n",
      "Counter({0: 10146, 1: 92})\n",
      "(10238, 128, 768)\n",
      "(10238,)\n",
      "\n",
      "test:\n",
      "Counter({0: 7879, 1: 93})\n",
      "(7972, 128, 768)\n",
      "(7972,)\n"
     ]
    }
   ],
   "source": [
    "X_train = numpy.load('/mnt/md0/user/scheuererra68323/LOSARD102_bert128_X.npy')\n",
    "Y_train = pd.read_hdf('/mnt/md0/user/scheuererra68323/LOSARD102_bert128_y.h5').is_vulnerable.values\n",
    "\n",
    "X_train, X_val, Y_train, Y_val = train_test_split(\n",
    "    X_train, Y_train, stratify=Y_train, test_size=0.2, random_state=10\n",
    ")\n",
    "\n",
    "# oversample class 1\n",
    "X_train, Y_train = oversample_smote(np.reshape(X_train, (-1, 128*768)), Y_train )\n",
    "X_train = np.reshape( X_train, (-1, 128, 768) )\n",
    "print(\"class counts oversampled data set:\", (X_train.shape[0], Y_train.shape[0]))\n",
    "\n",
    "print(\"train:\")\n",
    "print(Counter(Y_train))\n",
    "print(X_train.shape)\n",
    "print(Y_train.shape)\n",
    "print(\"\\nval:\")\n",
    "print(Counter(Y_val))\n",
    "print(X_val.shape)\n",
    "print(Y_val.shape)\n",
    "print(\"\\ntest:\")\n",
    "print(Counter(Y_test))\n",
    "print(X_test.shape)\n",
    "print(Y_test.shape)\n",
    "\n",
    "Y_train, Y_val = to_categorical(Y_train), to_categorical(Y_val)"
   ]
  },
  {
   "cell_type": "code",
   "execution_count": 14,
   "metadata": {
    "collapsed": true
   },
   "outputs": [
    {
     "name": "stdout",
     "output_type": "stream",
     "text": [
      "Epoch 1/8\n",
      "2537/2537 [==============================] - 595s 235ms/step - loss: 0.1044 - accuracy: 0.9885 - val_loss: 0.0132 - val_accuracy: 0.9979\n",
      "Epoch 2/8\n",
      "2537/2537 [==============================] - 592s 234ms/step - loss: 0.0047 - accuracy: 0.9989 - val_loss: 0.0089 - val_accuracy: 0.9979\n",
      "Epoch 3/8\n",
      "2537/2537 [==============================] - 593s 234ms/step - loss: 0.0041 - accuracy: 0.9992 - val_loss: 0.0094 - val_accuracy: 0.9981\n",
      "Epoch 4/8\n",
      "2537/2537 [==============================] - 593s 234ms/step - loss: 0.0039 - accuracy: 0.9992 - val_loss: 0.0106 - val_accuracy: 0.9981\n",
      "Epoch 5/8\n",
      "2537/2537 [==============================] - 592s 233ms/step - loss: 0.0039 - accuracy: 0.9991 - val_loss: 0.0097 - val_accuracy: 0.9981\n",
      "Epoch 6/8\n",
      "2537/2537 [==============================] - 593s 234ms/step - loss: 0.0039 - accuracy: 0.9992 - val_loss: 0.0107 - val_accuracy: 0.9981\n",
      "Epoch 7/8\n",
      "1490/2537 [================>.............] - ETA: 3:55 - loss: 0.0038 - accuracy: 0.9992"
     ]
    },
    {
     "name": "stderr",
     "output_type": "stream",
     "text": [
      "IOPub message rate exceeded.\n",
      "The notebook server will temporarily stop sending output\n",
      "to the client in order to avoid crashing it.\n",
      "To change this limit, set the config variable\n",
      "`--NotebookApp.iopub_msg_rate_limit`.\n",
      "\n",
      "Current values:\n",
      "NotebookApp.iopub_msg_rate_limit=1000.0 (msgs/sec)\n",
      "NotebookApp.rate_limit_window=3.0 (secs)\n",
      "\n"
     ]
    }
   ],
   "source": [
    "# https://keras.io/api/applications/resnet/#resnet50-function\n",
    "model = applications.ResNet50(\n",
    "    include_top=True,\n",
    "    weights=None,\n",
    "    input_tensor=None,\n",
    "    input_shape=(128, 768, 1),\n",
    "    pooling=None,\n",
    "    classes=2\n",
    ")\n",
    "\n",
    "sgd = tf.keras.optimizers.SGD(learning_rate=0.1)\n",
    "model.compile(loss='categorical_crossentropy', optimizer=sgd, metrics=['accuracy'])\n",
    "\n",
    "history = model.fit(X_train, Y_train,\n",
    "                    epochs=8,\n",
    "                    verbose=True,\n",
    "                    validation_data=(X_val, Y_val)\n",
    "                   )"
   ]
  },
  {
   "cell_type": "code",
   "execution_count": 15,
   "metadata": {},
   "outputs": [
    {
     "name": "stderr",
     "output_type": "stream",
     "text": [
      "/usr/local/lib/python3.8/dist-packages/sklearn/metrics/_classification.py:1221: UndefinedMetricWarning: Precision and F-score are ill-defined and being set to 0.0 in labels with no predicted samples. Use `zero_division` parameter to control this behavior.\n",
      "  _warn_prf(average, modifier, msg_start, len(result))\n"
     ]
    },
    {
     "name": "stdout",
     "output_type": "stream",
     "text": [
      "              precision    recall  f1-score   support\n",
      "\n",
      "           0       0.99      1.00      0.99      7879\n",
      "           1       0.00      0.00      0.00        93\n",
      "\n",
      "    accuracy                           0.99      7972\n",
      "   macro avg       0.49      0.50      0.50      7972\n",
      "weighted avg       0.98      0.99      0.98      7972\n",
      "\n",
      "Confusion matrix:\n",
      "[[7879    0]\n",
      " [  93    0]]\n",
      "\n",
      "Confusion matrix (Percentages):\n",
      "[[98.833  0.   ]\n",
      " [ 1.167  0.   ]]\n",
      "\n",
      "Metrics:\n",
      "Sensitivity (TPR): 0.000000\n",
      "Specifity (TNR):   1.000000\n",
      "\n",
      "FPR: 0.000000\n",
      "FNR: 1.000000\n",
      "\n",
      "Balanced accuracy: 0.500000\n",
      "\n"
     ]
    },
    {
     "data": {
      "image/png": "[encoded data removed]",
      "text/plain": [
       "<Figure size 432x288 with 1 Axes>"
      ]
     },
     "metadata": {
      "needs_background": "light"
     },
     "output_type": "display_data"
    },
    {
     "data": {
      "image/png": "[encoded data removed]",
      "text/plain": [
       "<Figure size 432x288 with 1 Axes>"
      ]
     },
     "metadata": {
      "needs_background": "light"
     },
     "output_type": "display_data"
    }
   ],
   "source": [
    "Y_pred = numpy.argmax(model.predict(X_test) , axis=1 )\n",
    "\n",
    "print(classification_report(Y_test, Y_pred))\n",
    "print_metrics(confusion_matrix(Y_test, Y_pred), Y_test)\n",
    "print()\n",
    "\n",
    "plot_loss(history)\n",
    "plot_accuracy(history)"
   ]
  },
  {
   "cell_type": "code",
   "execution_count": 18,
   "metadata": {},
   "outputs": [],
   "source": [
    "model.save('testJTT_ResNet_bert128_SMOTE.h5')"
   ]
  },
  {
   "cell_type": "code",
   "execution_count": null,
   "metadata": {},
   "outputs": [],
   "source": []
  }
 ],
 "metadata": {
  "kernelspec": {
   "display_name": "Python 3.8",
   "language": "python",
   "name": "python38"
  },
  "language_info": {
   "codemirror_mode": {
    "name": "ipython",
    "version": 3
   },
   "file_extension": ".py",
   "mimetype": "text/x-python",
   "name": "python",
   "nbconvert_exporter": "python",
   "pygments_lexer": "ipython3",
   "version": "3.8.2"
  }
 },
 "nbformat": 4,
 "nbformat_minor": 2
}
