{
 "cells": [
  {
   "cell_type": "markdown",
   "metadata": {},
   "source": [
    "# ResNet\n",
    "\n",
    "- **Training set**: LO_SARD102\n",
    "- **Test/Validation set:** JTT\n",
    "- **Features**: word2vec sequence\n",
    "- **Class imbalance processing**: SMOTE"
   ]
  },
  {
   "cell_type": "code",
   "execution_count": 1,
   "metadata": {
    "collapsed": true
   },
   "outputs": [
    {
     "name": "stdout",
     "output_type": "stream",
     "text": [
      "train:\n",
      "Counter({0.0: 127721, 1.0: 127721})\n",
      "(255442, 100, 100)\n",
      "(255442,)\n",
      "\n",
      "val:\n",
      "Counter({0.0: 31975, 1.0: 1240})\n",
      "(33215, 100, 100)\n",
      "(33215,)\n",
      "\n",
      "test:\n",
      "Counter({0.0: 21243, 1.0: 608})\n",
      "(21851, 100, 100)\n",
      "(21851,)\n"
     ]
    }
   ],
   "source": [
    "import tensorflow as tf\n",
    "from tensorflow import keras\n",
    "from tensorflow.keras import layers\n",
    "from tensorflow.keras import applications\n",
    "from tensorflow.keras.utils import to_categorical\n",
    "import pandas as pd\n",
    "import numpy as np\n",
    "import matplotlib.pyplot as plt\n",
    "from helper_functions import *\n",
    "from sklearn.model_selection import train_test_split\n",
    "from collections import Counter\n",
    "from sklearn.metrics import classification_report\n",
    "\n",
    "X_train = numpy.load('/mnt/md0/user/scheuererra68323/LOSARD_w2vseq_SMOTE_X_full_train.npy', mmap_mode='r')\n",
    "Y_train = numpy.load('/mnt/md0/user/scheuererra68323/LOSARD_w2vseq_SMOTE_Y_full_train.npy', mmap_mode='r')\n",
    "\n",
    "X_val = numpy.load('/mnt/md0/user/scheuererra68323/LOSARD_w2vseq_X_full_val.npy', mmap_mode='r')\n",
    "Y_val = numpy.load('/mnt/md0/user/scheuererra68323/LOSARD_w2vseq_Y_full_val.npy', mmap_mode='r')\n",
    "\n",
    "X_test =  numpy.load('/mnt/md0/user/scheuererra68323/JTT_w2vseq_X.npy',  mmap_mode='r')\n",
    "Y_test =  numpy.load('/mnt/md0/user/scheuererra68323/JTT_w2vseq_Y.npy',  mmap_mode='r')\n",
    "\n",
    "\n",
    "train_gen = ResNetDataGenerator(_X=X_train, _y=Y_train, batch_size=512)\n",
    "val_gen =   ResNetDataGenerator(_X=X_val,   _y=Y_val,   batch_size=512)\n",
    "test_gen =  ResNetDataGenerator(_X=X_test,  _y=Y_test,  batch_size=512)\n",
    "\n",
    "print(\"train:\")\n",
    "print(Counter(Y_train))\n",
    "print(X_train.shape)\n",
    "print(Y_train.shape)\n",
    "\n",
    "print(\"\\nval:\")\n",
    "print(Counter(Y_val))\n",
    "print(X_val.shape)\n",
    "print(Y_val.shape)\n",
    "\n",
    "print(\"\\ntest:\")\n",
    "print(Counter(Y_test))\n",
    "print(X_test.shape)\n",
    "print(Y_test.shape)"
   ]
  },
  {
   "cell_type": "markdown",
   "metadata": {},
   "source": [
    "## Build & train keras model"
   ]
  },
  {
   "cell_type": "code",
   "execution_count": 11,
   "metadata": {},
   "outputs": [],
   "source": [
    "# https://keras.io/api/applications/resnet/#resnet50-function\n",
    "model = applications.ResNet50(\n",
    "    include_top=True,\n",
    "    weights=None,\n",
    "    input_tensor=None,\n",
    "    input_shape=(100, 100, 1),\n",
    "    pooling=None,\n",
    "    classes=2\n",
    ")\n",
    "sgd = tf.keras.optimizers.SGD(learning_rate=0.1, momentum=0.95)\n",
    "model.compile(loss='categorical_crossentropy', optimizer=sgd, metrics=['accuracy'])\n",
    "model.load_weights('testJTT_ResNet_word2vec_SMOTE.h5')"
   ]
  },
  {
   "cell_type": "code",
   "execution_count": null,
   "metadata": {},
   "outputs": [],
   "source": [
    "history = model.fit(train_gen,\n",
    "                    epochs=8,\n",
    "                    verbose=True,\n",
    "                    validation_data=val_gen\n",
    "                   )"
   ]
  },
  {
   "cell_type": "markdown",
   "metadata": {},
   "source": [
    "## Evaluation"
   ]
  },
  {
   "cell_type": "code",
   "execution_count": 13,
   "metadata": {
    "scrolled": false
   },
   "outputs": [
    {
     "name": "stdout",
     "output_type": "stream",
     "text": [
      "              precision    recall  f1-score   support\n",
      "\n",
      "         0.0       0.96      0.57      0.72     21243\n",
      "         1.0       0.01      0.22      0.03       608\n",
      "\n",
      "    accuracy                           0.56     21851\n",
      "   macro avg       0.49      0.40      0.37     21851\n",
      "weighted avg       0.94      0.56      0.70     21851\n",
      "\n",
      "Confusion matrix:\n",
      "[[12109  9134]\n",
      " [  472   136]]\n",
      "\n",
      "Confusion matrix (Percentages):\n",
      "[[55.416 41.801]\n",
      " [ 2.16   0.622]]\n",
      "\n",
      "Metrics:\n",
      "Sensitivity (TPR): 0.223684\n",
      "Specifity (TNR):   0.570023\n",
      "\n",
      "FPR: 0.429977\n",
      "FNR: 0.776316\n",
      "\n",
      "Balanced accuracy: 0.396854\n",
      "\n",
      "Test loss:\t0.602773\n",
      "Test accuracy:\t0.560386\n"
     ]
    }
   ],
   "source": [
    "Y_pred = numpy.argmax( model.predict(test_gen) , axis=1 )\n",
    "\n",
    "print(classification_report(Y_test, Y_pred))\n",
    "print_metrics(confusion_matrix(Y_test, Y_pred), Y_test)\n",
    "print()\n",
    "score = model.evaluate(test_gen, verbose=False)\n",
    "print('Test loss:\\t{:.6f}'.format(score[0]))\n",
    "print('Test accuracy:\\t{:.6f}'.format(score[1]))\n",
    "\n",
    "#plot_loss(history)\n",
    "#plot_accuracy(history)"
   ]
  },
  {
   "cell_type": "code",
   "execution_count": null,
   "metadata": {},
   "outputs": [],
   "source": [
    "model.save('testJTT_ResNet_word2vec_SMOTE.h5')"
   ]
  },
  {
   "cell_type": "code",
   "execution_count": null,
   "metadata": {},
   "outputs": [],
   "source": []
  }
 ],
 "metadata": {
  "kernelspec": {
   "display_name": "Python 3.8",
   "language": "python",
   "name": "python38"
  },
  "language_info": {
   "codemirror_mode": {
    "name": "ipython",
    "version": 3
   },
   "file_extension": ".py",
   "mimetype": "text/x-python",
   "name": "python",
   "nbconvert_exporter": "python",
   "pygments_lexer": "ipython3",
   "version": "3.8.2"
  }
 },
 "nbformat": 4,
 "nbformat_minor": 2
}
