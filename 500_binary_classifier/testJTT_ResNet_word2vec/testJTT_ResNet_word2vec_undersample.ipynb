{
 "cells": [
  {
   "cell_type": "markdown",
   "metadata": {},
   "source": [
    "# ResNet\n",
    "\n",
    "- **Training set**: LO_SARD102\n",
    "- **Test/Validation set:** JTT\n",
    "- **Features**: word2vec sequence (100)\n",
    "- **Class imbalance processing**: undersampling"
   ]
  },
  {
   "cell_type": "code",
   "execution_count": 1,
   "metadata": {
    "scrolled": false
   },
   "outputs": [
    {
     "name": "stdout",
     "output_type": "stream",
     "text": [
      "Y_train:\n",
      "Counter({0.0: 5138, 1.0: 5138})\n",
      "(10276, 100, 100)\n",
      "(10276,)\n",
      "\n",
      "Y_val:\n",
      "Counter({0.0: 31975, 1.0: 1240})\n",
      "(33215, 100, 100)\n",
      "(33215,)\n",
      "\n",
      "Y_test:\n",
      "Counter({0.0: 21243, 1.0: 608})\n",
      "(21851, 100, 100)\n",
      "(21851,)\n"
     ]
    }
   ],
   "source": [
    "import tensorflow as tf\n",
    "from tensorflow import keras\n",
    "from tensorflow.keras import layers\n",
    "from tensorflow.keras import applications\n",
    "from tensorflow.keras.utils import to_categorical\n",
    "import pandas as pd\n",
    "import numpy as np\n",
    "import matplotlib.pyplot as plt\n",
    "from helper_functions import *\n",
    "from sklearn.model_selection import train_test_split\n",
    "from collections import Counter\n",
    "from sklearn.metrics import classification_report\n",
    "\n",
    "X_train = numpy.load('/mnt/md0/user/scheuererra68323/LOSARD_w2vseq_undersample_X_full_train.npy', mmap_mode='r')\n",
    "Y_train = numpy.load('/mnt/md0/user/scheuererra68323/LOSARD_w2vseq_undersample_Y_full_train.npy', mmap_mode='r')\n",
    "\n",
    "X_val = numpy.load('/mnt/md0/user/scheuererra68323/LOSARD_w2vseq_X_full_val.npy', mmap_mode='r')\n",
    "Y_val = numpy.load('/mnt/md0/user/scheuererra68323/LOSARD_w2vseq_Y_full_val.npy', mmap_mode='r')\n",
    "\n",
    "X_test =  numpy.load('/mnt/md0/user/scheuererra68323/JTT_w2vseq_X.npy',  mmap_mode='r')\n",
    "Y_test =  numpy.load('/mnt/md0/user/scheuererra68323/JTT_w2vseq_Y.npy',  mmap_mode='r')\n",
    "\n",
    "print(\"Y_train:\")\n",
    "print(Counter(Y_train))\n",
    "print(X_train.shape)\n",
    "print(Y_train.shape)\n",
    "\n",
    "print(\"\\nY_val:\")\n",
    "print(Counter(Y_val))\n",
    "print(X_val.shape)\n",
    "print(Y_val.shape)\n",
    "\n",
    "print(\"\\nY_test:\")\n",
    "print(Counter(Y_test))\n",
    "print(X_test.shape)\n",
    "print(Y_test.shape)\n",
    "\n",
    "train_gen = ResNetDataGenerator(_X=X_train, _y=Y_train, batch_size=512)\n",
    "val_gen =   ResNetDataGenerator(_X=X_val,   _y=Y_val,   batch_size=512)\n",
    "test_gen =  ResNetDataGenerator(_X=X_test,  _y=Y_test,  batch_size=512)"
   ]
  },
  {
   "cell_type": "markdown",
   "metadata": {},
   "source": [
    "## Build & train keras model"
   ]
  },
  {
   "cell_type": "code",
   "execution_count": 6,
   "metadata": {
    "scrolled": true
   },
   "outputs": [
    {
     "name": "stdout",
     "output_type": "stream",
     "text": [
      "Epoch 1/8\n",
      " 2/21 [=>............................] - ETA: 7s - loss: 20.7831 - accuracy: 0.5742WARNING:tensorflow:Callbacks method `on_train_batch_end` is slow compared to the batch time (batch time: 0.1772s vs `on_train_batch_end` time: 0.2993s). Check your callbacks.\n",
      "21/21 [==============================] - 20s 936ms/step - loss: 3.2726 - accuracy: 0.7214 - val_loss: 590.4466 - val_accuracy: 0.9627\n",
      "Epoch 2/8\n",
      "21/21 [==============================] - 19s 908ms/step - loss: 0.3662 - accuracy: 0.9316 - val_loss: 7.4604 - val_accuracy: 0.8765\n",
      "Epoch 3/8\n",
      "21/21 [==============================] - 19s 912ms/step - loss: 0.0418 - accuracy: 0.9897 - val_loss: 2.1195 - val_accuracy: 0.9627\n",
      "Epoch 4/8\n",
      "21/21 [==============================] - 19s 917ms/step - loss: 0.0206 - accuracy: 0.9952 - val_loss: 1.5146 - val_accuracy: 0.9627\n",
      "Epoch 5/8\n",
      "21/21 [==============================] - 19s 916ms/step - loss: 0.0097 - accuracy: 0.9976 - val_loss: 0.6920 - val_accuracy: 0.9548\n",
      "Epoch 6/8\n",
      "21/21 [==============================] - 19s 919ms/step - loss: 0.0046 - accuracy: 0.9989 - val_loss: 0.4884 - val_accuracy: 0.9006\n",
      "Epoch 7/8\n",
      "21/21 [==============================] - 19s 919ms/step - loss: 0.0039 - accuracy: 0.9989 - val_loss: 0.5004 - val_accuracy: 0.8194\n",
      "Epoch 8/8\n",
      "21/21 [==============================] - 19s 922ms/step - loss: 0.0039 - accuracy: 0.9989 - val_loss: 0.5392 - val_accuracy: 0.7923\n"
     ]
    }
   ],
   "source": [
    "# https://keras.io/api/applications/resnet/#resnet50-function\n",
    "model = applications.ResNet50(\n",
    "    include_top=True,\n",
    "    weights=None,\n",
    "    input_tensor=None,\n",
    "    input_shape=(100, 100, 1),\n",
    "    pooling=None,\n",
    "    classes=2\n",
    ")\n",
    "\n",
    "sgd = tf.keras.optimizers.SGD(learning_rate=0.1)\n",
    "model.compile(loss='categorical_crossentropy', optimizer=sgd, metrics=['accuracy'])\n",
    "\n",
    "history = model.fit(train_gen,\n",
    "                    epochs=8,\n",
    "                    verbose=True,\n",
    "                    validation_data=val_gen\n",
    "                   )"
   ]
  },
  {
   "cell_type": "markdown",
   "metadata": {},
   "source": [
    "## Evaluation"
   ]
  },
  {
   "cell_type": "code",
   "execution_count": 7,
   "metadata": {
    "scrolled": false
   },
   "outputs": [
    {
     "name": "stdout",
     "output_type": "stream",
     "text": [
      "              precision    recall  f1-score   support\n",
      "\n",
      "         0.0       0.97      1.00      0.98     21243\n",
      "         1.0       0.02      0.00      0.00       608\n",
      "\n",
      "    accuracy                           0.97     21851\n",
      "   macro avg       0.50      0.50      0.49     21851\n",
      "weighted avg       0.95      0.97      0.96     21851\n",
      "\n",
      "Confusion matrix:\n",
      "[[21197    46]\n",
      " [  607     1]]\n",
      "\n",
      "Confusion matrix (Percentages):\n",
      "[[9.7007e+01 2.1100e-01]\n",
      " [2.7780e+00 5.0000e-03]]\n",
      "\n",
      "Metrics:\n",
      "Sensitivity (TPR): 0.001645\n",
      "Specifity (TNR):   0.997835\n",
      "\n",
      "FPR: 0.002165\n",
      "FNR: 0.998355\n",
      "\n",
      "Balanced accuracy: 0.499740\n",
      "\n",
      "Test loss:\t0.462782\n",
      "Test accuracy:\t0.970116\n"
     ]
    },
    {
     "data": {
      "image/png": "[encoded data removed]",
      "text/plain": [
       "<Figure size 432x288 with 1 Axes>"
      ]
     },
     "metadata": {
      "needs_background": "light"
     },
     "output_type": "display_data"
    },
    {
     "data": {
      "image/png": "[encoded data removed]",
      "text/plain": [
       "<Figure size 432x288 with 1 Axes>"
      ]
     },
     "metadata": {
      "needs_background": "light"
     },
     "output_type": "display_data"
    }
   ],
   "source": [
    "Y_pred = numpy.argmax( model.predict(test_gen) , axis=1 )\n",
    "\n",
    "print(classification_report(Y_test, Y_pred))\n",
    "print_metrics(confusion_matrix(Y_test, Y_pred), Y_test)\n",
    "print()\n",
    "score = model.evaluate(test_gen, verbose=False)\n",
    "print('Test loss:\\t{:.6f}'.format(score[0]))\n",
    "print('Test accuracy:\\t{:.6f}'.format(score[1]))\n",
    "\n",
    "plot_loss(history)\n",
    "plot_accuracy(history)"
   ]
  },
  {
   "cell_type": "code",
   "execution_count": 8,
   "metadata": {},
   "outputs": [],
   "source": [
    "model.save('testJTT_ResNet_word2vec_undersample.h5')"
   ]
  },
  {
   "cell_type": "code",
   "execution_count": null,
   "metadata": {},
   "outputs": [],
   "source": []
  }
 ],
 "metadata": {
  "kernelspec": {
   "display_name": "Python 3.8",
   "language": "python",
   "name": "python38"
  },
  "language_info": {
   "codemirror_mode": {
    "name": "ipython",
    "version": 3
   },
   "file_extension": ".py",
   "mimetype": "text/x-python",
   "name": "python",
   "nbconvert_exporter": "python",
   "pygments_lexer": "ipython3",
   "version": "3.8.2"
  }
 },
 "nbformat": 4,
 "nbformat_minor": 2
}
