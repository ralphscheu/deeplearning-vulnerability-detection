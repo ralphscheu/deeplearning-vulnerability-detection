{
 "cells": [
  {
   "cell_type": "markdown",
   "metadata": {},
   "source": [
    "# ResNet\n",
    "\n",
    "- **Training set**: LO_SARD102\n",
    "- **Test/Validation set:** JTT\n",
    "- **Features**: word2vec sequence (100)\n",
    "- **Class imbalance processing**: weights"
   ]
  },
  {
   "cell_type": "code",
   "execution_count": 1,
   "metadata": {
    "scrolled": true
   },
   "outputs": [
    {
     "name": "stdout",
     "output_type": "stream",
     "text": [
      "class weights: {0: 0.5201141550723843, 1: 12.929057999221486}\n",
      "\n",
      "Y_train:\n",
      "Counter({0.0: 31975, 1.0: 1240})\n",
      "(33215, 100, 100)\n",
      "(33215,)\n",
      "\n",
      "Y_val:\n",
      "Counter({0.0: 31975, 1.0: 1240})\n",
      "(33215, 100, 100)\n",
      "(33215,)\n",
      "\n",
      "Y_test:\n",
      "Counter({0.0: 21243, 1.0: 608})\n",
      "(21851, 100, 100)\n",
      "(21851,)\n"
     ]
    }
   ],
   "source": [
    "import tensorflow as tf\n",
    "from tensorflow import keras\n",
    "from tensorflow.keras import layers\n",
    "from tensorflow.keras import applications\n",
    "from tensorflow.keras.utils import to_categorical\n",
    "import pandas as pd\n",
    "import numpy as np\n",
    "import matplotlib.pyplot as plt\n",
    "from helper_functions import *\n",
    "from sklearn.model_selection import train_test_split\n",
    "from collections import Counter\n",
    "from sklearn.metrics import classification_report\n",
    "\n",
    "X_train = numpy.load('/mnt/md0/user/scheuererra68323/LOSARD_w2vseq_X_full_train.npy', mmap_mode='r')\n",
    "Y_train = numpy.load('/mnt/md0/user/scheuererra68323/LOSARD_w2vseq_Y_full_train.npy', mmap_mode='r')\n",
    "\n",
    "X_val = numpy.load('/mnt/md0/user/scheuererra68323/LOSARD_w2vseq_X_full_val.npy', mmap_mode='r')\n",
    "Y_val = numpy.load('/mnt/md0/user/scheuererra68323/LOSARD_w2vseq_Y_full_val.npy', mmap_mode='r')\n",
    "\n",
    "X_test =  numpy.load('/mnt/md0/user/scheuererra68323/JTT_w2vseq_X.npy',  mmap_mode='r')\n",
    "Y_test =  numpy.load('/mnt/md0/user/scheuererra68323/JTT_w2vseq_Y.npy',  mmap_mode='r')\n",
    "\n",
    "classWeights = numpy.load('/mnt/md0/user/scheuererra68323/LOSARD_w2vseq_weights_full_train.npy')\n",
    "classWeights = { 0: classWeights[0], 1: classWeights[1] }\n",
    "print(f\"class weights: {classWeights}\\n\")\n",
    "\n",
    "print(\"Y_train:\")\n",
    "print(Counter(Y_train))\n",
    "print(X_train.shape)\n",
    "print(Y_train.shape)\n",
    "\n",
    "print(\"\\nY_val:\")\n",
    "print(Counter(Y_val))\n",
    "print(X_val.shape)\n",
    "print(Y_val.shape)\n",
    "\n",
    "print(\"\\nY_test:\")\n",
    "print(Counter(Y_test))\n",
    "print(X_test.shape)\n",
    "print(Y_test.shape)\n",
    "\n",
    "train_gen = ResNetDataGenerator(_X=X_train, _y=Y_train, batch_size=512)\n",
    "val_gen =   ResNetDataGenerator(_X=X_val,   _y=Y_val,   batch_size=512)\n",
    "test_gen =  ResNetDataGenerator(_X=X_test,  _y=Y_test,  batch_size=512)"
   ]
  },
  {
   "cell_type": "markdown",
   "metadata": {},
   "source": [
    "## Build & train keras model"
   ]
  },
  {
   "cell_type": "code",
   "execution_count": 2,
   "metadata": {
    "scrolled": true
   },
   "outputs": [
    {
     "name": "stdout",
     "output_type": "stream",
     "text": [
      "Epoch 1/8\n",
      "65/65 [==============================] - 42s 647ms/step - loss: 2.7692 - accuracy: 0.5906 - val_loss: 62684405956608.0000 - val_accuracy: 0.9627\n",
      "Epoch 2/8\n",
      "65/65 [==============================] - 41s 629ms/step - loss: 0.6752 - accuracy: 0.5478 - val_loss: 76198816.0000 - val_accuracy: 0.9627\n",
      "Epoch 3/8\n",
      "65/65 [==============================] - 41s 631ms/step - loss: 0.6699 - accuracy: 0.4962 - val_loss: 199563.1094 - val_accuracy: 0.9627\n",
      "Epoch 4/8\n",
      "65/65 [==============================] - 41s 631ms/step - loss: 0.6741 - accuracy: 0.5360 - val_loss: 652.1354 - val_accuracy: 0.9622\n",
      "Epoch 5/8\n",
      "65/65 [==============================] - 41s 630ms/step - loss: 0.6751 - accuracy: 0.4906 - val_loss: 0.7172 - val_accuracy: 0.2905\n",
      "Epoch 6/8\n",
      "65/65 [==============================] - 41s 630ms/step - loss: 0.6604 - accuracy: 0.4902 - val_loss: 0.6756 - val_accuracy: 0.2475\n",
      "Epoch 7/8\n",
      "65/65 [==============================] - 41s 630ms/step - loss: 0.6299 - accuracy: 0.5997 - val_loss: 0.2650 - val_accuracy: 0.9627\n",
      "Epoch 8/8\n",
      "65/65 [==============================] - 41s 630ms/step - loss: 0.4503 - accuracy: 0.7849 - val_loss: 0.0794 - val_accuracy: 0.9681\n"
     ]
    }
   ],
   "source": [
    "# https://keras.io/api/applications/resnet/#resnet50-function\n",
    "model = applications.ResNet50(\n",
    "    include_top=True,\n",
    "    weights=None,\n",
    "    input_tensor=None,\n",
    "    input_shape=(100, 100, 1),\n",
    "    pooling=None,\n",
    "    classes=2\n",
    ")\n",
    "\n",
    "sgd = tf.keras.optimizers.SGD(learning_rate=0.1, momentum=0.95)\n",
    "model.compile(loss='categorical_crossentropy', optimizer=sgd, metrics=['accuracy'])\n",
    "\n",
    "history = model.fit(train_gen,\n",
    "                    epochs=8,\n",
    "                    verbose=True,\n",
    "                    validation_data=val_gen,\n",
    "                    class_weight=classWeights\n",
    "                   )"
   ]
  },
  {
   "cell_type": "markdown",
   "metadata": {},
   "source": [
    "## Evaluation"
   ]
  },
  {
   "cell_type": "code",
   "execution_count": 3,
   "metadata": {
    "scrolled": false
   },
   "outputs": [
    {
     "name": "stderr",
     "output_type": "stream",
     "text": [
      "/usr/local/lib/python3.8/dist-packages/sklearn/metrics/_classification.py:1221: UndefinedMetricWarning: Precision and F-score are ill-defined and being set to 0.0 in labels with no predicted samples. Use `zero_division` parameter to control this behavior.\n",
      "  _warn_prf(average, modifier, msg_start, len(result))\n"
     ]
    },
    {
     "name": "stdout",
     "output_type": "stream",
     "text": [
      "              precision    recall  f1-score   support\n",
      "\n",
      "         0.0       0.97      1.00      0.99     21243\n",
      "         1.0       0.00      0.00      0.00       608\n",
      "\n",
      "    accuracy                           0.97     21851\n",
      "   macro avg       0.49      0.50      0.49     21851\n",
      "weighted avg       0.95      0.97      0.96     21851\n",
      "\n",
      "Confusion matrix:\n",
      "[[21243     0]\n",
      " [  608     0]]\n",
      "\n",
      "Confusion matrix (Percentages):\n",
      "[[97.218  0.   ]\n",
      " [ 2.782  0.   ]]\n",
      "\n",
      "Metrics:\n",
      "Sensitivity (TPR): 0.000000\n",
      "Specifity (TNR):   1.000000\n",
      "\n",
      "FPR: 0.000000\n",
      "FNR: 1.000000\n",
      "\n",
      "Balanced accuracy: 0.500000\n",
      "\n",
      "Test loss:\t0.172545\n",
      "Test accuracy:\t0.972175\n"
     ]
    },
    {
     "data": {
      "image/png": "[encoded data removed]",
      "text/plain": [
       "<Figure size 432x288 with 1 Axes>"
      ]
     },
     "metadata": {
      "needs_background": "light"
     },
     "output_type": "display_data"
    },
    {
     "data": {
      "image/png": "[encoded data removed]",
      "text/plain": [
       "<Figure size 432x288 with 1 Axes>"
      ]
     },
     "metadata": {
      "needs_background": "light"
     },
     "output_type": "display_data"
    }
   ],
   "source": [
    "Y_pred = numpy.argmax( model.predict(test_gen) , axis=1 )\n",
    "\n",
    "print(classification_report(Y_test, Y_pred))\n",
    "print_metrics(confusion_matrix(Y_test, Y_pred), Y_test)\n",
    "print()\n",
    "score = model.evaluate(test_gen, verbose=False)\n",
    "print('Test loss:\\t{:.6f}'.format(score[0]))\n",
    "print('Test accuracy:\\t{:.6f}'.format(score[1]))\n",
    "\n",
    "plot_loss(history)\n",
    "plot_accuracy(history)"
   ]
  },
  {
   "cell_type": "code",
   "execution_count": 5,
   "metadata": {},
   "outputs": [],
   "source": [
    "model.save('testJTT_ResNet_word2vec_weighted.h5')"
   ]
  },
  {
   "cell_type": "code",
   "execution_count": null,
   "metadata": {},
   "outputs": [],
   "source": []
  }
 ],
 "metadata": {
  "kernelspec": {
   "display_name": "Python 3.8",
   "language": "python",
   "name": "python38"
  },
  "language_info": {
   "codemirror_mode": {
    "name": "ipython",
    "version": 3
   },
   "file_extension": ".py",
   "mimetype": "text/x-python",
   "name": "python",
   "nbconvert_exporter": "python",
   "pygments_lexer": "ipython3",
   "version": "3.8.2"
  }
 },
 "nbformat": 4,
 "nbformat_minor": 2
}
