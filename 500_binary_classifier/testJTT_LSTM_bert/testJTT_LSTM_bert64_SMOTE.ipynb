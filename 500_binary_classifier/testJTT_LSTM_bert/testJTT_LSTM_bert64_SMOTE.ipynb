{
 "cells": [
  {
   "cell_type": "markdown",
   "metadata": {},
   "source": [
    "# LSTM - bert128\n",
    "\n",
    "- **Training set**: LO_SARD102\n",
    "- **Test/Validation set:** JTT\n",
    "- **Features**: bert sequence (64)\n",
    "- **Class imbalance processing**: SMOTE"
   ]
  },
  {
   "cell_type": "code",
   "execution_count": 2,
   "metadata": {
    "scrolled": true
   },
   "outputs": [
    {
     "name": "stdout",
     "output_type": "stream",
     "text": [
      "Counter output before SMOTE: Counter({0: 15656, 1: 308})\n",
      "Counter output after SMOTE: Counter({0: 15656, 1: 15656})\n",
      "(31312, 64, 768)\n",
      "(31312,)\n",
      "(3991, 64, 768)\n",
      "(3991,)\n",
      "(5607, 64, 768)\n",
      "(5607,)\n"
     ]
    }
   ],
   "source": [
    "import tensorflow as tf\n",
    "from tensorflow import keras\n",
    "from tensorflow.keras import layers\n",
    "import pandas as pd\n",
    "import numpy as np\n",
    "import matplotlib.pyplot as plt\n",
    "from helper_functions import *\n",
    "from sklearn.model_selection import train_test_split\n",
    "from sklearn.metrics import classification_report\n",
    "\n",
    "def oversample_smote(X, y):\n",
    "    from imblearn.over_sampling import SMOTE\n",
    "    # summarize the new class distribution\n",
    "    counter = Counter(y)\n",
    "    print(\"Counter output before SMOTE:\", counter)\n",
    "    \n",
    "    # transform the dataset\n",
    "    oversample = SMOTE()\n",
    "    X, y = oversample.fit_resample(X, y)\n",
    "    \n",
    "    # summarize the new class distribution\n",
    "    counter = Counter(y)\n",
    "    print(\"Counter output after SMOTE:\", counter)\n",
    "    return X, y\n",
    "\n",
    "\n",
    "X_train = numpy.load('/mnt/md0/user/scheuererra68323/LOSARD102_bert64_X.npy')\n",
    "Y_train = pd.read_hdf('/mnt/md0/user/scheuererra68323/LOSARD102_bert64_y.h5').is_vulnerable.values\n",
    "\n",
    "X_test = numpy.load('/mnt/md0/user/scheuererra68323/JTT_bert64_X.npy')\n",
    "Y_test = pd.read_hdf('/mnt/md0/user/scheuererra68323/JTT_bert64_y.h5').is_vulnerable.values\n",
    "\n",
    "X_train, X_val, Y_train, Y_val = train_test_split(\n",
    "    X_train, Y_train, stratify=Y_train, test_size=0.2, random_state=10\n",
    ")\n",
    "\n",
    "# oversample class 1\n",
    "X_train, Y_train = oversample_smote(np.reshape(X_train, (-1, 64*768)), Y_train )\n",
    "X_train = np.reshape( X_train, (-1, 64, 768) )\n",
    "\n",
    "print(X_train.shape)\n",
    "print(Y_train.shape)\n",
    "print(X_val.shape)\n",
    "print(Y_val.shape)\n",
    "print(X_test.shape)\n",
    "print(Y_test.shape)"
   ]
  },
  {
   "cell_type": "markdown",
   "metadata": {},
   "source": [
    "## Variant 1"
   ]
  },
  {
   "cell_type": "code",
   "execution_count": 4,
   "metadata": {
    "collapsed": true
   },
   "outputs": [
    {
     "name": "stdout",
     "output_type": "stream",
     "text": [
      "Model: \"sequential_1\"\n",
      "_________________________________________________________________\n",
      "Layer (type)                 Output Shape              Param #   \n",
      "=================================================================\n",
      "lstm_1 (LSTM)                (None, 64, 512)           2623488   \n",
      "_________________________________________________________________\n",
      "dropout_1 (Dropout)          (None, 64, 512)           0         \n",
      "_________________________________________________________________\n",
      "time_distributed_1 (TimeDist (None, 64, 256)           131328    \n",
      "_________________________________________________________________\n",
      "flatten_1 (Flatten)          (None, 16384)             0         \n",
      "_________________________________________________________________\n",
      "dense_5 (Dense)              (None, 128)               2097280   \n",
      "_________________________________________________________________\n",
      "dense_6 (Dense)              (None, 64)                8256      \n",
      "_________________________________________________________________\n",
      "dense_7 (Dense)              (None, 1)                 65        \n",
      "=================================================================\n",
      "Total params: 4,860,417\n",
      "Trainable params: 4,860,417\n",
      "Non-trainable params: 0\n",
      "_________________________________________________________________\n",
      "Epoch 1/8\n",
      "62/62 [==============================] - 6s 103ms/step - loss: 0.8689 - accuracy: 0.9491 - val_loss: 0.0064 - val_accuracy: 0.9977\n",
      "Epoch 2/8\n",
      "62/62 [==============================] - 6s 92ms/step - loss: 0.0039 - accuracy: 0.9985 - val_loss: 0.0050 - val_accuracy: 0.9987\n",
      "Epoch 3/8\n",
      "62/62 [==============================] - 6s 90ms/step - loss: 0.0021 - accuracy: 0.9995 - val_loss: 0.0063 - val_accuracy: 0.9987\n",
      "Epoch 4/8\n",
      "62/62 [==============================] - 6s 92ms/step - loss: 0.0019 - accuracy: 0.9994 - val_loss: 0.0072 - val_accuracy: 0.9987\n",
      "Epoch 5/8\n",
      "62/62 [==============================] - 6s 92ms/step - loss: 0.0017 - accuracy: 0.9996 - val_loss: 0.0054 - val_accuracy: 0.9987\n",
      "Epoch 6/8\n",
      "62/62 [==============================] - 6s 91ms/step - loss: 0.0016 - accuracy: 0.9996 - val_loss: 0.0066 - val_accuracy: 0.9987\n",
      "Epoch 7/8\n",
      "62/62 [==============================] - 6s 90ms/step - loss: 0.0020 - accuracy: 0.9995 - val_loss: 0.0053 - val_accuracy: 0.9987\n",
      "Epoch 8/8\n",
      "62/62 [==============================] - 6s 91ms/step - loss: 0.0014 - accuracy: 0.9996 - val_loss: 0.0053 - val_accuracy: 0.9995\n"
     ]
    }
   ],
   "source": [
    "def run_classifier(_X_train, _Y_train, _X_val, _Y_val):\n",
    "    model = keras.Sequential()\n",
    "    model.add(layers.LSTM(512, input_shape=(_X_train.shape[1], _X_train.shape[2]), \n",
    "                          return_sequences=True))\n",
    "    model.add(layers.Dropout(0.1))\n",
    "    model.add( layers.TimeDistributed(layers.Dense(256)) )\n",
    "    model.add(layers.Flatten())\n",
    "    model.add(layers.Dense(128))\n",
    "    model.add(layers.Dense(64))\n",
    "    model.add(layers.Dense(1, activation='sigmoid'))\n",
    "\n",
    "    model.summary()\n",
    "    model.compile(loss='binary_crossentropy', \n",
    "                  optimizer='adam', \n",
    "                  metrics=['accuracy']\n",
    "                 )\n",
    "    \n",
    "    \n",
    "    history = model.fit(_X_train, _Y_train,\n",
    "                        batch_size=512,\n",
    "                        epochs=8,\n",
    "                        verbose=True,\n",
    "                        validation_data=(_X_val, _Y_val)\n",
    "                        )\n",
    "    \n",
    "    return model, history\n",
    "\n",
    "\n",
    "model, history = run_classifier(X_train, Y_train, X_val, Y_val)"
   ]
  },
  {
   "cell_type": "code",
   "execution_count": 5,
   "metadata": {
    "scrolled": false
   },
   "outputs": [
    {
     "name": "stderr",
     "output_type": "stream",
     "text": [
      "/usr/local/lib/python3.8/dist-packages/sklearn/metrics/_classification.py:1221: UndefinedMetricWarning: Precision and F-score are ill-defined and being set to 0.0 in labels with no predicted samples. Use `zero_division` parameter to control this behavior.\n",
      "  _warn_prf(average, modifier, msg_start, len(result))\n"
     ]
    },
    {
     "name": "stdout",
     "output_type": "stream",
     "text": [
      "              precision    recall  f1-score   support\n",
      "\n",
      "           0       0.99      1.00      1.00      5578\n",
      "           1       0.00      0.00      0.00        29\n",
      "\n",
      "    accuracy                           0.99      5607\n",
      "   macro avg       0.50      0.50      0.50      5607\n",
      "weighted avg       0.99      0.99      0.99      5607\n",
      "\n",
      "Confusion matrix:\n",
      "[[5578    0]\n",
      " [  29    0]]\n",
      "\n",
      "Confusion matrix (Percentages):\n",
      "[[99.483  0.   ]\n",
      " [ 0.517  0.   ]]\n",
      "\n",
      "Metrics:\n",
      "Sensitivity (TPR): 0.000000\n",
      "Specifity (TNR):   1.000000\n",
      "\n",
      "FPR: 0.000000\n",
      "FNR: 1.000000\n",
      "\n",
      "Balanced accuracy: 0.500000\n",
      "\n",
      "Test loss:\t0.092521\n",
      "Test accuracy:\t0.994828\n"
     ]
    },
    {
     "data": {
      "image/png": "[encoded data removed]",
      "text/plain": [
       "<Figure size 432x288 with 1 Axes>"
      ]
     },
     "metadata": {
      "needs_background": "light"
     },
     "output_type": "display_data"
    },
    {
     "data": {
      "image/png": "[encoded data removed]",
      "text/plain": [
       "<Figure size 432x288 with 1 Axes>"
      ]
     },
     "metadata": {
      "needs_background": "light"
     },
     "output_type": "display_data"
    }
   ],
   "source": [
    "def evaluate_classifier(_model, _history):\n",
    "    Y_pred = numpy.round(_model.predict(X_test))\n",
    "\n",
    "    print(classification_report(Y_test, Y_pred))\n",
    "    print_metrics(confusion_matrix(Y_test, Y_pred), Y_test)\n",
    "    print()\n",
    "    score = _model.evaluate(X_test, Y_test, verbose=False)\n",
    "    print('Test loss:\\t{:.6f}'.format(score[0]))\n",
    "    print('Test accuracy:\\t{:.6f}'.format(score[1]))\n",
    "\n",
    "    plot_loss(_history)\n",
    "    plot_accuracy(_history)\n",
    "\n",
    "\n",
    "evaluate_classifier(model, history)"
   ]
  },
  {
   "cell_type": "code",
   "execution_count": 6,
   "metadata": {},
   "outputs": [],
   "source": [
    "model.save('testJTT_LSTM_bert64_SMOTE_Var1.h5')"
   ]
  },
  {
   "cell_type": "code",
   "execution_count": null,
   "metadata": {},
   "outputs": [],
   "source": []
  },
  {
   "cell_type": "code",
   "execution_count": null,
   "metadata": {},
   "outputs": [],
   "source": []
  },
  {
   "cell_type": "markdown",
   "metadata": {},
   "source": [
    "## Variant 2"
   ]
  },
  {
   "cell_type": "code",
   "execution_count": 7,
   "metadata": {
    "collapsed": true
   },
   "outputs": [
    {
     "name": "stdout",
     "output_type": "stream",
     "text": [
      "Model: \"sequential_2\"\n",
      "_________________________________________________________________\n",
      "Layer (type)                 Output Shape              Param #   \n",
      "=================================================================\n",
      "lstm_2 (LSTM)                (None, 64, 256)           1049600   \n",
      "_________________________________________________________________\n",
      "dropout_2 (Dropout)          (None, 64, 256)           0         \n",
      "_________________________________________________________________\n",
      "time_distributed_2 (TimeDist (None, 64, 256)           65792     \n",
      "_________________________________________________________________\n",
      "time_distributed_3 (TimeDist (None, 64, 128)           32896     \n",
      "_________________________________________________________________\n",
      "flatten_2 (Flatten)          (None, 8192)              0         \n",
      "_________________________________________________________________\n",
      "dropout_3 (Dropout)          (None, 8192)              0         \n",
      "_________________________________________________________________\n",
      "dense_10 (Dense)             (None, 1)                 8193      \n",
      "=================================================================\n",
      "Total params: 1,156,481\n",
      "Trainable params: 1,156,481\n",
      "Non-trainable params: 0\n",
      "_________________________________________________________________\n",
      "Epoch 1/4\n",
      "31/31 [==============================] - 5s 157ms/step - loss: 0.0458 - accuracy: 0.9793 - val_loss: 0.0045 - val_accuracy: 0.9985\n",
      "Epoch 2/4\n",
      "31/31 [==============================] - 3s 110ms/step - loss: 0.0020 - accuracy: 0.9993 - val_loss: 0.0057 - val_accuracy: 0.9985\n",
      "Epoch 3/4\n",
      "31/31 [==============================] - 3s 112ms/step - loss: 0.0015 - accuracy: 0.9995 - val_loss: 0.0054 - val_accuracy: 0.9987\n",
      "Epoch 4/4\n",
      "31/31 [==============================] - 3s 105ms/step - loss: 0.0016 - accuracy: 0.9995 - val_loss: 0.0053 - val_accuracy: 0.9987\n"
     ]
    }
   ],
   "source": [
    "def run_classifier(_X_train, _Y_train, _X_val, _Y_val):    \n",
    "    model = keras.Sequential()\n",
    "    model.add(layers.LSTM(256, input_shape=(_X_train.shape[1], _X_train.shape[2]), \n",
    "                          return_sequences=True))\n",
    "    model.add(layers.Dropout(0.1))\n",
    "    model.add( layers.TimeDistributed(layers.Dense(256)) )\n",
    "    model.add( layers.TimeDistributed(layers.Dense(128)) )\n",
    "    model.add(layers.Flatten())\n",
    "    model.add(layers.Dropout(0.1))\n",
    "    model.add(layers.Dense(1, activation='sigmoid'))\n",
    "\n",
    "    model.summary()\n",
    "    model.compile(loss='binary_crossentropy', \n",
    "                  optimizer='adam', \n",
    "                  metrics=['accuracy']\n",
    "                 )\n",
    "    \n",
    "    \n",
    "    history = model.fit(_X_train, _Y_train,\n",
    "                        batch_size=1024,\n",
    "                        epochs=4,\n",
    "                        verbose=True,\n",
    "                        validation_data=(_X_val, _Y_val)\n",
    "                        )\n",
    "    \n",
    "    return model, history\n",
    "\n",
    "\n",
    "modelv2, historyv2 = run_classifier(X_train, Y_train, X_val, Y_val)"
   ]
  },
  {
   "cell_type": "code",
   "execution_count": 8,
   "metadata": {
    "scrolled": false
   },
   "outputs": [
    {
     "name": "stdout",
     "output_type": "stream",
     "text": [
      "              precision    recall  f1-score   support\n",
      "\n",
      "           0       0.99      1.00      1.00      5578\n",
      "           1       0.00      0.00      0.00        29\n",
      "\n",
      "    accuracy                           0.99      5607\n",
      "   macro avg       0.50      0.50      0.50      5607\n",
      "weighted avg       0.99      0.99      0.99      5607\n",
      "\n",
      "Confusion matrix:\n",
      "[[5578    0]\n",
      " [  29    0]]\n",
      "\n",
      "Confusion matrix (Percentages):\n",
      "[[99.483  0.   ]\n",
      " [ 0.517  0.   ]]\n",
      "\n",
      "Metrics:\n",
      "Sensitivity (TPR): 0.000000\n",
      "Specifity (TNR):   1.000000\n",
      "\n",
      "FPR: 0.000000\n",
      "FNR: 1.000000\n",
      "\n",
      "Balanced accuracy: 0.500000\n",
      "\n",
      "Test loss:\t0.059540\n",
      "Test accuracy:\t0.994828\n"
     ]
    },
    {
     "data": {
      "image/png": "[encoded data removed]",
      "text/plain": [
       "<Figure size 432x288 with 1 Axes>"
      ]
     },
     "metadata": {
      "needs_background": "light"
     },
     "output_type": "display_data"
    },
    {
     "data": {
      "image/png": "[encoded data removed]",
      "text/plain": [
       "<Figure size 432x288 with 1 Axes>"
      ]
     },
     "metadata": {
      "needs_background": "light"
     },
     "output_type": "display_data"
    }
   ],
   "source": [
    "evaluate_classifier(modelv2, historyv2)"
   ]
  },
  {
   "cell_type": "code",
   "execution_count": 9,
   "metadata": {},
   "outputs": [],
   "source": [
    "modelv2.save('testJTT_LSTM_bert64_SMOTE_Var2.h5')"
   ]
  }
 ],
 "metadata": {
  "kernelspec": {
   "display_name": "Python 3.8",
   "language": "python",
   "name": "python38"
  },
  "language_info": {
   "codemirror_mode": {
    "name": "ipython",
    "version": 3
   },
   "file_extension": ".py",
   "mimetype": "text/x-python",
   "name": "python",
   "nbconvert_exporter": "python",
   "pygments_lexer": "ipython3",
   "version": "3.8.2"
  }
 },
 "nbformat": 4,
 "nbformat_minor": 2
}
