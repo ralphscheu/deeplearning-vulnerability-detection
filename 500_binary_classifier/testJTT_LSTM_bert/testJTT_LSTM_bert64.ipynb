{
 "cells": [
  {
   "cell_type": "markdown",
   "metadata": {},
   "source": [
    "# LSTM - bert128\n",
    "\n",
    "- **Training set**: LO_SARD102\n",
    "- **Test/Validation set:** JTT\n",
    "- **Features**: bert sequence (64)\n",
    "- **Class imbalance processing**: None"
   ]
  },
  {
   "cell_type": "code",
   "execution_count": 1,
   "metadata": {
    "scrolled": false
   },
   "outputs": [
    {
     "name": "stdout",
     "output_type": "stream",
     "text": [
      "Training dataset label counts: Counter({0: 15656, 1: 308})\n",
      "(15964, 64, 768)\n",
      "(15964,)\n",
      "(3991, 64, 768)\n",
      "(3991,)\n",
      "(5607, 64, 768)\n",
      "(5607,)\n"
     ]
    }
   ],
   "source": [
    "import tensorflow as tf\n",
    "from tensorflow import keras\n",
    "from tensorflow.keras import layers\n",
    "import pandas as pd\n",
    "import numpy as np\n",
    "import matplotlib.pyplot as plt\n",
    "from helper_functions import *\n",
    "from sklearn.model_selection import train_test_split\n",
    "from sklearn.metrics import classification_report\n",
    "from collections import Counter\n",
    "\n",
    "X_train = numpy.load('/mnt/md0/user/scheuererra68323/LOSARD102_bert64_X.npy')\n",
    "Y_train = pd.read_hdf('/mnt/md0/user/scheuererra68323/LOSARD102_bert64_y.h5').is_vulnerable.values\n",
    "\n",
    "X_test = numpy.load('/mnt/md0/user/scheuererra68323/JTT_bert64_X.npy')\n",
    "Y_test = pd.read_hdf('/mnt/md0/user/scheuererra68323/JTT_bert64_y.h5').is_vulnerable.values\n",
    "\n",
    "X_train, X_val, Y_train, Y_val = train_test_split(\n",
    "    X_train, Y_train, stratify=Y_train, test_size=0.2, random_state=10\n",
    ")\n",
    "print(\"Training dataset label counts:\", Counter(Y_train))\n",
    "\n",
    "print(X_train.shape)\n",
    "print(Y_train.shape)\n",
    "print(X_val.shape)\n",
    "print(Y_val.shape)\n",
    "print(X_test.shape)\n",
    "print(Y_test.shape)"
   ]
  },
  {
   "cell_type": "code",
   "execution_count": 2,
   "metadata": {
    "scrolled": true
   },
   "outputs": [
    {
     "name": "stdout",
     "output_type": "stream",
     "text": [
      "Model: \"sequential\"\n",
      "_________________________________________________________________\n",
      "Layer (type)                 Output Shape              Param #   \n",
      "=================================================================\n",
      "lstm (LSTM)                  (None, 64, 256)           1049600   \n",
      "_________________________________________________________________\n",
      "dropout (Dropout)            (None, 64, 256)           0         \n",
      "_________________________________________________________________\n",
      "time_distributed (TimeDistri (None, 64, 16)            4112      \n",
      "_________________________________________________________________\n",
      "flatten (Flatten)            (None, 1024)              0         \n",
      "_________________________________________________________________\n",
      "dense_1 (Dense)              (None, 1)                 1025      \n",
      "=================================================================\n",
      "Total params: 1,054,737\n",
      "Trainable params: 1,054,737\n",
      "Non-trainable params: 0\n",
      "_________________________________________________________________\n",
      "\n",
      "classWeights: {0: 0.5098364844149208, 1: 25.915584415584416}\n",
      "\n",
      "Epoch 1/8\n",
      "32/32 [==============================] - 3s 103ms/step - loss: 0.0419 - accuracy: 0.9944 - val_loss: 0.0050 - val_accuracy: 0.9995\n",
      "Epoch 2/8\n",
      "32/32 [==============================] - 2s 75ms/step - loss: 0.0023 - accuracy: 0.9998 - val_loss: 0.0043 - val_accuracy: 0.9995\n",
      "Epoch 3/8\n",
      "32/32 [==============================] - 2s 77ms/step - loss: 0.0017 - accuracy: 0.9998 - val_loss: 0.0041 - val_accuracy: 0.9995\n",
      "Epoch 4/8\n",
      "32/32 [==============================] - 2s 75ms/step - loss: 0.0014 - accuracy: 0.9998 - val_loss: 0.0035 - val_accuracy: 0.9995\n",
      "Epoch 5/8\n",
      "32/32 [==============================] - 3s 95ms/step - loss: 9.5591e-04 - accuracy: 0.9998 - val_loss: 0.0031 - val_accuracy: 0.9995\n",
      "Epoch 6/8\n",
      "32/32 [==============================] - 5s 153ms/step - loss: 8.8184e-04 - accuracy: 0.9998 - val_loss: 0.0031 - val_accuracy: 0.9995\n",
      "Epoch 7/8\n",
      "32/32 [==============================] - 5s 148ms/step - loss: 7.6900e-04 - accuracy: 0.9998 - val_loss: 0.0033 - val_accuracy: 0.9995\n",
      "Epoch 8/8\n",
      "32/32 [==============================] - 5s 144ms/step - loss: 6.4557e-04 - accuracy: 0.9998 - val_loss: 0.0033 - val_accuracy: 0.9995\n"
     ]
    }
   ],
   "source": [
    "def run_classifier():\n",
    "    model = keras.Sequential()\n",
    "    model.add( layers.LSTM(256, input_shape=(X_train.shape[1], X_train.shape[2]), \n",
    "                          return_sequences=True) )\n",
    "    model.add( layers.Dropout(0.1) )\n",
    "    model.add( layers.TimeDistributed(layers.Dense(16)) )\n",
    "    model.add( layers.Flatten())\n",
    "    model.add( layers.Dense(1, activation='sigmoid') )\n",
    "\n",
    "    model.summary()\n",
    "    model.compile(loss='binary_crossentropy',\n",
    "                  optimizer='adam', \n",
    "                  metrics=['accuracy']\n",
    "                 )\n",
    "    \n",
    "    classWeights = {\n",
    "        0: ( 1 / Counter(Y_train)[0] ) * Y_train.shape[0] / 2.0 ,\n",
    "        1: ( 1 / Counter(Y_train)[1] ) * Y_train.shape[0] / 2.0\n",
    "    }\n",
    "    print(f\"\\nclassWeights: {classWeights}\\n\")\n",
    "\n",
    "    history = model.fit(X_train, Y_train,\n",
    "                        batch_size=512,\n",
    "                        epochs=8,\n",
    "                        verbose=True,\n",
    "                        validation_data=(X_val, Y_val)\n",
    "                        )\n",
    "    \n",
    "    return model, history\n",
    "\n",
    "\n",
    "model, history = run_classifier()"
   ]
  },
  {
   "cell_type": "code",
   "execution_count": 3,
   "metadata": {
    "scrolled": false
   },
   "outputs": [
    {
     "name": "stderr",
     "output_type": "stream",
     "text": [
      "/usr/local/lib/python3.8/dist-packages/sklearn/metrics/_classification.py:1221: UndefinedMetricWarning: Precision and F-score are ill-defined and being set to 0.0 in labels with no predicted samples. Use `zero_division` parameter to control this behavior.\n",
      "  _warn_prf(average, modifier, msg_start, len(result))\n"
     ]
    },
    {
     "name": "stdout",
     "output_type": "stream",
     "text": [
      "              precision    recall  f1-score   support\n",
      "\n",
      "           0       0.99      1.00      1.00      5578\n",
      "           1       0.00      0.00      0.00        29\n",
      "\n",
      "    accuracy                           0.99      5607\n",
      "   macro avg       0.50      0.50      0.50      5607\n",
      "weighted avg       0.99      0.99      0.99      5607\n",
      "\n",
      "Confusion matrix:\n",
      "[[5578    0]\n",
      " [  29    0]]\n",
      "\n",
      "Confusion matrix (Percentages):\n",
      "[[99.483  0.   ]\n",
      " [ 0.517  0.   ]]\n",
      "\n",
      "Metrics:\n",
      "Sensitivity (TPR): 0.000000\n",
      "Specifity (TNR):   1.000000\n",
      "\n",
      "FPR: 0.000000\n",
      "FNR: 1.000000\n",
      "\n",
      "Balanced accuracy: 0.500000\n",
      "\n",
      "Test loss:\t0.050632\n",
      "Test accuracy:\t0.994828\n"
     ]
    },
    {
     "data": {
      "image/png": "[encoded data removed]",
      "text/plain": [
       "<Figure size 432x288 with 1 Axes>"
      ]
     },
     "metadata": {
      "needs_background": "light"
     },
     "output_type": "display_data"
    },
    {
     "data": {
      "image/png": "[encoded data removed]",
      "text/plain": [
       "<Figure size 432x288 with 1 Axes>"
      ]
     },
     "metadata": {
      "needs_background": "light"
     },
     "output_type": "display_data"
    }
   ],
   "source": [
    "def evaluate_classifier(_model, _history):\n",
    "    Y_pred = numpy.round(_model.predict(X_test))\n",
    "\n",
    "    print(classification_report(Y_test, Y_pred))\n",
    "    print_metrics(confusion_matrix(Y_test, Y_pred), Y_test)\n",
    "    print()\n",
    "    score = _model.evaluate(X_test, Y_test, verbose=False)\n",
    "    print('Test loss:\\t{:.6f}'.format(score[0]))\n",
    "    print('Test accuracy:\\t{:.6f}'.format(score[1]))\n",
    "\n",
    "    plot_loss(_history)\n",
    "    plot_accuracy(_history)\n",
    "\n",
    "\n",
    "evaluate_classifier(model, history)"
   ]
  },
  {
   "cell_type": "code",
   "execution_count": 4,
   "metadata": {},
   "outputs": [],
   "source": [
    "model.save('testJTT_LSTM_bert64.h5')"
   ]
  },
  {
   "cell_type": "code",
   "execution_count": null,
   "metadata": {},
   "outputs": [],
   "source": []
  }
 ],
 "metadata": {
  "kernelspec": {
   "display_name": "Python 3.8",
   "language": "python",
   "name": "python38"
  },
  "language_info": {
   "codemirror_mode": {
    "name": "ipython",
    "version": 3
   },
   "file_extension": ".py",
   "mimetype": "text/x-python",
   "name": "python",
   "nbconvert_exporter": "python",
   "pygments_lexer": "ipython3",
   "version": "3.8.2"
  }
 },
 "nbformat": 4,
 "nbformat_minor": 2
}
