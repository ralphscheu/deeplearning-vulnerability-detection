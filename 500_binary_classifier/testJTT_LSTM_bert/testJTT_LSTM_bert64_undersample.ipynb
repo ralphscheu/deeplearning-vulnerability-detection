{
 "cells": [
  {
   "cell_type": "markdown",
   "metadata": {},
   "source": [
    "# LSTM - bert64\n",
    "\n",
    "- **Training set**: LO_SARD102\n",
    "- **Test/Validation set:** JTT\n",
    "- **Features**: bert sequence (64)\n",
    "- **Class imbalance processing**: Undersample"
   ]
  },
  {
   "cell_type": "code",
   "execution_count": 1,
   "metadata": {
    "scrolled": false
   },
   "outputs": [
    {
     "name": "stdout",
     "output_type": "stream",
     "text": [
      "class counts undersampled data set: Counter({0: 308, 1: 308})\n",
      "(616, 64, 768)\n",
      "(616,)\n",
      "(3991, 64, 768)\n",
      "(3991,)\n",
      "(5607, 64, 768)\n",
      "(5607,)\n"
     ]
    }
   ],
   "source": [
    "import tensorflow as tf\n",
    "from tensorflow import keras\n",
    "from tensorflow.keras import layers\n",
    "import pandas as pd\n",
    "import numpy as np\n",
    "import matplotlib.pyplot as plt\n",
    "from helper_functions import *\n",
    "from sklearn.model_selection import train_test_split\n",
    "from sklearn.metrics import classification_report\n",
    "from collections import Counter\n",
    "\n",
    "X_train = numpy.load('/mnt/md0/user/scheuererra68323/LOSARD102_bert64_X.npy')\n",
    "Y_train = pd.read_hdf('/mnt/md0/user/scheuererra68323/LOSARD102_bert64_y.h5').is_vulnerable.values\n",
    "\n",
    "X_test = numpy.load('/mnt/md0/user/scheuererra68323/JTT_bert64_X.npy')\n",
    "Y_test = pd.read_hdf('/mnt/md0/user/scheuererra68323/JTT_bert64_y.h5').is_vulnerable.values\n",
    "\n",
    "\n",
    "X_train, X_val, Y_train, Y_val = train_test_split(\n",
    "    X_train, Y_train, stratify=Y_train, test_size=0.2, random_state=10\n",
    ")\n",
    "\n",
    "# undersample class 0\n",
    "X_train, Y_train = undersample(np.reshape(X_train, (-1, 64*768)), Y_train)\n",
    "X_train = np.reshape( X_train, (-1, 64, 768) )\n",
    "print(\"class counts undersampled data set:\", Counter(Y_train))\n",
    "\n",
    "print(X_train.shape)\n",
    "print(Y_train.shape)\n",
    "print(X_val.shape)\n",
    "print(Y_val.shape)\n",
    "print(X_test.shape)\n",
    "print(Y_test.shape)"
   ]
  },
  {
   "cell_type": "code",
   "execution_count": 5,
   "metadata": {
    "scrolled": true
   },
   "outputs": [
    {
     "name": "stdout",
     "output_type": "stream",
     "text": [
      "Model: \"sequential_1\"\n",
      "_________________________________________________________________\n",
      "Layer (type)                 Output Shape              Param #   \n",
      "=================================================================\n",
      "lstm_1 (LSTM)                (None, 64, 128)           459264    \n",
      "_________________________________________________________________\n",
      "dropout_1 (Dropout)          (None, 64, 128)           0         \n",
      "_________________________________________________________________\n",
      "time_distributed_1 (TimeDist (None, 64, 32)            4128      \n",
      "_________________________________________________________________\n",
      "flatten_1 (Flatten)          (None, 2048)              0         \n",
      "_________________________________________________________________\n",
      "dense_3 (Dense)              (None, 1)                 2049      \n",
      "=================================================================\n",
      "Total params: 465,441\n",
      "Trainable params: 465,441\n",
      "Non-trainable params: 0\n",
      "_________________________________________________________________\n",
      "Epoch 1/4\n",
      "10/10 [==============================] - 1s 137ms/step - loss: 0.2622 - accuracy: 0.8393 - val_loss: 0.0184 - val_accuracy: 0.9977\n",
      "Epoch 2/4\n",
      "10/10 [==============================] - 1s 69ms/step - loss: 0.0372 - accuracy: 0.9935 - val_loss: 0.0086 - val_accuracy: 0.9977\n",
      "Epoch 3/4\n",
      "10/10 [==============================] - 1s 69ms/step - loss: 0.0246 - accuracy: 0.9935 - val_loss: 0.0126 - val_accuracy: 0.9977\n",
      "Epoch 4/4\n",
      "10/10 [==============================] - 1s 73ms/step - loss: 0.0154 - accuracy: 0.9935 - val_loss: 0.0113 - val_accuracy: 0.9967\n"
     ]
    }
   ],
   "source": [
    "def run_classifier(_X_train, _Y_train, _X_val, _Y_val):\n",
    "    model = keras.Sequential()\n",
    "    model.add(layers.LSTM(128, input_shape=(_X_train.shape[1], _X_train.shape[2]), \n",
    "                          return_sequences=True))\n",
    "    model.add(layers.Dropout(0.1))\n",
    "    model.add( layers.TimeDistributed(layers.Dense(32)) )\n",
    "    model.add(layers.Flatten())\n",
    "    model.add(layers.Dense(1, activation='sigmoid'))\n",
    "\n",
    "    model.summary()\n",
    "    model.compile(loss='binary_crossentropy', \n",
    "                  optimizer='adam', \n",
    "                  metrics=['accuracy']\n",
    "                 )\n",
    "    \n",
    "    \n",
    "    history = model.fit(_X_train, _Y_train,\n",
    "                        batch_size=64,\n",
    "                        epochs=4,\n",
    "                        verbose=True,\n",
    "                        validation_data=(_X_val, _Y_val)\n",
    "                        )\n",
    "    \n",
    "    return model, history\n",
    "\n",
    "\n",
    "model, history = run_classifier(X_train, Y_train, X_val, Y_val)"
   ]
  },
  {
   "cell_type": "code",
   "execution_count": 6,
   "metadata": {
    "scrolled": false
   },
   "outputs": [
    {
     "name": "stdout",
     "output_type": "stream",
     "text": [
      "              precision    recall  f1-score   support\n",
      "\n",
      "           0       0.99      1.00      1.00      5578\n",
      "           1       0.00      0.00      0.00        29\n",
      "\n",
      "    accuracy                           0.99      5607\n",
      "   macro avg       0.50      0.50      0.50      5607\n",
      "weighted avg       0.99      0.99      0.99      5607\n",
      "\n",
      "Confusion matrix:\n",
      "[[5578    0]\n",
      " [  29    0]]\n",
      "\n",
      "Confusion matrix (Percentages):\n",
      "[[99.483  0.   ]\n",
      " [ 0.517  0.   ]]\n",
      "\n",
      "Metrics:\n",
      "Sensitivity (TPR): 0.000000\n",
      "Specifity (TNR):   1.000000\n",
      "\n",
      "FPR: 0.000000\n",
      "FNR: 1.000000\n",
      "\n",
      "Balanced accuracy: 0.500000\n",
      "\n",
      "Test loss:\t0.034482\n",
      "Test accuracy:\t0.994828\n"
     ]
    },
    {
     "data": {
      "image/png": "[encoded data removed]",
      "text/plain": [
       "<Figure size 432x288 with 1 Axes>"
      ]
     },
     "metadata": {
      "needs_background": "light"
     },
     "output_type": "display_data"
    },
    {
     "data": {
      "image/png": "[encoded data removed]",
      "text/plain": [
       "<Figure size 432x288 with 1 Axes>"
      ]
     },
     "metadata": {
      "needs_background": "light"
     },
     "output_type": "display_data"
    }
   ],
   "source": [
    "def evaluate_classifier(_model, _history):\n",
    "    Y_pred = numpy.round(_model.predict(X_test))\n",
    "\n",
    "    print(classification_report(Y_test, Y_pred))\n",
    "    print_metrics(confusion_matrix(Y_test, Y_pred), Y_test)\n",
    "    print()\n",
    "    score = _model.evaluate(X_test, Y_test, verbose=False)\n",
    "    print('Test loss:\\t{:.6f}'.format(score[0]))\n",
    "    print('Test accuracy:\\t{:.6f}'.format(score[1]))\n",
    "\n",
    "    plot_loss(_history)\n",
    "    plot_accuracy(_history)\n",
    "\n",
    "\n",
    "evaluate_classifier(model, history)"
   ]
  },
  {
   "cell_type": "code",
   "execution_count": 7,
   "metadata": {},
   "outputs": [],
   "source": [
    "model.save('testJTT_LSTM_bert64_undersample.h5')"
   ]
  },
  {
   "cell_type": "code",
   "execution_count": null,
   "metadata": {},
   "outputs": [],
   "source": []
  }
 ],
 "metadata": {
  "kernelspec": {
   "display_name": "Python 3.8",
   "language": "python",
   "name": "python38"
  },
  "language_info": {
   "codemirror_mode": {
    "name": "ipython",
    "version": 3
   },
   "file_extension": ".py",
   "mimetype": "text/x-python",
   "name": "python",
   "nbconvert_exporter": "python",
   "pygments_lexer": "ipython3",
   "version": "3.8.2"
  }
 },
 "nbformat": 4,
 "nbformat_minor": 2
}
