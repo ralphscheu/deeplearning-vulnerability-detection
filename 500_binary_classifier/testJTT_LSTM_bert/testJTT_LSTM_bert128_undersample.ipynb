{
 "cells": [
  {
   "cell_type": "markdown",
   "metadata": {},
   "source": [
    "# LSTM - bert128\n",
    "\n",
    "- **Training set**: LO_SARD102\n",
    "- **Test/Validation set:** JTT\n",
    "- **Features**: bert sequence (128)\n",
    "- **Class imbalance processing**: Undersample"
   ]
  },
  {
   "cell_type": "code",
   "execution_count": 4,
   "metadata": {
    "scrolled": false
   },
   "outputs": [
    {
     "name": "stdout",
     "output_type": "stream",
     "text": [
      "class counts undersampled data set: Counter({0: 366, 1: 366})\n",
      "(732, 128, 768)\n",
      "(732,)\n",
      "(10238, 128, 768)\n",
      "(10238,)\n",
      "(7972, 128, 768)\n",
      "(7972,)\n"
     ]
    }
   ],
   "source": [
    "import tensorflow as tf\n",
    "from tensorflow import keras\n",
    "from tensorflow.keras import layers\n",
    "import pandas as pd\n",
    "import numpy as np\n",
    "import matplotlib.pyplot as plt\n",
    "from helper_functions import *\n",
    "from sklearn.model_selection import train_test_split\n",
    "from sklearn.metrics import classification_report\n",
    "from collections import Counter\n",
    "\n",
    "X_train = numpy.load('/mnt/md0/user/scheuererra68323/LOSARD102_bert128_X.npy')\n",
    "Y_train = pd.read_hdf('/mnt/md0/user/scheuererra68323/LOSARD102_bert128_y.h5').is_vulnerable.values\n",
    "\n",
    "X_test = numpy.load('/mnt/md0/user/scheuererra68323/JTT_bert128_X.npy')\n",
    "Y_test = pd.read_hdf('/mnt/md0/user/scheuererra68323/JTT_bert128_y.h5').is_vulnerable.values\n",
    "\n",
    "\n",
    "X_train, X_val, Y_train, Y_val = train_test_split(\n",
    "    X_train, Y_train, stratify=Y_train, test_size=0.2, random_state=10\n",
    ")\n",
    "\n",
    "# undersample class 0\n",
    "X_train, Y_train = undersample(np.reshape(X_train, (-1, 128*768)), Y_train)\n",
    "X_train = np.reshape( X_train, (-1, 128, 768) )\n",
    "print(\"class counts undersampled data set:\", Counter(Y_train))\n",
    "\n",
    "print(X_train.shape)\n",
    "print(Y_train.shape)\n",
    "print(X_val.shape)\n",
    "print(Y_val.shape)\n",
    "print(X_test.shape)\n",
    "print(Y_test.shape)"
   ]
  },
  {
   "cell_type": "code",
   "execution_count": 10,
   "metadata": {
    "scrolled": true
   },
   "outputs": [
    {
     "name": "stdout",
     "output_type": "stream",
     "text": [
      "Model: \"sequential_4\"\n",
      "_________________________________________________________________\n",
      "Layer (type)                 Output Shape              Param #   \n",
      "=================================================================\n",
      "lstm_2 (LSTM)                (None, 128, 256)          1049600   \n",
      "_________________________________________________________________\n",
      "dropout_2 (Dropout)          (None, 128, 256)          0         \n",
      "_________________________________________________________________\n",
      "time_distributed_2 (TimeDist (None, 128, 16)           4112      \n",
      "_________________________________________________________________\n",
      "flatten_2 (Flatten)          (None, 2048)              0         \n",
      "_________________________________________________________________\n",
      "dense_5 (Dense)              (None, 1)                 2049      \n",
      "=================================================================\n",
      "Total params: 1,055,761\n",
      "Trainable params: 1,055,761\n",
      "Non-trainable params: 0\n",
      "_________________________________________________________________\n",
      "Epoch 1/12\n",
      "12/12 [==============================] - 6s 461ms/step - loss: 0.2815 - accuracy: 0.8593 - val_loss: 0.0662 - val_accuracy: 0.9749\n",
      "Epoch 2/12\n",
      "12/12 [==============================] - 3s 227ms/step - loss: 0.0992 - accuracy: 0.9713 - val_loss: 0.0272 - val_accuracy: 0.9953\n",
      "Epoch 3/12\n",
      "12/12 [==============================] - 3s 231ms/step - loss: 0.0634 - accuracy: 0.9822 - val_loss: 0.0578 - val_accuracy: 0.9889\n",
      "Epoch 4/12\n",
      "12/12 [==============================] - 3s 243ms/step - loss: 0.0559 - accuracy: 0.9863 - val_loss: 0.0541 - val_accuracy: 0.9881\n",
      "Epoch 5/12\n",
      "12/12 [==============================] - 3s 246ms/step - loss: 0.0427 - accuracy: 0.9904 - val_loss: 0.0772 - val_accuracy: 0.9798\n",
      "Epoch 6/12\n",
      "12/12 [==============================] - 3s 246ms/step - loss: 0.0398 - accuracy: 0.9932 - val_loss: 0.0164 - val_accuracy: 0.9958\n",
      "Epoch 7/12\n",
      "12/12 [==============================] - 4s 327ms/step - loss: 0.0275 - accuracy: 0.9918 - val_loss: 0.0517 - val_accuracy: 0.9850\n",
      "Epoch 8/12\n",
      "12/12 [==============================] - 3s 280ms/step - loss: 0.0290 - accuracy: 0.9945 - val_loss: 0.0370 - val_accuracy: 0.9858\n",
      "Epoch 9/12\n",
      "12/12 [==============================] - 3s 281ms/step - loss: 0.0210 - accuracy: 0.9945 - val_loss: 0.0386 - val_accuracy: 0.9851\n",
      "Epoch 10/12\n",
      "12/12 [==============================] - 3s 258ms/step - loss: 0.0191 - accuracy: 0.9973 - val_loss: 0.0335 - val_accuracy: 0.9883\n",
      "Epoch 11/12\n",
      "12/12 [==============================] - 3s 282ms/step - loss: 0.0300 - accuracy: 0.9863 - val_loss: 0.0856 - val_accuracy: 0.9728\n",
      "Epoch 12/12\n",
      "12/12 [==============================] - 3s 244ms/step - loss: 0.0291 - accuracy: 0.9945 - val_loss: 0.0256 - val_accuracy: 0.9948\n"
     ]
    }
   ],
   "source": [
    "def run_classifier(_X_train, _Y_train, _X_val, _Y_val):\n",
    "    model = keras.Sequential()\n",
    "    model.add(layers.LSTM(256, input_shape=(_X_train.shape[1], _X_train.shape[2]), \n",
    "                          return_sequences=True))\n",
    "    model.add(layers.Dropout(0.1))\n",
    "    model.add( layers.TimeDistributed(layers.Dense(16)) )\n",
    "    model.add(layers.Flatten())\n",
    "    model.add(layers.Dense(1, activation='sigmoid'))\n",
    "\n",
    "    model.summary()\n",
    "    model.compile(loss='binary_crossentropy', \n",
    "                  optimizer='adam', \n",
    "                  metrics=['accuracy']\n",
    "                 )\n",
    "    \n",
    "    \n",
    "    history = model.fit(_X_train, _Y_train,\n",
    "                        batch_size=64,\n",
    "                        epochs=12,\n",
    "                        verbose=True,\n",
    "                        validation_data=(_X_val, _Y_val)\n",
    "                        )\n",
    "    \n",
    "    return model, history\n",
    "\n",
    "\n",
    "model, history = run_classifier(X_train, Y_train, X_val, Y_val)"
   ]
  },
  {
   "cell_type": "code",
   "execution_count": 11,
   "metadata": {
    "scrolled": false
   },
   "outputs": [
    {
     "name": "stdout",
     "output_type": "stream",
     "text": [
      "              precision    recall  f1-score   support\n",
      "\n",
      "           0       0.99      0.99      0.99      7879\n",
      "           1       0.06      0.06      0.06        93\n",
      "\n",
      "    accuracy                           0.98      7972\n",
      "   macro avg       0.53      0.53      0.53      7972\n",
      "weighted avg       0.98      0.98      0.98      7972\n",
      "\n",
      "Confusion matrix:\n",
      "[[7788   91]\n",
      " [  87    6]]\n",
      "\n",
      "Confusion matrix (Percentages):\n",
      "[[9.7692e+01 1.1410e+00]\n",
      " [1.0910e+00 7.5000e-02]]\n",
      "\n",
      "Metrics:\n",
      "Sensitivity (TPR): 0.064516\n",
      "Specifity (TNR):   0.988450\n",
      "\n",
      "FPR: 0.011550\n",
      "FNR: 0.935484\n",
      "\n",
      "Balanced accuracy: 0.526483\n",
      "\n",
      "Test loss:\t0.072607\n",
      "Test accuracy:\t0.977672\n"
     ]
    },
    {
     "data": {
      "image/png": "[encoded data removed]",
      "text/plain": [
       "<Figure size 432x288 with 1 Axes>"
      ]
     },
     "metadata": {
      "needs_background": "light"
     },
     "output_type": "display_data"
    },
    {
     "data": {
      "image/png": "[encoded data removed]",
      "text/plain": [
       "<Figure size 432x288 with 1 Axes>"
      ]
     },
     "metadata": {
      "needs_background": "light"
     },
     "output_type": "display_data"
    }
   ],
   "source": [
    "def evaluate_classifier(_model, _history):\n",
    "    Y_pred = numpy.round(_model.predict(X_test))\n",
    "\n",
    "    print(classification_report(Y_test, Y_pred))\n",
    "    print_metrics(confusion_matrix(Y_test, Y_pred), Y_test)\n",
    "    print()\n",
    "    score = _model.evaluate(X_test, Y_test, verbose=False)\n",
    "    print('Test loss:\\t{:.6f}'.format(score[0]))\n",
    "    print('Test accuracy:\\t{:.6f}'.format(score[1]))\n",
    "\n",
    "    plot_loss(_history)\n",
    "    plot_accuracy(_history)\n",
    "\n",
    "\n",
    "evaluate_classifier(model, history)"
   ]
  },
  {
   "cell_type": "code",
   "execution_count": 12,
   "metadata": {},
   "outputs": [],
   "source": [
    "model.save('testJTT_LSTM_bert128_undersample.h5')"
   ]
  },
  {
   "cell_type": "code",
   "execution_count": null,
   "metadata": {},
   "outputs": [],
   "source": []
  }
 ],
 "metadata": {
  "kernelspec": {
   "display_name": "Python 3.8",
   "language": "python",
   "name": "python38"
  },
  "language_info": {
   "codemirror_mode": {
    "name": "ipython",
    "version": 3
   },
   "file_extension": ".py",
   "mimetype": "text/x-python",
   "name": "python",
   "nbconvert_exporter": "python",
   "pygments_lexer": "ipython3",
   "version": "3.8.2"
  }
 },
 "nbformat": 4,
 "nbformat_minor": 2
}
