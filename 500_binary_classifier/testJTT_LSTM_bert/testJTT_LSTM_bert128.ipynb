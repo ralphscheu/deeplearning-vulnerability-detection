{
 "cells": [
  {
   "cell_type": "markdown",
   "metadata": {},
   "source": [
    "# LSTM - bert128\n",
    "\n",
    "- **Training set**: LO_SARD102\n",
    "- **Test/Validation set:** JTT\n",
    "- **Features**: bert sequence (128)\n",
    "- **Class imbalance processing**: None"
   ]
  },
  {
   "cell_type": "code",
   "execution_count": 1,
   "metadata": {
    "scrolled": false
   },
   "outputs": [
    {
     "name": "stdout",
     "output_type": "stream",
     "text": [
      "Training dataset label counts: Counter({0: 40584, 1: 366})\n",
      "(40950, 128, 768)\n",
      "(40950,)\n",
      "(10238, 128, 768)\n",
      "(10238,)\n",
      "(7972, 128, 768)\n",
      "(7972,)\n"
     ]
    }
   ],
   "source": [
    "import tensorflow as tf\n",
    "from tensorflow import keras\n",
    "from tensorflow.keras import layers\n",
    "import pandas as pd\n",
    "import numpy as np\n",
    "import matplotlib.pyplot as plt\n",
    "from helper_functions import *\n",
    "from sklearn.model_selection import train_test_split\n",
    "from sklearn.metrics import classification_report\n",
    "from collections import Counter\n",
    "\n",
    "X_train = numpy.load('/mnt/md0/user/scheuererra68323/LOSARD102_bert128_X.npy')\n",
    "Y_train = pd.read_hdf('/mnt/md0/user/scheuererra68323/LOSARD102_bert128_y.h5').is_vulnerable.values\n",
    "\n",
    "X_test = numpy.load('/mnt/md0/user/scheuererra68323/JTT_bert128_X.npy')\n",
    "Y_test = pd.read_hdf('/mnt/md0/user/scheuererra68323/JTT_bert128_y.h5').is_vulnerable.values\n",
    "\n",
    "X_train, X_val, Y_train, Y_val = train_test_split(\n",
    "    X_train, Y_train, stratify=Y_train, test_size=0.2, random_state=10\n",
    ")\n",
    "print(\"Training dataset label counts:\", Counter(Y_train))\n",
    "\n",
    "print(X_train.shape)\n",
    "print(Y_train.shape)\n",
    "print(X_val.shape)\n",
    "print(Y_val.shape)\n",
    "print(X_test.shape)\n",
    "print(Y_test.shape)"
   ]
  },
  {
   "cell_type": "code",
   "execution_count": 3,
   "metadata": {
    "scrolled": true
   },
   "outputs": [
    {
     "name": "stdout",
     "output_type": "stream",
     "text": [
      "Model: \"sequential_1\"\n",
      "_________________________________________________________________\n",
      "Layer (type)                 Output Shape              Param #   \n",
      "=================================================================\n",
      "lstm (LSTM)                  (None, 128, 256)          1049600   \n",
      "_________________________________________________________________\n",
      "dropout (Dropout)            (None, 128, 256)          0         \n",
      "_________________________________________________________________\n",
      "time_distributed (TimeDistri (None, 128, 16)           4112      \n",
      "_________________________________________________________________\n",
      "flatten (Flatten)            (None, 2048)              0         \n",
      "_________________________________________________________________\n",
      "dense_1 (Dense)              (None, 1)                 2049      \n",
      "=================================================================\n",
      "Total params: 1,055,761\n",
      "Trainable params: 1,055,761\n",
      "Non-trainable params: 0\n",
      "_________________________________________________________________\n",
      "\n",
      "classWeights: {0: 0.5045091661738617, 1: 55.942622950819676}\n",
      "\n",
      "Epoch 1/8\n",
      "80/80 [==============================] - 19s 233ms/step - loss: 0.0255 - accuracy: 0.9905 - val_loss: 0.0056 - val_accuracy: 0.9991\n",
      "Epoch 2/8\n",
      "80/80 [==============================] - 22s 273ms/step - loss: 0.0051 - accuracy: 0.9986 - val_loss: 0.0049 - val_accuracy: 0.9991\n",
      "Epoch 3/8\n",
      "80/80 [==============================] - 12s 155ms/step - loss: 0.0043 - accuracy: 0.9988 - val_loss: 0.0045 - val_accuracy: 0.9991\n",
      "Epoch 4/8\n",
      "80/80 [==============================] - 19s 243ms/step - loss: 0.0041 - accuracy: 0.9988 - val_loss: 0.0043 - val_accuracy: 0.9988\n",
      "Epoch 5/8\n",
      "80/80 [==============================] - 20s 255ms/step - loss: 0.0031 - accuracy: 0.9989 - val_loss: 0.0055 - val_accuracy: 0.9985\n",
      "Epoch 6/8\n",
      "80/80 [==============================] - 20s 254ms/step - loss: 0.0034 - accuracy: 0.9990 - val_loss: 0.0039 - val_accuracy: 0.9988\n",
      "Epoch 7/8\n",
      "80/80 [==============================] - 17s 211ms/step - loss: 0.0029 - accuracy: 0.9989 - val_loss: 0.0037 - val_accuracy: 0.9992\n",
      "Epoch 8/8\n",
      "80/80 [==============================] - 11s 135ms/step - loss: 0.0029 - accuracy: 0.9990 - val_loss: 0.0041 - val_accuracy: 0.9992\n"
     ]
    }
   ],
   "source": [
    "def run_classifier():\n",
    "    model = keras.Sequential()\n",
    "    model.add( layers.LSTM(256, input_shape=(X_train.shape[1], X_train.shape[2]), \n",
    "                          return_sequences=True) )\n",
    "    model.add( layers.Dropout(0.1) )\n",
    "    model.add( layers.TimeDistributed(layers.Dense(16)) )\n",
    "    model.add( layers.Flatten())\n",
    "    model.add( layers.Dense(1, activation='sigmoid') )\n",
    "\n",
    "    model.summary()\n",
    "    model.compile(loss='binary_crossentropy',\n",
    "                  optimizer='adam', \n",
    "                  metrics=['accuracy']\n",
    "                 )\n",
    "    \n",
    "    classWeights = {\n",
    "        0: ( 1 / Counter(Y_train)[0] ) * Y_train.shape[0] / 2.0 ,\n",
    "        1: ( 1 / Counter(Y_train)[1] ) * Y_train.shape[0] / 2.0\n",
    "    }\n",
    "    print(f\"\\nclassWeights: {classWeights}\\n\")\n",
    "\n",
    "    history = model.fit(X_train, Y_train,\n",
    "                        batch_size=512,\n",
    "                        epochs=8,\n",
    "                        verbose=True,\n",
    "                        validation_data=(X_val, Y_val)\n",
    "                        )\n",
    "    \n",
    "    return model, history\n",
    "\n",
    "\n",
    "model, history = run_classifier()"
   ]
  },
  {
   "cell_type": "code",
   "execution_count": 4,
   "metadata": {
    "scrolled": false
   },
   "outputs": [
    {
     "name": "stderr",
     "output_type": "stream",
     "text": [
      "/usr/local/lib/python3.8/dist-packages/sklearn/metrics/_classification.py:1221: UndefinedMetricWarning: Precision and F-score are ill-defined and being set to 0.0 in labels with no predicted samples. Use `zero_division` parameter to control this behavior.\n",
      "  _warn_prf(average, modifier, msg_start, len(result))\n"
     ]
    },
    {
     "name": "stdout",
     "output_type": "stream",
     "text": [
      "              precision    recall  f1-score   support\n",
      "\n",
      "           0       0.99      1.00      0.99      7879\n",
      "           1       0.00      0.00      0.00        93\n",
      "\n",
      "    accuracy                           0.99      7972\n",
      "   macro avg       0.49      0.50      0.50      7972\n",
      "weighted avg       0.98      0.99      0.98      7972\n",
      "\n",
      "Confusion matrix:\n",
      "[[7879    0]\n",
      " [  93    0]]\n",
      "\n",
      "Confusion matrix (Percentages):\n",
      "[[98.833  0.   ]\n",
      " [ 1.167  0.   ]]\n",
      "\n",
      "Metrics:\n",
      "Sensitivity (TPR): 0.000000\n",
      "Specifity (TNR):   1.000000\n",
      "\n",
      "FPR: 0.000000\n",
      "FNR: 1.000000\n",
      "\n",
      "Balanced accuracy: 0.500000\n",
      "\n",
      "Test loss:\t0.125194\n",
      "Test accuracy:\t0.988334\n"
     ]
    },
    {
     "data": {
      "image/png": "[encoded data removed]",
      "text/plain": [
       "<Figure size 432x288 with 1 Axes>"
      ]
     },
     "metadata": {
      "needs_background": "light"
     },
     "output_type": "display_data"
    },
    {
     "data": {
      "image/png": "[encoded data removed]",
      "text/plain": [
       "<Figure size 432x288 with 1 Axes>"
      ]
     },
     "metadata": {
      "needs_background": "light"
     },
     "output_type": "display_data"
    }
   ],
   "source": [
    "def evaluate_classifier(_model, _history):\n",
    "    Y_pred = numpy.round(_model.predict(X_test))\n",
    "\n",
    "    print(classification_report(Y_test, Y_pred))\n",
    "    print_metrics(confusion_matrix(Y_test, Y_pred), Y_test)\n",
    "    print()\n",
    "    score = _model.evaluate(X_test, Y_test, verbose=False)\n",
    "    print('Test loss:\\t{:.6f}'.format(score[0]))\n",
    "    print('Test accuracy:\\t{:.6f}'.format(score[1]))\n",
    "\n",
    "    plot_loss(_history)\n",
    "    plot_accuracy(_history)\n",
    "\n",
    "\n",
    "evaluate_classifier(model, history)"
   ]
  },
  {
   "cell_type": "code",
   "execution_count": 5,
   "metadata": {},
   "outputs": [],
   "source": [
    "model.save('testJTT_LSTM_bert128.h5')"
   ]
  },
  {
   "cell_type": "code",
   "execution_count": null,
   "metadata": {},
   "outputs": [],
   "source": []
  }
 ],
 "metadata": {
  "kernelspec": {
   "display_name": "Python 3.8",
   "language": "python",
   "name": "python38"
  },
  "language_info": {
   "codemirror_mode": {
    "name": "ipython",
    "version": 3
   },
   "file_extension": ".py",
   "mimetype": "text/x-python",
   "name": "python",
   "nbconvert_exporter": "python",
   "pygments_lexer": "ipython3",
   "version": "3.8.2"
  }
 },
 "nbformat": 4,
 "nbformat_minor": 2
}
