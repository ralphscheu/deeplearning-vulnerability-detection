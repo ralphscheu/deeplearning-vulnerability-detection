{
 "cells": [
  {
   "cell_type": "markdown",
   "metadata": {},
   "source": [
    "# LSTM - bert128\n",
    "\n",
    "- **Training set**: LO_SARD102\n",
    "- **Test/Validation set:** JTT\n",
    "- **Features**: bert sequence (128)\n",
    "- **Class imbalance processing**: SMOTE"
   ]
  },
  {
   "cell_type": "code",
   "execution_count": 1,
   "metadata": {
    "scrolled": true
   },
   "outputs": [
    {
     "name": "stdout",
     "output_type": "stream",
     "text": [
      "Counter output before SMOTE: Counter({0: 40584, 1: 366})\n",
      "Counter output after SMOTE: Counter({0: 40584, 1: 40584})\n",
      "(81168, 128, 768)\n",
      "(81168,)\n",
      "(10238, 128, 768)\n",
      "(10238,)\n",
      "(7972, 128, 768)\n",
      "(7972,)\n"
     ]
    }
   ],
   "source": [
    "import tensorflow as tf\n",
    "from tensorflow import keras\n",
    "from tensorflow.keras import layers\n",
    "import pandas as pd\n",
    "import numpy as np\n",
    "import matplotlib.pyplot as plt\n",
    "from helper_functions import *\n",
    "from sklearn.model_selection import train_test_split\n",
    "from sklearn.metrics import classification_report\n",
    "\n",
    "def oversample_smote(X, y):\n",
    "    from imblearn.over_sampling import SMOTE\n",
    "    # summarize the new class distribution\n",
    "    counter = Counter(y)\n",
    "    print(\"Counter output before SMOTE:\", counter)\n",
    "    \n",
    "    # transform the dataset\n",
    "    oversample = SMOTE()\n",
    "    X, y = oversample.fit_resample(X, y)\n",
    "    \n",
    "    # summarize the new class distribution\n",
    "    counter = Counter(y)\n",
    "    print(\"Counter output after SMOTE:\", counter)\n",
    "    return X, y\n",
    "\n",
    "\n",
    "X_train = numpy.load('/mnt/md0/user/scheuererra68323/LOSARD102_bert128_X.npy')\n",
    "Y_train = pd.read_hdf('/mnt/md0/user/scheuererra68323/LOSARD102_bert128_y.h5').is_vulnerable.values\n",
    "\n",
    "X_test = numpy.load('/mnt/md0/user/scheuererra68323/JTT_bert128_X.npy')\n",
    "Y_test = pd.read_hdf('/mnt/md0/user/scheuererra68323/JTT_bert128_y.h5').is_vulnerable.values\n",
    "\n",
    "X_train, X_val, Y_train, Y_val = train_test_split(\n",
    "    X_train, Y_train, stratify=Y_train, test_size=0.2, random_state=10\n",
    ")\n",
    "\n",
    "# oversample class 1\n",
    "X_train, Y_train = oversample_smote(np.reshape(X_train, (-1, 128*768)), Y_train )\n",
    "X_train = np.reshape( X_train, (-1, 128, 768) )\n",
    "\n",
    "print(X_train.shape)\n",
    "print(Y_train.shape)\n",
    "print(X_val.shape)\n",
    "print(Y_val.shape)\n",
    "print(X_test.shape)\n",
    "print(Y_test.shape)"
   ]
  },
  {
   "cell_type": "markdown",
   "metadata": {},
   "source": [
    "## Variant 1"
   ]
  },
  {
   "cell_type": "code",
   "execution_count": 2,
   "metadata": {
    "scrolled": true
   },
   "outputs": [
    {
     "name": "stdout",
     "output_type": "stream",
     "text": [
      "Model: \"sequential\"\n",
      "_________________________________________________________________\n",
      "Layer (type)                 Output Shape              Param #   \n",
      "=================================================================\n",
      "lstm (LSTM)                  (None, 128, 512)          2623488   \n",
      "_________________________________________________________________\n",
      "dropout (Dropout)            (None, 128, 512)          0         \n",
      "_________________________________________________________________\n",
      "time_distributed (TimeDistri (None, 128, 256)          131328    \n",
      "_________________________________________________________________\n",
      "flatten (Flatten)            (None, 32768)             0         \n",
      "_________________________________________________________________\n",
      "dense_1 (Dense)              (None, 128)               4194432   \n",
      "_________________________________________________________________\n",
      "dense_2 (Dense)              (None, 64)                8256      \n",
      "_________________________________________________________________\n",
      "dense_3 (Dense)              (None, 1)                 65        \n",
      "=================================================================\n",
      "Total params: 6,957,569\n",
      "Trainable params: 6,957,569\n",
      "Non-trainable params: 0\n",
      "_________________________________________________________________\n",
      "Epoch 1/16\n",
      "159/159 [==============================] - 31s 197ms/step - loss: 0.5529 - accuracy: 0.9686 - val_loss: 0.0182 - val_accuracy: 0.9944\n",
      "Epoch 2/16\n",
      "159/159 [==============================] - 38s 240ms/step - loss: 0.0086 - accuracy: 0.9975 - val_loss: 0.0267 - val_accuracy: 0.9919\n",
      "Epoch 3/16\n",
      "159/159 [==============================] - 34s 212ms/step - loss: 0.0061 - accuracy: 0.9985 - val_loss: 0.0120 - val_accuracy: 0.9979\n",
      "Epoch 4/16\n",
      "159/159 [==============================] - 40s 253ms/step - loss: 0.0058 - accuracy: 0.9987 - val_loss: 0.0105 - val_accuracy: 0.9979\n",
      "Epoch 5/16\n",
      "159/159 [==============================] - 41s 261ms/step - loss: 0.0052 - accuracy: 0.9990 - val_loss: 0.0122 - val_accuracy: 0.9978\n",
      "Epoch 6/16\n",
      "159/159 [==============================] - 36s 228ms/step - loss: 0.0050 - accuracy: 0.9990 - val_loss: 0.0149 - val_accuracy: 0.9979\n",
      "Epoch 7/16\n",
      "159/159 [==============================] - 30s 188ms/step - loss: 0.0050 - accuracy: 0.9990 - val_loss: 0.0086 - val_accuracy: 0.9981\n",
      "Epoch 8/16\n",
      "159/159 [==============================] - 37s 236ms/step - loss: 0.0054 - accuracy: 0.9989 - val_loss: 0.0234 - val_accuracy: 0.9968\n",
      "Epoch 9/16\n",
      "159/159 [==============================] - 34s 216ms/step - loss: 0.0054 - accuracy: 0.9988 - val_loss: 0.0190 - val_accuracy: 0.9976\n",
      "Epoch 10/16\n",
      "159/159 [==============================] - 29s 185ms/step - loss: 0.0059 - accuracy: 0.9989 - val_loss: 0.0088 - val_accuracy: 0.9981\n",
      "Epoch 11/16\n",
      "159/159 [==============================] - 29s 185ms/step - loss: 0.0044 - accuracy: 0.9992 - val_loss: 0.0089 - val_accuracy: 0.9981\n",
      "Epoch 12/16\n",
      "159/159 [==============================] - 29s 183ms/step - loss: 0.0045 - accuracy: 0.9991 - val_loss: 0.0130 - val_accuracy: 0.9979\n",
      "Epoch 13/16\n",
      "159/159 [==============================] - 30s 186ms/step - loss: 0.0043 - accuracy: 0.9992 - val_loss: 0.0098 - val_accuracy: 0.9981\n",
      "Epoch 14/16\n",
      "159/159 [==============================] - 34s 215ms/step - loss: 0.0044 - accuracy: 0.9991 - val_loss: 0.0121 - val_accuracy: 0.9980\n",
      "Epoch 15/16\n",
      "159/159 [==============================] - 32s 204ms/step - loss: 0.0044 - accuracy: 0.9991 - val_loss: 0.0103 - val_accuracy: 0.9980\n",
      "Epoch 16/16\n",
      "159/159 [==============================] - 32s 200ms/step - loss: 0.0043 - accuracy: 0.9993 - val_loss: 0.0107 - val_accuracy: 0.9981\n"
     ]
    }
   ],
   "source": [
    "def run_classifier(_X_train, _Y_train, _X_val, _Y_val):\n",
    "    model = keras.Sequential()\n",
    "    model.add(layers.LSTM(512, input_shape=(_X_train.shape[1], _X_train.shape[2]), \n",
    "                          return_sequences=True))\n",
    "    model.add(layers.Dropout(0.1))\n",
    "    model.add( layers.TimeDistributed(layers.Dense(256)) )\n",
    "    model.add(layers.Flatten())\n",
    "    model.add(layers.Dense(128))\n",
    "    model.add(layers.Dense(64))\n",
    "    model.add(layers.Dense(1, activation='sigmoid'))\n",
    "\n",
    "    model.summary()\n",
    "    model.compile(loss='binary_crossentropy', \n",
    "                  optimizer='adam', \n",
    "                  metrics=['accuracy']\n",
    "                 )\n",
    "    \n",
    "    \n",
    "    history = model.fit(_X_train, _Y_train,\n",
    "                        batch_size=512,\n",
    "                        epochs=16,\n",
    "                        verbose=True,\n",
    "                        validation_data=(_X_val, _Y_val)\n",
    "                        )\n",
    "    \n",
    "    return model, history\n",
    "\n",
    "\n",
    "model, history = run_classifier(X_train, Y_train, X_val, Y_val)"
   ]
  },
  {
   "cell_type": "code",
   "execution_count": 3,
   "metadata": {
    "scrolled": false
   },
   "outputs": [
    {
     "name": "stdout",
     "output_type": "stream",
     "text": [
      "              precision    recall  f1-score   support\n",
      "\n",
      "           0       0.99      1.00      0.99      7879\n",
      "           1       0.00      0.00      0.00        93\n",
      "\n",
      "    accuracy                           0.99      7972\n",
      "   macro avg       0.49      0.50      0.50      7972\n",
      "weighted avg       0.98      0.99      0.98      7972\n",
      "\n",
      "Confusion matrix:\n",
      "[[7873    6]\n",
      " [  93    0]]\n",
      "\n",
      "Confusion matrix (Percentages):\n",
      "[[9.8758e+01 7.5000e-02]\n",
      " [1.1670e+00 0.0000e+00]]\n",
      "\n",
      "Metrics:\n",
      "Sensitivity (TPR): 0.000000\n",
      "Specifity (TNR):   0.999238\n",
      "\n",
      "FPR: 0.000762\n",
      "FNR: 1.000000\n",
      "\n",
      "Balanced accuracy: 0.499619\n",
      "\n",
      "Test loss:\t0.153621\n",
      "Test accuracy:\t0.987582\n"
     ]
    },
    {
     "data": {
      "image/png": "[encoded data removed]",
      "text/plain": [
       "<Figure size 432x288 with 1 Axes>"
      ]
     },
     "metadata": {
      "needs_background": "light"
     },
     "output_type": "display_data"
    },
    {
     "data": {
      "image/png": "[encoded data removed]",
      "text/plain": [
       "<Figure size 432x288 with 1 Axes>"
      ]
     },
     "metadata": {
      "needs_background": "light"
     },
     "output_type": "display_data"
    }
   ],
   "source": [
    "def evaluate_classifier(_model, _history):\n",
    "    Y_pred = numpy.round(_model.predict(X_test))\n",
    "\n",
    "    print(classification_report(Y_test, Y_pred))\n",
    "    print_metrics(confusion_matrix(Y_test, Y_pred), Y_test)\n",
    "    print()\n",
    "    score = _model.evaluate(X_test, Y_test, verbose=False)\n",
    "    print('Test loss:\\t{:.6f}'.format(score[0]))\n",
    "    print('Test accuracy:\\t{:.6f}'.format(score[1]))\n",
    "\n",
    "    plot_loss(_history)\n",
    "    plot_accuracy(_history)\n",
    "\n",
    "\n",
    "evaluate_classifier(model, history)"
   ]
  },
  {
   "cell_type": "code",
   "execution_count": 4,
   "metadata": {},
   "outputs": [],
   "source": [
    "model.save('testJTT_LSTM_Var1_bert128_SMOTE.h5')"
   ]
  },
  {
   "cell_type": "code",
   "execution_count": null,
   "metadata": {},
   "outputs": [],
   "source": []
  },
  {
   "cell_type": "code",
   "execution_count": null,
   "metadata": {},
   "outputs": [],
   "source": []
  },
  {
   "cell_type": "markdown",
   "metadata": {},
   "source": [
    "## Variant 2"
   ]
  },
  {
   "cell_type": "code",
   "execution_count": 10,
   "metadata": {
    "scrolled": true
   },
   "outputs": [
    {
     "name": "stdout",
     "output_type": "stream",
     "text": [
      "Model: \"sequential_3\"\n",
      "_________________________________________________________________\n",
      "Layer (type)                 Output Shape              Param #   \n",
      "=================================================================\n",
      "lstm_4 (LSTM)                (None, 128, 256)          1049600   \n",
      "_________________________________________________________________\n",
      "dropout_3 (Dropout)          (None, 128, 256)          0         \n",
      "_________________________________________________________________\n",
      "time_distributed_3 (TimeDist (None, 128, 256)          65792     \n",
      "_________________________________________________________________\n",
      "time_distributed_4 (TimeDist (None, 128, 128)          32896     \n",
      "_________________________________________________________________\n",
      "flatten_3 (Flatten)          (None, 16384)             0         \n",
      "_________________________________________________________________\n",
      "dropout_4 (Dropout)          (None, 16384)             0         \n",
      "_________________________________________________________________\n",
      "dense_10 (Dense)             (None, 1)                 16385     \n",
      "=================================================================\n",
      "Total params: 1,164,673\n",
      "Trainable params: 1,164,673\n",
      "Non-trainable params: 0\n",
      "_________________________________________________________________\n",
      "Epoch 1/4\n",
      "80/80 [==============================] - 22s 271ms/step - loss: 0.0891 - accuracy: 0.9656 - val_loss: 0.0200 - val_accuracy: 0.9943\n",
      "Epoch 2/4\n",
      "80/80 [==============================] - 18s 220ms/step - loss: 0.0080 - accuracy: 0.9980 - val_loss: 0.0833 - val_accuracy: 0.9719\n",
      "Epoch 3/4\n",
      "80/80 [==============================] - 18s 226ms/step - loss: 0.0075 - accuracy: 0.9981 - val_loss: 0.0101 - val_accuracy: 0.9979\n",
      "Epoch 4/4\n",
      "80/80 [==============================] - 16s 200ms/step - loss: 0.0048 - accuracy: 0.9990 - val_loss: 0.0090 - val_accuracy: 0.9979\n"
     ]
    }
   ],
   "source": [
    "def run_classifier(_X_train, _Y_train, _X_val, _Y_val):    \n",
    "    model = keras.Sequential()\n",
    "    model.add(layers.LSTM(256, input_shape=(_X_train.shape[1], _X_train.shape[2]), \n",
    "                          return_sequences=True))\n",
    "    model.add(layers.Dropout(0.1))\n",
    "    model.add( layers.TimeDistributed(layers.Dense(256)) )\n",
    "    model.add( layers.TimeDistributed(layers.Dense(128)) )\n",
    "    model.add(layers.Flatten())\n",
    "    model.add(layers.Dropout(0.1))\n",
    "    model.add(layers.Dense(1, activation='sigmoid'))\n",
    "\n",
    "    model.summary()\n",
    "    model.compile(loss='binary_crossentropy', \n",
    "                  optimizer='adam', \n",
    "                  metrics=['accuracy']\n",
    "                 )\n",
    "    \n",
    "    \n",
    "    history = model.fit(_X_train, _Y_train,\n",
    "                        batch_size=1024,\n",
    "                        epochs=4,\n",
    "                        verbose=True,\n",
    "                        validation_data=(_X_val, _Y_val)\n",
    "                        )\n",
    "    \n",
    "    return model, history\n",
    "\n",
    "\n",
    "modelv2, historyv2 = run_classifier(X_train, Y_train, X_val, Y_val)"
   ]
  },
  {
   "cell_type": "code",
   "execution_count": 11,
   "metadata": {
    "scrolled": false
   },
   "outputs": [
    {
     "name": "stdout",
     "output_type": "stream",
     "text": [
      "              precision    recall  f1-score   support\n",
      "\n",
      "           0       0.99      1.00      0.99      7879\n",
      "           1       0.00      0.00      0.00        93\n",
      "\n",
      "    accuracy                           0.99      7972\n",
      "   macro avg       0.49      0.50      0.50      7972\n",
      "weighted avg       0.98      0.99      0.98      7972\n",
      "\n",
      "Confusion matrix:\n",
      "[[7879    0]\n",
      " [  93    0]]\n",
      "\n",
      "Confusion matrix (Percentages):\n",
      "[[98.833  0.   ]\n",
      " [ 1.167  0.   ]]\n",
      "\n",
      "Metrics:\n",
      "Sensitivity (TPR): 0.000000\n",
      "Specifity (TNR):   1.000000\n",
      "\n",
      "FPR: 0.000000\n",
      "FNR: 1.000000\n",
      "\n",
      "Balanced accuracy: 0.500000\n",
      "\n",
      "Test loss:\t0.140720\n",
      "Test accuracy:\t0.988334\n"
     ]
    },
    {
     "data": {
      "image/png": "[encoded data removed]",
      "text/plain": [
       "<Figure size 432x288 with 1 Axes>"
      ]
     },
     "metadata": {
      "needs_background": "light"
     },
     "output_type": "display_data"
    },
    {
     "data": {
      "image/png": "[encoded data removed]",
      "text/plain": [
       "<Figure size 432x288 with 1 Axes>"
      ]
     },
     "metadata": {
      "needs_background": "light"
     },
     "output_type": "display_data"
    }
   ],
   "source": [
    "evaluate_classifier(modelv2, historyv2)"
   ]
  },
  {
   "cell_type": "code",
   "execution_count": 7,
   "metadata": {},
   "outputs": [],
   "source": [
    "modelv2.save('testJTT_LSTM_Var2_bert128_SMOTE.h5')"
   ]
  },
  {
   "cell_type": "code",
   "execution_count": null,
   "metadata": {},
   "outputs": [],
   "source": []
  },
  {
   "cell_type": "code",
   "execution_count": null,
   "metadata": {},
   "outputs": [],
   "source": []
  }
 ],
 "metadata": {
  "kernelspec": {
   "display_name": "Python 3.8",
   "language": "python",
   "name": "python38"
  },
  "language_info": {
   "codemirror_mode": {
    "name": "ipython",
    "version": 3
   },
   "file_extension": ".py",
   "mimetype": "text/x-python",
   "name": "python",
   "nbconvert_exporter": "python",
   "pygments_lexer": "ipython3",
   "version": "3.8.2"
  }
 },
 "nbformat": 4,
 "nbformat_minor": 2
}
