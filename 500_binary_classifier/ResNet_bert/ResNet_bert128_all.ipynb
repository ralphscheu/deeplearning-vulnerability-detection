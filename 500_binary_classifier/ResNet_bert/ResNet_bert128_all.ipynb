{
 "cells": [
  {
   "cell_type": "markdown",
   "metadata": {},
   "source": [
    "# ResNet\n",
    "\n",
    "- **Training set**: LO_SARD102\n",
    "- **Test/Validation set:** LO_SARD102\n",
    "- **Features**: bert (128)"
   ]
  },
  {
   "cell_type": "code",
   "execution_count": 1,
   "metadata": {
    "collapsed": true
   },
   "outputs": [
    {
     "name": "stdout",
     "output_type": "stream",
     "text": [
      "class counts data set before undersampling: Counter({0: 30438, 1: 274})\n",
      "Y_train:\n",
      "Counter({0: 274, 1: 274})\n",
      "(548, 128, 768)\n",
      "(548,)\n",
      "\n",
      "Y_val:\n",
      "Counter({0: 10146, 1: 92})\n",
      "(10238, 128, 768)\n",
      "(10238,)\n",
      "\n",
      "Y_test:\n",
      "Counter({0: 10146, 1: 92})\n",
      "(10238, 128, 768)\n",
      "(10238,)\n"
     ]
    }
   ],
   "source": [
    "import tensorflow as tf\n",
    "from tensorflow import keras\n",
    "from tensorflow.keras import layers\n",
    "from tensorflow.keras import applications\n",
    "from tensorflow.keras.utils import to_categorical\n",
    "import pandas as pd\n",
    "import numpy as np\n",
    "import matplotlib.pyplot as plt\n",
    "from helper_functions import *\n",
    "from sklearn.model_selection import train_test_split\n",
    "from collections import Counter\n",
    "from sklearn.metrics import classification_report\n",
    "\n",
    "X = numpy.load('/mnt/md0/user/scheuererra68323/LOSARD102_bert128_X.npy')\n",
    "y = pd.read_hdf('/mnt/md0/user/scheuererra68323/LOSARD102_bert128_y.h5').is_vulnerable.values\n",
    "\n",
    "X_train, X_test, Y_train, Y_test = train_test_split(X, y, stratify=y, test_size=0.2, random_state=5)\n",
    "X_train, X_val, Y_train, Y_val = train_test_split(X_train, Y_train, stratify=Y_train, test_size=0.25, random_state=10)\n",
    "\n",
    "print(\"class counts data set before undersampling:\", Counter(Y_train))\n",
    "# undersample class 0\n",
    "X_train, Y_train = undersample( np.reshape(X_train, (-1, 128*768) ), Y_train)\n",
    "X_train = np.reshape(X_train, (-1, 128, 768))\n",
    "\n",
    "print(\"Y_train:\")\n",
    "print(Counter(Y_train))\n",
    "print(X_train.shape)\n",
    "print(Y_train.shape)\n",
    "print(\"\\nY_val:\")\n",
    "print(Counter(Y_val))\n",
    "print(X_val.shape)\n",
    "print(Y_val.shape)\n",
    "print(\"\\nY_test:\")\n",
    "print(Counter(Y_test))\n",
    "print(X_test.shape)\n",
    "print(Y_test.shape)\n",
    "\n",
    "Y_train, Y_val = to_categorical(Y_train), to_categorical(Y_val)"
   ]
  },
  {
   "cell_type": "markdown",
   "metadata": {},
   "source": [
    "## Undersampling"
   ]
  },
  {
   "cell_type": "code",
   "execution_count": 20,
   "metadata": {
    "collapsed": true
   },
   "outputs": [
    {
     "name": "stdout",
     "output_type": "stream",
     "text": [
      "Epoch 1/8\n",
      "18/18 [==============================] - 28s 2s/step - loss: 8.7287 - accuracy: 0.5383 - val_loss: 57247.2695 - val_accuracy: 0.0090\n",
      "Epoch 2/8\n",
      "18/18 [==============================] - 25s 1s/step - loss: 1.8666 - accuracy: 0.5876 - val_loss: 198.1790 - val_accuracy: 0.0090\n",
      "Epoch 3/8\n",
      "18/18 [==============================] - 25s 1s/step - loss: 0.4029 - accuracy: 0.8814 - val_loss: 9.1841 - val_accuracy: 0.0090\n",
      "Epoch 4/8\n",
      "18/18 [==============================] - 25s 1s/step - loss: 0.1907 - accuracy: 0.9343 - val_loss: 11.4240 - val_accuracy: 0.0090\n",
      "Epoch 5/8\n",
      "18/18 [==============================] - 25s 1s/step - loss: 0.2807 - accuracy: 0.8741 - val_loss: 45.6634 - val_accuracy: 0.0090\n",
      "Epoch 6/8\n",
      "18/18 [==============================] - 25s 1s/step - loss: 0.2632 - accuracy: 0.9325 - val_loss: 0.0954 - val_accuracy: 0.9910\n",
      "Epoch 7/8\n",
      "18/18 [==============================] - 26s 1s/step - loss: 0.1146 - accuracy: 0.9726 - val_loss: 0.1661 - val_accuracy: 0.9910\n",
      "Epoch 8/8\n",
      "18/18 [==============================] - 26s 1s/step - loss: 0.0595 - accuracy: 0.9818 - val_loss: 0.2107 - val_accuracy: 0.9910\n"
     ]
    }
   ],
   "source": [
    "# https://keras.io/api/applications/resnet/#resnet50-function\n",
    "model = applications.ResNet50(\n",
    "    include_top=True,\n",
    "    weights=None,\n",
    "    input_tensor=None,\n",
    "    input_shape=(128, 768, 1),\n",
    "    pooling=None,\n",
    "    classes=2\n",
    ")\n",
    "\n",
    "sgd = tf.keras.optimizers.SGD(learning_rate=0.1)\n",
    "model.compile(loss='categorical_crossentropy', optimizer=sgd, metrics=['accuracy'])\n",
    "\n",
    "history = model.fit(X_train, Y_train,\n",
    "                    epochs=8,\n",
    "                    verbose=True,\n",
    "                    validation_data=(X_val, Y_val)\n",
    "                   )"
   ]
  },
  {
   "cell_type": "markdown",
   "metadata": {},
   "source": [
    "## Evaluation"
   ]
  },
  {
   "cell_type": "code",
   "execution_count": 21,
   "metadata": {
    "scrolled": false
   },
   "outputs": [
    {
     "name": "stdout",
     "output_type": "stream",
     "text": [
      "              precision    recall  f1-score   support\n",
      "\n",
      "           0       0.99      1.00      1.00     10146\n",
      "           1       0.00      0.00      0.00        92\n",
      "\n",
      "    accuracy                           0.99     10238\n",
      "   macro avg       0.50      0.50      0.50     10238\n",
      "weighted avg       0.98      0.99      0.99     10238\n",
      "\n",
      "Confusion matrix:\n",
      "[[10146     0]\n",
      " [   92     0]]\n",
      "\n",
      "Confusion matrix (Percentages):\n",
      "[[99.101  0.   ]\n",
      " [ 0.899  0.   ]]\n",
      "\n",
      "Metrics:\n",
      "Sensitivity (TPR): 0.000000\n",
      "Specifity (TNR):   1.000000\n",
      "\n",
      "FPR: 0.000000\n",
      "FNR: 1.000000\n",
      "\n",
      "Balanced accuracy: 0.500000\n",
      "\n"
     ]
    },
    {
     "data": {
      "image/png": "[encoded data removed]",
      "text/plain": [
       "<Figure size 432x288 with 1 Axes>"
      ]
     },
     "metadata": {
      "needs_background": "light"
     },
     "output_type": "display_data"
    },
    {
     "data": {
      "image/png": "[encoded data removed]",
      "text/plain": [
       "<Figure size 432x288 with 1 Axes>"
      ]
     },
     "metadata": {
      "needs_background": "light"
     },
     "output_type": "display_data"
    }
   ],
   "source": [
    "Y_pred = numpy.argmax(model.predict(X_test) , axis=1 )\n",
    "\n",
    "print(classification_report(Y_test, Y_pred))\n",
    "print_metrics(confusion_matrix(Y_test, Y_pred), Y_test)\n",
    "print()\n",
    "\n",
    "plot_loss(history)\n",
    "plot_accuracy(history)"
   ]
  },
  {
   "cell_type": "code",
   "execution_count": 22,
   "metadata": {},
   "outputs": [],
   "source": [
    "model.save('ResNet_bert128_undersample.h5')"
   ]
  },
  {
   "cell_type": "code",
   "execution_count": null,
   "metadata": {},
   "outputs": [],
   "source": []
  },
  {
   "cell_type": "code",
   "execution_count": null,
   "metadata": {},
   "outputs": [],
   "source": []
  },
  {
   "cell_type": "code",
   "execution_count": null,
   "metadata": {},
   "outputs": [],
   "source": []
  },
  {
   "cell_type": "code",
   "execution_count": null,
   "metadata": {},
   "outputs": [],
   "source": []
  },
  {
   "cell_type": "code",
   "execution_count": null,
   "metadata": {},
   "outputs": [],
   "source": []
  },
  {
   "cell_type": "code",
   "execution_count": null,
   "metadata": {},
   "outputs": [],
   "source": []
  },
  {
   "cell_type": "markdown",
   "metadata": {},
   "source": [
    "## weighted"
   ]
  },
  {
   "cell_type": "code",
   "execution_count": 6,
   "metadata": {
    "collapsed": true
   },
   "outputs": [
    {
     "name": "stdout",
     "output_type": "stream",
     "text": [
      "weights: {0: 0.5045009527564229, 1: 56.043795620437955}\n",
      "train:\n",
      "Counter({0: 30438, 1: 274})\n",
      "(30712, 128, 768)\n",
      "(30712,)\n",
      "\n",
      "val:\n",
      "Counter({0: 10146, 1: 92})\n",
      "(10238, 128, 768)\n",
      "(10238,)\n",
      "\n",
      "test:\n",
      "Counter({0: 10146, 1: 92})\n",
      "(10238, 128, 768)\n",
      "(10238,)\n"
     ]
    }
   ],
   "source": [
    "X_train, X_test, Y_train, Y_test = train_test_split(X, y, stratify=y, test_size=0.2, random_state=5)\n",
    "X_train, X_val, Y_train, Y_val = train_test_split(X_train, Y_train, stratify=Y_train, test_size=0.25, random_state=10)\n",
    "\n",
    "classWeights = {\n",
    "    0: ( 1 / Counter(Y_train)[0] ) * Y_train.shape[0] / 2.0 ,\n",
    "    1: ( 1 / Counter(Y_train)[1] ) * Y_train.shape[0] / 2.0\n",
    "}\n",
    "print(\"weights:\", classWeights)\n",
    "\n",
    "print(\"train:\")\n",
    "print(Counter(Y_train))\n",
    "print(X_train.shape)\n",
    "print(Y_train.shape)\n",
    "print(\"\\nval:\")\n",
    "print(Counter(Y_val))\n",
    "print(X_val.shape)\n",
    "print(Y_val.shape)\n",
    "print(\"\\ntest:\")\n",
    "print(Counter(Y_test))\n",
    "print(X_test.shape)\n",
    "print(Y_test.shape)\n",
    "\n",
    "Y_train, Y_val = to_categorical(Y_train), to_categorical(Y_val)"
   ]
  },
  {
   "cell_type": "code",
   "execution_count": 7,
   "metadata": {
    "collapsed": true
   },
   "outputs": [
    {
     "name": "stdout",
     "output_type": "stream",
     "text": [
      "Epoch 1/8\n",
      "960/960 [==============================] - 244s 254ms/step - loss: 1.3364 - accuracy: 0.7727 - val_loss: 0.0278 - val_accuracy: 0.9910\n",
      "Epoch 2/8\n",
      "960/960 [==============================] - 244s 254ms/step - loss: 0.2100 - accuracy: 0.9322 - val_loss: 9.4316 - val_accuracy: 0.4882\n",
      "Epoch 3/8\n",
      "960/960 [==============================] - 243s 253ms/step - loss: 0.1985 - accuracy: 0.9334 - val_loss: 0.0664 - val_accuracy: 0.9867\n",
      "Epoch 4/8\n",
      "960/960 [==============================] - 242s 252ms/step - loss: 0.1380 - accuracy: 0.9577 - val_loss: 1673.2665 - val_accuracy: 0.0090\n",
      "Epoch 5/8\n",
      "960/960 [==============================] - 241s 251ms/step - loss: 0.4167 - accuracy: 0.9368 - val_loss: 0.0861 - val_accuracy: 0.9921\n",
      "Epoch 6/8\n",
      "960/960 [==============================] - 241s 251ms/step - loss: 0.1700 - accuracy: 0.9509 - val_loss: 0.0401 - val_accuracy: 0.9910\n",
      "Epoch 7/8\n",
      "960/960 [==============================] - 240s 250ms/step - loss: 0.1197 - accuracy: 0.9655 - val_loss: 0.0894 - val_accuracy: 0.9841\n",
      "Epoch 8/8\n",
      "960/960 [==============================] - 241s 251ms/step - loss: 0.1084 - accuracy: 0.9706 - val_loss: 0.0472 - val_accuracy: 0.9849\n"
     ]
    }
   ],
   "source": [
    "# https://keras.io/api/applications/resnet/#resnet50-function\n",
    "model = applications.ResNet50(\n",
    "    include_top=True,\n",
    "    weights=None,\n",
    "    input_tensor=None,\n",
    "    input_shape=(128, 768, 1),\n",
    "    pooling=None,\n",
    "    classes=2\n",
    ")\n",
    "\n",
    "sgd = tf.keras.optimizers.SGD(learning_rate=0.1)\n",
    "model.compile(loss='categorical_crossentropy', optimizer=sgd, metrics=['accuracy'])\n",
    "\n",
    "history = model.fit(X_train, Y_train,\n",
    "                    epochs=8,\n",
    "                    verbose=True,\n",
    "                    validation_data=(X_val, Y_val),\n",
    "                    class_weight=classWeights\n",
    "                   )"
   ]
  },
  {
   "cell_type": "code",
   "execution_count": 8,
   "metadata": {},
   "outputs": [
    {
     "name": "stdout",
     "output_type": "stream",
     "text": [
      "              precision    recall  f1-score   support\n",
      "\n",
      "           0       1.00      0.99      0.99     10146\n",
      "           1       0.38      0.98      0.54        92\n",
      "\n",
      "    accuracy                           0.99     10238\n",
      "   macro avg       0.69      0.98      0.77     10238\n",
      "weighted avg       0.99      0.99      0.99     10238\n",
      "\n",
      "Confusion matrix:\n",
      "[[9996  150]\n",
      " [   2   90]]\n",
      "\n",
      "Confusion matrix (Percentages):\n",
      "[[9.7636e+01 1.4650e+00]\n",
      " [2.0000e-02 8.7900e-01]]\n",
      "\n",
      "Metrics:\n",
      "Sensitivity (TPR): 0.978261\n",
      "Specifity (TNR):   0.985216\n",
      "\n",
      "FPR: 0.014784\n",
      "FNR: 0.021739\n",
      "\n",
      "Balanced accuracy: 0.981738\n",
      "\n"
     ]
    },
    {
     "data": {
      "image/png": "[encoded data removed]",
      "text/plain": [
       "<Figure size 432x288 with 1 Axes>"
      ]
     },
     "metadata": {
      "needs_background": "light"
     },
     "output_type": "display_data"
    },
    {
     "data": {
      "image/png": "[encoded data removed]",
      "text/plain": [
       "<Figure size 432x288 with 1 Axes>"
      ]
     },
     "metadata": {
      "needs_background": "light"
     },
     "output_type": "display_data"
    }
   ],
   "source": [
    "Y_pred = numpy.argmax(model.predict(X_test) , axis=1 )\n",
    "\n",
    "print(classification_report(Y_test, Y_pred))\n",
    "print_metrics(confusion_matrix(Y_test, Y_pred), Y_test)\n",
    "print()\n",
    "\n",
    "plot_loss(history)\n",
    "plot_accuracy(history)"
   ]
  },
  {
   "cell_type": "code",
   "execution_count": 9,
   "metadata": {},
   "outputs": [],
   "source": [
    "model.save('ResNet_bert128_weighted.h5')"
   ]
  },
  {
   "cell_type": "code",
   "execution_count": null,
   "metadata": {},
   "outputs": [],
   "source": []
  },
  {
   "cell_type": "code",
   "execution_count": null,
   "metadata": {},
   "outputs": [],
   "source": []
  },
  {
   "cell_type": "code",
   "execution_count": null,
   "metadata": {},
   "outputs": [],
   "source": []
  },
  {
   "cell_type": "code",
   "execution_count": null,
   "metadata": {},
   "outputs": [],
   "source": []
  },
  {
   "cell_type": "markdown",
   "metadata": {},
   "source": [
    "## No imbalance migation"
   ]
  },
  {
   "cell_type": "code",
   "execution_count": 10,
   "metadata": {
    "collapsed": true
   },
   "outputs": [
    {
     "name": "stdout",
     "output_type": "stream",
     "text": [
      "Epoch 1/8\n",
      "960/960 [==============================] - 242s 252ms/step - loss: 0.1234 - accuracy: 0.9941 - val_loss: 0.0296 - val_accuracy: 0.9932\n",
      "Epoch 2/8\n",
      "960/960 [==============================] - 241s 251ms/step - loss: 0.0054 - accuracy: 0.9985 - val_loss: 0.0254 - val_accuracy: 0.9989\n",
      "Epoch 3/8\n",
      "960/960 [==============================] - 240s 250ms/step - loss: 0.0033 - accuracy: 0.9989 - val_loss: 0.0034 - val_accuracy: 0.9990\n",
      "Epoch 4/8\n",
      "960/960 [==============================] - 239s 249ms/step - loss: 0.0028 - accuracy: 0.9987 - val_loss: 0.0326 - val_accuracy: 0.9981\n",
      "Epoch 5/8\n",
      "960/960 [==============================] - 239s 248ms/step - loss: 0.0022 - accuracy: 0.9989 - val_loss: 0.0226 - val_accuracy: 0.9981\n",
      "Epoch 6/8\n",
      "960/960 [==============================] - 239s 249ms/step - loss: 0.0023 - accuracy: 0.9989 - val_loss: 0.0048 - val_accuracy: 0.9981\n",
      "Epoch 7/8\n",
      "960/960 [==============================] - 238s 248ms/step - loss: 0.0023 - accuracy: 0.9992 - val_loss: 0.0032 - val_accuracy: 0.9993\n",
      "Epoch 8/8\n",
      "960/960 [==============================] - 238s 248ms/step - loss: 0.0022 - accuracy: 0.9992 - val_loss: 0.0035 - val_accuracy: 0.9993\n"
     ]
    }
   ],
   "source": [
    "# https://keras.io/api/applications/resnet/#resnet50-function\n",
    "model = applications.ResNet50(\n",
    "    include_top=True,\n",
    "    weights=None,\n",
    "    input_tensor=None,\n",
    "    input_shape=(128, 768, 1),\n",
    "    pooling=None,\n",
    "    classes=2\n",
    ")\n",
    "\n",
    "sgd = tf.keras.optimizers.SGD(learning_rate=0.1)\n",
    "model.compile(loss='categorical_crossentropy', optimizer=sgd, metrics=['accuracy'])\n",
    "\n",
    "history = model.fit(X_train, Y_train,\n",
    "                    epochs=8,\n",
    "                    verbose=True,\n",
    "                    validation_data=(X_val, Y_val)\n",
    "                   )"
   ]
  },
  {
   "cell_type": "code",
   "execution_count": 11,
   "metadata": {},
   "outputs": [
    {
     "name": "stdout",
     "output_type": "stream",
     "text": [
      "              precision    recall  f1-score   support\n",
      "\n",
      "           0       1.00      1.00      1.00     10146\n",
      "           1       0.92      0.97      0.94        92\n",
      "\n",
      "    accuracy                           1.00     10238\n",
      "   macro avg       0.96      0.98      0.97     10238\n",
      "weighted avg       1.00      1.00      1.00     10238\n",
      "\n",
      "Confusion matrix:\n",
      "[[10138     8]\n",
      " [    3    89]]\n",
      "\n",
      "Confusion matrix (Percentages):\n",
      "[[9.9023e+01 7.8000e-02]\n",
      " [2.9000e-02 8.6900e-01]]\n",
      "\n",
      "Metrics:\n",
      "Sensitivity (TPR): 0.967391\n",
      "Specifity (TNR):   0.999212\n",
      "\n",
      "FPR: 0.000788\n",
      "FNR: 0.032609\n",
      "\n",
      "Balanced accuracy: 0.983301\n",
      "\n"
     ]
    },
    {
     "data": {
      "image/png": "[encoded data removed]",
      "text/plain": [
       "<Figure size 432x288 with 1 Axes>"
      ]
     },
     "metadata": {
      "needs_background": "light"
     },
     "output_type": "display_data"
    },
    {
     "data": {
      "image/png": "[encoded data removed]",
      "text/plain": [
       "<Figure size 432x288 with 1 Axes>"
      ]
     },
     "metadata": {
      "needs_background": "light"
     },
     "output_type": "display_data"
    }
   ],
   "source": [
    "Y_pred = numpy.argmax(model.predict(X_test) , axis=1 )\n",
    "\n",
    "print(classification_report(Y_test, Y_pred))\n",
    "print_metrics(confusion_matrix(Y_test, Y_pred), Y_test)\n",
    "print()\n",
    "\n",
    "plot_loss(history)\n",
    "plot_accuracy(history)"
   ]
  },
  {
   "cell_type": "code",
   "execution_count": 12,
   "metadata": {},
   "outputs": [],
   "source": [
    "model.save('ResNet_bert128.h5')"
   ]
  },
  {
   "cell_type": "code",
   "execution_count": null,
   "metadata": {},
   "outputs": [],
   "source": []
  },
  {
   "cell_type": "code",
   "execution_count": null,
   "metadata": {},
   "outputs": [],
   "source": []
  },
  {
   "cell_type": "code",
   "execution_count": null,
   "metadata": {},
   "outputs": [],
   "source": []
  },
  {
   "cell_type": "code",
   "execution_count": null,
   "metadata": {},
   "outputs": [],
   "source": []
  },
  {
   "cell_type": "code",
   "execution_count": null,
   "metadata": {},
   "outputs": [],
   "source": []
  },
  {
   "cell_type": "markdown",
   "metadata": {},
   "source": [
    "## SMOTE"
   ]
  },
  {
   "cell_type": "code",
   "execution_count": 2,
   "metadata": {
    "collapsed": true
   },
   "outputs": [
    {
     "name": "stdout",
     "output_type": "stream",
     "text": [
      "imbalanced_learn version  0.7.0\n",
      "Counter output before SMOTE: Counter({0: 30438, 1: 274})\n",
      "Counter output after SMOTE: Counter({0: 30438, 1: 30438})\n",
      "class counts oversampled data set: (60876, 60876)\n",
      "train:\n",
      "Counter({0: 30438, 1: 30438})\n",
      "(60876, 128, 768)\n",
      "(60876,)\n",
      "\n",
      "val:\n",
      "Counter({0: 10146, 1: 92})\n",
      "(10238, 128, 768)\n",
      "(10238,)\n",
      "\n",
      "test:\n",
      "Counter({0: 10146, 1: 92})\n",
      "(10238, 128, 768)\n",
      "(10238,)\n"
     ]
    }
   ],
   "source": [
    "X_train, X_test, Y_train, Y_test = train_test_split(X, y, stratify=y, test_size=0.2, random_state=5)\n",
    "X_train, X_val, Y_train, Y_val = train_test_split(X_train, Y_train, stratify=Y_train, test_size=0.25, random_state=10)\n",
    "\n",
    "del X\n",
    "del y\n",
    "\n",
    "# oversample class 1\n",
    "X_train, Y_train = oversample_smote(np.reshape(X_train, (-1, 128*768)), Y_train )\n",
    "X_train = np.reshape( X_train, (-1, 128, 768) )\n",
    "print(\"class counts oversampled data set:\", (X_train.shape[0], Y_train.shape[0]))\n",
    "\n",
    "print(\"train:\")\n",
    "print(Counter(Y_train))\n",
    "print(X_train.shape)\n",
    "print(Y_train.shape)\n",
    "print(\"\\nval:\")\n",
    "print(Counter(Y_val))\n",
    "print(X_val.shape)\n",
    "print(Y_val.shape)\n",
    "print(\"\\ntest:\")\n",
    "print(Counter(Y_test))\n",
    "print(X_test.shape)\n",
    "print(Y_test.shape)\n",
    "\n",
    "Y_train, Y_val = to_categorical(Y_train), to_categorical(Y_val)"
   ]
  },
  {
   "cell_type": "code",
   "execution_count": 4,
   "metadata": {
    "collapsed": true
   },
   "outputs": [
    {
     "name": "stdout",
     "output_type": "stream",
     "text": [
      "Epoch 1/8\n",
      "1903/1903 [==============================] - 461s 242ms/step - loss: 0.1375 - accuracy: 0.9811 - val_loss: 0.0067 - val_accuracy: 0.9987\n",
      "Epoch 2/8\n",
      "1903/1903 [==============================] - 458s 240ms/step - loss: 0.0052 - accuracy: 0.9987 - val_loss: 0.0079 - val_accuracy: 0.9986\n",
      "Epoch 3/8\n",
      "1903/1903 [==============================] - 457s 240ms/step - loss: 0.0045 - accuracy: 0.9990 - val_loss: 0.0054 - val_accuracy: 0.9989\n",
      "Epoch 4/8\n",
      "1903/1903 [==============================] - 456s 239ms/step - loss: 0.0042 - accuracy: 0.9992 - val_loss: 0.0439 - val_accuracy: 0.9964\n",
      "Epoch 5/8\n",
      "1903/1903 [==============================] - 455s 239ms/step - loss: 0.0040 - accuracy: 0.9992 - val_loss: 0.0035 - val_accuracy: 0.9991\n",
      "Epoch 6/8\n",
      "1903/1903 [==============================] - 454s 239ms/step - loss: 0.0039 - accuracy: 0.9992 - val_loss: 0.0054 - val_accuracy: 0.9991\n",
      "Epoch 7/8\n",
      "1903/1903 [==============================] - 453s 238ms/step - loss: 0.0036 - accuracy: 0.9993 - val_loss: 0.0223 - val_accuracy: 0.9879\n",
      "Epoch 8/8\n",
      "1903/1903 [==============================] - 454s 238ms/step - loss: 0.0038 - accuracy: 0.9992 - val_loss: 0.0037 - val_accuracy: 0.9990\n"
     ]
    }
   ],
   "source": [
    "# https://keras.io/api/applications/resnet/#resnet50-function\n",
    "model = applications.ResNet50(\n",
    "    include_top=True,\n",
    "    weights=None,\n",
    "    input_tensor=None,\n",
    "    input_shape=(128, 768, 1),\n",
    "    pooling=None,\n",
    "    classes=2\n",
    ")\n",
    "\n",
    "sgd = tf.keras.optimizers.SGD(learning_rate=0.1)\n",
    "model.compile(loss='categorical_crossentropy', optimizer=sgd, metrics=['accuracy'])\n",
    "\n",
    "history = model.fit(X_train, Y_train,\n",
    "                    epochs=8,\n",
    "                    verbose=True,\n",
    "                    validation_data=(X_val, Y_val)\n",
    "                   )"
   ]
  },
  {
   "cell_type": "code",
   "execution_count": 5,
   "metadata": {},
   "outputs": [
    {
     "name": "stdout",
     "output_type": "stream",
     "text": [
      "              precision    recall  f1-score   support\n",
      "\n",
      "           0       1.00      1.00      1.00     10146\n",
      "           1       0.86      0.98      0.91        92\n",
      "\n",
      "    accuracy                           1.00     10238\n",
      "   macro avg       0.93      0.99      0.96     10238\n",
      "weighted avg       1.00      1.00      1.00     10238\n",
      "\n",
      "Confusion matrix:\n",
      "[[10131    15]\n",
      " [    2    90]]\n",
      "\n",
      "Confusion matrix (Percentages):\n",
      "[[9.8955e+01 1.4700e-01]\n",
      " [2.0000e-02 8.7900e-01]]\n",
      "\n",
      "Metrics:\n",
      "Sensitivity (TPR): 0.978261\n",
      "Specifity (TNR):   0.998522\n",
      "\n",
      "FPR: 0.001478\n",
      "FNR: 0.021739\n",
      "\n",
      "Balanced accuracy: 0.988391\n",
      "\n"
     ]
    },
    {
     "data": {
      "image/png": "[encoded data removed]",
      "text/plain": [
       "<Figure size 432x288 with 1 Axes>"
      ]
     },
     "metadata": {
      "needs_background": "light"
     },
     "output_type": "display_data"
    },
    {
     "data": {
      "image/png": "[encoded data removed]",
      "text/plain": [
       "<Figure size 432x288 with 1 Axes>"
      ]
     },
     "metadata": {
      "needs_background": "light"
     },
     "output_type": "display_data"
    }
   ],
   "source": [
    "Y_pred = numpy.argmax(model.predict(X_test) , axis=1 )\n",
    "\n",
    "print(classification_report(Y_test, Y_pred))\n",
    "print_metrics(confusion_matrix(Y_test, Y_pred), Y_test)\n",
    "print()\n",
    "\n",
    "plot_loss(history)\n",
    "plot_accuracy(history)"
   ]
  },
  {
   "cell_type": "code",
   "execution_count": 6,
   "metadata": {},
   "outputs": [],
   "source": [
    "model.save('ResNet_bert128_SMOTE.h5')"
   ]
  },
  {
   "cell_type": "code",
   "execution_count": null,
   "metadata": {},
   "outputs": [],
   "source": []
  }
 ],
 "metadata": {
  "kernelspec": {
   "display_name": "Python 3.8",
   "language": "python",
   "name": "python38"
  },
  "language_info": {
   "codemirror_mode": {
    "name": "ipython",
    "version": 3
   },
   "file_extension": ".py",
   "mimetype": "text/x-python",
   "name": "python",
   "nbconvert_exporter": "python",
   "pygments_lexer": "ipython3",
   "version": "3.8.2"
  }
 },
 "nbformat": 4,
 "nbformat_minor": 2
}
