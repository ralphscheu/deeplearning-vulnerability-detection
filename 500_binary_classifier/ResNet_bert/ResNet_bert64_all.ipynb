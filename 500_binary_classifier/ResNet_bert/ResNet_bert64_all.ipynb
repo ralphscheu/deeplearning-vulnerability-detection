{
 "cells": [
  {
   "cell_type": "markdown",
   "metadata": {},
   "source": [
    "# ResNet\n",
    "\n",
    "- **Training set**: LO_SARD102\n",
    "- **Test/Validation set:** LO_SARD102\n",
    "- **Features**: bert (64)"
   ]
  },
  {
   "cell_type": "code",
   "execution_count": 1,
   "metadata": {
    "collapsed": true
   },
   "outputs": [
    {
     "name": "stdout",
     "output_type": "stream",
     "text": [
      "class counts data set before undersampling: Counter({0: 11742, 1: 231})\n",
      "Y_train:\n",
      "Counter({0: 231, 1: 231})\n",
      "(462, 64, 768)\n",
      "(462,)\n",
      "\n",
      "Y_val:\n",
      "Counter({0: 3914, 1: 77})\n",
      "(3991, 64, 768)\n",
      "(3991,)\n",
      "\n",
      "Y_test:\n",
      "Counter({0: 3914, 1: 77})\n",
      "(3991, 64, 768)\n",
      "(3991,)\n"
     ]
    }
   ],
   "source": [
    "import tensorflow as tf\n",
    "from tensorflow import keras\n",
    "from tensorflow.keras import layers\n",
    "from tensorflow.keras import applications\n",
    "from tensorflow.keras.utils import to_categorical\n",
    "import pandas as pd\n",
    "import numpy as np\n",
    "import matplotlib.pyplot as plt\n",
    "from helper_functions import *\n",
    "from sklearn.model_selection import train_test_split\n",
    "from collections import Counter\n",
    "from sklearn.metrics import classification_report\n",
    "\n",
    "X = numpy.load('/mnt/md0/user/scheuererra68323/LOSARD102_bert64_X.npy')\n",
    "y = pd.read_hdf('/mnt/md0/user/scheuererra68323/LOSARD102_bert64_y.h5').is_vulnerable.values\n",
    "\n",
    "X_train, X_test, Y_train, Y_test = train_test_split(X, y, stratify=y, test_size=0.2, random_state=5)\n",
    "X_train, X_val, Y_train, Y_val = train_test_split(X_train, Y_train, stratify=Y_train, test_size=0.25, random_state=10)\n",
    "\n",
    "print(\"class counts data set before undersampling:\", Counter(Y_train))\n",
    "# undersample class 0\n",
    "X_train, Y_train = undersample( np.reshape(X_train, (-1, 64*768) ), Y_train)\n",
    "X_train = np.reshape(X_train, (-1, 64, 768))\n",
    "\n",
    "print(\"Y_train:\")\n",
    "print(Counter(Y_train))\n",
    "print(X_train.shape)\n",
    "print(Y_train.shape)\n",
    "print(\"\\nY_val:\")\n",
    "print(Counter(Y_val))\n",
    "print(X_val.shape)\n",
    "print(Y_val.shape)\n",
    "print(\"\\nY_test:\")\n",
    "print(Counter(Y_test))\n",
    "print(X_test.shape)\n",
    "print(Y_test.shape)\n",
    "\n",
    "Y_train, Y_val = to_categorical(Y_train), to_categorical(Y_val)"
   ]
  },
  {
   "cell_type": "markdown",
   "metadata": {},
   "source": [
    "## Undersampling"
   ]
  },
  {
   "cell_type": "code",
   "execution_count": 17,
   "metadata": {
    "collapsed": true
   },
   "outputs": [
    {
     "name": "stdout",
     "output_type": "stream",
     "text": [
      "Epoch 1/8\n",
      "734/734 [==============================] - 98s 133ms/step - loss: 0.0588 - accuracy: 0.9907 - val_loss: 0.0036 - val_accuracy: 0.9990\n",
      "Epoch 2/8\n",
      "734/734 [==============================] - 97s 132ms/step - loss: 0.0047 - accuracy: 0.9986 - val_loss: 9.5747e-04 - val_accuracy: 0.9990\n",
      "Epoch 3/8\n",
      "734/734 [==============================] - 97s 132ms/step - loss: 0.0034 - accuracy: 0.9990 - val_loss: 0.0034 - val_accuracy: 0.9990\n",
      "Epoch 4/8\n",
      "734/734 [==============================] - 97s 132ms/step - loss: 0.0032 - accuracy: 0.9991 - val_loss: 0.0035 - val_accuracy: 0.9990\n",
      "Epoch 5/8\n",
      "734/734 [==============================] - 97s 132ms/step - loss: 0.0031 - accuracy: 0.9991 - val_loss: 0.0039 - val_accuracy: 0.9990\n",
      "Epoch 6/8\n",
      "734/734 [==============================] - 97s 132ms/step - loss: 0.0028 - accuracy: 0.9993 - val_loss: 0.0062 - val_accuracy: 0.9990\n",
      "Epoch 7/8\n",
      "734/734 [==============================] - 96s 131ms/step - loss: 0.0026 - accuracy: 0.9993 - val_loss: 0.0046 - val_accuracy: 0.9990\n",
      "Epoch 8/8\n",
      "734/734 [==============================] - 96s 131ms/step - loss: 0.0030 - accuracy: 0.9992 - val_loss: 0.0033 - val_accuracy: 0.9990\n"
     ]
    }
   ],
   "source": [
    "# https://keras.io/api/applications/resnet/#resnet50-function\n",
    "model = applications.ResNet50(\n",
    "    include_top=True,\n",
    "    weights=None,\n",
    "    input_tensor=None,\n",
    "    input_shape=(64, 768, 1),\n",
    "    pooling=None,\n",
    "    classes=2\n",
    ")\n",
    "\n",
    "sgd = tf.keras.optimizers.SGD(learning_rate=0.01)\n",
    "model.compile(loss='categorical_crossentropy', optimizer=sgd, metrics=['accuracy'])\n",
    "\n",
    "history = model.fit(X_train, Y_train,\n",
    "                    epochs=8,\n",
    "                    verbose=True,\n",
    "                    validation_data=(X_val, Y_val)\n",
    "                   )"
   ]
  },
  {
   "cell_type": "markdown",
   "metadata": {},
   "source": [
    "## Evaluation"
   ]
  },
  {
   "cell_type": "code",
   "execution_count": 18,
   "metadata": {
    "scrolled": false
   },
   "outputs": [
    {
     "name": "stdout",
     "output_type": "stream",
     "text": [
      "              precision    recall  f1-score   support\n",
      "\n",
      "           0       1.00      1.00      1.00      3914\n",
      "           1       0.96      1.00      0.98        77\n",
      "\n",
      "    accuracy                           1.00      3991\n",
      "   macro avg       0.98      1.00      0.99      3991\n",
      "weighted avg       1.00      1.00      1.00      3991\n",
      "\n",
      "Confusion matrix:\n",
      "[[3911    3]\n",
      " [   0   77]]\n",
      "\n",
      "Confusion matrix (Percentages):\n",
      "[[9.7995e+01 7.5000e-02]\n",
      " [0.0000e+00 1.9290e+00]]\n",
      "\n",
      "Metrics:\n",
      "Sensitivity (TPR): 1.000000\n",
      "Specifity (TNR):   0.999234\n",
      "\n",
      "FPR: 0.000766\n",
      "FNR: 0.000000\n",
      "\n",
      "Balanced accuracy: 0.999617\n",
      "\n"
     ]
    },
    {
     "data": {
      "image/png": "[encoded data removed]",
      "text/plain": [
       "<Figure size 432x288 with 1 Axes>"
      ]
     },
     "metadata": {
      "needs_background": "light"
     },
     "output_type": "display_data"
    },
    {
     "data": {
      "image/png": "[encoded data removed]",
      "text/plain": [
       "<Figure size 432x288 with 1 Axes>"
      ]
     },
     "metadata": {
      "needs_background": "light"
     },
     "output_type": "display_data"
    }
   ],
   "source": [
    "Y_pred = numpy.argmax(model.predict(X_test) , axis=1 )\n",
    "\n",
    "print(classification_report(Y_test, Y_pred))\n",
    "print_metrics(confusion_matrix(Y_test, Y_pred), Y_test)\n",
    "print()\n",
    "\n",
    "plot_loss(history)\n",
    "plot_accuracy(history)"
   ]
  },
  {
   "cell_type": "code",
   "execution_count": 19,
   "metadata": {},
   "outputs": [],
   "source": [
    "model.save('ResNet_bert64_undersample.h5')"
   ]
  },
  {
   "cell_type": "code",
   "execution_count": null,
   "metadata": {},
   "outputs": [],
   "source": []
  },
  {
   "cell_type": "code",
   "execution_count": null,
   "metadata": {},
   "outputs": [],
   "source": []
  },
  {
   "cell_type": "code",
   "execution_count": null,
   "metadata": {},
   "outputs": [],
   "source": []
  },
  {
   "cell_type": "code",
   "execution_count": null,
   "metadata": {},
   "outputs": [],
   "source": []
  },
  {
   "cell_type": "code",
   "execution_count": null,
   "metadata": {},
   "outputs": [],
   "source": []
  },
  {
   "cell_type": "code",
   "execution_count": null,
   "metadata": {},
   "outputs": [],
   "source": []
  },
  {
   "cell_type": "markdown",
   "metadata": {},
   "source": [
    "## weighted"
   ]
  },
  {
   "cell_type": "code",
   "execution_count": 5,
   "metadata": {
    "collapsed": true
   },
   "outputs": [
    {
     "name": "stdout",
     "output_type": "stream",
     "text": [
      "weights: {0: 0.5098364844149208, 1: 25.915584415584416}\n",
      "train:\n",
      "Counter({0: 11742, 1: 231})\n",
      "(11973, 64, 768)\n",
      "(11973,)\n",
      "\n",
      "val:\n",
      "Counter({0: 3914, 1: 77})\n",
      "(3991, 64, 768)\n",
      "(3991,)\n",
      "\n",
      "test:\n",
      "Counter({0: 3914, 1: 77})\n",
      "(3991, 64, 768)\n",
      "(3991,)\n"
     ]
    }
   ],
   "source": [
    "X_train, X_test, Y_train, Y_test = train_test_split(X, y, stratify=y, test_size=0.2, random_state=5)\n",
    "X_train, X_val, Y_train, Y_val = train_test_split(X_train, Y_train, stratify=Y_train, test_size=0.25, random_state=10)\n",
    "\n",
    "classWeights = {\n",
    "    0: ( 1 / Counter(Y_train)[0] ) * Y_train.shape[0] / 2.0 ,\n",
    "    1: ( 1 / Counter(Y_train)[1] ) * Y_train.shape[0] / 2.0\n",
    "}\n",
    "print(\"weights:\", classWeights)\n",
    "\n",
    "print(\"train:\")\n",
    "print(Counter(Y_train))\n",
    "print(X_train.shape)\n",
    "print(Y_train.shape)\n",
    "print(\"\\nval:\")\n",
    "print(Counter(Y_val))\n",
    "print(X_val.shape)\n",
    "print(Y_val.shape)\n",
    "print(\"\\ntest:\")\n",
    "print(Counter(Y_test))\n",
    "print(X_test.shape)\n",
    "print(Y_test.shape)\n",
    "\n",
    "Y_train, Y_val = to_categorical(Y_train), to_categorical(Y_val)"
   ]
  },
  {
   "cell_type": "code",
   "execution_count": 6,
   "metadata": {
    "collapsed": true
   },
   "outputs": [
    {
     "name": "stdout",
     "output_type": "stream",
     "text": [
      "Epoch 1/8\n",
      "375/375 [==============================] - 53s 141ms/step - loss: 2.4862 - accuracy: 0.7439 - val_loss: 0.1607 - val_accuracy: 0.8842\n",
      "Epoch 2/8\n",
      "375/375 [==============================] - 52s 140ms/step - loss: 0.3939 - accuracy: 0.9365 - val_loss: 0.0292 - val_accuracy: 0.9915\n",
      "Epoch 3/8\n",
      "375/375 [==============================] - 52s 140ms/step - loss: 0.1639 - accuracy: 0.9774 - val_loss: 0.0152 - val_accuracy: 0.9970\n",
      "Epoch 4/8\n",
      "375/375 [==============================] - 52s 139ms/step - loss: 0.1086 - accuracy: 0.9853 - val_loss: 0.0646 - val_accuracy: 0.9657\n",
      "Epoch 5/8\n",
      "375/375 [==============================] - 51s 136ms/step - loss: 0.0424 - accuracy: 0.9929 - val_loss: 0.0413 - val_accuracy: 0.9937\n",
      "Epoch 6/8\n",
      "375/375 [==============================] - 51s 136ms/step - loss: 0.1208 - accuracy: 0.9810 - val_loss: 0.0900 - val_accuracy: 0.9769\n",
      "Epoch 7/8\n",
      "375/375 [==============================] - 51s 136ms/step - loss: 0.0721 - accuracy: 0.9857 - val_loss: 0.0053 - val_accuracy: 0.9977\n",
      "Epoch 8/8\n",
      "375/375 [==============================] - 51s 136ms/step - loss: 0.0299 - accuracy: 0.9913 - val_loss: 0.0239 - val_accuracy: 0.9925\n"
     ]
    }
   ],
   "source": [
    "# https://keras.io/api/applications/resnet/#resnet50-function\n",
    "model = applications.ResNet50(\n",
    "    include_top=True,\n",
    "    weights=None,\n",
    "    input_tensor=None,\n",
    "    input_shape=(64, 768, 1),\n",
    "    pooling=None,\n",
    "    classes=2\n",
    ")\n",
    "\n",
    "sgd = tf.keras.optimizers.SGD(learning_rate=0.1)\n",
    "model.compile(loss='categorical_crossentropy', optimizer=sgd, metrics=['accuracy'])\n",
    "\n",
    "history = model.fit(X_train, Y_train,\n",
    "                    epochs=8,\n",
    "                    verbose=True,\n",
    "                    validation_data=(X_val, Y_val),\n",
    "                    class_weight=classWeights\n",
    "                   )"
   ]
  },
  {
   "cell_type": "code",
   "execution_count": 7,
   "metadata": {},
   "outputs": [
    {
     "name": "stdout",
     "output_type": "stream",
     "text": [
      "              precision    recall  f1-score   support\n",
      "\n",
      "           0       1.00      0.99      0.99      3914\n",
      "           1       0.65      1.00      0.79        77\n",
      "\n",
      "    accuracy                           0.99      3991\n",
      "   macro avg       0.82      0.99      0.89      3991\n",
      "weighted avg       0.99      0.99      0.99      3991\n",
      "\n",
      "Confusion matrix:\n",
      "[[3872   42]\n",
      " [   0   77]]\n",
      "\n",
      "Confusion matrix (Percentages):\n",
      "[[97.018  1.052]\n",
      " [ 0.     1.929]]\n",
      "\n",
      "Metrics:\n",
      "Sensitivity (TPR): 1.000000\n",
      "Specifity (TNR):   0.989269\n",
      "\n",
      "FPR: 0.010731\n",
      "FNR: 0.000000\n",
      "\n",
      "Balanced accuracy: 0.994635\n",
      "\n"
     ]
    },
    {
     "data": {
      "image/png": "[encoded data removed]",
      "text/plain": [
       "<Figure size 432x288 with 1 Axes>"
      ]
     },
     "metadata": {
      "needs_background": "light"
     },
     "output_type": "display_data"
    },
    {
     "data": {
      "image/png": "[encoded data removed]",
      "text/plain": [
       "<Figure size 432x288 with 1 Axes>"
      ]
     },
     "metadata": {
      "needs_background": "light"
     },
     "output_type": "display_data"
    }
   ],
   "source": [
    "Y_pred = numpy.argmax(model.predict(X_test) , axis=1 )\n",
    "\n",
    "print(classification_report(Y_test, Y_pred))\n",
    "print_metrics(confusion_matrix(Y_test, Y_pred), Y_test)\n",
    "print()\n",
    "\n",
    "plot_loss(history)\n",
    "plot_accuracy(history)"
   ]
  },
  {
   "cell_type": "code",
   "execution_count": 8,
   "metadata": {},
   "outputs": [],
   "source": [
    "model.save('ResNet_bert64_weighted.h5')"
   ]
  },
  {
   "cell_type": "code",
   "execution_count": null,
   "metadata": {},
   "outputs": [],
   "source": []
  },
  {
   "cell_type": "code",
   "execution_count": null,
   "metadata": {},
   "outputs": [],
   "source": []
  },
  {
   "cell_type": "code",
   "execution_count": null,
   "metadata": {},
   "outputs": [],
   "source": []
  },
  {
   "cell_type": "code",
   "execution_count": null,
   "metadata": {},
   "outputs": [],
   "source": []
  },
  {
   "cell_type": "markdown",
   "metadata": {},
   "source": [
    "## No imbalance migation"
   ]
  },
  {
   "cell_type": "code",
   "execution_count": 9,
   "metadata": {
    "collapsed": true
   },
   "outputs": [
    {
     "name": "stdout",
     "output_type": "stream",
     "text": [
      "Epoch 1/8\n",
      "375/375 [==============================] - 52s 138ms/step - loss: 0.0848 - accuracy: 0.9940 - val_loss: 0.0068 - val_accuracy: 0.9997\n",
      "Epoch 2/8\n",
      "375/375 [==============================] - 51s 137ms/step - loss: 0.0054 - accuracy: 0.9991 - val_loss: 0.0016 - val_accuracy: 0.9990\n",
      "Epoch 3/8\n",
      "375/375 [==============================] - 52s 138ms/step - loss: 0.0027 - accuracy: 0.9993 - val_loss: 0.0012 - val_accuracy: 0.9997\n",
      "Epoch 4/8\n",
      "375/375 [==============================] - 51s 135ms/step - loss: 0.0021 - accuracy: 0.9993 - val_loss: 7.7025e-04 - val_accuracy: 0.9997\n",
      "Epoch 5/8\n",
      "375/375 [==============================] - 52s 138ms/step - loss: 0.0016 - accuracy: 0.9997 - val_loss: 0.0010 - val_accuracy: 0.9997\n",
      "Epoch 6/8\n",
      "375/375 [==============================] - 51s 136ms/step - loss: 0.0016 - accuracy: 0.9995 - val_loss: 9.5280e-04 - val_accuracy: 0.9997\n",
      "Epoch 7/8\n",
      "375/375 [==============================] - 51s 137ms/step - loss: 0.0017 - accuracy: 0.9994 - val_loss: 7.1363e-04 - val_accuracy: 0.9997\n",
      "Epoch 8/8\n",
      "375/375 [==============================] - 51s 136ms/step - loss: 0.0016 - accuracy: 0.9996 - val_loss: 0.0011 - val_accuracy: 0.9990\n"
     ]
    }
   ],
   "source": [
    "# https://keras.io/api/applications/resnet/#resnet50-function\n",
    "model = applications.ResNet50(\n",
    "    include_top=True,\n",
    "    weights=None,\n",
    "    input_tensor=None,\n",
    "    input_shape=(64, 768, 1),\n",
    "    pooling=None,\n",
    "    classes=2\n",
    ")\n",
    "\n",
    "sgd = tf.keras.optimizers.SGD(learning_rate=0.1)\n",
    "model.compile(loss='categorical_crossentropy', optimizer=sgd, metrics=['accuracy'])\n",
    "\n",
    "history = model.fit(X_train, Y_train,\n",
    "                    epochs=8,\n",
    "                    verbose=True,\n",
    "                    validation_data=(X_val, Y_val)\n",
    "                   )"
   ]
  },
  {
   "cell_type": "code",
   "execution_count": 10,
   "metadata": {},
   "outputs": [
    {
     "name": "stdout",
     "output_type": "stream",
     "text": [
      "              precision    recall  f1-score   support\n",
      "\n",
      "           0       1.00      1.00      1.00      3914\n",
      "           1       0.96      1.00      0.98        77\n",
      "\n",
      "    accuracy                           1.00      3991\n",
      "   macro avg       0.98      1.00      0.99      3991\n",
      "weighted avg       1.00      1.00      1.00      3991\n",
      "\n",
      "Confusion matrix:\n",
      "[[3911    3]\n",
      " [   0   77]]\n",
      "\n",
      "Confusion matrix (Percentages):\n",
      "[[9.7995e+01 7.5000e-02]\n",
      " [0.0000e+00 1.9290e+00]]\n",
      "\n",
      "Metrics:\n",
      "Sensitivity (TPR): 1.000000\n",
      "Specifity (TNR):   0.999234\n",
      "\n",
      "FPR: 0.000766\n",
      "FNR: 0.000000\n",
      "\n",
      "Balanced accuracy: 0.999617\n",
      "\n"
     ]
    },
    {
     "data": {
      "image/png": "[encoded data removed]",
      "text/plain": [
       "<Figure size 432x288 with 1 Axes>"
      ]
     },
     "metadata": {
      "needs_background": "light"
     },
     "output_type": "display_data"
    },
    {
     "data": {
      "image/png": "[encoded data removed]",
      "text/plain": [
       "<Figure size 432x288 with 1 Axes>"
      ]
     },
     "metadata": {
      "needs_background": "light"
     },
     "output_type": "display_data"
    }
   ],
   "source": [
    "Y_pred = numpy.argmax(model.predict(X_test) , axis=1 )\n",
    "\n",
    "print(classification_report(Y_test, Y_pred))\n",
    "print_metrics(confusion_matrix(Y_test, Y_pred), Y_test)\n",
    "print()\n",
    "\n",
    "plot_loss(history)\n",
    "plot_accuracy(history)"
   ]
  },
  {
   "cell_type": "code",
   "execution_count": 11,
   "metadata": {},
   "outputs": [],
   "source": [
    "model.save('ResNet_bert64.h5')"
   ]
  },
  {
   "cell_type": "code",
   "execution_count": null,
   "metadata": {},
   "outputs": [],
   "source": []
  },
  {
   "cell_type": "code",
   "execution_count": null,
   "metadata": {},
   "outputs": [],
   "source": []
  },
  {
   "cell_type": "code",
   "execution_count": null,
   "metadata": {},
   "outputs": [],
   "source": []
  },
  {
   "cell_type": "code",
   "execution_count": null,
   "metadata": {},
   "outputs": [],
   "source": []
  },
  {
   "cell_type": "code",
   "execution_count": null,
   "metadata": {},
   "outputs": [],
   "source": []
  },
  {
   "cell_type": "code",
   "execution_count": null,
   "metadata": {},
   "outputs": [],
   "source": []
  },
  {
   "cell_type": "code",
   "execution_count": 12,
   "metadata": {
    "collapsed": true
   },
   "outputs": [
    {
     "name": "stdout",
     "output_type": "stream",
     "text": [
      "imbalanced_learn version  0.7.0\n",
      "Counter output before SMOTE: Counter({0: 11742, 1: 231})\n",
      "Counter output after SMOTE: Counter({0: 11742, 1: 11742})\n",
      "class counts oversampled data set: (23484, 23484)\n",
      "train:\n",
      "Counter({0: 11742, 1: 11742})\n",
      "(23484, 64, 768)\n",
      "(23484,)\n",
      "\n",
      "val:\n",
      "Counter({0: 3914, 1: 77})\n",
      "(3991, 64, 768)\n",
      "(3991,)\n",
      "\n",
      "test:\n",
      "Counter({0: 3914, 1: 77})\n",
      "(3991, 64, 768)\n",
      "(3991,)\n"
     ]
    }
   ],
   "source": [
    "X_train, X_test, Y_train, Y_test = train_test_split(X, y, stratify=y, test_size=0.2, random_state=5)\n",
    "X_train, X_val, Y_train, Y_val = train_test_split(X_train, Y_train, stratify=Y_train, test_size=0.25, random_state=10)\n",
    "\n",
    "del X\n",
    "del y\n",
    "\n",
    "# oversample class 1\n",
    "X_train, Y_train = oversample_smote(np.reshape(X_train, (-1, 64*768)), Y_train )\n",
    "X_train = np.reshape( X_train, (-1, 64, 768) )\n",
    "print(\"class counts oversampled data set:\", (X_train.shape[0], Y_train.shape[0]))\n",
    "\n",
    "print(\"train:\")\n",
    "print(Counter(Y_train))\n",
    "print(X_train.shape)\n",
    "print(Y_train.shape)\n",
    "print(\"\\nval:\")\n",
    "print(Counter(Y_val))\n",
    "print(X_val.shape)\n",
    "print(Y_val.shape)\n",
    "print(\"\\ntest:\")\n",
    "print(Counter(Y_test))\n",
    "print(X_test.shape)\n",
    "print(Y_test.shape)\n",
    "\n",
    "Y_train, Y_val = to_categorical(Y_train), to_categorical(Y_val)"
   ]
  },
  {
   "cell_type": "code",
   "execution_count": 13,
   "metadata": {
    "collapsed": true
   },
   "outputs": [
    {
     "name": "stdout",
     "output_type": "stream",
     "text": [
      "Epoch 1/8\n",
      "734/734 [==============================] - 97s 132ms/step - loss: 0.4488 - accuracy: 0.9584 - val_loss: 0.0029 - val_accuracy: 0.9990\n",
      "Epoch 2/8\n",
      "734/734 [==============================] - 95s 130ms/step - loss: 0.0075 - accuracy: 0.9980 - val_loss: 0.0052 - val_accuracy: 0.9990\n",
      "Epoch 3/8\n",
      "734/734 [==============================] - 95s 130ms/step - loss: 0.0042 - accuracy: 0.9987 - val_loss: 0.0069 - val_accuracy: 0.9990\n",
      "Epoch 4/8\n",
      "734/734 [==============================] - 96s 131ms/step - loss: 0.0040 - accuracy: 0.9990 - val_loss: 7.9432e-04 - val_accuracy: 0.9997\n",
      "Epoch 5/8\n",
      "734/734 [==============================] - 96s 130ms/step - loss: 0.0041 - accuracy: 0.9987 - val_loss: 0.0041 - val_accuracy: 0.9990\n",
      "Epoch 6/8\n",
      "734/734 [==============================] - 95s 130ms/step - loss: 0.0035 - accuracy: 0.9991 - val_loss: 0.0033 - val_accuracy: 0.9990\n",
      "Epoch 7/8\n",
      "734/734 [==============================] - 96s 131ms/step - loss: 0.0033 - accuracy: 0.9990 - val_loss: 0.0049 - val_accuracy: 0.9990\n",
      "Epoch 8/8\n",
      "734/734 [==============================] - 96s 131ms/step - loss: 0.0027 - accuracy: 0.9991 - val_loss: 0.0045 - val_accuracy: 0.9990\n"
     ]
    }
   ],
   "source": [
    "# https://keras.io/api/applications/resnet/#resnet50-function\n",
    "model = applications.ResNet50(\n",
    "    include_top=True,\n",
    "    weights=None,\n",
    "    input_tensor=None,\n",
    "    input_shape=(64, 768, 1),\n",
    "    pooling=None,\n",
    "    classes=2\n",
    ")\n",
    "\n",
    "sgd = tf.keras.optimizers.SGD(learning_rate=0.1)\n",
    "model.compile(loss='categorical_crossentropy', optimizer=sgd, metrics=['accuracy'])\n",
    "\n",
    "history = model.fit(X_train, Y_train,\n",
    "                    epochs=8,\n",
    "                    verbose=True,\n",
    "                    validation_data=(X_val, Y_val)\n",
    "                   )"
   ]
  },
  {
   "cell_type": "code",
   "execution_count": 14,
   "metadata": {},
   "outputs": [
    {
     "name": "stdout",
     "output_type": "stream",
     "text": [
      "              precision    recall  f1-score   support\n",
      "\n",
      "           0       1.00      1.00      1.00      3914\n",
      "           1       0.96      1.00      0.98        77\n",
      "\n",
      "    accuracy                           1.00      3991\n",
      "   macro avg       0.98      1.00      0.99      3991\n",
      "weighted avg       1.00      1.00      1.00      3991\n",
      "\n",
      "Confusion matrix:\n",
      "[[3911    3]\n",
      " [   0   77]]\n",
      "\n",
      "Confusion matrix (Percentages):\n",
      "[[9.7995e+01 7.5000e-02]\n",
      " [0.0000e+00 1.9290e+00]]\n",
      "\n",
      "Metrics:\n",
      "Sensitivity (TPR): 1.000000\n",
      "Specifity (TNR):   0.999234\n",
      "\n",
      "FPR: 0.000766\n",
      "FNR: 0.000000\n",
      "\n",
      "Balanced accuracy: 0.999617\n",
      "\n"
     ]
    },
    {
     "data": {
      "image/png": "[encoded data removed]",
      "text/plain": [
       "<Figure size 432x288 with 1 Axes>"
      ]
     },
     "metadata": {
      "needs_background": "light"
     },
     "output_type": "display_data"
    },
    {
     "data": {
      "image/png": "[encoded data removed]",
      "text/plain": [
       "<Figure size 432x288 with 1 Axes>"
      ]
     },
     "metadata": {
      "needs_background": "light"
     },
     "output_type": "display_data"
    }
   ],
   "source": [
    "Y_pred = numpy.argmax(model.predict(X_test) , axis=1 )\n",
    "\n",
    "print(classification_report(Y_test, Y_pred))\n",
    "print_metrics(confusion_matrix(Y_test, Y_pred), Y_test)\n",
    "print()\n",
    "\n",
    "plot_loss(history)\n",
    "plot_accuracy(history)"
   ]
  },
  {
   "cell_type": "code",
   "execution_count": 15,
   "metadata": {},
   "outputs": [],
   "source": [
    "model.save('ResNet_bert64_SMOTE.h5')"
   ]
  }
 ],
 "metadata": {
  "kernelspec": {
   "display_name": "Python 3.8",
   "language": "python",
   "name": "python38"
  },
  "language_info": {
   "codemirror_mode": {
    "name": "ipython",
    "version": 3
   },
   "file_extension": ".py",
   "mimetype": "text/x-python",
   "name": "python",
   "nbconvert_exporter": "python",
   "pygments_lexer": "ipython3",
   "version": "3.8.2"
  }
 },
 "nbformat": 4,
 "nbformat_minor": 2
}
