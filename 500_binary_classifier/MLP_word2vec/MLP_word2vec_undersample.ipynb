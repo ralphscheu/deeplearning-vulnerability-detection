{
 "cells": [
  {
   "cell_type": "markdown",
   "metadata": {},
   "source": [
    "# Multi-layer Perceptron (MLP)\n",
    "\n",
    "- **Training set**: LO_SARD102 (0.75 split)\n",
    "- **Test/Validation set:** LO_SARD102 (0.25 split)\n",
    "- **Features**: word2vec average\n",
    "- **Class imbalance processing**: Random Undersampling"
   ]
  },
  {
   "cell_type": "code",
   "execution_count": 1,
   "metadata": {},
   "outputs": [
    {
     "name": "stderr",
     "output_type": "stream",
     "text": [
      "/home/scheuererra68323/venv37/lib/python3.7/site-packages/pandas/compat/__init__.py:117: UserWarning: Could not import the lzma module. Your installed Python is incomplete. Attempting to use lzma compression will result in a RuntimeError.\n",
      "  warnings.warn(msg)\n"
     ]
    }
   ],
   "source": [
    "import tensorflow as tf\n",
    "from tensorflow import keras\n",
    "from tensorflow.keras import layers\n",
    "from tensorflow.keras.utils import to_categorical\n",
    "import pandas as pd\n",
    "import numpy\n",
    "import matplotlib.pyplot as plt\n",
    "from helper_functions import *\n",
    "from sklearn.model_selection import train_test_split\n",
    "from sklearn.metrics import classification_report"
   ]
  },
  {
   "cell_type": "markdown",
   "metadata": {},
   "source": [
    "## Load labeled dataset"
   ]
  },
  {
   "cell_type": "code",
   "execution_count": 2,
   "metadata": {},
   "outputs": [
    {
     "name": "stdout",
     "output_type": "stream",
     "text": [
      "(292724, 2)\n",
      "0.0    269721\n",
      "1.0     23003\n",
      "Name: is_vulnerable, dtype: int64\n"
     ]
    }
   ],
   "source": [
    "dataset = pd.read_hdf(\"/mnt/md0/user/scheuererra68323/LO_SARD102/LO_SARD102_word2vec.h5\")\n",
    "print(dataset.shape)\n",
    "print(dataset.is_vulnerable.value_counts())"
   ]
  },
  {
   "cell_type": "markdown",
   "metadata": {},
   "source": [
    "## Split dataset into training and test"
   ]
  },
  {
   "cell_type": "code",
   "execution_count": 3,
   "metadata": {
    "scrolled": true
   },
   "outputs": [
    {
     "name": "stdout",
     "output_type": "stream",
     "text": [
      "Training Set:\n",
      "175634 total\n",
      "Counter({0.0: 161833, 1.0: 13801})\n",
      "\n",
      "Validation Set:\n",
      "58545 total\n",
      "Counter({0.0: 53944, 1.0: 4601})\n",
      "\n",
      "Test Set:\n",
      "58545 total\n",
      "Counter({0.0: 53944, 1.0: 4601})\n"
     ]
    }
   ],
   "source": [
    "X_train, X_test, Y_train, Y_test = train_test_split(\n",
    "    dataset.word2vec_avg,\n",
    "    dataset.is_vulnerable,\n",
    "    test_size=0.2,\n",
    "    stratify=dataset.is_vulnerable,\n",
    "    random_state=0\n",
    ")\n",
    "X_train, X_val, Y_train, Y_val = train_test_split(\n",
    "    X_train,\n",
    "    Y_train,\n",
    "    test_size=0.25,\n",
    "    stratify=Y_train,\n",
    "    random_state=1\n",
    ")\n",
    "\n",
    "X_train = numpy.stack(X_train, axis=0)\n",
    "Y_train = numpy.stack(Y_train, axis=0)\n",
    "X_val = numpy.stack(X_val, axis=0)\n",
    "Y_val = numpy.stack(Y_val, axis=0)\n",
    "X_test = numpy.stack(X_test, axis=0)\n",
    "Y_test = numpy.stack(Y_test, axis=0)\n",
    "\n",
    "print(\"Training Set:\")\n",
    "print(f\"{len(X_train)} total\")\n",
    "print(Counter(Y_train))\n",
    "print()      \n",
    "print(\"Validation Set:\")\n",
    "print(f\"{len(X_val)} total\")\n",
    "print(Counter(Y_val))\n",
    "print()      \n",
    "print(\"Test Set:\")\n",
    "print(f\"{len(X_test)} total\")\n",
    "print(Counter(Y_test))"
   ]
  },
  {
   "cell_type": "markdown",
   "metadata": {},
   "source": [
    "## Apply undersampling of majority class"
   ]
  },
  {
   "cell_type": "code",
   "execution_count": 4,
   "metadata": {
    "scrolled": false
   },
   "outputs": [
    {
     "name": "stdout",
     "output_type": "stream",
     "text": [
      "27602 total\n",
      "1.0    13801\n",
      "0.0    13801\n",
      "dtype: int64\n"
     ]
    }
   ],
   "source": [
    "X_train, Y_train = undersample(X_train, Y_train)\n",
    "print(len(X_train), \"total\")\n",
    "print(pd.Series(Y_train).value_counts())"
   ]
  },
  {
   "cell_type": "markdown",
   "metadata": {},
   "source": [
    "## Model definition & Training"
   ]
  },
  {
   "cell_type": "code",
   "execution_count": 12,
   "metadata": {},
   "outputs": [
    {
     "name": "stdout",
     "output_type": "stream",
     "text": [
      "Model: \"sequential_5\"\n",
      "_________________________________________________________________\n",
      "Layer (type)                 Output Shape              Param #   \n",
      "=================================================================\n",
      "dense_20 (Dense)             (None, 64)                6464      \n",
      "_________________________________________________________________\n",
      "dropout_5 (Dropout)          (None, 64)                0         \n",
      "_________________________________________________________________\n",
      "dense_21 (Dense)             (None, 64)                4160      \n",
      "_________________________________________________________________\n",
      "dense_22 (Dense)             (None, 64)                4160      \n",
      "_________________________________________________________________\n",
      "dense_23 (Dense)             (None, 1)                 65        \n",
      "=================================================================\n",
      "Total params: 14,849\n",
      "Trainable params: 14,849\n",
      "Non-trainable params: 0\n",
      "_________________________________________________________________\n",
      "Train on 27602 samples, validate on 58545 samples\n",
      "Epoch 1/100\n",
      "27602/27602 [==============================] - 1s 24us/sample - loss: 0.7039 - accuracy: 0.5038 - val_loss: 0.7991 - val_accuracy: 0.0965\n",
      "Epoch 2/100\n",
      "27602/27602 [==============================] - 0s 4us/sample - loss: 0.6914 - accuracy: 0.5149 - val_loss: 0.7381 - val_accuracy: 0.2806\n",
      "Epoch 3/100\n",
      "27602/27602 [==============================] - 0s 2us/sample - loss: 0.6743 - accuracy: 0.5942 - val_loss: 0.6777 - val_accuracy: 0.5899\n",
      "Epoch 4/100\n",
      "27602/27602 [==============================] - 0s 3us/sample - loss: 0.6570 - accuracy: 0.7267 - val_loss: 0.6276 - val_accuracy: 0.7526\n",
      "Epoch 5/100\n",
      "27602/27602 [==============================] - 0s 3us/sample - loss: 0.6414 - accuracy: 0.7555 - val_loss: 0.5913 - val_accuracy: 0.8062\n",
      "Epoch 6/100\n",
      "27602/27602 [==============================] - 0s 2us/sample - loss: 0.6236 - accuracy: 0.7543 - val_loss: 0.5710 - val_accuracy: 0.7939\n",
      "Epoch 7/100\n",
      "27602/27602 [==============================] - 0s 2us/sample - loss: 0.6006 - accuracy: 0.7723 - val_loss: 0.5705 - val_accuracy: 0.7502\n",
      "Epoch 8/100\n",
      "27602/27602 [==============================] - 0s 2us/sample - loss: 0.5708 - accuracy: 0.7998 - val_loss: 0.5898 - val_accuracy: 0.6924\n",
      "Epoch 9/100\n",
      "27602/27602 [==============================] - 0s 2us/sample - loss: 0.5386 - accuracy: 0.8022 - val_loss: 0.6129 - val_accuracy: 0.6580\n",
      "Epoch 10/100\n",
      "27602/27602 [==============================] - 0s 2us/sample - loss: 0.5109 - accuracy: 0.7968 - val_loss: 0.6015 - val_accuracy: 0.6678\n",
      "Epoch 11/100\n",
      "27602/27602 [==============================] - 0s 2us/sample - loss: 0.4821 - accuracy: 0.8019 - val_loss: 0.5262 - val_accuracy: 0.7307\n",
      "Epoch 12/100\n",
      "27602/27602 [==============================] - 0s 3us/sample - loss: 0.4483 - accuracy: 0.8149 - val_loss: 0.4282 - val_accuracy: 0.7859\n",
      "Epoch 13/100\n",
      "27602/27602 [==============================] - 0s 2us/sample - loss: 0.4223 - accuracy: 0.8088 - val_loss: 0.3755 - val_accuracy: 0.8147\n",
      "Epoch 14/100\n",
      "27602/27602 [==============================] - 0s 1us/sample - loss: 0.4039 - accuracy: 0.8098 - val_loss: 0.3934 - val_accuracy: 0.8016\n",
      "Epoch 15/100\n",
      "27602/27602 [==============================] - 0s 2us/sample - loss: 0.3752 - accuracy: 0.8354 - val_loss: 0.4282 - val_accuracy: 0.7788\n",
      "Epoch 16/100\n",
      "27602/27602 [==============================] - 0s 2us/sample - loss: 0.3587 - accuracy: 0.8415 - val_loss: 0.3807 - val_accuracy: 0.8053\n",
      "Epoch 17/100\n",
      "27602/27602 [==============================] - 0s 1us/sample - loss: 0.3372 - accuracy: 0.8536 - val_loss: 0.2872 - val_accuracy: 0.8633\n",
      "Epoch 18/100\n",
      "27602/27602 [==============================] - 0s 1us/sample - loss: 0.3247 - accuracy: 0.8680 - val_loss: 0.2644 - val_accuracy: 0.8791\n",
      "Epoch 19/100\n",
      "27602/27602 [==============================] - 0s 2us/sample - loss: 0.3209 - accuracy: 0.8679 - val_loss: 0.3291 - val_accuracy: 0.8415\n",
      "Epoch 20/100\n",
      "27602/27602 [==============================] - 0s 1us/sample - loss: 0.3079 - accuracy: 0.8711 - val_loss: 0.3442 - val_accuracy: 0.8361\n",
      "Epoch 21/100\n",
      "27602/27602 [==============================] - 0s 2us/sample - loss: 0.3041 - accuracy: 0.8716 - val_loss: 0.2639 - val_accuracy: 0.8812\n",
      "Epoch 22/100\n",
      "27602/27602 [==============================] - 0s 2us/sample - loss: 0.2966 - accuracy: 0.8813 - val_loss: 0.2378 - val_accuracy: 0.8962\n",
      "Epoch 23/100\n",
      "27602/27602 [==============================] - 0s 2us/sample - loss: 0.2933 - accuracy: 0.8833 - val_loss: 0.2892 - val_accuracy: 0.8693\n",
      "Epoch 24/100\n",
      "27602/27602 [==============================] - 0s 2us/sample - loss: 0.2822 - accuracy: 0.8877 - val_loss: 0.2996 - val_accuracy: 0.8617\n",
      "Epoch 25/100\n",
      "27602/27602 [==============================] - 0s 2us/sample - loss: 0.2726 - accuracy: 0.8890 - val_loss: 0.2386 - val_accuracy: 0.8904\n",
      "Epoch 26/100\n",
      "27602/27602 [==============================] - 0s 1us/sample - loss: 0.2668 - accuracy: 0.8951 - val_loss: 0.2194 - val_accuracy: 0.9044\n",
      "Epoch 27/100\n",
      "27602/27602 [==============================] - 0s 2us/sample - loss: 0.2624 - accuracy: 0.8970 - val_loss: 0.2581 - val_accuracy: 0.8783\n",
      "Epoch 28/100\n",
      "27602/27602 [==============================] - 0s 2us/sample - loss: 0.2555 - accuracy: 0.8956 - val_loss: 0.2709 - val_accuracy: 0.8700\n",
      "Epoch 29/100\n",
      "27602/27602 [==============================] - 0s 1us/sample - loss: 0.2482 - accuracy: 0.8965 - val_loss: 0.2255 - val_accuracy: 0.9014\n",
      "Epoch 30/100\n",
      "27602/27602 [==============================] - 0s 2us/sample - loss: 0.2410 - accuracy: 0.9031 - val_loss: 0.1983 - val_accuracy: 0.9181\n",
      "Epoch 31/100\n",
      "27602/27602 [==============================] - 0s 1us/sample - loss: 0.2392 - accuracy: 0.9082 - val_loss: 0.2233 - val_accuracy: 0.9016\n",
      "Epoch 32/100\n",
      "27602/27602 [==============================] - 0s 2us/sample - loss: 0.2320 - accuracy: 0.9073 - val_loss: 0.2469 - val_accuracy: 0.8844\n",
      "Epoch 33/100\n",
      "27602/27602 [==============================] - 0s 2us/sample - loss: 0.2290 - accuracy: 0.9038 - val_loss: 0.2232 - val_accuracy: 0.8978\n",
      "Epoch 34/100\n",
      "27602/27602 [==============================] - 0s 2us/sample - loss: 0.2224 - accuracy: 0.9090 - val_loss: 0.1899 - val_accuracy: 0.9196\n",
      "Epoch 35/100\n",
      "27602/27602 [==============================] - 0s 2us/sample - loss: 0.2197 - accuracy: 0.9153 - val_loss: 0.1912 - val_accuracy: 0.9180\n",
      "Epoch 36/100\n",
      "27602/27602 [==============================] - 0s 2us/sample - loss: 0.2151 - accuracy: 0.9143 - val_loss: 0.2122 - val_accuracy: 0.9059\n",
      "Epoch 37/100\n",
      "27602/27602 [==============================] - 0s 2us/sample - loss: 0.2112 - accuracy: 0.9140 - val_loss: 0.2108 - val_accuracy: 0.9073\n",
      "Epoch 38/100\n",
      "27602/27602 [==============================] - 0s 2us/sample - loss: 0.2063 - accuracy: 0.9142 - val_loss: 0.1828 - val_accuracy: 0.9276\n",
      "Epoch 39/100\n",
      "27602/27602 [==============================] - 0s 2us/sample - loss: 0.2028 - accuracy: 0.9192 - val_loss: 0.1693 - val_accuracy: 0.9338\n",
      "Epoch 40/100\n",
      "27602/27602 [==============================] - 0s 2us/sample - loss: 0.1997 - accuracy: 0.9203 - val_loss: 0.1821 - val_accuracy: 0.9296\n",
      "Epoch 41/100\n",
      "27602/27602 [==============================] - 0s 2us/sample - loss: 0.1965 - accuracy: 0.9191 - val_loss: 0.1924 - val_accuracy: 0.9222\n",
      "Epoch 42/100\n",
      "27602/27602 [==============================] - 0s 2us/sample - loss: 0.1934 - accuracy: 0.9208 - val_loss: 0.1767 - val_accuracy: 0.9310\n",
      "Epoch 43/100\n",
      "27602/27602 [==============================] - 0s 2us/sample - loss: 0.1897 - accuracy: 0.9215 - val_loss: 0.1582 - val_accuracy: 0.9379\n",
      "Epoch 44/100\n",
      "27602/27602 [==============================] - 0s 2us/sample - loss: 0.1878 - accuracy: 0.9242 - val_loss: 0.1640 - val_accuracy: 0.9352\n",
      "Epoch 45/100\n",
      "27602/27602 [==============================] - 0s 1us/sample - loss: 0.1842 - accuracy: 0.9262 - val_loss: 0.1782 - val_accuracy: 0.9299\n",
      "Epoch 46/100\n",
      "27602/27602 [==============================] - 0s 2us/sample - loss: 0.1820 - accuracy: 0.9266 - val_loss: 0.1713 - val_accuracy: 0.9328\n",
      "Epoch 47/100\n",
      "27602/27602 [==============================] - 0s 2us/sample - loss: 0.1789 - accuracy: 0.9291 - val_loss: 0.1541 - val_accuracy: 0.9427\n",
      "Epoch 48/100\n",
      "27602/27602 [==============================] - 0s 2us/sample - loss: 0.1769 - accuracy: 0.9304 - val_loss: 0.1507 - val_accuracy: 0.9451\n"
     ]
    },
    {
     "name": "stdout",
     "output_type": "stream",
     "text": [
      "Epoch 49/100\n",
      "27602/27602 [==============================] - 0s 1us/sample - loss: 0.1739 - accuracy: 0.9328 - val_loss: 0.1627 - val_accuracy: 0.9385\n",
      "Epoch 50/100\n",
      "27602/27602 [==============================] - 0s 2us/sample - loss: 0.1725 - accuracy: 0.9330 - val_loss: 0.1620 - val_accuracy: 0.9381\n",
      "Epoch 51/100\n",
      "27602/27602 [==============================] - 0s 1us/sample - loss: 0.1722 - accuracy: 0.9325 - val_loss: 0.1478 - val_accuracy: 0.9473\n",
      "Epoch 52/100\n",
      "27602/27602 [==============================] - 0s 1us/sample - loss: 0.1681 - accuracy: 0.9344 - val_loss: 0.1434 - val_accuracy: 0.9489\n",
      "Epoch 53/100\n",
      "27602/27602 [==============================] - 0s 2us/sample - loss: 0.1661 - accuracy: 0.9359 - val_loss: 0.1509 - val_accuracy: 0.9442\n",
      "Epoch 54/100\n",
      "27602/27602 [==============================] - 0s 1us/sample - loss: 0.1636 - accuracy: 0.9365 - val_loss: 0.1530 - val_accuracy: 0.9437\n",
      "Epoch 55/100\n",
      "27602/27602 [==============================] - 0s 2us/sample - loss: 0.1627 - accuracy: 0.9390 - val_loss: 0.1440 - val_accuracy: 0.9500\n",
      "Epoch 56/100\n",
      "27602/27602 [==============================] - 0s 1us/sample - loss: 0.1626 - accuracy: 0.9383 - val_loss: 0.1383 - val_accuracy: 0.9524\n",
      "Epoch 57/100\n",
      "27602/27602 [==============================] - 0s 2us/sample - loss: 0.1604 - accuracy: 0.9390 - val_loss: 0.1410 - val_accuracy: 0.9512\n",
      "Epoch 58/100\n",
      "27602/27602 [==============================] - 0s 1us/sample - loss: 0.1581 - accuracy: 0.9411 - val_loss: 0.1437 - val_accuracy: 0.9499\n",
      "Epoch 59/100\n",
      "27602/27602 [==============================] - 0s 1us/sample - loss: 0.1576 - accuracy: 0.9411 - val_loss: 0.1397 - val_accuracy: 0.9514\n",
      "Epoch 60/100\n",
      "27602/27602 [==============================] - 0s 1us/sample - loss: 0.1562 - accuracy: 0.9419 - val_loss: 0.1340 - val_accuracy: 0.9537\n",
      "Epoch 61/100\n",
      "27602/27602 [==============================] - 0s 2us/sample - loss: 0.1529 - accuracy: 0.9433 - val_loss: 0.1361 - val_accuracy: 0.9534\n",
      "Epoch 62/100\n",
      "27602/27602 [==============================] - 0s 1us/sample - loss: 0.1520 - accuracy: 0.9433 - val_loss: 0.1392 - val_accuracy: 0.9511\n",
      "Epoch 63/100\n",
      "27602/27602 [==============================] - 0s 1us/sample - loss: 0.1506 - accuracy: 0.9454 - val_loss: 0.1351 - val_accuracy: 0.9527\n",
      "Epoch 64/100\n",
      "27602/27602 [==============================] - 0s 1us/sample - loss: 0.1481 - accuracy: 0.9461 - val_loss: 0.1302 - val_accuracy: 0.9585\n",
      "Epoch 65/100\n",
      "27602/27602 [==============================] - 0s 1us/sample - loss: 0.1471 - accuracy: 0.9468 - val_loss: 0.1322 - val_accuracy: 0.9571\n",
      "Epoch 66/100\n",
      "27602/27602 [==============================] - 0s 1us/sample - loss: 0.1475 - accuracy: 0.9460 - val_loss: 0.1355 - val_accuracy: 0.9560\n",
      "Epoch 67/100\n",
      "27602/27602 [==============================] - 0s 2us/sample - loss: 0.1474 - accuracy: 0.9477 - val_loss: 0.1294 - val_accuracy: 0.9587\n",
      "Epoch 68/100\n",
      "27602/27602 [==============================] - 0s 1us/sample - loss: 0.1433 - accuracy: 0.9487 - val_loss: 0.1261 - val_accuracy: 0.9595\n",
      "Epoch 69/100\n",
      "27602/27602 [==============================] - 0s 1us/sample - loss: 0.1427 - accuracy: 0.9484 - val_loss: 0.1279 - val_accuracy: 0.9579\n",
      "Epoch 70/100\n",
      "27602/27602 [==============================] - 0s 2us/sample - loss: 0.1420 - accuracy: 0.9502 - val_loss: 0.1298 - val_accuracy: 0.9577\n",
      "Epoch 71/100\n",
      "27602/27602 [==============================] - 0s 1us/sample - loss: 0.1421 - accuracy: 0.9492 - val_loss: 0.1246 - val_accuracy: 0.9585\n",
      "Epoch 72/100\n",
      "27602/27602 [==============================] - 0s 2us/sample - loss: 0.1398 - accuracy: 0.9503 - val_loss: 0.1231 - val_accuracy: 0.9590\n",
      "Epoch 73/100\n",
      "27602/27602 [==============================] - 0s 2us/sample - loss: 0.1389 - accuracy: 0.9506 - val_loss: 0.1234 - val_accuracy: 0.9586\n",
      "Epoch 74/100\n",
      "27602/27602 [==============================] - 0s 2us/sample - loss: 0.1358 - accuracy: 0.9513 - val_loss: 0.1251 - val_accuracy: 0.9582\n",
      "Epoch 75/100\n",
      "27602/27602 [==============================] - 0s 2us/sample - loss: 0.1357 - accuracy: 0.9519 - val_loss: 0.1227 - val_accuracy: 0.9583\n",
      "Epoch 76/100\n",
      "27602/27602 [==============================] - 0s 1us/sample - loss: 0.1357 - accuracy: 0.9519 - val_loss: 0.1195 - val_accuracy: 0.9591\n",
      "Epoch 77/100\n",
      "27602/27602 [==============================] - 0s 1us/sample - loss: 0.1324 - accuracy: 0.9532 - val_loss: 0.1207 - val_accuracy: 0.9588\n",
      "Epoch 78/100\n",
      "27602/27602 [==============================] - 0s 1us/sample - loss: 0.1322 - accuracy: 0.9533 - val_loss: 0.1212 - val_accuracy: 0.9587\n",
      "Epoch 79/100\n",
      "27602/27602 [==============================] - 0s 1us/sample - loss: 0.1323 - accuracy: 0.9529 - val_loss: 0.1185 - val_accuracy: 0.9597\n",
      "Epoch 80/100\n",
      "27602/27602 [==============================] - 0s 2us/sample - loss: 0.1318 - accuracy: 0.9534 - val_loss: 0.1151 - val_accuracy: 0.9608\n",
      "Epoch 81/100\n",
      "27602/27602 [==============================] - 0s 2us/sample - loss: 0.1316 - accuracy: 0.9538 - val_loss: 0.1164 - val_accuracy: 0.9597\n",
      "Epoch 82/100\n",
      "27602/27602 [==============================] - 0s 1us/sample - loss: 0.1299 - accuracy: 0.9540 - val_loss: 0.1174 - val_accuracy: 0.9590\n",
      "Epoch 83/100\n",
      "27602/27602 [==============================] - 0s 2us/sample - loss: 0.1273 - accuracy: 0.9544 - val_loss: 0.1141 - val_accuracy: 0.9606\n",
      "Epoch 84/100\n",
      "27602/27602 [==============================] - 0s 2us/sample - loss: 0.1266 - accuracy: 0.9541 - val_loss: 0.1108 - val_accuracy: 0.9617\n",
      "Epoch 85/100\n",
      "27602/27602 [==============================] - 0s 1us/sample - loss: 0.1281 - accuracy: 0.9539 - val_loss: 0.1107 - val_accuracy: 0.9611\n",
      "Epoch 86/100\n",
      "27602/27602 [==============================] - 0s 1us/sample - loss: 0.1262 - accuracy: 0.9563 - val_loss: 0.1148 - val_accuracy: 0.9593\n",
      "Epoch 87/100\n",
      "27602/27602 [==============================] - 0s 2us/sample - loss: 0.1248 - accuracy: 0.9560 - val_loss: 0.1105 - val_accuracy: 0.9607\n",
      "Epoch 88/100\n",
      "27602/27602 [==============================] - 0s 2us/sample - loss: 0.1227 - accuracy: 0.9562 - val_loss: 0.1063 - val_accuracy: 0.9629\n",
      "Epoch 89/100\n",
      "27602/27602 [==============================] - 0s 1us/sample - loss: 0.1234 - accuracy: 0.9561 - val_loss: 0.1115 - val_accuracy: 0.9593\n",
      "Epoch 90/100\n",
      "27602/27602 [==============================] - 0s 1us/sample - loss: 0.1221 - accuracy: 0.9559 - val_loss: 0.1121 - val_accuracy: 0.9588\n",
      "Epoch 91/100\n",
      "27602/27602 [==============================] - 0s 1us/sample - loss: 0.1222 - accuracy: 0.9569 - val_loss: 0.1047 - val_accuracy: 0.9620\n",
      "Epoch 92/100\n",
      "27602/27602 [==============================] - 0s 1us/sample - loss: 0.1203 - accuracy: 0.9570 - val_loss: 0.1061 - val_accuracy: 0.9611\n",
      "Epoch 93/100\n",
      "27602/27602 [==============================] - 0s 2us/sample - loss: 0.1203 - accuracy: 0.9577 - val_loss: 0.1122 - val_accuracy: 0.9592\n",
      "Epoch 94/100\n",
      "27602/27602 [==============================] - 0s 2us/sample - loss: 0.1185 - accuracy: 0.9581 - val_loss: 0.1043 - val_accuracy: 0.9622\n",
      "Epoch 95/100\n",
      "27602/27602 [==============================] - 0s 1us/sample - loss: 0.1176 - accuracy: 0.9584 - val_loss: 0.1006 - val_accuracy: 0.9644\n",
      "Epoch 96/100\n",
      "27602/27602 [==============================] - 0s 2us/sample - loss: 0.1188 - accuracy: 0.9586 - val_loss: 0.1095 - val_accuracy: 0.9599\n",
      "Epoch 97/100\n",
      "27602/27602 [==============================] - 0s 2us/sample - loss: 0.1166 - accuracy: 0.9589 - val_loss: 0.1054 - val_accuracy: 0.9611\n",
      "Epoch 98/100\n",
      "27602/27602 [==============================] - 0s 1us/sample - loss: 0.1164 - accuracy: 0.9592 - val_loss: 0.0977 - val_accuracy: 0.9661\n",
      "Epoch 99/100\n",
      "27602/27602 [==============================] - 0s 1us/sample - loss: 0.1140 - accuracy: 0.9604 - val_loss: 0.1031 - val_accuracy: 0.9627\n",
      "Epoch 100/100\n",
      "27602/27602 [==============================] - 0s 2us/sample - loss: 0.1149 - accuracy: 0.9607 - val_loss: 0.1042 - val_accuracy: 0.9622\n"
     ]
    }
   ],
   "source": [
    "init_mode = 'glorot_uniform'\n",
    "hidden_size=64\n",
    "model = keras.Sequential(\n",
    "    [\n",
    "        layers.Dense(hidden_size,\n",
    "                     input_dim=100,\n",
    "                     kernel_initializer=init_mode,\n",
    "                     activation=tf.nn.relu),\n",
    "        \n",
    "        layers.Dropout(0.1),\n",
    "        \n",
    "        layers.Dense(hidden_size,\n",
    "                     kernel_initializer=init_mode,\n",
    "                     activation=tf.nn.relu),\n",
    "\n",
    "        layers.Dense(hidden_size,\n",
    "                     kernel_initializer=init_mode,\n",
    "                     activation=tf.nn.relu),\n",
    "\n",
    "\n",
    "        layers.Dense(1, \n",
    "                     kernel_initializer=init_mode, \n",
    "                     activation=tf.nn.sigmoid),\n",
    "    ]\n",
    ")\n",
    "model.summary()\n",
    "\n",
    "model.compile(loss='binary_crossentropy',\n",
    "              optimizer=keras.optimizers.SGD(learning_rate=0.1, momentum=0.9, decay=0.001),\n",
    "              metrics=['accuracy'])\n",
    "history = model.fit(X_train, Y_train,\n",
    "                    batch_size=X_train.shape[0],\n",
    "                    epochs=100,\n",
    "                    verbose=True,\n",
    "                    validation_data=(X_val, Y_val))"
   ]
  },
  {
   "cell_type": "markdown",
   "metadata": {},
   "source": [
    "## Evaluation"
   ]
  },
  {
   "cell_type": "code",
   "execution_count": 13,
   "metadata": {
    "scrolled": false
   },
   "outputs": [
    {
     "name": "stdout",
     "output_type": "stream",
     "text": [
      "              precision    recall  f1-score   support\n",
      "\n",
      "         0.0       1.00      0.96      0.98     53944\n",
      "         1.0       0.69      0.96      0.80      4601\n",
      "\n",
      "    accuracy                           0.96     58545\n",
      "   macro avg       0.84      0.96      0.89     58545\n",
      "weighted avg       0.97      0.96      0.97     58545\n",
      "\n",
      "Confusion matrix:\n",
      "[[51907  2037]\n",
      " [  163  4438]]\n",
      "\n",
      "Confusion matrix (Percentages):\n",
      "[[88.662  3.479]\n",
      " [ 0.278  7.58 ]]\n",
      "\n",
      "Metrics:\n",
      "Sensitivity (TPR): 0.964573\n",
      "Specifity (TNR):   0.962239\n",
      "\n",
      "FPR: 0.037761\n",
      "FNR: 0.035427\n",
      "\n",
      "Balanced accuracy: 0.963406\n",
      "\n",
      "Test loss:\t0.105710\n",
      "Test accuracy:\t0.962422\n"
     ]
    }
   ],
   "source": [
    "Y_pred = numpy.round(model.predict(X_test))\n",
    "\n",
    "print(classification_report(Y_test, Y_pred))\n",
    "print_metrics(confusion_matrix(Y_test, Y_pred), Y_test)\n",
    "print()\n",
    "score = model.evaluate(X_test, Y_test, verbose=0)\n",
    "print('Test loss:\\t{:.6f}'.format(score[0]))\n",
    "print('Test accuracy:\\t{:.6f}'.format(score[1]))"
   ]
  },
  {
   "cell_type": "code",
   "execution_count": 17,
   "metadata": {
    "scrolled": false
   },
   "outputs": [
    {
     "data": {
      "image/png": "[encoded data removed]",
      "text/plain": [
       "<Figure size 432x288 with 1 Axes>"
      ]
     },
     "metadata": {
      "needs_background": "light"
     },
     "output_type": "display_data"
    },
    {
     "data": {
      "image/png": "[encoded data removed]",
      "text/plain": [
       "<Figure size 432x288 with 1 Axes>"
      ]
     },
     "metadata": {
      "needs_background": "light"
     },
     "output_type": "display_data"
    }
   ],
   "source": [
    "plot_loss(history)\n",
    "plot_accuracy(history)"
   ]
  },
  {
   "cell_type": "code",
   "execution_count": 18,
   "metadata": {},
   "outputs": [
    {
     "name": "stdout",
     "output_type": "stream",
     "text": [
      "WARNING:tensorflow:From /home/scheuererra68323/venv37/lib/python3.7/site-packages/tensorflow_core/python/ops/resource_variable_ops.py:1781: calling BaseResourceVariable.__init__ (from tensorflow.python.ops.resource_variable_ops) with constraint is deprecated and will be removed in a future version.\n",
      "Instructions for updating:\n",
      "If using Keras pass *_constraint arguments to layers.\n",
      "INFO:tensorflow:Assets written to: MLP_word2vec_undersample/assets\n"
     ]
    }
   ],
   "source": [
    "model.save('MLP_word2vec_undersample')"
   ]
  }
 ],
 "metadata": {
  "kernelspec": {
   "display_name": "Python 3.7",
   "language": "python",
   "name": "python3"
  },
  "language_info": {
   "codemirror_mode": {
    "name": "ipython",
    "version": 3
   },
   "file_extension": ".py",
   "mimetype": "text/x-python",
   "name": "python",
   "nbconvert_exporter": "python",
   "pygments_lexer": "ipython3",
   "version": "3.7.8"
  }
 },
 "nbformat": 4,
 "nbformat_minor": 2
}
