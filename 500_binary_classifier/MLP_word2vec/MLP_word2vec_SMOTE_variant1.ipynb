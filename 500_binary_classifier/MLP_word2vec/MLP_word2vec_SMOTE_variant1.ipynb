{
 "cells": [
  {
   "cell_type": "markdown",
   "metadata": {},
   "source": [
    "# Multi-layer Perceptron (MLP)\n",
    "\n",
    "- **Training set**: LO_SARD102 (0.75 split)\n",
    "- **Test/Validation set:** LO_SARD102 (0.25 split)\n",
    "- **Features**: word2vec average\n",
    "- **Class imbalance processing**: SMOTE Oversampling"
   ]
  },
  {
   "cell_type": "code",
   "execution_count": 1,
   "metadata": {},
   "outputs": [
    {
     "name": "stderr",
     "output_type": "stream",
     "text": [
      "/home/scheuererra68323/venv37/lib/python3.7/site-packages/pandas/compat/__init__.py:117: UserWarning: Could not import the lzma module. Your installed Python is incomplete. Attempting to use lzma compression will result in a RuntimeError.\n",
      "  warnings.warn(msg)\n"
     ]
    }
   ],
   "source": [
    "import tensorflow as tf\n",
    "from tensorflow import keras\n",
    "from tensorflow.keras import layers\n",
    "import pandas as pd\n",
    "import numpy\n",
    "import matplotlib.pyplot as plt\n",
    "from helper_functions import *\n",
    "from sklearn.model_selection import train_test_split\n",
    "from sklearn.metrics import classification_report"
   ]
  },
  {
   "cell_type": "markdown",
   "metadata": {},
   "source": [
    "## Load labeled dataset"
   ]
  },
  {
   "cell_type": "code",
   "execution_count": 2,
   "metadata": {},
   "outputs": [
    {
     "name": "stdout",
     "output_type": "stream",
     "text": [
      "(292724, 2)\n",
      "0.0    269721\n",
      "1.0     23003\n",
      "Name: is_vulnerable, dtype: int64\n"
     ]
    }
   ],
   "source": [
    "dataset = pd.read_hdf(\"/mnt/md0/user/scheuererra68323/LO_SARD102/LO_SARD102_word2vec.h5\")\n",
    "print(dataset.shape)\n",
    "print(dataset.is_vulnerable.value_counts())"
   ]
  },
  {
   "cell_type": "markdown",
   "metadata": {},
   "source": [
    "## Split dataset into training and test"
   ]
  },
  {
   "cell_type": "code",
   "execution_count": 3,
   "metadata": {},
   "outputs": [
    {
     "name": "stdout",
     "output_type": "stream",
     "text": [
      "Training Set:\n",
      "175634 total\n",
      "Counter({0.0: 161833, 1.0: 13801})\n",
      "\n",
      "Validation Set:\n",
      "58545 total\n",
      "Counter({0.0: 53944, 1.0: 4601})\n",
      "\n",
      "Test Set:\n",
      "58545 total\n",
      "Counter({0.0: 53944, 1.0: 4601})\n"
     ]
    }
   ],
   "source": [
    "X_train, X_test, Y_train, Y_test = train_test_split(\n",
    "    dataset.word2vec_avg,\n",
    "    dataset.is_vulnerable,\n",
    "    test_size=0.2,\n",
    "    stratify=dataset.is_vulnerable,\n",
    "    random_state=0\n",
    ")\n",
    "X_train, X_val, Y_train, Y_val = train_test_split(\n",
    "    X_train,\n",
    "    Y_train,\n",
    "    test_size=0.25,\n",
    "    stratify=Y_train,\n",
    "    random_state=1\n",
    ")\n",
    "\n",
    "X_train = numpy.stack(X_train, axis=0)\n",
    "Y_train = numpy.stack(Y_train, axis=0)\n",
    "X_val = numpy.stack(X_val, axis=0)\n",
    "Y_val = numpy.stack(Y_val, axis=0)\n",
    "X_test = numpy.stack(X_test, axis=0)\n",
    "Y_test = numpy.stack(Y_test, axis=0)\n",
    "\n",
    "print(\"Training Set:\")\n",
    "print(f\"{len(X_train)} total\")\n",
    "print(Counter(Y_train))\n",
    "print()      \n",
    "print(\"Validation Set:\")\n",
    "print(f\"{len(X_val)} total\")\n",
    "print(Counter(Y_val))\n",
    "print()      \n",
    "print(\"Test Set:\")\n",
    "print(f\"{len(X_test)} total\")\n",
    "print(Counter(Y_test))"
   ]
  },
  {
   "cell_type": "markdown",
   "metadata": {},
   "source": [
    "## Apply SMOTE"
   ]
  },
  {
   "cell_type": "code",
   "execution_count": 4,
   "metadata": {},
   "outputs": [
    {
     "name": "stdout",
     "output_type": "stream",
     "text": [
      "imbalanced_learn version  0.7.0\n",
      "Counter output before SMOTE: Counter({0.0: 161833, 1.0: 13801})\n",
      "Counter output after SMOTE: Counter({0.0: 161833, 1.0: 161833})\n"
     ]
    }
   ],
   "source": [
    "X_train, Y_train = oversample_smote(X_train, Y_train)"
   ]
  },
  {
   "cell_type": "markdown",
   "metadata": {},
   "source": [
    "## Model definition & Training"
   ]
  },
  {
   "cell_type": "code",
   "execution_count": 5,
   "metadata": {
    "scrolled": true
   },
   "outputs": [
    {
     "name": "stdout",
     "output_type": "stream",
     "text": [
      "Model: \"sequential\"\n",
      "_________________________________________________________________\n",
      "Layer (type)                 Output Shape              Param #   \n",
      "=================================================================\n",
      "dense (Dense)                (None, 64)                6464      \n",
      "_________________________________________________________________\n",
      "dropout (Dropout)            (None, 64)                0         \n",
      "_________________________________________________________________\n",
      "dense_1 (Dense)              (None, 64)                4160      \n",
      "_________________________________________________________________\n",
      "dense_2 (Dense)              (None, 64)                4160      \n",
      "_________________________________________________________________\n",
      "dense_3 (Dense)              (None, 1)                 65        \n",
      "=================================================================\n",
      "Total params: 14,849\n",
      "Trainable params: 14,849\n",
      "Non-trainable params: 0\n",
      "_________________________________________________________________\n",
      "Train on 323666 samples, validate on 58545 samples\n",
      "Epoch 1/100\n",
      "323666/323666 [==============================] - 2s 5us/sample - loss: 0.6842 - accuracy: 0.5565 - val_loss: 0.6635 - val_accuracy: 0.6575\n",
      "Epoch 2/100\n",
      "323666/323666 [==============================] - 0s 1us/sample - loss: 0.6693 - accuracy: 0.6490 - val_loss: 0.6893 - val_accuracy: 0.5268\n",
      "Epoch 3/100\n",
      "323666/323666 [==============================] - 0s 1us/sample - loss: 0.6481 - accuracy: 0.7039 - val_loss: 0.7097 - val_accuracy: 0.4829\n",
      "Epoch 4/100\n",
      "323666/323666 [==============================] - 0s 1us/sample - loss: 0.6258 - accuracy: 0.7057 - val_loss: 0.7094 - val_accuracy: 0.5183\n",
      "Epoch 5/100\n",
      "323666/323666 [==============================] - 0s 1us/sample - loss: 0.6017 - accuracy: 0.7263 - val_loss: 0.6738 - val_accuracy: 0.5975\n",
      "Epoch 6/100\n",
      "323666/323666 [==============================] - 0s 1us/sample - loss: 0.5721 - accuracy: 0.7609 - val_loss: 0.6005 - val_accuracy: 0.6981\n",
      "Epoch 7/100\n",
      "323666/323666 [==============================] - 0s 1us/sample - loss: 0.5383 - accuracy: 0.7792 - val_loss: 0.5132 - val_accuracy: 0.7731\n",
      "Epoch 8/100\n",
      "323666/323666 [==============================] - 0s 1us/sample - loss: 0.5056 - accuracy: 0.7794 - val_loss: 0.4529 - val_accuracy: 0.8140\n",
      "Epoch 9/100\n",
      "323666/323666 [==============================] - 0s 1us/sample - loss: 0.4744 - accuracy: 0.7825 - val_loss: 0.4503 - val_accuracy: 0.7959\n",
      "Epoch 10/100\n",
      "323666/323666 [==============================] - 0s 1us/sample - loss: 0.4381 - accuracy: 0.7980 - val_loss: 0.4846 - val_accuracy: 0.7834\n",
      "Epoch 11/100\n",
      "323666/323666 [==============================] - 0s 1us/sample - loss: 0.4115 - accuracy: 0.8201 - val_loss: 0.4637 - val_accuracy: 0.7941\n",
      "Epoch 12/100\n",
      "323666/323666 [==============================] - 0s 1us/sample - loss: 0.3883 - accuracy: 0.8322 - val_loss: 0.3717 - val_accuracy: 0.8601\n",
      "Epoch 13/100\n",
      "323666/323666 [==============================] - 0s 1us/sample - loss: 0.3667 - accuracy: 0.8422 - val_loss: 0.3286 - val_accuracy: 0.8823\n",
      "Epoch 14/100\n",
      "323666/323666 [==============================] - 0s 1us/sample - loss: 0.3535 - accuracy: 0.8529 - val_loss: 0.3716 - val_accuracy: 0.8629\n",
      "Epoch 15/100\n",
      "323666/323666 [==============================] - 0s 1us/sample - loss: 0.3375 - accuracy: 0.8662 - val_loss: 0.3780 - val_accuracy: 0.8576\n",
      "Epoch 16/100\n",
      "323666/323666 [==============================] - 0s 1us/sample - loss: 0.3288 - accuracy: 0.8703 - val_loss: 0.3061 - val_accuracy: 0.8849\n",
      "Epoch 17/100\n",
      "323666/323666 [==============================] - 0s 1us/sample - loss: 0.3182 - accuracy: 0.8748 - val_loss: 0.2819 - val_accuracy: 0.8939\n",
      "Epoch 18/100\n",
      "323666/323666 [==============================] - 0s 1us/sample - loss: 0.3120 - accuracy: 0.8778 - val_loss: 0.3219 - val_accuracy: 0.8766\n",
      "Epoch 19/100\n",
      "323666/323666 [==============================] - 0s 1us/sample - loss: 0.3025 - accuracy: 0.8847 - val_loss: 0.3238 - val_accuracy: 0.8704\n",
      "Epoch 20/100\n",
      "323666/323666 [==============================] - 0s 1us/sample - loss: 0.2968 - accuracy: 0.8854 - val_loss: 0.2715 - val_accuracy: 0.8930\n",
      "Epoch 21/100\n",
      "323666/323666 [==============================] - 0s 1us/sample - loss: 0.2877 - accuracy: 0.8887 - val_loss: 0.2588 - val_accuracy: 0.8968\n",
      "Epoch 22/100\n",
      "323666/323666 [==============================] - 0s 1us/sample - loss: 0.2793 - accuracy: 0.8913 - val_loss: 0.2861 - val_accuracy: 0.8782\n",
      "Epoch 23/100\n",
      "323666/323666 [==============================] - 0s 1us/sample - loss: 0.2695 - accuracy: 0.8932 - val_loss: 0.2789 - val_accuracy: 0.8797\n",
      "Epoch 24/100\n",
      "323666/323666 [==============================] - 0s 1us/sample - loss: 0.2606 - accuracy: 0.8971 - val_loss: 0.2384 - val_accuracy: 0.9006\n",
      "Epoch 25/100\n",
      "323666/323666 [==============================] - 0s 1us/sample - loss: 0.2518 - accuracy: 0.9028 - val_loss: 0.2266 - val_accuracy: 0.9043\n",
      "Epoch 26/100\n",
      "323666/323666 [==============================] - 0s 1us/sample - loss: 0.2463 - accuracy: 0.9059 - val_loss: 0.2449 - val_accuracy: 0.8961\n",
      "Epoch 27/100\n",
      "323666/323666 [==============================] - 0s 1us/sample - loss: 0.2413 - accuracy: 0.9076 - val_loss: 0.2458 - val_accuracy: 0.8931\n",
      "Epoch 28/100\n",
      "323666/323666 [==============================] - 0s 1us/sample - loss: 0.2376 - accuracy: 0.9085 - val_loss: 0.2186 - val_accuracy: 0.9075\n",
      "Epoch 29/100\n",
      "323666/323666 [==============================] - 0s 1us/sample - loss: 0.2318 - accuracy: 0.9122 - val_loss: 0.2029 - val_accuracy: 0.9164\n",
      "Epoch 30/100\n",
      "323666/323666 [==============================] - 0s 1us/sample - loss: 0.2265 - accuracy: 0.9143 - val_loss: 0.2113 - val_accuracy: 0.9134\n",
      "Epoch 31/100\n",
      "323666/323666 [==============================] - 0s 1us/sample - loss: 0.2209 - accuracy: 0.9145 - val_loss: 0.2135 - val_accuracy: 0.9125\n",
      "Epoch 32/100\n",
      "323666/323666 [==============================] - 0s 1us/sample - loss: 0.2156 - accuracy: 0.9161 - val_loss: 0.1945 - val_accuracy: 0.9221\n",
      "Epoch 33/100\n",
      "323666/323666 [==============================] - 0s 1us/sample - loss: 0.2111 - accuracy: 0.9177 - val_loss: 0.1840 - val_accuracy: 0.9260\n",
      "Epoch 34/100\n",
      "323666/323666 [==============================] - 0s 1us/sample - loss: 0.2076 - accuracy: 0.9193 - val_loss: 0.1941 - val_accuracy: 0.9226\n",
      "Epoch 35/100\n",
      "323666/323666 [==============================] - 0s 1us/sample - loss: 0.2038 - accuracy: 0.9193 - val_loss: 0.1978 - val_accuracy: 0.9221\n",
      "Epoch 36/100\n",
      "323666/323666 [==============================] - 0s 1us/sample - loss: 0.2015 - accuracy: 0.9196 - val_loss: 0.1803 - val_accuracy: 0.9290\n",
      "Epoch 37/100\n",
      "323666/323666 [==============================] - 0s 1us/sample - loss: 0.1978 - accuracy: 0.9216 - val_loss: 0.1751 - val_accuracy: 0.9294\n",
      "Epoch 38/100\n",
      "323666/323666 [==============================] - 0s 1us/sample - loss: 0.1949 - accuracy: 0.9224 - val_loss: 0.1852 - val_accuracy: 0.9246\n",
      "Epoch 39/100\n",
      "323666/323666 [==============================] - 0s 1us/sample - loss: 0.1918 - accuracy: 0.9222 - val_loss: 0.1768 - val_accuracy: 0.9276\n",
      "Epoch 40/100\n",
      "323666/323666 [==============================] - 0s 1us/sample - loss: 0.1883 - accuracy: 0.9241 - val_loss: 0.1606 - val_accuracy: 0.9343\n",
      "Epoch 41/100\n",
      "323666/323666 [==============================] - 0s 1us/sample - loss: 0.1847 - accuracy: 0.9264 - val_loss: 0.1628 - val_accuracy: 0.9339\n",
      "Epoch 42/100\n",
      "323666/323666 [==============================] - 0s 1us/sample - loss: 0.1818 - accuracy: 0.9274 - val_loss: 0.1684 - val_accuracy: 0.9322\n",
      "Epoch 43/100\n",
      "323666/323666 [==============================] - 0s 1us/sample - loss: 0.1796 - accuracy: 0.9276 - val_loss: 0.1565 - val_accuracy: 0.9440\n",
      "Epoch 44/100\n",
      "323666/323666 [==============================] - 0s 1us/sample - loss: 0.1772 - accuracy: 0.9305 - val_loss: 0.1482 - val_accuracy: 0.9473\n",
      "Epoch 45/100\n",
      "323666/323666 [==============================] - 0s 1us/sample - loss: 0.1743 - accuracy: 0.9330 - val_loss: 0.1548 - val_accuracy: 0.9445\n",
      "Epoch 46/100\n",
      "323666/323666 [==============================] - 0s 1us/sample - loss: 0.1718 - accuracy: 0.9333 - val_loss: 0.1536 - val_accuracy: 0.9443\n",
      "Epoch 47/100\n",
      "323666/323666 [==============================] - 0s 1us/sample - loss: 0.1697 - accuracy: 0.9340 - val_loss: 0.1425 - val_accuracy: 0.9491\n"
     ]
    },
    {
     "name": "stdout",
     "output_type": "stream",
     "text": [
      "Epoch 48/100\n",
      "323666/323666 [==============================] - 0s 1us/sample - loss: 0.1676 - accuracy: 0.9357 - val_loss: 0.1444 - val_accuracy: 0.9478\n",
      "Epoch 49/100\n",
      "323666/323666 [==============================] - 0s 1us/sample - loss: 0.1655 - accuracy: 0.9364 - val_loss: 0.1495 - val_accuracy: 0.9468\n",
      "Epoch 50/100\n",
      "323666/323666 [==============================] - 0s 1us/sample - loss: 0.1634 - accuracy: 0.9377 - val_loss: 0.1386 - val_accuracy: 0.9511\n",
      "Epoch 51/100\n",
      "323666/323666 [==============================] - 0s 1us/sample - loss: 0.1607 - accuracy: 0.9394 - val_loss: 0.1360 - val_accuracy: 0.9517\n",
      "Epoch 52/100\n",
      "323666/323666 [==============================] - 0s 1us/sample - loss: 0.1593 - accuracy: 0.9400 - val_loss: 0.1429 - val_accuracy: 0.9496\n",
      "Epoch 53/100\n",
      "323666/323666 [==============================] - 0s 1us/sample - loss: 0.1570 - accuracy: 0.9404 - val_loss: 0.1357 - val_accuracy: 0.9518\n",
      "Epoch 54/100\n",
      "323666/323666 [==============================] - 0s 1us/sample - loss: 0.1555 - accuracy: 0.9413 - val_loss: 0.1305 - val_accuracy: 0.9531\n",
      "Epoch 55/100\n",
      "323666/323666 [==============================] - 0s 1us/sample - loss: 0.1539 - accuracy: 0.9419 - val_loss: 0.1360 - val_accuracy: 0.9512\n",
      "Epoch 56/100\n",
      "323666/323666 [==============================] - 0s 1us/sample - loss: 0.1520 - accuracy: 0.9429 - val_loss: 0.1320 - val_accuracy: 0.9540\n",
      "Epoch 57/100\n",
      "323666/323666 [==============================] - 0s 1us/sample - loss: 0.1506 - accuracy: 0.9438 - val_loss: 0.1266 - val_accuracy: 0.9574\n",
      "Epoch 58/100\n",
      "323666/323666 [==============================] - 0s 1us/sample - loss: 0.1495 - accuracy: 0.9446 - val_loss: 0.1302 - val_accuracy: 0.9559\n",
      "Epoch 59/100\n",
      "323666/323666 [==============================] - 0s 1us/sample - loss: 0.1475 - accuracy: 0.9457 - val_loss: 0.1286 - val_accuracy: 0.9563\n",
      "Epoch 60/100\n",
      "323666/323666 [==============================] - 0s 1us/sample - loss: 0.1464 - accuracy: 0.9463 - val_loss: 0.1244 - val_accuracy: 0.9583\n",
      "Epoch 61/100\n",
      "323666/323666 [==============================] - 0s 1us/sample - loss: 0.1457 - accuracy: 0.9464 - val_loss: 0.1275 - val_accuracy: 0.9573\n",
      "Epoch 62/100\n",
      "323666/323666 [==============================] - 0s 1us/sample - loss: 0.1437 - accuracy: 0.9475 - val_loss: 0.1252 - val_accuracy: 0.9583\n",
      "Epoch 63/100\n",
      "323666/323666 [==============================] - 0s 1us/sample - loss: 0.1426 - accuracy: 0.9482 - val_loss: 0.1206 - val_accuracy: 0.9593\n",
      "Epoch 64/100\n",
      "323666/323666 [==============================] - 0s 1us/sample - loss: 0.1412 - accuracy: 0.9486 - val_loss: 0.1248 - val_accuracy: 0.9580\n",
      "Epoch 65/100\n",
      "323666/323666 [==============================] - 0s 1us/sample - loss: 0.1401 - accuracy: 0.9497 - val_loss: 0.1215 - val_accuracy: 0.9593\n",
      "Epoch 66/100\n",
      "323666/323666 [==============================] - 0s 1us/sample - loss: 0.1382 - accuracy: 0.9501 - val_loss: 0.1192 - val_accuracy: 0.9602\n",
      "Epoch 67/100\n",
      "323666/323666 [==============================] - 0s 1us/sample - loss: 0.1377 - accuracy: 0.9504 - val_loss: 0.1220 - val_accuracy: 0.9587\n",
      "Epoch 68/100\n",
      "323666/323666 [==============================] - 0s 1us/sample - loss: 0.1360 - accuracy: 0.9512 - val_loss: 0.1190 - val_accuracy: 0.9599\n",
      "Epoch 69/100\n",
      "323666/323666 [==============================] - 0s 1us/sample - loss: 0.1355 - accuracy: 0.9515 - val_loss: 0.1161 - val_accuracy: 0.9612\n",
      "Epoch 70/100\n",
      "323666/323666 [==============================] - 0s 1us/sample - loss: 0.1341 - accuracy: 0.9524 - val_loss: 0.1182 - val_accuracy: 0.9604\n",
      "Epoch 71/100\n",
      "323666/323666 [==============================] - 0s 1us/sample - loss: 0.1328 - accuracy: 0.9528 - val_loss: 0.1169 - val_accuracy: 0.9606\n",
      "Epoch 72/100\n",
      "323666/323666 [==============================] - 0s 1us/sample - loss: 0.1317 - accuracy: 0.9532 - val_loss: 0.1139 - val_accuracy: 0.9610\n",
      "Epoch 73/100\n",
      "323666/323666 [==============================] - 0s 1us/sample - loss: 0.1308 - accuracy: 0.9536 - val_loss: 0.1144 - val_accuracy: 0.9608\n",
      "Epoch 74/100\n",
      "323666/323666 [==============================] - 0s 1us/sample - loss: 0.1298 - accuracy: 0.9543 - val_loss: 0.1150 - val_accuracy: 0.9607\n",
      "Epoch 75/100\n",
      "323666/323666 [==============================] - 0s 1us/sample - loss: 0.1288 - accuracy: 0.9548 - val_loss: 0.1110 - val_accuracy: 0.9627\n",
      "Epoch 76/100\n",
      "323666/323666 [==============================] - 0s 1us/sample - loss: 0.1278 - accuracy: 0.9549 - val_loss: 0.1109 - val_accuracy: 0.9629\n",
      "Epoch 77/100\n",
      "323666/323666 [==============================] - 0s 1us/sample - loss: 0.1272 - accuracy: 0.9551 - val_loss: 0.1133 - val_accuracy: 0.9624\n",
      "Epoch 78/100\n",
      "323666/323666 [==============================] - 0s 1us/sample - loss: 0.1262 - accuracy: 0.9556 - val_loss: 0.1089 - val_accuracy: 0.9638\n",
      "Epoch 79/100\n",
      "323666/323666 [==============================] - 0s 1us/sample - loss: 0.1247 - accuracy: 0.9561 - val_loss: 0.1091 - val_accuracy: 0.9636\n",
      "Epoch 80/100\n",
      "323666/323666 [==============================] - 0s 1us/sample - loss: 0.1237 - accuracy: 0.9570 - val_loss: 0.1099 - val_accuracy: 0.9636\n",
      "Epoch 81/100\n",
      "323666/323666 [==============================] - 0s 1us/sample - loss: 0.1227 - accuracy: 0.9574 - val_loss: 0.1078 - val_accuracy: 0.9641\n",
      "Epoch 82/100\n",
      "323666/323666 [==============================] - 0s 1us/sample - loss: 0.1223 - accuracy: 0.9576 - val_loss: 0.1081 - val_accuracy: 0.9642\n",
      "Epoch 83/100\n",
      "323666/323666 [==============================] - 0s 1us/sample - loss: 0.1211 - accuracy: 0.9579 - val_loss: 0.1081 - val_accuracy: 0.9640\n",
      "Epoch 84/100\n",
      "323666/323666 [==============================] - 0s 1us/sample - loss: 0.1201 - accuracy: 0.9587 - val_loss: 0.1045 - val_accuracy: 0.9644\n",
      "Epoch 85/100\n",
      "323666/323666 [==============================] - 0s 1us/sample - loss: 0.1193 - accuracy: 0.9585 - val_loss: 0.1071 - val_accuracy: 0.9643\n",
      "Epoch 86/100\n",
      "323666/323666 [==============================] - 0s 1us/sample - loss: 0.1186 - accuracy: 0.9596 - val_loss: 0.1051 - val_accuracy: 0.9644\n",
      "Epoch 87/100\n",
      "323666/323666 [==============================] - 0s 1us/sample - loss: 0.1176 - accuracy: 0.9599 - val_loss: 0.1019 - val_accuracy: 0.9652\n",
      "Epoch 88/100\n",
      "323666/323666 [==============================] - 0s 1us/sample - loss: 0.1168 - accuracy: 0.9598 - val_loss: 0.1050 - val_accuracy: 0.9638\n",
      "Epoch 89/100\n",
      "323666/323666 [==============================] - 0s 1us/sample - loss: 0.1166 - accuracy: 0.9602 - val_loss: 0.1027 - val_accuracy: 0.9646\n",
      "Epoch 90/100\n",
      "323666/323666 [==============================] - 0s 1us/sample - loss: 0.1155 - accuracy: 0.9605 - val_loss: 0.1007 - val_accuracy: 0.9648\n",
      "Epoch 91/100\n",
      "323666/323666 [==============================] - 0s 1us/sample - loss: 0.1147 - accuracy: 0.9607 - val_loss: 0.1006 - val_accuracy: 0.9650\n",
      "Epoch 92/100\n",
      "323666/323666 [==============================] - 0s 1us/sample - loss: 0.1140 - accuracy: 0.9608 - val_loss: 0.1027 - val_accuracy: 0.9639\n",
      "Epoch 93/100\n",
      "323666/323666 [==============================] - 0s 1us/sample - loss: 0.1128 - accuracy: 0.9615 - val_loss: 0.0988 - val_accuracy: 0.9653\n",
      "Epoch 94/100\n",
      "323666/323666 [==============================] - 0s 1us/sample - loss: 0.1123 - accuracy: 0.9614 - val_loss: 0.0993 - val_accuracy: 0.9652\n",
      "Epoch 95/100\n",
      "323666/323666 [==============================] - 0s 1us/sample - loss: 0.1116 - accuracy: 0.9618 - val_loss: 0.1008 - val_accuracy: 0.9644\n",
      "Epoch 96/100\n",
      "323666/323666 [==============================] - 0s 1us/sample - loss: 0.1103 - accuracy: 0.9621 - val_loss: 0.0958 - val_accuracy: 0.9663\n",
      "Epoch 97/100\n",
      "323666/323666 [==============================] - 0s 1us/sample - loss: 0.1096 - accuracy: 0.9623 - val_loss: 0.0977 - val_accuracy: 0.9657\n",
      "Epoch 98/100\n",
      "323666/323666 [==============================] - 0s 1us/sample - loss: 0.1094 - accuracy: 0.9629 - val_loss: 0.0973 - val_accuracy: 0.9657\n",
      "Epoch 99/100\n",
      "323666/323666 [==============================] - 0s 1us/sample - loss: 0.1084 - accuracy: 0.9632 - val_loss: 0.0939 - val_accuracy: 0.9666\n",
      "Epoch 100/100\n",
      "323666/323666 [==============================] - 0s 1us/sample - loss: 0.1079 - accuracy: 0.9632 - val_loss: 0.0956 - val_accuracy: 0.9661\n"
     ]
    }
   ],
   "source": [
    "init_mode = 'glorot_uniform'\n",
    "model = keras.Sequential(\n",
    "    [\n",
    "        layers.Dense(64,\n",
    "                     input_dim=100,\n",
    "                     kernel_initializer=init_mode,\n",
    "                     activation=tf.nn.relu),\n",
    "\n",
    "        layers.Dropout(0.1),\n",
    "\n",
    "        layers.Dense(64,\n",
    "                     kernel_initializer=init_mode,\n",
    "                     activation=tf.nn.relu),\n",
    "\n",
    "        layers.Dense(64,\n",
    "                     kernel_initializer=init_mode,\n",
    "                     activation=tf.nn.relu),\n",
    "\n",
    "        layers.Dense(1, \n",
    "                     kernel_initializer=init_mode, \n",
    "                     activation=tf.nn.sigmoid),\n",
    "    ]\n",
    ")\n",
    "model.summary()\n",
    "\n",
    "model.compile(loss='binary_crossentropy',\n",
    "              optimizer=keras.optimizers.SGD(learning_rate=0.1, momentum=0.9, decay=0.001),\n",
    "              metrics=['accuracy'])\n",
    "history = model.fit(X_train, Y_train,\n",
    "                    batch_size=X_train.shape[0],\n",
    "                    epochs=100,\n",
    "                    verbose=True,\n",
    "                    validation_data=(X_val, Y_val))"
   ]
  },
  {
   "cell_type": "markdown",
   "metadata": {},
   "source": [
    "## Evaluation"
   ]
  },
  {
   "cell_type": "code",
   "execution_count": 6,
   "metadata": {},
   "outputs": [
    {
     "name": "stdout",
     "output_type": "stream",
     "text": [
      "              precision    recall  f1-score   support\n",
      "\n",
      "         0.0       1.00      0.97      0.98     53944\n",
      "         1.0       0.71      0.97      0.82      4601\n",
      "\n",
      "    accuracy                           0.97     58545\n",
      "   macro avg       0.85      0.97      0.90     58545\n",
      "weighted avg       0.97      0.97      0.97     58545\n",
      "\n",
      "Confusion matrix:\n",
      "[[52130  1814]\n",
      " [  161  4440]]\n",
      "\n",
      "Confusion matrix (Percentages):\n",
      "[[89.043  3.098]\n",
      " [ 0.275  7.584]]\n",
      "\n",
      "Metrics:\n",
      "Sensitivity (TPR): 0.965008\n",
      "Specifity (TNR):   0.966373\n",
      "\n",
      "FPR: 0.033627\n",
      "FNR: 0.034992\n",
      "\n",
      "Balanced accuracy: 0.965690\n",
      "\n",
      "Test loss:\t0.096863\n",
      "Test accuracy:\t0.966265\n"
     ]
    },
    {
     "data": {
      "image/png": "[encoded data removed]",
      "text/plain": [
       "<Figure size 432x288 with 1 Axes>"
      ]
     },
     "metadata": {
      "needs_background": "light"
     },
     "output_type": "display_data"
    },
    {
     "data": {
      "image/png": "[encoded data removed]",
      "text/plain": [
       "<Figure size 432x288 with 1 Axes>"
      ]
     },
     "metadata": {
      "needs_background": "light"
     },
     "output_type": "display_data"
    }
   ],
   "source": [
    "Y_pred = numpy.round(model.predict(X_test))\n",
    "\n",
    "print(classification_report(Y_test, Y_pred))\n",
    "print_metrics(confusion_matrix(Y_test, Y_pred), Y_test)\n",
    "print()\n",
    "score = model.evaluate(X_test, Y_test, verbose=0)\n",
    "print('Test loss:\\t{:.6f}'.format(score[0]))\n",
    "print('Test accuracy:\\t{:.6f}'.format(score[1]))\n",
    "\n",
    "plot_loss(history)\n",
    "plot_accuracy(history)"
   ]
  },
  {
   "cell_type": "markdown",
   "metadata": {},
   "source": [
    "Slightly higher FPR and there in favor of a higher Sensitivity (TPR)"
   ]
  },
  {
   "cell_type": "code",
   "execution_count": 7,
   "metadata": {},
   "outputs": [
    {
     "name": "stdout",
     "output_type": "stream",
     "text": [
      "WARNING:tensorflow:From /home/scheuererra68323/venv37/lib/python3.7/site-packages/tensorflow_core/python/ops/resource_variable_ops.py:1781: calling BaseResourceVariable.__init__ (from tensorflow.python.ops.resource_variable_ops) with constraint is deprecated and will be removed in a future version.\n",
      "Instructions for updating:\n",
      "If using Keras pass *_constraint arguments to layers.\n",
      "INFO:tensorflow:Assets written to: MLP_word2vec_SMOTE_variant1/assets\n"
     ]
    }
   ],
   "source": [
    "model.save('MLP_word2vec_SMOTE_variant1')"
   ]
  },
  {
   "cell_type": "code",
   "execution_count": null,
   "metadata": {},
   "outputs": [],
   "source": []
  },
  {
   "cell_type": "code",
   "execution_count": null,
   "metadata": {},
   "outputs": [],
   "source": []
  },
  {
   "cell_type": "code",
   "execution_count": null,
   "metadata": {},
   "outputs": [],
   "source": []
  },
  {
   "cell_type": "code",
   "execution_count": null,
   "metadata": {},
   "outputs": [],
   "source": []
  },
  {
   "cell_type": "code",
   "execution_count": null,
   "metadata": {},
   "outputs": [],
   "source": []
  }
 ],
 "metadata": {
  "kernelspec": {
   "display_name": "Python 3.7",
   "language": "python",
   "name": "python3"
  },
  "language_info": {
   "codemirror_mode": {
    "name": "ipython",
    "version": 3
   },
   "file_extension": ".py",
   "mimetype": "text/x-python",
   "name": "python",
   "nbconvert_exporter": "python",
   "pygments_lexer": "ipython3",
   "version": "3.7.8"
  }
 },
 "nbformat": 4,
 "nbformat_minor": 2
}
