{
 "cells": [
  {
   "cell_type": "markdown",
   "metadata": {},
   "source": [
    "# Multi-layer Perceptron (MLP)\n",
    "\n",
    "- **Training set**: LO_SARD102 (0.75 split)\n",
    "- **Test/Validation set:** LO_SARD102 (0.25 split)\n",
    "- **Features**: word2vec average\n",
    "- **Class imbalance processing**: Weighted Classes"
   ]
  },
  {
   "cell_type": "code",
   "execution_count": 1,
   "metadata": {},
   "outputs": [
    {
     "name": "stderr",
     "output_type": "stream",
     "text": [
      "/home/scheuererra68323/venv37/lib/python3.7/site-packages/pandas/compat/__init__.py:117: UserWarning: Could not import the lzma module. Your installed Python is incomplete. Attempting to use lzma compression will result in a RuntimeError.\n",
      "  warnings.warn(msg)\n"
     ]
    }
   ],
   "source": [
    "import tensorflow as tf\n",
    "from tensorflow import keras\n",
    "from tensorflow.keras import layers\n",
    "from tensorflow.keras.utils import to_categorical\n",
    "import pandas as pd\n",
    "import numpy\n",
    "import matplotlib.pyplot as plt\n",
    "from helper_functions import *\n",
    "from sklearn.model_selection import train_test_split\n",
    "from sklearn.metrics import classification_report"
   ]
  },
  {
   "cell_type": "markdown",
   "metadata": {},
   "source": [
    "## Load labeled dataset"
   ]
  },
  {
   "cell_type": "code",
   "execution_count": 5,
   "metadata": {},
   "outputs": [
    {
     "name": "stdout",
     "output_type": "stream",
     "text": [
      "(292724, 2)\n",
      "0.0    269721\n",
      "1.0     23003\n",
      "Name: is_vulnerable, dtype: int64\n"
     ]
    }
   ],
   "source": [
    "dataset = pd.read_hdf(\"/mnt/md0/user/scheuererra68323/LO_SARD102/LO_SARD102_word2vec.h5\")\n",
    "print(dataset.shape)\n",
    "print(dataset.is_vulnerable.value_counts())"
   ]
  },
  {
   "cell_type": "markdown",
   "metadata": {},
   "source": [
    "## Split dataset into training and test"
   ]
  },
  {
   "cell_type": "code",
   "execution_count": 8,
   "metadata": {
    "scrolled": true
   },
   "outputs": [
    {
     "name": "stdout",
     "output_type": "stream",
     "text": [
      "Training Set:\n",
      "175634 total\n",
      "Counter({0.0: 161833, 1.0: 13801})\n",
      "\n",
      "Validation Set:\n",
      "58545 total\n",
      "Counter({0.0: 53944, 1.0: 4601})\n",
      "\n",
      "Test Set:\n",
      "58545 total\n",
      "Counter({0.0: 53944, 1.0: 4601})\n"
     ]
    }
   ],
   "source": [
    "X_train, X_test, Y_train, Y_test = train_test_split(\n",
    "    dataset.word2vec_avg,\n",
    "    dataset.is_vulnerable,\n",
    "    test_size=0.2,\n",
    "    stratify=dataset.is_vulnerable,\n",
    "    random_state=0\n",
    ")\n",
    "X_train, X_val, Y_train, Y_val = train_test_split(\n",
    "    X_train,\n",
    "    Y_train,\n",
    "    test_size=0.25,\n",
    "    stratify=Y_train,\n",
    "    random_state=1\n",
    ")\n",
    "\n",
    "X_train = numpy.stack(X_train, axis=0)\n",
    "Y_train = numpy.stack(Y_train, axis=0)\n",
    "X_val = numpy.stack(X_val, axis=0)\n",
    "Y_val = numpy.stack(Y_val, axis=0)\n",
    "X_test = numpy.stack(X_test, axis=0)\n",
    "Y_test = numpy.stack(Y_test, axis=0)\n",
    "\n",
    "print(\"Training Set:\")\n",
    "print(f\"{len(X_train)} total\")\n",
    "print(Counter(Y_train))\n",
    "print()      \n",
    "print(\"Validation Set:\")\n",
    "print(f\"{len(X_val)} total\")\n",
    "print(Counter(Y_val))\n",
    "print()      \n",
    "print(\"Test Set:\")\n",
    "print(f\"{len(X_test)} total\")\n",
    "print(Counter(Y_test))"
   ]
  },
  {
   "cell_type": "markdown",
   "metadata": {},
   "source": [
    "## Prepare class weights"
   ]
  },
  {
   "cell_type": "code",
   "execution_count": 44,
   "metadata": {},
   "outputs": [
    {
     "name": "stdout",
     "output_type": "stream",
     "text": [
      "(0.5426396346851384, 6.3630896311861465)\n"
     ]
    }
   ],
   "source": [
    "weight_0 = ( 1 / Counter(Y_train)[0] ) * Y_train.shape[0] / 2.0\n",
    "weight_1 = ( 1 / Counter(Y_train)[1] ) * Y_train.shape[0] / 2.0\n",
    "print((weight_0, weight_1))"
   ]
  },
  {
   "cell_type": "markdown",
   "metadata": {},
   "source": [
    "## Model definition & Training"
   ]
  },
  {
   "cell_type": "code",
   "execution_count": 49,
   "metadata": {
    "scrolled": true
   },
   "outputs": [
    {
     "name": "stdout",
     "output_type": "stream",
     "text": [
      "Model: \"sequential_6\"\n",
      "_________________________________________________________________\n",
      "Layer (type)                 Output Shape              Param #   \n",
      "=================================================================\n",
      "dense_24 (Dense)             (None, 64)                6464      \n",
      "_________________________________________________________________\n",
      "dropout_6 (Dropout)          (None, 64)                0         \n",
      "_________________________________________________________________\n",
      "dense_25 (Dense)             (None, 64)                4160      \n",
      "_________________________________________________________________\n",
      "dense_26 (Dense)             (None, 64)                4160      \n",
      "_________________________________________________________________\n",
      "dense_27 (Dense)             (None, 1)                 65        \n",
      "=================================================================\n",
      "Total params: 14,849\n",
      "Trainable params: 14,849\n",
      "Non-trainable params: 0\n",
      "_________________________________________________________________\n",
      "Train on 175634 samples, validate on 58545 samples\n",
      "Epoch 1/100\n",
      "175634/175634 [==============================] - 1s 6us/sample - loss: 0.6919 - accuracy: 0.4486 - val_loss: 0.6797 - val_accuracy: 0.4102\n",
      "Epoch 2/100\n",
      "175634/175634 [==============================] - 0s 1us/sample - loss: 0.6821 - accuracy: 0.4127 - val_loss: 0.6628 - val_accuracy: 0.4065\n",
      "Epoch 3/100\n",
      "175634/175634 [==============================] - 0s 1us/sample - loss: 0.6658 - accuracy: 0.3903 - val_loss: 0.6422 - val_accuracy: 0.4300\n",
      "Epoch 4/100\n",
      "175634/175634 [==============================] - 0s 1us/sample - loss: 0.6465 - accuracy: 0.4184 - val_loss: 0.6179 - val_accuracy: 0.4982\n",
      "Epoch 5/100\n",
      "175634/175634 [==============================] - 0s 1us/sample - loss: 0.6231 - accuracy: 0.4898 - val_loss: 0.5885 - val_accuracy: 0.5914\n",
      "Epoch 6/100\n",
      "175634/175634 [==============================] - 0s 1us/sample - loss: 0.5954 - accuracy: 0.5773 - val_loss: 0.5538 - val_accuracy: 0.6780\n",
      "Epoch 7/100\n",
      "175634/175634 [==============================] - 0s 1us/sample - loss: 0.5621 - accuracy: 0.6724 - val_loss: 0.5166 - val_accuracy: 0.7619\n",
      "Epoch 8/100\n",
      "175634/175634 [==============================] - 0s 1us/sample - loss: 0.5265 - accuracy: 0.7553 - val_loss: 0.4786 - val_accuracy: 0.8056\n",
      "Epoch 9/100\n",
      "175634/175634 [==============================] - 0s 1us/sample - loss: 0.4906 - accuracy: 0.8038 - val_loss: 0.4397 - val_accuracy: 0.8240\n",
      "Epoch 10/100\n",
      "175634/175634 [==============================] - 0s 1us/sample - loss: 0.4519 - accuracy: 0.8206 - val_loss: 0.4031 - val_accuracy: 0.8173\n",
      "Epoch 11/100\n",
      "175634/175634 [==============================] - 0s 1us/sample - loss: 0.4169 - accuracy: 0.8137 - val_loss: 0.3741 - val_accuracy: 0.8063\n",
      "Epoch 12/100\n",
      "175634/175634 [==============================] - 0s 1us/sample - loss: 0.3880 - accuracy: 0.8015 - val_loss: 0.3487 - val_accuracy: 0.8179\n",
      "Epoch 13/100\n",
      "175634/175634 [==============================] - 0s 1us/sample - loss: 0.3630 - accuracy: 0.8119 - val_loss: 0.3234 - val_accuracy: 0.8602\n",
      "Epoch 14/100\n",
      "175634/175634 [==============================] - 0s 1us/sample - loss: 0.3395 - accuracy: 0.8500 - val_loss: 0.3072 - val_accuracy: 0.8821\n",
      "Epoch 15/100\n",
      "175634/175634 [==============================] - 0s 1us/sample - loss: 0.3246 - accuracy: 0.8776 - val_loss: 0.2914 - val_accuracy: 0.8779\n",
      "Epoch 16/100\n",
      "175634/175634 [==============================] - 0s 1us/sample - loss: 0.3076 - accuracy: 0.8706 - val_loss: 0.2835 - val_accuracy: 0.8744\n",
      "Epoch 17/100\n",
      "175634/175634 [==============================] - 0s 1us/sample - loss: 0.2978 - accuracy: 0.8644 - val_loss: 0.2738 - val_accuracy: 0.8925\n",
      "Epoch 18/100\n",
      "175634/175634 [==============================] - 0s 1us/sample - loss: 0.2910 - accuracy: 0.8857 - val_loss: 0.2706 - val_accuracy: 0.9052\n",
      "Epoch 19/100\n",
      "175634/175634 [==============================] - 0s 1us/sample - loss: 0.2896 - accuracy: 0.8949 - val_loss: 0.2664 - val_accuracy: 0.8838\n",
      "Epoch 20/100\n",
      "175634/175634 [==============================] - 0s 1us/sample - loss: 0.2839 - accuracy: 0.8748 - val_loss: 0.2614 - val_accuracy: 0.8754\n",
      "Epoch 21/100\n",
      "175634/175634 [==============================] - 0s 1us/sample - loss: 0.2782 - accuracy: 0.8714 - val_loss: 0.2529 - val_accuracy: 0.9080\n",
      "Epoch 22/100\n",
      "175634/175634 [==============================] - 0s 1us/sample - loss: 0.2715 - accuracy: 0.8951 - val_loss: 0.2445 - val_accuracy: 0.8976\n",
      "Epoch 23/100\n",
      "175634/175634 [==============================] - 0s 1us/sample - loss: 0.2612 - accuracy: 0.8924 - val_loss: 0.2396 - val_accuracy: 0.8822\n",
      "Epoch 24/100\n",
      "175634/175634 [==============================] - 0s 1us/sample - loss: 0.2536 - accuracy: 0.8767 - val_loss: 0.2317 - val_accuracy: 0.9032\n",
      "Epoch 25/100\n",
      "175634/175634 [==============================] - 0s 1us/sample - loss: 0.2456 - accuracy: 0.8955 - val_loss: 0.2277 - val_accuracy: 0.9168\n",
      "Epoch 26/100\n",
      "175634/175634 [==============================] - 0s 1us/sample - loss: 0.2396 - accuracy: 0.9087 - val_loss: 0.2231 - val_accuracy: 0.9053\n",
      "Epoch 27/100\n",
      "175634/175634 [==============================] - 0s 1us/sample - loss: 0.2342 - accuracy: 0.8972 - val_loss: 0.2205 - val_accuracy: 0.9004\n",
      "Epoch 28/100\n",
      "175634/175634 [==============================] - 0s 1us/sample - loss: 0.2304 - accuracy: 0.8924 - val_loss: 0.2169 - val_accuracy: 0.9162\n",
      "Epoch 29/100\n",
      "175634/175634 [==============================] - 0s 1us/sample - loss: 0.2265 - accuracy: 0.9064 - val_loss: 0.2144 - val_accuracy: 0.9220\n",
      "Epoch 30/100\n",
      "175634/175634 [==============================] - 0s 1us/sample - loss: 0.2252 - accuracy: 0.9138 - val_loss: 0.2100 - val_accuracy: 0.9136\n",
      "Epoch 31/100\n",
      "175634/175634 [==============================] - 0s 1us/sample - loss: 0.2202 - accuracy: 0.9045 - val_loss: 0.2058 - val_accuracy: 0.9096\n",
      "Epoch 32/100\n",
      "175634/175634 [==============================] - 0s 1us/sample - loss: 0.2159 - accuracy: 0.9005 - val_loss: 0.2005 - val_accuracy: 0.9238\n",
      "Epoch 33/100\n",
      "175634/175634 [==============================] - 0s 1us/sample - loss: 0.2114 - accuracy: 0.9159 - val_loss: 0.1959 - val_accuracy: 0.9268\n",
      "Epoch 34/100\n",
      "175634/175634 [==============================] - 0s 1us/sample - loss: 0.2066 - accuracy: 0.9192 - val_loss: 0.1912 - val_accuracy: 0.9171\n",
      "Epoch 35/100\n",
      "175634/175634 [==============================] - 0s 1us/sample - loss: 0.2019 - accuracy: 0.9099 - val_loss: 0.1872 - val_accuracy: 0.9246\n",
      "Epoch 36/100\n",
      "175634/175634 [==============================] - 0s 1us/sample - loss: 0.1988 - accuracy: 0.9159 - val_loss: 0.1846 - val_accuracy: 0.9361\n",
      "Epoch 37/100\n",
      "175634/175634 [==============================] - 0s 1us/sample - loss: 0.1952 - accuracy: 0.9266 - val_loss: 0.1812 - val_accuracy: 0.9304\n",
      "Epoch 38/100\n",
      "175634/175634 [==============================] - 0s 1us/sample - loss: 0.1911 - accuracy: 0.9227 - val_loss: 0.1786 - val_accuracy: 0.9283\n",
      "Epoch 39/100\n",
      "175634/175634 [==============================] - 0s 1us/sample - loss: 0.1896 - accuracy: 0.9201 - val_loss: 0.1752 - val_accuracy: 0.9371\n",
      "Epoch 40/100\n",
      "175634/175634 [==============================] - 0s 1us/sample - loss: 0.1848 - accuracy: 0.9295 - val_loss: 0.1720 - val_accuracy: 0.9385\n",
      "Epoch 41/100\n",
      "175634/175634 [==============================] - 0s 1us/sample - loss: 0.1818 - accuracy: 0.9309 - val_loss: 0.1691 - val_accuracy: 0.9347\n",
      "Epoch 42/100\n",
      "175634/175634 [==============================] - 0s 1us/sample - loss: 0.1792 - accuracy: 0.9261 - val_loss: 0.1665 - val_accuracy: 0.9362\n",
      "Epoch 43/100\n",
      "175634/175634 [==============================] - 0s 1us/sample - loss: 0.1766 - accuracy: 0.9291 - val_loss: 0.1643 - val_accuracy: 0.9411\n",
      "Epoch 44/100\n",
      "175634/175634 [==============================] - 0s 1us/sample - loss: 0.1750 - accuracy: 0.9354 - val_loss: 0.1619 - val_accuracy: 0.9400\n",
      "Epoch 45/100\n",
      "175634/175634 [==============================] - 0s 1us/sample - loss: 0.1710 - accuracy: 0.9328 - val_loss: 0.1597 - val_accuracy: 0.9394\n",
      "Epoch 46/100\n",
      "175634/175634 [==============================] - 0s 1us/sample - loss: 0.1687 - accuracy: 0.9336 - val_loss: 0.1576 - val_accuracy: 0.9440\n",
      "Epoch 47/100\n",
      "175634/175634 [==============================] - 0s 1us/sample - loss: 0.1665 - accuracy: 0.9391 - val_loss: 0.1554 - val_accuracy: 0.9469\n"
     ]
    },
    {
     "name": "stdout",
     "output_type": "stream",
     "text": [
      "Epoch 48/100\n",
      "175634/175634 [==============================] - 0s 1us/sample - loss: 0.1646 - accuracy: 0.9409 - val_loss: 0.1532 - val_accuracy: 0.9423\n",
      "Epoch 49/100\n",
      "175634/175634 [==============================] - 0s 1us/sample - loss: 0.1630 - accuracy: 0.9375 - val_loss: 0.1512 - val_accuracy: 0.9515\n",
      "Epoch 50/100\n",
      "175634/175634 [==============================] - 0s 1us/sample - loss: 0.1617 - accuracy: 0.9412 - val_loss: 0.1496 - val_accuracy: 0.9548\n",
      "Epoch 51/100\n",
      "175634/175634 [==============================] - 0s 1us/sample - loss: 0.1598 - accuracy: 0.9445 - val_loss: 0.1478 - val_accuracy: 0.9523\n",
      "Epoch 52/100\n",
      "175634/175634 [==============================] - 0s 1us/sample - loss: 0.1579 - accuracy: 0.9433 - val_loss: 0.1461 - val_accuracy: 0.9526\n",
      "Epoch 53/100\n",
      "175634/175634 [==============================] - 0s 1us/sample - loss: 0.1552 - accuracy: 0.9436 - val_loss: 0.1447 - val_accuracy: 0.9564\n",
      "Epoch 54/100\n",
      "175634/175634 [==============================] - 0s 1us/sample - loss: 0.1556 - accuracy: 0.9470 - val_loss: 0.1431 - val_accuracy: 0.9558\n",
      "Epoch 55/100\n",
      "175634/175634 [==============================] - 0s 1us/sample - loss: 0.1529 - accuracy: 0.9472 - val_loss: 0.1415 - val_accuracy: 0.9552\n",
      "Epoch 56/100\n",
      "175634/175634 [==============================] - 0s 1us/sample - loss: 0.1496 - accuracy: 0.9471 - val_loss: 0.1401 - val_accuracy: 0.9585\n",
      "Epoch 57/100\n",
      "175634/175634 [==============================] - 0s 1us/sample - loss: 0.1486 - accuracy: 0.9491 - val_loss: 0.1385 - val_accuracy: 0.9571\n",
      "Epoch 58/100\n",
      "175634/175634 [==============================] - 0s 1us/sample - loss: 0.1473 - accuracy: 0.9485 - val_loss: 0.1369 - val_accuracy: 0.9575\n",
      "Epoch 59/100\n",
      "175634/175634 [==============================] - 0s 1us/sample - loss: 0.1469 - accuracy: 0.9486 - val_loss: 0.1357 - val_accuracy: 0.9584\n",
      "Epoch 60/100\n",
      "175634/175634 [==============================] - 0s 1us/sample - loss: 0.1440 - accuracy: 0.9498 - val_loss: 0.1345 - val_accuracy: 0.9585\n",
      "Epoch 61/100\n",
      "175634/175634 [==============================] - 0s 1us/sample - loss: 0.1444 - accuracy: 0.9500 - val_loss: 0.1334 - val_accuracy: 0.9580\n",
      "Epoch 62/100\n",
      "175634/175634 [==============================] - 0s 1us/sample - loss: 0.1416 - accuracy: 0.9500 - val_loss: 0.1324 - val_accuracy: 0.9589\n",
      "Epoch 63/100\n",
      "175634/175634 [==============================] - 0s 1us/sample - loss: 0.1409 - accuracy: 0.9524 - val_loss: 0.1314 - val_accuracy: 0.9586\n",
      "Epoch 64/100\n",
      "175634/175634 [==============================] - 0s 1us/sample - loss: 0.1389 - accuracy: 0.9520 - val_loss: 0.1306 - val_accuracy: 0.9587\n",
      "Epoch 65/100\n",
      "175634/175634 [==============================] - 0s 1us/sample - loss: 0.1372 - accuracy: 0.9526 - val_loss: 0.1298 - val_accuracy: 0.9619\n",
      "Epoch 66/100\n",
      "175634/175634 [==============================] - 0s 1us/sample - loss: 0.1366 - accuracy: 0.9540 - val_loss: 0.1288 - val_accuracy: 0.9613\n",
      "Epoch 67/100\n",
      "175634/175634 [==============================] - 0s 1us/sample - loss: 0.1353 - accuracy: 0.9538 - val_loss: 0.1279 - val_accuracy: 0.9614\n",
      "Epoch 68/100\n",
      "175634/175634 [==============================] - 0s 1us/sample - loss: 0.1346 - accuracy: 0.9531 - val_loss: 0.1269 - val_accuracy: 0.9630\n",
      "Epoch 69/100\n",
      "175634/175634 [==============================] - 0s 1us/sample - loss: 0.1329 - accuracy: 0.9551 - val_loss: 0.1260 - val_accuracy: 0.9639\n",
      "Epoch 70/100\n",
      "175634/175634 [==============================] - 0s 1us/sample - loss: 0.1325 - accuracy: 0.9563 - val_loss: 0.1250 - val_accuracy: 0.9621\n",
      "Epoch 71/100\n",
      "175634/175634 [==============================] - 0s 1us/sample - loss: 0.1311 - accuracy: 0.9544 - val_loss: 0.1241 - val_accuracy: 0.9636\n",
      "Epoch 72/100\n",
      "175634/175634 [==============================] - 0s 1us/sample - loss: 0.1303 - accuracy: 0.9559 - val_loss: 0.1232 - val_accuracy: 0.9648\n",
      "Epoch 73/100\n",
      "175634/175634 [==============================] - 0s 1us/sample - loss: 0.1289 - accuracy: 0.9582 - val_loss: 0.1221 - val_accuracy: 0.9626\n",
      "Epoch 74/100\n",
      "175634/175634 [==============================] - 0s 1us/sample - loss: 0.1279 - accuracy: 0.9553 - val_loss: 0.1212 - val_accuracy: 0.9649\n",
      "Epoch 75/100\n",
      "175634/175634 [==============================] - 0s 1us/sample - loss: 0.1273 - accuracy: 0.9578 - val_loss: 0.1202 - val_accuracy: 0.9643\n",
      "Epoch 76/100\n",
      "175634/175634 [==============================] - 0s 1us/sample - loss: 0.1260 - accuracy: 0.9580 - val_loss: 0.1193 - val_accuracy: 0.9637\n",
      "Epoch 77/100\n",
      "175634/175634 [==============================] - 0s 1us/sample - loss: 0.1250 - accuracy: 0.9565 - val_loss: 0.1185 - val_accuracy: 0.9653\n",
      "Epoch 78/100\n",
      "175634/175634 [==============================] - 0s 1us/sample - loss: 0.1231 - accuracy: 0.9584 - val_loss: 0.1176 - val_accuracy: 0.9655\n",
      "Epoch 79/100\n",
      "175634/175634 [==============================] - 0s 1us/sample - loss: 0.1230 - accuracy: 0.9583 - val_loss: 0.1167 - val_accuracy: 0.9652\n",
      "Epoch 80/100\n",
      "175634/175634 [==============================] - 0s 1us/sample - loss: 0.1223 - accuracy: 0.9584 - val_loss: 0.1159 - val_accuracy: 0.9653\n",
      "Epoch 81/100\n",
      "175634/175634 [==============================] - 0s 1us/sample - loss: 0.1219 - accuracy: 0.9585 - val_loss: 0.1151 - val_accuracy: 0.9661\n",
      "Epoch 82/100\n",
      "175634/175634 [==============================] - 0s 1us/sample - loss: 0.1201 - accuracy: 0.9593 - val_loss: 0.1144 - val_accuracy: 0.9669\n",
      "Epoch 83/100\n",
      "175634/175634 [==============================] - 0s 1us/sample - loss: 0.1199 - accuracy: 0.9602 - val_loss: 0.1136 - val_accuracy: 0.9661\n",
      "Epoch 84/100\n",
      "175634/175634 [==============================] - 0s 1us/sample - loss: 0.1193 - accuracy: 0.9590 - val_loss: 0.1128 - val_accuracy: 0.9670\n",
      "Epoch 85/100\n",
      "175634/175634 [==============================] - 0s 1us/sample - loss: 0.1190 - accuracy: 0.9598 - val_loss: 0.1121 - val_accuracy: 0.9673\n",
      "Epoch 86/100\n",
      "175634/175634 [==============================] - 0s 1us/sample - loss: 0.1171 - accuracy: 0.9607 - val_loss: 0.1114 - val_accuracy: 0.9673\n",
      "Epoch 87/100\n",
      "175634/175634 [==============================] - 0s 1us/sample - loss: 0.1172 - accuracy: 0.9603 - val_loss: 0.1107 - val_accuracy: 0.9675\n",
      "Epoch 88/100\n",
      "175634/175634 [==============================] - 0s 1us/sample - loss: 0.1159 - accuracy: 0.9609 - val_loss: 0.1100 - val_accuracy: 0.9678\n",
      "Epoch 89/100\n",
      "175634/175634 [==============================] - 0s 1us/sample - loss: 0.1154 - accuracy: 0.9609 - val_loss: 0.1093 - val_accuracy: 0.9680\n",
      "Epoch 90/100\n",
      "175634/175634 [==============================] - 0s 1us/sample - loss: 0.1143 - accuracy: 0.9614 - val_loss: 0.1088 - val_accuracy: 0.9683\n",
      "Epoch 91/100\n",
      "175634/175634 [==============================] - 0s 1us/sample - loss: 0.1146 - accuracy: 0.9619 - val_loss: 0.1082 - val_accuracy: 0.9681\n",
      "Epoch 92/100\n",
      "175634/175634 [==============================] - 0s 1us/sample - loss: 0.1128 - accuracy: 0.9615 - val_loss: 0.1077 - val_accuracy: 0.9688\n",
      "Epoch 93/100\n",
      "175634/175634 [==============================] - 0s 1us/sample - loss: 0.1123 - accuracy: 0.9627 - val_loss: 0.1072 - val_accuracy: 0.9692\n",
      "Epoch 94/100\n",
      "175634/175634 [==============================] - 0s 1us/sample - loss: 0.1125 - accuracy: 0.9641 - val_loss: 0.1064 - val_accuracy: 0.9685\n",
      "Epoch 95/100\n",
      "175634/175634 [==============================] - 0s 1us/sample - loss: 0.1116 - accuracy: 0.9613 - val_loss: 0.1058 - val_accuracy: 0.9685\n",
      "Epoch 96/100\n",
      "175634/175634 [==============================] - 0s 1us/sample - loss: 0.1106 - accuracy: 0.9635 - val_loss: 0.1054 - val_accuracy: 0.9692\n",
      "Epoch 97/100\n",
      "175634/175634 [==============================] - 0s 1us/sample - loss: 0.1104 - accuracy: 0.9642 - val_loss: 0.1046 - val_accuracy: 0.9685\n",
      "Epoch 98/100\n",
      "175634/175634 [==============================] - 0s 1us/sample - loss: 0.1096 - accuracy: 0.9624 - val_loss: 0.1040 - val_accuracy: 0.9691\n",
      "Epoch 99/100\n",
      "175634/175634 [==============================] - 0s 1us/sample - loss: 0.1090 - accuracy: 0.9637 - val_loss: 0.1033 - val_accuracy: 0.9699\n",
      "Epoch 100/100\n",
      "175634/175634 [==============================] - 0s 1us/sample - loss: 0.1087 - accuracy: 0.9649 - val_loss: 0.1025 - val_accuracy: 0.9699\n"
     ]
    }
   ],
   "source": [
    "init_mode = 'glorot_uniform'\n",
    "hidden_size=64\n",
    "model = keras.Sequential(\n",
    "    [\n",
    "        layers.Dense(hidden_size,\n",
    "                     input_dim=100,\n",
    "                     kernel_initializer=init_mode,\n",
    "                     activation=tf.nn.relu),\n",
    "\n",
    "\n",
    "        layers.Dropout(0.1),\n",
    "\n",
    "        layers.Dense(hidden_size,\n",
    "                     kernel_initializer=init_mode,\n",
    "                     activation=tf.nn.relu),\n",
    "\n",
    "        layers.Dense(hidden_size,\n",
    "                     kernel_initializer=init_mode,\n",
    "                     activation=tf.nn.relu),\n",
    "\n",
    "\n",
    "        layers.Dense(1, \n",
    "                     kernel_initializer=init_mode, \n",
    "                     activation=tf.nn.sigmoid),\n",
    "    ]\n",
    ")\n",
    "model.summary()\n",
    "\n",
    "model.compile(loss='binary_crossentropy',\n",
    "              optimizer=keras.optimizers.SGD(learning_rate=0.1, momentum=0.9, decay=0.001),\n",
    "              metrics=['accuracy'])\n",
    "history = model.fit(X_train,\n",
    "                    Y_train,\n",
    "                    batch_size=X_train.shape[0],\n",
    "                    epochs=100,\n",
    "                    verbose=True,\n",
    "                    validation_data=(X_val, Y_val),\n",
    "                   class_weight={0: weight_0, 1: weight_1}\n",
    "                   )"
   ]
  },
  {
   "cell_type": "markdown",
   "metadata": {},
   "source": [
    "## Evaluation"
   ]
  },
  {
   "cell_type": "code",
   "execution_count": 52,
   "metadata": {
    "scrolled": false
   },
   "outputs": [
    {
     "name": "stdout",
     "output_type": "stream",
     "text": [
      "              precision    recall  f1-score   support\n",
      "\n",
      "         0.0       1.00      0.97      0.98     53944\n",
      "         1.0       0.73      0.97      0.83      4601\n",
      "\n",
      "    accuracy                           0.97     58545\n",
      "   macro avg       0.86      0.97      0.91     58545\n",
      "weighted avg       0.98      0.97      0.97     58545\n",
      "\n",
      "Confusion matrix:\n",
      "[[52269  1675]\n",
      " [  141  4460]]\n",
      "\n",
      "Confusion matrix (Percentages):\n",
      "[[89.28   2.861]\n",
      " [ 0.241  7.618]]\n",
      "\n",
      "Metrics:\n",
      "Sensitivity (TPR): 0.969354\n",
      "Specifity (TNR):   0.968949\n",
      "\n",
      "FPR: 0.031051\n",
      "FNR: 0.030646\n",
      "\n",
      "Balanced accuracy: 0.969152\n",
      "\n",
      "Test loss:\t0.092297\n",
      "Test accuracy:\t0.968981\n"
     ]
    },
    {
     "data": {
      "image/png": "[encoded data removed]",
      "text/plain": [
       "<Figure size 432x288 with 1 Axes>"
      ]
     },
     "metadata": {
      "needs_background": "light"
     },
     "output_type": "display_data"
    },
    {
     "data": {
      "image/png": "[encoded data removed]",
      "text/plain": [
       "<Figure size 432x288 with 1 Axes>"
      ]
     },
     "metadata": {
      "needs_background": "light"
     },
     "output_type": "display_data"
    }
   ],
   "source": [
    "Y_pred = numpy.round(model.predict(X_test))\n",
    "\n",
    "print(classification_report(Y_test, Y_pred))\n",
    "print_metrics(confusion_matrix(Y_test, Y_pred), Y_test)\n",
    "print()\n",
    "score = model.evaluate(X_test, Y_test, verbose=0)\n",
    "print('Test loss:\\t{:.6f}'.format(score[0]))\n",
    "print('Test accuracy:\\t{:.6f}'.format(score[1]))\n",
    "\n",
    "plot_loss(history)\n",
    "plot_accuracy(history)"
   ]
  },
  {
   "cell_type": "code",
   "execution_count": 41,
   "metadata": {
    "scrolled": true
   },
   "outputs": [
    {
     "name": "stdout",
     "output_type": "stream",
     "text": [
      "WARNING:tensorflow:From /home/scheuererra68323/venv37/lib/python3.7/site-packages/tensorflow_core/python/ops/resource_variable_ops.py:1781: calling BaseResourceVariable.__init__ (from tensorflow.python.ops.resource_variable_ops) with constraint is deprecated and will be removed in a future version.\n",
      "Instructions for updating:\n",
      "If using Keras pass *_constraint arguments to layers.\n",
      "INFO:tensorflow:Assets written to: MLP_word2vec_weightedClasses/assets\n"
     ]
    }
   ],
   "source": [
    "model.save('MLP_word2vec_weightedClasses')"
   ]
  }
 ],
 "metadata": {
  "kernelspec": {
   "display_name": "Python 3.7",
   "language": "python",
   "name": "python3"
  },
  "language_info": {
   "codemirror_mode": {
    "name": "ipython",
    "version": 3
   },
   "file_extension": ".py",
   "mimetype": "text/x-python",
   "name": "python",
   "nbconvert_exporter": "python",
   "pygments_lexer": "ipython3",
   "version": "3.7.8"
  }
 },
 "nbformat": 4,
 "nbformat_minor": 2
}
