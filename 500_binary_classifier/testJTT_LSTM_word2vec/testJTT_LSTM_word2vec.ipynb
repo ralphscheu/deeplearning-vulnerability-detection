{
 "cells": [
  {
   "cell_type": "markdown",
   "metadata": {},
   "source": [
    "# LSTM - word2vec sequence\n",
    "\n",
    "- **Training set**: LO_SARD102 (95%) (0.75 split)\n",
    "- **Test/Validation set:** LO_SARD102 (95%) (0.25 split)\n",
    "- **Features**: word2vec sequence (100)\n",
    "- **Class imbalance processing**: None"
   ]
  },
  {
   "cell_type": "code",
   "execution_count": 1,
   "metadata": {},
   "outputs": [
    {
     "name": "stderr",
     "output_type": "stream",
     "text": [
      "/home/scheuererra68323/venv37/lib/python3.7/site-packages/pandas/compat/__init__.py:117: UserWarning: Could not import the lzma module. Your installed Python is incomplete. Attempting to use lzma compression will result in a RuntimeError.\n",
      "  warnings.warn(msg)\n"
     ]
    }
   ],
   "source": [
    "import tensorflow as tf\n",
    "from tensorflow import keras\n",
    "from tensorflow.keras import layers\n",
    "import pandas as pd\n",
    "import numpy as np\n",
    "import matplotlib.pyplot as plt\n",
    "from helper_functions import *\n",
    "from sklearn.model_selection import train_test_split\n",
    "from sklearn.metrics import classification_report"
   ]
  },
  {
   "cell_type": "code",
   "execution_count": 2,
   "metadata": {
    "scrolled": true
   },
   "outputs": [
    {
     "name": "stdout",
     "output_type": "stream",
     "text": [
      "(33215, 100, 100)\n",
      "(33215,)\n",
      "(33215, 100, 100)\n",
      "(33215,)\n",
      "(21851, 100, 100)\n",
      "(21851,)\n"
     ]
    }
   ],
   "source": [
    "X_train = numpy.load('/mnt/md0/user/scheuererra68323/LOSARD_w2vseq_X_full_train.npy', mmap_mode='r')\n",
    "Y_train = numpy.load('/mnt/md0/user/scheuererra68323/LOSARD_w2vseq_Y_full_train.npy', mmap_mode='r')\n",
    "print(X_train.shape)\n",
    "print(Y_train.shape)\n",
    "\n",
    "X_val = numpy.load('/mnt/md0/user/scheuererra68323/LOSARD_w2vseq_X_full_val.npy', mmap_mode='r')\n",
    "Y_val = numpy.load('/mnt/md0/user/scheuererra68323/LOSARD_w2vseq_Y_full_val.npy', mmap_mode='r')\n",
    "print(X_val.shape)\n",
    "print(Y_val.shape)\n",
    "\n",
    "X_test =  numpy.load('/mnt/md0/user/scheuererra68323/JTT_w2vseq_X.npy',  mmap_mode='r')\n",
    "Y_test =  numpy.load('/mnt/md0/user/scheuererra68323/JTT_w2vseq_Y.npy',  mmap_mode='r')\n",
    "print(X_test.shape)\n",
    "print(Y_test.shape)\n",
    "\n",
    "train_gen = DataGenerator(_X=X_train, _y=Y_train, batch_size=2048)\n",
    "val_gen =   DataGenerator(_X=X_val,   _y=Y_val,   batch_size=2048)\n",
    "test_gen =  DataGenerator(_X=X_test,  _y=Y_test,  batch_size=2048)"
   ]
  },
  {
   "cell_type": "markdown",
   "metadata": {},
   "source": [
    "## Build & train keras model"
   ]
  },
  {
   "cell_type": "code",
   "execution_count": 8,
   "metadata": {
    "scrolled": false
   },
   "outputs": [
    {
     "name": "stdout",
     "output_type": "stream",
     "text": [
      "Model: \"sequential_2\"\n",
      "_________________________________________________________________\n",
      "Layer (type)                 Output Shape              Param #   \n",
      "=================================================================\n",
      "lstm_2 (LSTM)                (None, 100, 64)           42240     \n",
      "_________________________________________________________________\n",
      "dropout_2 (Dropout)          (None, 100, 64)           0         \n",
      "_________________________________________________________________\n",
      "time_distributed_2 (TimeDist (None, 100, 16)           1040      \n",
      "_________________________________________________________________\n",
      "flatten_2 (Flatten)          (None, 1600)              0         \n",
      "_________________________________________________________________\n",
      "dense_5 (Dense)              (None, 1)                 1601      \n",
      "=================================================================\n",
      "Total params: 44,881\n",
      "Trainable params: 44,881\n",
      "Non-trainable params: 0\n",
      "_________________________________________________________________\n",
      "Epoch 1/8\n",
      "17/17 [==============================] - 24s 1s/step - loss: 0.2670 - accuracy: 0.9486 - val_loss: 0.1261 - val_accuracy: 0.9687\n",
      "Epoch 2/8\n",
      "17/17 [==============================] - 24s 1s/step - loss: 0.0935 - accuracy: 0.9704 - val_loss: 0.0606 - val_accuracy: 0.9891\n",
      "Epoch 3/8\n",
      "17/17 [==============================] - 24s 1s/step - loss: 0.0494 - accuracy: 0.9885 - val_loss: 0.0389 - val_accuracy: 0.9898\n",
      "Epoch 4/8\n",
      "17/17 [==============================] - 24s 1s/step - loss: 0.0320 - accuracy: 0.9919 - val_loss: 0.0260 - val_accuracy: 0.9928\n",
      "Epoch 5/8\n",
      "17/17 [==============================] - 24s 1s/step - loss: 0.0227 - accuracy: 0.9950 - val_loss: 0.0187 - val_accuracy: 0.9959\n",
      "Epoch 6/8\n",
      "17/17 [==============================] - 25s 1s/step - loss: 0.0158 - accuracy: 0.9960 - val_loss: 0.0135 - val_accuracy: 0.9957\n",
      "Epoch 7/8\n",
      "17/17 [==============================] - 24s 1s/step - loss: 0.0119 - accuracy: 0.9970 - val_loss: 0.0089 - val_accuracy: 0.9978\n",
      "Epoch 8/8\n",
      "17/17 [==============================] - 25s 1s/step - loss: 0.0080 - accuracy: 0.9982 - val_loss: 0.0066 - val_accuracy: 0.9987\n"
     ]
    }
   ],
   "source": [
    "model = keras.Sequential()\n",
    "model.add(layers.LSTM(64, input_shape=(100, 100), \n",
    "                      return_sequences=True))\n",
    "model.add(layers.Dropout(0.1))\n",
    "model.add( layers.TimeDistributed(layers.Dense(16)) )\n",
    "model.add(layers.Flatten())\n",
    "model.add(layers.Dense(1, activation='sigmoid'))\n",
    "\n",
    "model.summary()\n",
    "\n",
    "model.compile(loss='binary_crossentropy', \n",
    "              optimizer='adam', \n",
    "              metrics=['accuracy']\n",
    "             )\n",
    "history = model.fit_generator(train_gen,\n",
    "                    epochs=8,\n",
    "                    verbose=True,\n",
    "                    validation_data=val_gen)"
   ]
  },
  {
   "cell_type": "markdown",
   "metadata": {},
   "source": [
    "## Evaluation"
   ]
  },
  {
   "cell_type": "code",
   "execution_count": 9,
   "metadata": {
    "scrolled": false
   },
   "outputs": [
    {
     "name": "stderr",
     "output_type": "stream",
     "text": [
      "/home/scheuererra68323/venv37/lib/python3.7/site-packages/sklearn/metrics/_classification.py:1221: UndefinedMetricWarning: Precision and F-score are ill-defined and being set to 0.0 in labels with no predicted samples. Use `zero_division` parameter to control this behavior.\n",
      "  _warn_prf(average, modifier, msg_start, len(result))\n"
     ]
    },
    {
     "name": "stdout",
     "output_type": "stream",
     "text": [
      "              precision    recall  f1-score   support\n",
      "\n",
      "         0.0       0.97      1.00      0.99     21243\n",
      "         1.0       0.00      0.00      0.00       608\n",
      "\n",
      "    accuracy                           0.97     21851\n",
      "   macro avg       0.49      0.50      0.49     21851\n",
      "weighted avg       0.95      0.97      0.96     21851\n",
      "\n",
      "Confusion matrix:\n",
      "[[21243     0]\n",
      " [  608     0]]\n",
      "\n",
      "Confusion matrix (Percentages):\n",
      "[[97.218  0.   ]\n",
      " [ 2.782  0.   ]]\n",
      "\n",
      "Metrics:\n",
      "Sensitivity (TPR): 0.000000\n",
      "Specifity (TNR):   1.000000\n",
      "\n",
      "FPR: 0.000000\n",
      "FNR: 1.000000\n",
      "\n",
      "Balanced accuracy: 0.500000\n",
      "\n",
      "Test loss:\t0.143663\n",
      "Test accuracy:\t0.972175\n"
     ]
    },
    {
     "data": {
      "image/png": "[encoded data removed]",
      "text/plain": [
       "<Figure size 432x288 with 1 Axes>"
      ]
     },
     "metadata": {
      "needs_background": "light"
     },
     "output_type": "display_data"
    },
    {
     "data": {
      "image/png": "[encoded data removed]",
      "text/plain": [
       "<Figure size 432x288 with 1 Axes>"
      ]
     },
     "metadata": {
      "needs_background": "light"
     },
     "output_type": "display_data"
    }
   ],
   "source": [
    "Y_pred = numpy.round(model.predict_generator(test_gen))\n",
    "\n",
    "print(classification_report(Y_test, Y_pred))\n",
    "print_metrics(confusion_matrix(Y_test, Y_pred), Y_test)\n",
    "print()\n",
    "score = model.evaluate_generator(test_gen, verbose=False)\n",
    "print('Test loss:\\t{:.6f}'.format(score[0]))\n",
    "print('Test accuracy:\\t{:.6f}'.format(score[1]))\n",
    "\n",
    "plot_loss(history)\n",
    "plot_accuracy(history)"
   ]
  },
  {
   "cell_type": "code",
   "execution_count": 10,
   "metadata": {},
   "outputs": [],
   "source": [
    "model.save('testJTT_LSTM_word2vec.h5')"
   ]
  },
  {
   "cell_type": "markdown",
   "metadata": {},
   "source": [
    "## Discussion\n",
    "prone to local minima, similar to MLP_word2vec"
   ]
  },
  {
   "cell_type": "code",
   "execution_count": null,
   "metadata": {},
   "outputs": [],
   "source": []
  },
  {
   "cell_type": "code",
   "execution_count": null,
   "metadata": {},
   "outputs": [],
   "source": []
  },
  {
   "cell_type": "code",
   "execution_count": null,
   "metadata": {},
   "outputs": [],
   "source": []
  }
 ],
 "metadata": {
  "kernelspec": {
   "display_name": "Python 3.7",
   "language": "python",
   "name": "python3"
  },
  "language_info": {
   "codemirror_mode": {
    "name": "ipython",
    "version": 3
   },
   "file_extension": ".py",
   "mimetype": "text/x-python",
   "name": "python",
   "nbconvert_exporter": "python",
   "pygments_lexer": "ipython3",
   "version": "3.7.8"
  }
 },
 "nbformat": 4,
 "nbformat_minor": 2
}
