{
 "cells": [
  {
   "cell_type": "markdown",
   "metadata": {},
   "source": [
    "# LSTM - word2vec sequence\n",
    "\n",
    "- **Training set**: LO_SARD102 (95%) (0.75 split)\n",
    "- **Test/Validation set:** LO_SARD102 (95%) (0.25 split)\n",
    "- **Features**: word2vec sequence (100)\n",
    "- **Class imbalance processing**: SMOTE"
   ]
  },
  {
   "cell_type": "code",
   "execution_count": 1,
   "metadata": {
    "scrolled": true
   },
   "outputs": [
    {
     "name": "stderr",
     "output_type": "stream",
     "text": [
      "/home/scheuererra68323/venv37/lib/python3.7/site-packages/pandas/compat/__init__.py:117: UserWarning: Could not import the lzma module. Your installed Python is incomplete. Attempting to use lzma compression will result in a RuntimeError.\n",
      "  warnings.warn(msg)\n"
     ]
    },
    {
     "name": "stdout",
     "output_type": "stream",
     "text": [
      "(255442, 100, 100)\n",
      "(255442,)\n",
      "(33215, 100, 100)\n",
      "(33215,)\n",
      "(21851, 100, 100)\n",
      "(21851,)\n"
     ]
    }
   ],
   "source": [
    "import tensorflow as tf\n",
    "from tensorflow import keras\n",
    "from tensorflow.keras import layers\n",
    "import pandas as pd\n",
    "import numpy as np\n",
    "import matplotlib.pyplot as plt\n",
    "from helper_functions import *\n",
    "from sklearn.model_selection import train_test_split\n",
    "from sklearn.metrics import classification_report\n",
    "\n",
    "X_train = numpy.load('/mnt/md0/user/scheuererra68323/LOSARD_w2vseq_SMOTE_X_full_train.npy', mmap_mode='r')\n",
    "Y_train = numpy.load('/mnt/md0/user/scheuererra68323/LOSARD_w2vseq_SMOTE_Y_full_train.npy', mmap_mode='r')\n",
    "print(X_train.shape)\n",
    "print(Y_train.shape)\n",
    "\n",
    "X_val = numpy.load('/mnt/md0/user/scheuererra68323/LOSARD_w2vseq_X_full_val.npy', mmap_mode='r')\n",
    "Y_val = numpy.load('/mnt/md0/user/scheuererra68323/LOSARD_w2vseq_Y_full_val.npy', mmap_mode='r')\n",
    "print(X_val.shape)\n",
    "print(Y_val.shape)\n",
    "\n",
    "X_test =  numpy.load('/mnt/md0/user/scheuererra68323/JTT_w2vseq_X.npy',  mmap_mode='r')\n",
    "Y_test =  numpy.load('/mnt/md0/user/scheuererra68323/JTT_w2vseq_Y.npy',  mmap_mode='r')\n",
    "print(X_test.shape)\n",
    "print(Y_test.shape)"
   ]
  },
  {
   "cell_type": "code",
   "execution_count": 2,
   "metadata": {},
   "outputs": [],
   "source": [
    "train_gen = DataGenerator(_X=X_train, _y=Y_train, batch_size=2048)\n",
    "val_gen =   DataGenerator(_X=X_val,   _y=Y_val,   batch_size=2048)\n",
    "test_gen =  DataGenerator(_X=X_test,  _y=Y_test,  batch_size=2048)"
   ]
  },
  {
   "cell_type": "markdown",
   "metadata": {},
   "source": [
    "## Build & train keras model"
   ]
  },
  {
   "cell_type": "code",
   "execution_count": 3,
   "metadata": {
    "scrolled": false
   },
   "outputs": [
    {
     "name": "stdout",
     "output_type": "stream",
     "text": [
      "Model: \"sequential\"\n",
      "_________________________________________________________________\n",
      "Layer (type)                 Output Shape              Param #   \n",
      "=================================================================\n",
      "lstm (LSTM)                  (None, 100, 64)           42240     \n",
      "_________________________________________________________________\n",
      "dropout (Dropout)            (None, 100, 64)           0         \n",
      "_________________________________________________________________\n",
      "time_distributed (TimeDistri (None, 100, 16)           1040      \n",
      "_________________________________________________________________\n",
      "flatten (Flatten)            (None, 1600)              0         \n",
      "_________________________________________________________________\n",
      "dense_1 (Dense)              (None, 1)                 1601      \n",
      "=================================================================\n",
      "Total params: 44,881\n",
      "Trainable params: 44,881\n",
      "Non-trainable params: 0\n",
      "_________________________________________________________________\n",
      "Epoch 1/4\n",
      "125/125 [==============================] - 142s 1s/step - loss: 0.1986 - accuracy: 0.9174 - val_loss: 0.0458 - val_accuracy: 0.9887\n",
      "Epoch 2/4\n",
      "125/125 [==============================] - 138s 1s/step - loss: 0.0341 - accuracy: 0.9918 - val_loss: 0.0153 - val_accuracy: 0.9970\n",
      "Epoch 3/4\n",
      "125/125 [==============================] - 139s 1s/step - loss: 0.0152 - accuracy: 0.9962 - val_loss: 0.0068 - val_accuracy: 0.9983\n",
      "Epoch 4/4\n",
      "125/125 [==============================] - 140s 1s/step - loss: 0.0349 - accuracy: 0.9893 - val_loss: 0.0097 - val_accuracy: 0.9982\n"
     ]
    }
   ],
   "source": [
    "model = keras.Sequential()\n",
    "model.add(layers.LSTM(64, input_shape=(100, 100), \n",
    "                      return_sequences=True))\n",
    "model.add(layers.Dropout(0.1))\n",
    "model.add( layers.TimeDistributed(layers.Dense(16)) )\n",
    "model.add(layers.Flatten())\n",
    "model.add(layers.Dense(1, activation='sigmoid'))\n",
    "\n",
    "model.summary()\n",
    "model.compile(loss='binary_crossentropy', \n",
    "              optimizer='adam', \n",
    "              metrics=['accuracy']\n",
    "             )\n",
    "history = model.fit_generator(train_gen,\n",
    "                    epochs=4,\n",
    "                    verbose=True,\n",
    "                    validation_data=val_gen\n",
    "                   )"
   ]
  },
  {
   "cell_type": "markdown",
   "metadata": {},
   "source": [
    "## Evaluation"
   ]
  },
  {
   "cell_type": "code",
   "execution_count": 4,
   "metadata": {
    "scrolled": false
   },
   "outputs": [
    {
     "name": "stdout",
     "output_type": "stream",
     "text": [
      "              precision    recall  f1-score   support\n",
      "\n",
      "         0.0       0.97      0.98      0.98     21243\n",
      "         1.0       0.09      0.05      0.07       608\n",
      "\n",
      "    accuracy                           0.96     21851\n",
      "   macro avg       0.53      0.52      0.52     21851\n",
      "weighted avg       0.95      0.96      0.95     21851\n",
      "\n",
      "Confusion matrix:\n",
      "[[20918   325]\n",
      " [  575    33]]\n",
      "\n",
      "Confusion matrix (Percentages):\n",
      "[[95.73   1.487]\n",
      " [ 2.631  0.151]]\n",
      "\n",
      "Metrics:\n",
      "Sensitivity (TPR): 0.054276\n",
      "Specifity (TNR):   0.984701\n",
      "\n",
      "FPR: 0.015299\n",
      "FNR: 0.945724\n",
      "\n",
      "Balanced accuracy: 0.519489\n",
      "\n",
      "Test loss:\t0.196850\n",
      "Test accuracy:\t0.958812\n"
     ]
    },
    {
     "data": {
      "image/png": "[encoded data removed]",
      "text/plain": [
       "<Figure size 432x288 with 1 Axes>"
      ]
     },
     "metadata": {
      "needs_background": "light"
     },
     "output_type": "display_data"
    },
    {
     "data": {
      "image/png": "[encoded data removed]",
      "text/plain": [
       "<Figure size 432x288 with 1 Axes>"
      ]
     },
     "metadata": {
      "needs_background": "light"
     },
     "output_type": "display_data"
    }
   ],
   "source": [
    "Y_pred = numpy.round(model.predict_generator(test_gen))\n",
    "\n",
    "print(classification_report(Y_test, Y_pred))\n",
    "print_metrics(confusion_matrix(Y_test, Y_pred), Y_test)\n",
    "print()\n",
    "score = model.evaluate_generator(test_gen, verbose=False)\n",
    "print('Test loss:\\t{:.6f}'.format(score[0]))\n",
    "print('Test accuracy:\\t{:.6f}'.format(score[1]))\n",
    "\n",
    "plot_loss(history)\n",
    "plot_accuracy(history)"
   ]
  },
  {
   "cell_type": "markdown",
   "metadata": {},
   "source": [
    "## Discussion\n",
    "Barely any learning effect\n",
    "\n",
    "best testJTT_LSTM_word2vec result! 5.43% sensitivity\n",
    "\n",
    "early stopping to prevent model from becoming too biased towards 0"
   ]
  },
  {
   "cell_type": "code",
   "execution_count": 5,
   "metadata": {},
   "outputs": [],
   "source": [
    "model.save('testJTT_LSTM_word2vec_SMOTE.h5')"
   ]
  }
 ],
 "metadata": {
  "kernelspec": {
   "display_name": "Python 3.7",
   "language": "python",
   "name": "python3"
  },
  "language_info": {
   "codemirror_mode": {
    "name": "ipython",
    "version": 3
   },
   "file_extension": ".py",
   "mimetype": "text/x-python",
   "name": "python",
   "nbconvert_exporter": "python",
   "pygments_lexer": "ipython3",
   "version": "3.7.8"
  }
 },
 "nbformat": 4,
 "nbformat_minor": 2
}
