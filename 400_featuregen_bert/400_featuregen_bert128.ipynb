{
 "cells": [
  {
   "cell_type": "markdown",
   "metadata": {},
   "source": [
    "## Build BERT model"
   ]
  },
  {
   "cell_type": "code",
   "execution_count": 1,
   "metadata": {},
   "outputs": [
    {
     "name": "stderr",
     "output_type": "stream",
     "text": [
      "/home/scheuererra68323/venv37/lib/python3.7/site-packages/pandas/compat/__init__.py:117: UserWarning: Could not import the lzma module. Your installed Python is incomplete. Attempting to use lzma compression will result in a RuntimeError.\n",
      "  warnings.warn(msg)\n"
     ]
    }
   ],
   "source": [
    "import tensorflow_hub as hub\n",
    "import tensorflow as tf\n",
    "from tensorflow.keras.models import Model\n",
    "import bert\n",
    "from bert import tokenization\n",
    "import numpy as np\n",
    "from tqdm import tqdm\n",
    "import gc\n",
    "from tensorflow.keras import backend as K\n",
    "import pandas as pd"
   ]
  },
  {
   "cell_type": "code",
   "execution_count": 2,
   "metadata": {},
   "outputs": [],
   "source": [
    "max_seq_length = 128\n",
    "\n",
    "input_word_ids = tf.keras.layers.Input(shape=(max_seq_length,), dtype=tf.int32,\n",
    " name=\"input_word_ids\")\n",
    "input_mask = tf.keras.layers.Input(shape=(max_seq_length,), dtype=tf.int32,\n",
    " name=\"input_mask\")\n",
    "segment_ids = tf.keras.layers.Input(shape=(max_seq_length,), dtype=tf.int32,\n",
    " name=\"segment_ids\")\n",
    "bert_layer = hub.KerasLayer(\"https://tfhub.dev/tensorflow/bert_en_uncased_L-12_H-768_A-12/1\",\n",
    " trainable=True)\n",
    "pooled_output, sequence_output = bert_layer([input_word_ids, input_mask, segment_ids])\n",
    "\n",
    "\n",
    "model = Model(inputs=[input_word_ids, input_mask, segment_ids], outputs=[pooled_output, sequence_output])\n",
    "\n",
    "\n",
    "# See BERT paper: https://arxiv.org/pdf/1810.04805.pdf\n",
    "# And BERT implementation convert_single_example() at https://github.com/google-research/bert/blob/master/run_classifier.py\n",
    "\n",
    "def get_masks(tokens, max_seq_length):\n",
    "    \"\"\"Mask for padding\"\"\"\n",
    "    if len(tokens)>max_seq_length:\n",
    "        raise IndexError(\"Token length more than max seq length!\")\n",
    "    return [1]*len(tokens) + [0] * (max_seq_length - len(tokens))\n",
    "\n",
    "\n",
    "def get_segments(tokens, max_seq_length):\n",
    "    \"\"\"Segments: 0 for the first sequence, 1 for the second\"\"\"\n",
    "    if len(tokens)>max_seq_length:\n",
    "        raise IndexError(\"Token length more than max seq length!\")\n",
    "    segments = []\n",
    "    current_segment_id = 0\n",
    "    for token in tokens:\n",
    "        segments.append(current_segment_id)\n",
    "        if token == \"[SEP]\":\n",
    "            current_segment_id = 1\n",
    "    return segments + [0] * (max_seq_length - len(tokens))\n",
    "\n",
    "\n",
    "def get_ids(tokens, tokenizer, max_seq_length):\n",
    "    \"\"\"Token ids from Tokenizer vocab\"\"\"\n",
    "    token_ids = tokenizer.convert_tokens_to_ids(tokens)\n",
    "    input_ids = token_ids + [0] * (max_seq_length-len(token_ids))\n",
    "    return input_ids\n",
    "\n",
    "\n",
    "vocab_file = bert_layer.resolved_object.vocab_file.asset_path.numpy()\n",
    "do_lower_case = bert_layer.resolved_object.do_lower_case.numpy()\n",
    "tokenizer = bert.bert_tokenization.FullTokenizer(vocab_file, do_lower_case)"
   ]
  },
  {
   "cell_type": "markdown",
   "metadata": {},
   "source": [
    "## Apply BERT tokenizer"
   ]
  },
  {
   "cell_type": "code",
   "execution_count": 3,
   "metadata": {
    "scrolled": false
   },
   "outputs": [
    {
     "data": {
      "text/html": [
       "<div>\n",
       "<style scoped>\n",
       "    .dataframe tbody tr th:only-of-type {\n",
       "        vertical-align: middle;\n",
       "    }\n",
       "\n",
       "    .dataframe tbody tr th {\n",
       "        vertical-align: top;\n",
       "    }\n",
       "\n",
       "    .dataframe thead th {\n",
       "        text-align: right;\n",
       "    }\n",
       "</style>\n",
       "<table border=\"1\" class=\"dataframe\">\n",
       "  <thead>\n",
       "    <tr style=\"text-align: right;\">\n",
       "      <th></th>\n",
       "      <th>path</th>\n",
       "      <th>line_start</th>\n",
       "      <th>line_stop</th>\n",
       "      <th>code_snippet</th>\n",
       "      <th>external_function_names</th>\n",
       "      <th>dump_tokens_output</th>\n",
       "      <th>token_anon</th>\n",
       "      <th>CWE-327</th>\n",
       "      <th>CWE-114</th>\n",
       "      <th>CWE-121</th>\n",
       "      <th>...</th>\n",
       "      <th>CWE-775</th>\n",
       "      <th>CWE-780</th>\n",
       "      <th>CWE-785</th>\n",
       "      <th>CWE-789</th>\n",
       "      <th>CWE-078</th>\n",
       "      <th>CWE-832</th>\n",
       "      <th>CWE-835</th>\n",
       "      <th>CWE-843</th>\n",
       "      <th>CWE-090</th>\n",
       "      <th>is_vulnerable</th>\n",
       "    </tr>\n",
       "    <tr>\n",
       "      <th>index</th>\n",
       "      <th></th>\n",
       "      <th></th>\n",
       "      <th></th>\n",
       "      <th></th>\n",
       "      <th></th>\n",
       "      <th></th>\n",
       "      <th></th>\n",
       "      <th></th>\n",
       "      <th></th>\n",
       "      <th></th>\n",
       "      <th></th>\n",
       "      <th></th>\n",
       "      <th></th>\n",
       "      <th></th>\n",
       "      <th></th>\n",
       "      <th></th>\n",
       "      <th></th>\n",
       "      <th></th>\n",
       "      <th></th>\n",
       "      <th></th>\n",
       "      <th></th>\n",
       "    </tr>\n",
       "  </thead>\n",
       "  <tbody>\n",
       "    <tr>\n",
       "      <th>83452</th>\n",
       "      <td>/mnt/md0/user/scheuererra68323/testset_jtt/C/t...</td>\n",
       "      <td>22</td>\n",
       "      <td>39</td>\n",
       "      <td>b'[\"unsigned int data;\", \"    data = 0;\", \"   ...</td>\n",
       "      <td>b'[\"printUnsignedLine\", \"globalReturnsTrue\"]'</td>\n",
       "      <td>unsigned 'unsigned'\\t [StartOfLine]\\tLoc=&lt;&lt;std...</td>\n",
       "      <td>b'[\"unsigned\", \"int\", \"identifier0\", \";\", \"ide...</td>\n",
       "      <td>NaN</td>\n",
       "      <td>NaN</td>\n",
       "      <td>NaN</td>\n",
       "      <td>...</td>\n",
       "      <td>NaN</td>\n",
       "      <td>NaN</td>\n",
       "      <td>NaN</td>\n",
       "      <td>NaN</td>\n",
       "      <td>NaN</td>\n",
       "      <td>NaN</td>\n",
       "      <td>NaN</td>\n",
       "      <td>NaN</td>\n",
       "      <td>NaN</td>\n",
       "      <td>0.0</td>\n",
       "    </tr>\n",
       "    <tr>\n",
       "      <th>248990</th>\n",
       "      <td>/mnt/md0/user/scheuererra68323/testset_jtt/C/t...</td>\n",
       "      <td>199</td>\n",
       "      <td>203</td>\n",
       "      <td>b'[\"goodG2B();\", \"    goodB2G();\"]'</td>\n",
       "      <td>b'[]'</td>\n",
       "      <td>identifier 'goodG2B'\\t [StartOfLine]\\tLoc=&lt;&lt;st...</td>\n",
       "      <td>b'[\"identifier0\", \"(\", \")\", \";\", \"identifier1\"...</td>\n",
       "      <td>NaN</td>\n",
       "      <td>NaN</td>\n",
       "      <td>NaN</td>\n",
       "      <td>...</td>\n",
       "      <td>NaN</td>\n",
       "      <td>NaN</td>\n",
       "      <td>NaN</td>\n",
       "      <td>NaN</td>\n",
       "      <td>NaN</td>\n",
       "      <td>NaN</td>\n",
       "      <td>NaN</td>\n",
       "      <td>NaN</td>\n",
       "      <td>NaN</td>\n",
       "      <td>0.0</td>\n",
       "    </tr>\n",
       "    <tr>\n",
       "      <th>220067</th>\n",
       "      <td>/mnt/md0/user/scheuererra68323/testset_jtt/C/t...</td>\n",
       "      <td>56</td>\n",
       "      <td>67</td>\n",
       "      <td>b'[\"int64_t * data;\", \"    /* Initialize data*...</td>\n",
       "      <td>b'[\"CWE762_Mismatched_Memory_Management_Routin...</td>\n",
       "      <td>identifier 'int64_t'\\t [StartOfLine]\\tLoc=&lt;&lt;st...</td>\n",
       "      <td>b'[\"identifier0\", \"*\", \"identifier1\", \";\", \"id...</td>\n",
       "      <td>NaN</td>\n",
       "      <td>NaN</td>\n",
       "      <td>NaN</td>\n",
       "      <td>...</td>\n",
       "      <td>NaN</td>\n",
       "      <td>NaN</td>\n",
       "      <td>NaN</td>\n",
       "      <td>NaN</td>\n",
       "      <td>NaN</td>\n",
       "      <td>NaN</td>\n",
       "      <td>NaN</td>\n",
       "      <td>NaN</td>\n",
       "      <td>NaN</td>\n",
       "      <td>0.0</td>\n",
       "    </tr>\n",
       "    <tr>\n",
       "      <th>283612</th>\n",
       "      <td>/mnt/md0/user/scheuererra68323/testset_jtt/C/t...</td>\n",
       "      <td>52</td>\n",
       "      <td>57</td>\n",
       "      <td>b'[\"printIntLine(data-&gt;intOne);\", \"    /* POTE...</td>\n",
       "      <td>b'[]'</td>\n",
       "      <td>identifier 'printIntLine'\\t [StartOfLine]\\tLoc...</td>\n",
       "      <td>b'[\"identifier0\", \"(\", \"identifier1\", \"-&gt;\", \"i...</td>\n",
       "      <td>NaN</td>\n",
       "      <td>NaN</td>\n",
       "      <td>NaN</td>\n",
       "      <td>...</td>\n",
       "      <td>NaN</td>\n",
       "      <td>NaN</td>\n",
       "      <td>NaN</td>\n",
       "      <td>NaN</td>\n",
       "      <td>NaN</td>\n",
       "      <td>NaN</td>\n",
       "      <td>NaN</td>\n",
       "      <td>NaN</td>\n",
       "      <td>NaN</td>\n",
       "      <td>0.0</td>\n",
       "    </tr>\n",
       "    <tr>\n",
       "      <th>142227</th>\n",
       "      <td>/mnt/md0/user/scheuererra68323/testset_jtt/C/t...</td>\n",
       "      <td>46</td>\n",
       "      <td>52</td>\n",
       "      <td>b'[\"if(GLOBAL_CONST_FIVE==5)\", \"    {\", \"     ...</td>\n",
       "      <td>b'[\"signal\"]'</td>\n",
       "      <td>if 'if'\\t [StartOfLine]\\tLoc=&lt;&lt;stdin&gt;:1:1&gt;\\nl_...</td>\n",
       "      <td>b'[\"if\", \"(\", \"identifier0\", \"==\", \"&lt;numeric_c...</td>\n",
       "      <td>NaN</td>\n",
       "      <td>NaN</td>\n",
       "      <td>NaN</td>\n",
       "      <td>...</td>\n",
       "      <td>NaN</td>\n",
       "      <td>NaN</td>\n",
       "      <td>NaN</td>\n",
       "      <td>NaN</td>\n",
       "      <td>NaN</td>\n",
       "      <td>NaN</td>\n",
       "      <td>NaN</td>\n",
       "      <td>NaN</td>\n",
       "      <td>NaN</td>\n",
       "      <td>0.0</td>\n",
       "    </tr>\n",
       "  </tbody>\n",
       "</table>\n",
       "<p>5 rows × 127 columns</p>\n",
       "</div>"
      ],
      "text/plain": [
       "                                                     path  line_start  \\\n",
       "index                                                                   \n",
       "83452   /mnt/md0/user/scheuererra68323/testset_jtt/C/t...          22   \n",
       "248990  /mnt/md0/user/scheuererra68323/testset_jtt/C/t...         199   \n",
       "220067  /mnt/md0/user/scheuererra68323/testset_jtt/C/t...          56   \n",
       "283612  /mnt/md0/user/scheuererra68323/testset_jtt/C/t...          52   \n",
       "142227  /mnt/md0/user/scheuererra68323/testset_jtt/C/t...          46   \n",
       "\n",
       "        line_stop                                       code_snippet  \\\n",
       "index                                                                  \n",
       "83452          39  b'[\"unsigned int data;\", \"    data = 0;\", \"   ...   \n",
       "248990        203                b'[\"goodG2B();\", \"    goodB2G();\"]'   \n",
       "220067         67  b'[\"int64_t * data;\", \"    /* Initialize data*...   \n",
       "283612         57  b'[\"printIntLine(data->intOne);\", \"    /* POTE...   \n",
       "142227         52  b'[\"if(GLOBAL_CONST_FIVE==5)\", \"    {\", \"     ...   \n",
       "\n",
       "                                  external_function_names  \\\n",
       "index                                                       \n",
       "83452       b'[\"printUnsignedLine\", \"globalReturnsTrue\"]'   \n",
       "248990                                              b'[]'   \n",
       "220067  b'[\"CWE762_Mismatched_Memory_Management_Routin...   \n",
       "283612                                              b'[]'   \n",
       "142227                                      b'[\"signal\"]'   \n",
       "\n",
       "                                       dump_tokens_output  \\\n",
       "index                                                       \n",
       "83452   unsigned 'unsigned'\\t [StartOfLine]\\tLoc=<<std...   \n",
       "248990  identifier 'goodG2B'\\t [StartOfLine]\\tLoc=<<st...   \n",
       "220067  identifier 'int64_t'\\t [StartOfLine]\\tLoc=<<st...   \n",
       "283612  identifier 'printIntLine'\\t [StartOfLine]\\tLoc...   \n",
       "142227  if 'if'\\t [StartOfLine]\\tLoc=<<stdin>:1:1>\\nl_...   \n",
       "\n",
       "                                               token_anon  CWE-327  CWE-114  \\\n",
       "index                                                                         \n",
       "83452   b'[\"unsigned\", \"int\", \"identifier0\", \";\", \"ide...      NaN      NaN   \n",
       "248990  b'[\"identifier0\", \"(\", \")\", \";\", \"identifier1\"...      NaN      NaN   \n",
       "220067  b'[\"identifier0\", \"*\", \"identifier1\", \";\", \"id...      NaN      NaN   \n",
       "283612  b'[\"identifier0\", \"(\", \"identifier1\", \"->\", \"i...      NaN      NaN   \n",
       "142227  b'[\"if\", \"(\", \"identifier0\", \"==\", \"<numeric_c...      NaN      NaN   \n",
       "\n",
       "        CWE-121  ...  CWE-775  CWE-780  CWE-785  CWE-789  CWE-078  CWE-832  \\\n",
       "index            ...                                                         \n",
       "83452       NaN  ...      NaN      NaN      NaN      NaN      NaN      NaN   \n",
       "248990      NaN  ...      NaN      NaN      NaN      NaN      NaN      NaN   \n",
       "220067      NaN  ...      NaN      NaN      NaN      NaN      NaN      NaN   \n",
       "283612      NaN  ...      NaN      NaN      NaN      NaN      NaN      NaN   \n",
       "142227      NaN  ...      NaN      NaN      NaN      NaN      NaN      NaN   \n",
       "\n",
       "        CWE-835  CWE-843  CWE-090  is_vulnerable  \n",
       "index                                             \n",
       "83452       NaN      NaN      NaN            0.0  \n",
       "248990      NaN      NaN      NaN            0.0  \n",
       "220067      NaN      NaN      NaN            0.0  \n",
       "283612      NaN      NaN      NaN            0.0  \n",
       "142227      NaN      NaN      NaN            0.0  \n",
       "\n",
       "[5 rows x 127 columns]"
      ]
     },
     "execution_count": 3,
     "metadata": {},
     "output_type": "execute_result"
    }
   ],
   "source": [
    "#df = pd.read_parquet(\"/mnt/md0/user/scheuererra68323/LO_SARD102/LO_SARD102_TokenAnon_wExtFuncCalls_Labeled.parquet\")\n",
    "df = pd.read_parquet(\"/mnt/md0/user/scheuererra68323/JTT/JTT_TokenAnon_wExtFuncCalls_Labeled.parquet\")\n",
    "df.head()"
   ]
  },
  {
   "cell_type": "code",
   "execution_count": null,
   "metadata": {
    "scrolled": false
   },
   "outputs": [
    {
     "name": "stderr",
     "output_type": "stream",
     "text": [
      "/home/scheuererra68323/venv37/lib/python3.7/site-packages/tqdm/std.py:668: FutureWarning: The Panel class is removed from pandas. Accessing it from the top-level namespace will also be removed in the next version\n",
      "  from pandas import Panel\n",
      " 82%|████████▏ | 20441/24999 [00:50<00:15, 292.63it/s]"
     ]
    }
   ],
   "source": [
    "debug = False\n",
    "\n",
    "def bert_tokenize(token_anon):\n",
    "    #print(token_anon)\n",
    "    glued = \" \".join(str(token_anon))\n",
    "    bert_tokens = tokenizer.tokenize(glued)\n",
    "    \n",
    "    bert_tokens = [\"[CLS]\"] + bert_tokens + [\"[SEP]\"]\n",
    "    if debug:\n",
    "        print()\n",
    "    \n",
    "    return bert_tokens\n",
    "    \n",
    "tqdm.pandas()\n",
    "\n",
    "df['bert_tokens'] = df.token_anon.progress_apply(bert_tokenize)\n",
    "\n",
    "print(df.shape)\n",
    "df.head()"
   ]
  },
  {
   "cell_type": "code",
   "execution_count": null,
   "metadata": {
    "scrolled": true
   },
   "outputs": [],
   "source": [
    "bert_tokens = df\n",
    "bert_tokens.bert_tokens.map(len).describe()"
   ]
  },
  {
   "cell_type": "code",
   "execution_count": null,
   "metadata": {
    "scrolled": true
   },
   "outputs": [],
   "source": [
    "bert_tokens = bert_tokens.loc[bert_tokens.bert_tokens.map(len) <= max_seq_length]\n",
    "bert_tokens.bert_tokens.map(len).describe()"
   ]
  },
  {
   "cell_type": "markdown",
   "metadata": {},
   "source": [
    "## Predict BERT embeddings"
   ]
  },
  {
   "cell_type": "code",
   "execution_count": null,
   "metadata": {
    "scrolled": false
   },
   "outputs": [],
   "source": [
    "def bert_embed(bert_tokens):\n",
    "    input_ids = get_ids(bert_tokens, tokenizer, max_seq_length)\n",
    "    input_masks = get_masks(bert_tokens, max_seq_length)\n",
    "    input_segments = get_segments(bert_tokens, max_seq_length)\n",
    "\n",
    "    pooled_output, sequence_output = model.predict_on_batch(\n",
    "        [[input_ids],[input_masks],[input_segments]])\n",
    "    #K.clear_session()\n",
    "    return sequence_output.squeeze()\n",
    "\n",
    "tqdm.pandas()\n",
    "bert_embeddings = bert_tokens.bert_tokens.progress_apply(bert_embed)"
   ]
  },
  {
   "cell_type": "code",
   "execution_count": null,
   "metadata": {
    "scrolled": false
   },
   "outputs": [],
   "source": [
    "bert_tokens.bert_tokens.map(len).describe()"
   ]
  },
  {
   "cell_type": "code",
   "execution_count": null,
   "metadata": {},
   "outputs": [],
   "source": [
    "bert_embeddings.map(len).describe()"
   ]
  },
  {
   "cell_type": "markdown",
   "metadata": {},
   "source": [
    "## Save arrays into files"
   ]
  },
  {
   "cell_type": "code",
   "execution_count": null,
   "metadata": {},
   "outputs": [],
   "source": [
    "X = np.stack(bert_embeddings.values)\n",
    "print(X.shape)"
   ]
  },
  {
   "cell_type": "code",
   "execution_count": null,
   "metadata": {},
   "outputs": [],
   "source": [
    "y = bert_tokens.drop([\"code_snippet\", \"external_function_names\", \"dump_tokens_output\",\n",
    "         \"path\" ,\"line_start\" ,\"line_stop\" ,\"token_anon\", 'bert_tokens'], axis=1)\n",
    "y = y.where(pd.notnull(y), 0).astype(int)\n",
    "print(y.shape)\n",
    "print(y.dtypes)"
   ]
  },
  {
   "cell_type": "code",
   "execution_count": null,
   "metadata": {},
   "outputs": [],
   "source": [
    "# shuffle data before saving\n",
    "#rng_state = np.random.get_state()\n",
    "#np.random.shuffle(X)\n",
    "#np.random.set_state(rng_state)\n",
    "#np.random.shuffle(y)"
   ]
  },
  {
   "cell_type": "code",
   "execution_count": null,
   "metadata": {},
   "outputs": [],
   "source": [
    "#np.save('LOSARD102_bert128_X.npy', X)\n",
    "np.save('JTT_bert128_X.npy', X)"
   ]
  },
  {
   "cell_type": "code",
   "execution_count": null,
   "metadata": {
    "scrolled": true
   },
   "outputs": [],
   "source": [
    "#y.to_hdf('LOSARD102_bert128_y.h5', key='y')\n",
    "y.to_hdf('JTT_bert128_y.h5', key='y')"
   ]
  }
 ],
 "metadata": {
  "kernelspec": {
   "display_name": "Python 3.7",
   "language": "python",
   "name": "python3"
  },
  "language_info": {
   "codemirror_mode": {
    "name": "ipython",
    "version": 3
   },
   "file_extension": ".py",
   "mimetype": "text/x-python",
   "name": "python",
   "nbconvert_exporter": "python",
   "pygments_lexer": "ipython3",
   "version": "3.7.8"
  }
 },
 "nbformat": 4,
 "nbformat_minor": 2
}
