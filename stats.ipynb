{
 "cells": [
  {
   "cell_type": "code",
   "execution_count": 1,
   "metadata": {},
   "outputs": [
    {
     "name": "stderr",
     "output_type": "stream",
     "text": [
      "/home/scheuererra68323/venv37/lib/python3.7/site-packages/pandas/compat/__init__.py:117: UserWarning: Could not import the lzma module. Your installed Python is incomplete. Attempting to use lzma compression will result in a RuntimeError.\n",
      "  warnings.warn(msg)\n"
     ]
    }
   ],
   "source": [
    "import pandas as pd\n",
    "\n",
    "lo_sard102 = pd.read_parquet(\"/mnt/md0/user/scheuererra68323/LO_SARD102/LO_SARD102_TokenAnon_wExtFuncCalls_Labeled.parquet\")\n",
    "lo = lo_sard102.loc[lo_sard102.path.str.contains(\"libreoffice\")]\n",
    "sard102 = lo_sard102.loc[lo_sard102.path.str.contains(\"SARD-102\")]\n",
    "jtt = pd.read_parquet(\"/mnt/md0/user/scheuererra68323/JTT/JTT_TokenAnon_wExtFuncCalls_Labeled.parquet\")\n",
    "\n",
    "\n",
    "losard_flawfinder = pd.read_hdf(\"/mnt/md0/user/scheuererra68323/LO_SARD102/Labels_flawfinder_LO_SARD102.h5\")\n",
    "\n",
    "losard_testcases = pd.read_hdf(\"/mnt/md0/user/scheuererra68323/LO_SARD102/Labels_Testcases_SARD102_SARD102.h5\")\n",
    "\n",
    "jtt_flawfinder = pd.read_hdf(\"../testset_jtt/JTT_Labels_flawfinder.h5\")\n",
    "jtt_testcases = pd.read_hdf(\"../testset_jtt/JTT_Labels_Testcases.h5\")"
   ]
  },
  {
   "cell_type": "code",
   "execution_count": 12,
   "metadata": {},
   "outputs": [],
   "source": [
    "# tests\n",
    "assert len(lo_flawfinder.index) + len(sard102_flawfinder.index) == len(losard_flawfinder.index)\n",
    "assert len(lo.index) + len(sard102.index) == len(lo_sard102.index)"
   ]
  },
  {
   "cell_type": "code",
   "execution_count": 13,
   "metadata": {},
   "outputs": [
    {
     "name": "stdout",
     "output_type": "stream",
     "text": [
      "LOSARD102: 292724\n",
      "LO: 65189\n",
      "SARD102: 227535\n",
      "\n",
      "LOSARD102 Good: 269721\n",
      "LOSARD102 Bad: 23003\n",
      "LO Good: 64951\n",
      "LO Bad: 238\n",
      "SARD102 Good: 204770\n",
      "SARD102 Bad: 22765\n",
      "\n",
      "\n",
      "JTT: 24999\n",
      "\n",
      "JTT Good: 24171\n",
      "JTT Bad: 828\n"
     ]
    }
   ],
   "source": [
    "print(\"LOSARD102:\", len(lo_sard102.index))\n",
    "print(\"LO:\", len(lo.index))\n",
    "print(\"SARD102:\", len(sard102.index))\n",
    "print()\n",
    "print(\"LOSARD102 Good:\", len(lo_sard102.loc[lo_sard102.is_vulnerable == False].index))\n",
    "print(\"LOSARD102 Bad:\", len(lo_sard102.loc[lo_sard102.is_vulnerable == True].index))\n",
    "print(\"LO Good:\", len(lo.loc[lo.is_vulnerable == False].index))\n",
    "print(\"LO Bad:\", len(lo.loc[lo.is_vulnerable == True].index))\n",
    "print(\"SARD102 Good:\", len(sard102.loc[sard102.is_vulnerable == False].index))\n",
    "print(\"SARD102 Bad:\", len(sard102.loc[sard102.is_vulnerable == True].index))\n",
    "print()\n",
    "print()\n",
    "print(\"JTT:\", len(jtt.index))\n",
    "print()\n",
    "print(\"JTT Good:\", len(jtt.loc[jtt.is_vulnerable == False].index))\n",
    "print(\"JTT Bad:\", len(jtt.loc[jtt.is_vulnerable == True].index))"
   ]
  },
  {
   "cell_type": "code",
   "execution_count": 14,
   "metadata": {},
   "outputs": [
    {
     "name": "stdout",
     "output_type": "stream",
     "text": [
      "Bad samples:\n",
      "=================\n",
      "\n",
      "LOSARD102:\n",
      "flawfinder: 42689\n",
      "testcases: 60492\n",
      "\n",
      "\n",
      "JTT:\n",
      "flawfinder: 19\n",
      "testcases: 65263\n"
     ]
    }
   ],
   "source": [
    "print(\"Bad samples:\\n=================\\n\")\n",
    "print(\"LOSARD102:\")\n",
    "print(\"flawfinder:\", len(losard_flawfinder.index))\n",
    "print(\"testcases:\", len(losard_testcases.index))\n",
    "print()\n",
    "print()\n",
    "print(\"JTT:\")\n",
    "print(\"flawfinder:\", len(jtt_flawfinder.index))\n",
    "print(\"testcases:\", len(jtt_testcases.index))"
   ]
  }
 ],
 "metadata": {
  "kernelspec": {
   "display_name": "Python 3.7",
   "language": "python",
   "name": "python3"
  },
  "language_info": {
   "codemirror_mode": {
    "name": "ipython",
    "version": 3
   },
   "file_extension": ".py",
   "mimetype": "text/x-python",
   "name": "python",
   "nbconvert_exporter": "python",
   "pygments_lexer": "ipython3",
   "version": "3.7.8"
  }
 },
 "nbformat": 4,
 "nbformat_minor": 2
}
