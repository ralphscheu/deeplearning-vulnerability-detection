{
 "cells": [
  {
   "cell_type": "code",
   "execution_count": 1,
   "metadata": {
    "scrolled": false
   },
   "outputs": [
    {
     "name": "stderr",
     "output_type": "stream",
     "text": [
      "/home/scheuererra68323/venv37/lib/python3.7/site-packages/pandas/compat/__init__.py:117: UserWarning: Could not import the lzma module. Your installed Python is incomplete. Attempting to use lzma compression will result in a RuntimeError.\n",
      "  warnings.warn(msg)\n"
     ]
    }
   ],
   "source": [
    "import pandas as pd\n",
    "import numpy as np\n",
    "from sklearn.model_selection import train_test_split\n",
    "from collections import Counter\n",
    "\n",
    "# load LOSARD\n",
    "with np.load(f\"/mnt/md0/user/scheuererra68323/LOSARD_word2vec_X_sequence.npz\") as _file:\n",
    "    losard_X = _file['arr_0']\n",
    "losard_y = pd.read_hdf(f\"/mnt/md0/user/scheuererra68323/LOSARD_word2vec_y_sequence.h5\").is_vulnerable.values\n",
    "\n",
    "# load JTT\n",
    "with np.load(f\"/mnt/md0/user/scheuererra68323/JTT_word2vec_X_sequence.npz\") as _file:\n",
    "    jtt_X = _file['arr_0']\n",
    "jtt_y = pd.read_hdf(f\"/mnt/md0/user/scheuererra68323/JTT_word2vec_y_sequence.h5\").is_vulnerable.values"
   ]
  },
  {
   "cell_type": "markdown",
   "metadata": {},
   "source": [
    "## Unprocessed datasets"
   ]
  },
  {
   "cell_type": "code",
   "execution_count": 2,
   "metadata": {
    "scrolled": true
   },
   "outputs": [
    {
     "name": "stdout",
     "output_type": "stream",
     "text": [
      "saving LOSARD datasets...\n",
      "X_full_train: (132859, 100, 100)\n",
      "Y_full_train: (132859,)\n",
      "\n",
      "X_full_val: (33215, 100, 100)\n",
      "Y_full_val: (33215,)\n",
      "\n",
      "X_train: (99644, 100, 100)\n",
      "Y_train: (99644,)\n",
      "\n",
      "X_val: (33215, 100, 100)\n",
      "Y_val: (33215,)\n",
      "\n",
      "X_test: (33215, 100, 100)\n",
      "Y_test: (33215,)\n",
      "\n",
      "Saving JTT dataset..:\n",
      "X: (21851, 100, 100)\n",
      "Y: (21851,)\n"
     ]
    }
   ],
   "source": [
    "# create train/val splits for testJTT\n",
    "X_full_train, X_full_val, Y_full_train, Y_full_val = train_test_split(losard_X, losard_y, test_size=0.20, random_state=0)\n",
    "\n",
    "# create train/val/test splits \n",
    "X_test = X_full_val\n",
    "Y_test = Y_full_val\n",
    "X_train, X_val, Y_train, Y_val = train_test_split(X_full_train, Y_full_train, test_size=0.25, random_state=0)\n",
    "\n",
    "print(\"saving LOSARD datasets...\")\n",
    "# check and save\n",
    "print(\"X_full_train:\", X_full_train.shape)\n",
    "print(\"Y_full_train:\", Y_full_train.shape)\n",
    "np.save(f'/mnt/md0/user/scheuererra68323/LOSARD_w2vseq_X_full_train.npy', X_val)\n",
    "np.save(f'/mnt/md0/user/scheuererra68323/LOSARD_w2vseq_Y_full_train.npy', Y_val)\n",
    "print()\n",
    "print(\"X_full_val:\", X_full_val.shape)\n",
    "print(\"Y_full_val:\", Y_full_val.shape)\n",
    "np.save(f'/mnt/md0/user/scheuererra68323/LOSARD_w2vseq_X_full_val.npy', X_val)\n",
    "np.save(f'/mnt/md0/user/scheuererra68323/LOSARD_w2vseq_Y_full_val.npy', Y_val)\n",
    "print()\n",
    "print(\"X_train:\", X_train.shape)\n",
    "print(\"Y_train:\", Y_train.shape)\n",
    "np.save(f'/mnt/md0/user/scheuererra68323/LOSARD_w2vseq_X_train.npy', X_train)\n",
    "np.save(f'/mnt/md0/user/scheuererra68323/LOSARD_w2vseq_Y_train.npy', Y_train)\n",
    "print()\n",
    "print(\"X_val:\", X_val.shape)\n",
    "print(\"Y_val:\", Y_val.shape)\n",
    "np.save(f'/mnt/md0/user/scheuererra68323/LOSARD_w2vseq_X_val.npy', X_val)\n",
    "np.save(f'/mnt/md0/user/scheuererra68323/LOSARD_w2vseq_Y_val.npy', Y_val)\n",
    "print()\n",
    "print(\"X_test:\", X_test.shape)\n",
    "print(\"Y_test:\", Y_test.shape)\n",
    "np.save(f'/mnt/md0/user/scheuererra68323/LOSARD_w2vseq_X_test.npy', X_test)\n",
    "np.save(f'/mnt/md0/user/scheuererra68323/LOSARD_w2vseq_Y_test.npy', Y_test)\n",
    "print()\n",
    "print(\"Saving JTT dataset..:\")\n",
    "print(\"X:\", jtt_X.shape)\n",
    "print(\"Y:\", jtt_y.shape)\n",
    "np.save(f'/mnt/md0/user/scheuererra68323/JTT_w2vseq_X.npy', jtt_X)\n",
    "np.save(f'/mnt/md0/user/scheuererra68323/JTT_w2vseq_Y.npy', jtt_y)"
   ]
  },
  {
   "cell_type": "markdown",
   "metadata": {},
   "source": [
    "## prepare class weights"
   ]
  },
  {
   "cell_type": "code",
   "execution_count": 4,
   "metadata": {},
   "outputs": [
    {
     "name": "stdout",
     "output_type": "stream",
     "text": [
      "train class weights:\n",
      "[0.5203559417625802, 12.781426372498716]\n",
      "full_train class weights:\n",
      "[0.5201141550723843, 12.929057999221486]\n"
     ]
    }
   ],
   "source": [
    "print(\"train class weights:\")\n",
    "train_weight_0 = ( 1 / Counter(Y_train)[0] ) * Y_train.shape[0] / 2.0\n",
    "train_weight_1 = ( 1 / Counter(Y_train)[1] ) * Y_train.shape[0] / 2.0\n",
    "print([train_weight_0, train_weight_1])\n",
    "np.save(f'/mnt/md0/user/scheuererra68323/LOSARD_w2vseq_weights_train.npy', \n",
    "        np.array([train_weight_0, train_weight_1])\n",
    "       )\n",
    "\n",
    "print(\"full_train class weights:\")\n",
    "full_weight_0 = ( 1 / Counter(Y_full_train)[0] ) * Y_full_train.shape[0] / 2.0\n",
    "full_weight_1 = ( 1 / Counter(Y_full_train)[1] ) * Y_full_train.shape[0] / 2.0\n",
    "print([full_weight_0, full_weight_1])\n",
    "np.save(f'/mnt/md0/user/scheuererra68323/LOSARD_w2vseq_weights_full_train.npy', \n",
    "        np.array([full_weight_0, full_weight_1])\n",
    "       )"
   ]
  },
  {
   "cell_type": "markdown",
   "metadata": {},
   "source": [
    "## SMOTE Oversampled datasets"
   ]
  },
  {
   "cell_type": "code",
   "execution_count": 5,
   "metadata": {},
   "outputs": [
    {
     "name": "stdout",
     "output_type": "stream",
     "text": [
      "train SMOTE:\n",
      "Counter output before SMOTE: Counter({0.0: 95746, 1.0: 3898})\n",
      "Counter output after SMOTE: Counter({0.0: 95746, 1.0: 95746})\n",
      "(191492, 100, 100)\n",
      "(191492,)\n",
      "full_train SMOTE:\n",
      "Counter output before SMOTE: Counter({0.0: 127721, 1.0: 5138})\n",
      "Counter output after SMOTE: Counter({0.0: 127721, 1.0: 127721})\n",
      "(255442, 100, 100)\n",
      "(255442, 100, 100)\n"
     ]
    }
   ],
   "source": [
    "def oversample_smote(X, y):\n",
    "    from imblearn.over_sampling import SMOTE\n",
    "    # summarize the new class distribution\n",
    "    counter = Counter(y)\n",
    "    print(\"Counter output before SMOTE:\", counter)\n",
    "    \n",
    "    # transform the dataset\n",
    "    oversample = SMOTE()\n",
    "    X, y = oversample.fit_resample(X, y)\n",
    "    \n",
    "    # summarize the new class distribution\n",
    "    counter = Counter(y)\n",
    "    print(\"Counter output after SMOTE:\", counter)\n",
    "    return X, y\n",
    "\n",
    "\n",
    "print(\"train SMOTE:\")\n",
    "SMOTE_X_train, SMOTE_Y_train = oversample_smote(np.reshape(X_train, (-1, 100*100)), Y_train)\n",
    "SMOTE_X_train = np.reshape(SMOTE_X_train, (-1, 100, 100))\n",
    "print(SMOTE_X_train.shape)\n",
    "print(SMOTE_Y_train.shape)\n",
    "np.save(f'/mnt/md0/user/scheuererra68323/LOSARD_w2vseq_SMOTE_X_train.npy', SMOTE_X_train)\n",
    "np.save(f'/mnt/md0/user/scheuererra68323/LOSARD_w2vseq_SMOTE_Y_train.npy', SMOTE_Y_train)\n",
    "\n",
    "\n",
    "print(\"full_train SMOTE:\")\n",
    "SMOTE_X_full_train, SMOTE_Y_full_train = oversample_smote(np.reshape(X_full_train, (-1, 100*100)), Y_full_train)\n",
    "SMOTE_X_full_train = np.reshape(SMOTE_X_full_train, (-1, 100, 100))\n",
    "print(SMOTE_X_full_train.shape)\n",
    "print(SMOTE_X_full_train.shape)\n",
    "np.save(f'/mnt/md0/user/scheuererra68323/LOSARD_w2vseq_SMOTE_X_full_train.npy', SMOTE_X_full_train)\n",
    "np.save(f'/mnt/md0/user/scheuererra68323/LOSARD_w2vseq_SMOTE_Y_full_train.npy', SMOTE_Y_full_train)"
   ]
  },
  {
   "cell_type": "markdown",
   "metadata": {},
   "source": [
    "## Undersampled"
   ]
  },
  {
   "cell_type": "code",
   "execution_count": 9,
   "metadata": {},
   "outputs": [
    {
     "name": "stdout",
     "output_type": "stream",
     "text": [
      "undersample train:\n",
      "(7796, 100, 100)\n",
      "(7796,)\n",
      "Counter({1.0: 3898, 0.0: 3898})\n",
      "\n",
      "undersample full_train:\n",
      "(10276, 100, 100)\n",
      "(10276,)\n",
      "Counter({0.0: 5138, 1.0: 5138})\n"
     ]
    }
   ],
   "source": [
    "def undersample(X, y):\n",
    "    ''' Undersamples good code samples so we get equally large sets for both classes'''\n",
    "    \n",
    "    dataset = pd.DataFrame({\"X\": list(X), \"y\": y})\n",
    "    \n",
    "    good = dataset[dataset.y == 0].sample(n=dataset.y.value_counts()[1], random_state=0)\n",
    "    bad  = dataset[dataset.y == 1]\n",
    "    dataset_balanced = pd.concat([good,bad], axis=0)\n",
    "    \n",
    "    # shuffle samples\n",
    "    dataset_balanced = dataset_balanced.sample(frac=1, random_state=1).reset_index(drop=True)\n",
    "    return np.vstack(dataset_balanced.X), dataset_balanced.y.values\n",
    "\n",
    "\n",
    "print(\"undersample train:\")\n",
    "undersample_X_train, undersample_Y_train = undersample(X_train, Y_train)\n",
    "undersample_X_train = np.reshape(undersample_X_train, (-1, 100, 100))\n",
    "print(undersample_X_train.shape)\n",
    "print(undersample_Y_train.shape)\n",
    "print(Counter(undersample_Y_train))\n",
    "np.save(f'/mnt/md0/user/scheuererra68323/LOSARD_w2vseq_undersample_X_train.npy', undersample_X_train)\n",
    "np.save(f'/mnt/md0/user/scheuererra68323/LOSARD_w2vseq_undersample_Y_train.npy', undersample_Y_train)\n",
    "\n",
    "print()\n",
    "print(\"undersample full_train:\")\n",
    "undersample_X_full_train, undersample_Y_full_train = undersample(X_full_train, Y_full_train)\n",
    "undersample_X_full_train = np.reshape(undersample_X_full_train, (-1, 100, 100))\n",
    "print(undersample_X_full_train.shape)\n",
    "print(undersample_Y_full_train.shape)\n",
    "print(Counter(undersample_Y_full_train))\n",
    "np.save(f'/mnt/md0/user/scheuererra68323/LOSARD_w2vseq_undersample_X_full_train.npy', undersample_X_full_train)\n",
    "np.save(f'/mnt/md0/user/scheuererra68323/LOSARD_w2vseq_undersample_Y_full_train.npy', undersample_Y_full_train)\n"
   ]
  },
  {
   "cell_type": "code",
   "execution_count": null,
   "metadata": {},
   "outputs": [],
   "source": []
  }
 ],
 "metadata": {
  "kernelspec": {
   "display_name": "Python 3.7",
   "language": "python",
   "name": "python3"
  },
  "language_info": {
   "codemirror_mode": {
    "name": "ipython",
    "version": 3
   },
   "file_extension": ".py",
   "mimetype": "text/x-python",
   "name": "python",
   "nbconvert_exporter": "python",
   "pygments_lexer": "ipython3",
   "version": "3.7.8"
  }
 },
 "nbformat": 4,
 "nbformat_minor": 4
}
