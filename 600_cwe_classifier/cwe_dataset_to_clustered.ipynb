{
 "cells": [
  {
   "cell_type": "code",
   "execution_count": null,
   "metadata": {},
   "outputs": [],
   "source": [
    "import tensorflow as tf\n",
    "from tensorflow import keras\n",
    "from tensorflow.keras import layers\n",
    "from tensorflow.keras.utils import to_categorical\n",
    "import pandas as pd\n",
    "import numpy\n",
    "import matplotlib.pyplot as plt\n",
    "from helper_functions import *\n",
    "from sklearn.model_selection import train_test_split"
   ]
  },
  {
   "cell_type": "code",
   "execution_count": null,
   "metadata": {},
   "outputs": [],
   "source": [
    "dataset = pd.read_hdf(\"../LO_SARD102_word2vec_CWE.h5\", key=\"LO_SARD102_word2vec_CWE\")\n",
    "dataset = dataset.loc[dataset.is_vulnerable == 1].reset_index(drop=True)\n",
    "dataset = dataset.fillna(0)\n",
    "\n",
    "X = numpy.stack(dataset.word2vec_avg.values)\n",
    "y = numpy.array(dataset.drop(['is_vulnerable', 'word2vec_avg'], axis=\"columns\"))\n",
    "\n",
    "print(f\"Labels: {y.shape[1]} distinct CWEs\")\n",
    "dataset.columns = dataset.columns.str.replace(r\"CWE-\", \"\")\n",
    "dataset"
   ]
  },
  {
   "cell_type": "code",
   "execution_count": null,
   "metadata": {},
   "outputs": [],
   "source": [
    "X = dataset[['word2vec_avg']]\n",
    "X"
   ]
  },
  {
   "cell_type": "code",
   "execution_count": null,
   "metadata": {},
   "outputs": [],
   "source": [
    "cwemap = pd.read_hdf('cwe_by_research_concepts_relations.h5')\n",
    "\n",
    "def get_cwe_cluster(cwe_id):\n",
    "    try:\n",
    "        return int(cwemap.loc[cwemap.child_ID == cwe_id].ID)\n",
    "    except:\n",
    "        # could not find parent entry for this CWE -> already one of the root \"Research Concepts\"\n",
    "        return cwe_id\n",
    "    \n",
    "def create_cluster_labels(row):\n",
    "    labels = row[0:79]\n",
    "    cluster_labels = pd.Series(0, index=[284, 435, 664, 682, 691, 693, 697, 703, 707, 710])\n",
    "    for cwe in pd.to_numeric(pd.Series(labels[labels == 1].index)):\n",
    "        cluster_labels.at[get_cwe_cluster(cwe)] = 1\n",
    "    return cluster_labels\n",
    "        \n",
    "y = dataset.apply(create_cluster_labels, axis=1)\n",
    "y"
   ]
  },
  {
   "cell_type": "code",
   "execution_count": null,
   "metadata": {},
   "outputs": [],
   "source": [
    "X.to_hdf('LO_SARD102_CweCluster_word2vec.h5', key='X')\n",
    "y.to_hdf('LO_SARD102_CweCluster_word2vec.h5', key='y')"
   ]
  },
  {
   "cell_type": "code",
   "execution_count": null,
   "metadata": {},
   "outputs": [],
   "source": []
  }
 ],
 "metadata": {
  "kernelspec": {
   "display_name": "Python 3",
   "language": "python",
   "name": "python3"
  },
  "language_info": {
   "codemirror_mode": {
    "name": "ipython",
    "version": 3
   },
   "file_extension": ".py",
   "mimetype": "text/x-python",
   "name": "python",
   "nbconvert_exporter": "python",
   "pygments_lexer": "ipython3",
   "version": "3.7.7"
  }
 },
 "nbformat": 4,
 "nbformat_minor": 4
}
