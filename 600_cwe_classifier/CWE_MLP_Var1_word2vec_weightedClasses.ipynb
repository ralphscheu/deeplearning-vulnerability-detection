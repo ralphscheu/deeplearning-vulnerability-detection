{
 "cells": [
  {
   "cell_type": "markdown",
   "metadata": {},
   "source": [
    "# MLP - CWE Classifier\n",
    "\n",
    "- **Training set**: LO_SARD102 (0.75 split)\n",
    "- **Test/Validation set:** LO_SARD102 (0.25 split)\n",
    "- **Features**: word2vec average\n",
    "- **Class imbalance processing**: Class weights"
   ]
  },
  {
   "cell_type": "code",
   "execution_count": 1,
   "metadata": {},
   "outputs": [
    {
     "name": "stderr",
     "output_type": "stream",
     "text": [
      "/home/scheuererra68323/venv37/lib/python3.7/site-packages/pandas/compat/__init__.py:117: UserWarning: Could not import the lzma module. Your installed Python is incomplete. Attempting to use lzma compression will result in a RuntimeError.\n",
      "  warnings.warn(msg)\n"
     ]
    }
   ],
   "source": [
    "import tensorflow as tf\n",
    "from tensorflow import keras\n",
    "from tensorflow.keras import layers\n",
    "from tensorflow.keras.utils import to_categorical\n",
    "import pandas as pd\n",
    "import numpy\n",
    "import matplotlib.pyplot as plt\n",
    "from helper_functions import *\n",
    "from sklearn.model_selection import train_test_split\n",
    "from sklearn.metrics import classification_report"
   ]
  },
  {
   "cell_type": "markdown",
   "metadata": {},
   "source": [
    "## Load labeled dataset"
   ]
  },
  {
   "cell_type": "code",
   "execution_count": 2,
   "metadata": {
    "scrolled": true
   },
   "outputs": [
    {
     "name": "stdout",
     "output_type": "stream",
     "text": [
      "(23003, 100)\n"
     ]
    }
   ],
   "source": [
    "X = numpy.stack(\n",
    "    pd.read_hdf('LO_SARD102_CweCluster_word2vec.h5', key='X').word2vec_avg,\n",
    "    axis=0\n",
    ")\n",
    "print(X.shape)"
   ]
  },
  {
   "cell_type": "code",
   "execution_count": 3,
   "metadata": {},
   "outputs": [
    {
     "name": "stdout",
     "output_type": "stream",
     "text": [
      "[664, 682, 691, 693, 697, 707, 710]\n",
      "(23003, 7)\n"
     ]
    }
   ],
   "source": [
    "# CWE by Research Concepts (CWE-IDs)\n",
    "researchconcepts = [284, 435, 664, 682, 691, 693, 697, 703, 707, 710]\n",
    "\n",
    "y = numpy.array(pd.read_hdf('LO_SARD102_CweCluster_word2vec.h5', key='y'))\n",
    "\n",
    "# delete CWE clusters w/o any examples\n",
    "_y = pd.DataFrame(y, columns=researchconcepts)\n",
    "_y = _y.loc[:, (_y != 0).any(axis=0)]\n",
    "\n",
    "researchconcepts = list(_y.columns)\n",
    "print(researchconcepts)\n",
    "\n",
    "y = _y.values\n",
    "print(y.shape)"
   ]
  },
  {
   "cell_type": "markdown",
   "metadata": {},
   "source": [
    "## Create train, test, validation sets"
   ]
  },
  {
   "cell_type": "code",
   "execution_count": 4,
   "metadata": {
    "scrolled": false
   },
   "outputs": [
    {
     "name": "stdout",
     "output_type": "stream",
     "text": [
      "X_train: (13801, 100)\n",
      "Y_train: (13801, 7)\n",
      "\n",
      "X_val: (4601, 100)\n",
      "Y_val: (4601, 7)\n",
      "\n",
      "X_test: (4601, 100)\n",
      "Y_test: (4601, 7)\n"
     ]
    }
   ],
   "source": [
    "X_train, X_test, Y_train, Y_test = train_test_split(\n",
    "    X, y, test_size=0.2, random_state=42)\n",
    "\n",
    "X_train, X_val, Y_train, Y_val = train_test_split(\n",
    "    X_train, Y_train, test_size=0.25, random_state=42) # 0.25 x 0.8 = 0.2\n",
    "\n",
    "\n",
    "print(f\"X_train: {X_train.shape}\")\n",
    "print(f\"Y_train: {Y_train.shape}\")\n",
    "print()\n",
    "print(f\"X_val: {X_val.shape}\")\n",
    "print(f\"Y_val: {Y_val.shape}\")\n",
    "print()\n",
    "print(f\"X_test: {X_test.shape}\")\n",
    "print(f\"Y_test: {Y_test.shape}\")"
   ]
  },
  {
   "cell_type": "code",
   "execution_count": 5,
   "metadata": {},
   "outputs": [
    {
     "data": {
      "text/plain": [
       "{0: 0.1465416551636263,\n",
       " 1: 2.938258462848627,\n",
       " 2: 2.5805908750934927,\n",
       " 3: 0.17432108121763296,\n",
       " 4: 17.923376623376623,\n",
       " 5: 0.14799365174684195,\n",
       " 6: 1.481270795320382}"
      ]
     },
     "execution_count": 5,
     "metadata": {},
     "output_type": "execute_result"
    }
   ],
   "source": [
    "class_weights = [( 1 / _y[_class].value_counts()[1] ) * Y_train.shape[0] / Y_train.shape[1] for _class in researchconcepts]\n",
    "class_weights = {i:class_weights[i] for i in range(len(class_weights))}\n",
    "class_weights"
   ]
  },
  {
   "cell_type": "markdown",
   "metadata": {},
   "source": [
    "## Define and train model"
   ]
  },
  {
   "cell_type": "code",
   "execution_count": 6,
   "metadata": {
    "scrolled": true
   },
   "outputs": [
    {
     "name": "stdout",
     "output_type": "stream",
     "text": [
      "Model: \"sequential\"\n",
      "_________________________________________________________________\n",
      "Layer (type)                 Output Shape              Param #   \n",
      "=================================================================\n",
      "dense (Dense)                (None, 100)               10100     \n",
      "_________________________________________________________________\n",
      "dropout (Dropout)            (None, 100)               0         \n",
      "_________________________________________________________________\n",
      "dense_1 (Dense)              (None, 100)               10100     \n",
      "_________________________________________________________________\n",
      "dense_2 (Dense)              (None, 100)               10100     \n",
      "_________________________________________________________________\n",
      "dense_3 (Dense)              (None, 100)               10100     \n",
      "_________________________________________________________________\n",
      "dense_4 (Dense)              (None, 7)                 707       \n",
      "=================================================================\n",
      "Total params: 41,107\n",
      "Trainable params: 41,107\n",
      "Non-trainable params: 0\n",
      "_________________________________________________________________\n"
     ]
    }
   ],
   "source": [
    "num_classes = Y_train.shape[1]\n",
    "model = keras.Sequential(\n",
    "        [\n",
    "            layers.Dense(100,\n",
    "                         input_dim=X_train.shape[1],\n",
    "                         kernel_initializer='glorot_uniform',\n",
    "                         activation=tf.nn.relu),\n",
    "            \n",
    "            layers.Dropout(0.1),\n",
    "                        \n",
    "            layers.Dense(100,\n",
    "                         kernel_initializer='glorot_uniform',\n",
    "                         activation=tf.nn.relu),\n",
    "            \n",
    "            layers.Dense(100,\n",
    "                         kernel_initializer='glorot_uniform',\n",
    "                         activation=tf.nn.relu),\n",
    "            \n",
    "            layers.Dense(100,\n",
    "                         kernel_initializer='glorot_uniform',\n",
    "                         activation=tf.nn.relu),\n",
    "            \n",
    "            layers.Dense(num_classes, \n",
    "                         kernel_initializer='glorot_uniform', \n",
    "                         activation=tf.nn.sigmoid),\n",
    "        ]\n",
    "    )\n",
    "model.summary()"
   ]
  },
  {
   "cell_type": "code",
   "execution_count": 7,
   "metadata": {},
   "outputs": [],
   "source": [
    "model.compile(loss='categorical_crossentropy',\n",
    "              optimizer='adam',\n",
    "              metrics=['accuracy'])\n",
    "history = model.fit(X_train, Y_train,\n",
    "                    batch_size=256,\n",
    "                    epochs=75,\n",
    "                    verbose=False,\n",
    "                    validation_data=(X_val, Y_val),\n",
    "                    class_weight=class_weights\n",
    "                   )"
   ]
  },
  {
   "cell_type": "markdown",
   "metadata": {},
   "source": [
    "## Evaluation on test"
   ]
  },
  {
   "cell_type": "code",
   "execution_count": 8,
   "metadata": {
    "scrolled": false
   },
   "outputs": [
    {
     "name": "stdout",
     "output_type": "stream",
     "text": [
      "              precision    recall  f1-score   support\n",
      "\n",
      "     CWE-664     0.9989    0.7221    0.8383      2634\n",
      "     CWE-682     0.5132    0.3362    0.4062       116\n",
      "     CWE-691     0.9405    0.4566    0.6148       173\n",
      "     CWE-693     0.9845    0.8900    0.9349      2291\n",
      "     CWE-697     0.3333    0.2812    0.3051        32\n",
      "     CWE-707     0.9883    0.8369    0.9063      2716\n",
      "     CWE-710     0.9032    0.4164    0.5700       269\n",
      "\n",
      "   micro avg     0.9798    0.7840    0.8710      8231\n",
      "   macro avg     0.8089    0.5628    0.6536      8231\n",
      "weighted avg     0.9776    0.7840    0.8660      8231\n",
      " samples avg     0.7655    0.7547    0.7566      8231\n",
      "\n"
     ]
    },
    {
     "name": "stderr",
     "output_type": "stream",
     "text": [
      "/home/scheuererra68323/venv37/lib/python3.7/site-packages/sklearn/metrics/_classification.py:1221: UndefinedMetricWarning: Precision and F-score are ill-defined and being set to 0.0 in samples with no predicted labels. Use `zero_division` parameter to control this behavior.\n",
      "  _warn_prf(average, modifier, msg_start, len(result))\n"
     ]
    }
   ],
   "source": [
    "Y_pred = numpy.round(model.predict(X_test))\n",
    "print(classification_report(Y_test, Y_pred, digits=4,\n",
    "                           target_names=[\"CWE-\"+str(cwe_id) for cwe_id in researchconcepts]\n",
    "                           ))"
   ]
  },
  {
   "cell_type": "code",
   "execution_count": 9,
   "metadata": {},
   "outputs": [
    {
     "data": {
      "image/png": "[encoded data removed]",
      "text/plain": [
       "<Figure size 432x288 with 1 Axes>"
      ]
     },
     "metadata": {
      "needs_background": "light"
     },
     "output_type": "display_data"
    },
    {
     "data": {
      "image/png": "[encoded data removed]",
      "text/plain": [
       "<Figure size 432x288 with 1 Axes>"
      ]
     },
     "metadata": {
      "needs_background": "light"
     },
     "output_type": "display_data"
    }
   ],
   "source": [
    "plot_loss(history)\n",
    "plot_accuracy(history)"
   ]
  },
  {
   "cell_type": "code",
   "execution_count": 11,
   "metadata": {},
   "outputs": [
    {
     "name": "stdout",
     "output_type": "stream",
     "text": [
      "[[1575   28   19  547   36  246  183]\n",
      " [   0   84    1    2    0   10    1]\n",
      " [   0    5  101    0    1    3    6]\n",
      " [   6    3    3  163    4 1245    2]\n",
      " [   2    2    0    0   23    1    2]\n",
      " [   5    3    0    0    9  141   15]\n",
      " [   0    7    0    0    2    2  113]]\n"
     ]
    },
    {
     "data": {
      "text/html": [
       "<style  type=\"text/css\" >\n",
       "    #T_ff95385e_f876_11ea_b4ae_c5cca79c7e0frow0_col0 {\n",
       "            background-color:  yellow;\n",
       "        }    #T_ff95385e_f876_11ea_b4ae_c5cca79c7e0frow1_col1 {\n",
       "            background-color:  yellow;\n",
       "        }    #T_ff95385e_f876_11ea_b4ae_c5cca79c7e0frow2_col2 {\n",
       "            background-color:  yellow;\n",
       "        }    #T_ff95385e_f876_11ea_b4ae_c5cca79c7e0frow3_col3 {\n",
       "            background-color:  yellow;\n",
       "        }    #T_ff95385e_f876_11ea_b4ae_c5cca79c7e0frow4_col4 {\n",
       "            background-color:  yellow;\n",
       "        }    #T_ff95385e_f876_11ea_b4ae_c5cca79c7e0frow5_col5 {\n",
       "            background-color:  yellow;\n",
       "        }    #T_ff95385e_f876_11ea_b4ae_c5cca79c7e0frow6_col6 {\n",
       "            background-color:  yellow;\n",
       "        }</style><table id=\"T_ff95385e_f876_11ea_b4ae_c5cca79c7e0f\" ><thead>    <tr>        <th class=\"blank level0\" ></th>        <th class=\"col_heading level0 col0\" >664</th>        <th class=\"col_heading level0 col1\" >682</th>        <th class=\"col_heading level0 col2\" >691</th>        <th class=\"col_heading level0 col3\" >693</th>        <th class=\"col_heading level0 col4\" >697</th>        <th class=\"col_heading level0 col5\" >707</th>        <th class=\"col_heading level0 col6\" >710</th>    </tr></thead><tbody>\n",
       "                <tr>\n",
       "                        <th id=\"T_ff95385e_f876_11ea_b4ae_c5cca79c7e0flevel0_row0\" class=\"row_heading level0 row0\" >664</th>\n",
       "                        <td id=\"T_ff95385e_f876_11ea_b4ae_c5cca79c7e0frow0_col0\" class=\"data row0 col0\" >1575</td>\n",
       "                        <td id=\"T_ff95385e_f876_11ea_b4ae_c5cca79c7e0frow0_col1\" class=\"data row0 col1\" >28</td>\n",
       "                        <td id=\"T_ff95385e_f876_11ea_b4ae_c5cca79c7e0frow0_col2\" class=\"data row0 col2\" >19</td>\n",
       "                        <td id=\"T_ff95385e_f876_11ea_b4ae_c5cca79c7e0frow0_col3\" class=\"data row0 col3\" >547</td>\n",
       "                        <td id=\"T_ff95385e_f876_11ea_b4ae_c5cca79c7e0frow0_col4\" class=\"data row0 col4\" >36</td>\n",
       "                        <td id=\"T_ff95385e_f876_11ea_b4ae_c5cca79c7e0frow0_col5\" class=\"data row0 col5\" >246</td>\n",
       "                        <td id=\"T_ff95385e_f876_11ea_b4ae_c5cca79c7e0frow0_col6\" class=\"data row0 col6\" >183</td>\n",
       "            </tr>\n",
       "            <tr>\n",
       "                        <th id=\"T_ff95385e_f876_11ea_b4ae_c5cca79c7e0flevel0_row1\" class=\"row_heading level0 row1\" >682</th>\n",
       "                        <td id=\"T_ff95385e_f876_11ea_b4ae_c5cca79c7e0frow1_col0\" class=\"data row1 col0\" >0</td>\n",
       "                        <td id=\"T_ff95385e_f876_11ea_b4ae_c5cca79c7e0frow1_col1\" class=\"data row1 col1\" >84</td>\n",
       "                        <td id=\"T_ff95385e_f876_11ea_b4ae_c5cca79c7e0frow1_col2\" class=\"data row1 col2\" >1</td>\n",
       "                        <td id=\"T_ff95385e_f876_11ea_b4ae_c5cca79c7e0frow1_col3\" class=\"data row1 col3\" >2</td>\n",
       "                        <td id=\"T_ff95385e_f876_11ea_b4ae_c5cca79c7e0frow1_col4\" class=\"data row1 col4\" >0</td>\n",
       "                        <td id=\"T_ff95385e_f876_11ea_b4ae_c5cca79c7e0frow1_col5\" class=\"data row1 col5\" >10</td>\n",
       "                        <td id=\"T_ff95385e_f876_11ea_b4ae_c5cca79c7e0frow1_col6\" class=\"data row1 col6\" >1</td>\n",
       "            </tr>\n",
       "            <tr>\n",
       "                        <th id=\"T_ff95385e_f876_11ea_b4ae_c5cca79c7e0flevel0_row2\" class=\"row_heading level0 row2\" >691</th>\n",
       "                        <td id=\"T_ff95385e_f876_11ea_b4ae_c5cca79c7e0frow2_col0\" class=\"data row2 col0\" >0</td>\n",
       "                        <td id=\"T_ff95385e_f876_11ea_b4ae_c5cca79c7e0frow2_col1\" class=\"data row2 col1\" >5</td>\n",
       "                        <td id=\"T_ff95385e_f876_11ea_b4ae_c5cca79c7e0frow2_col2\" class=\"data row2 col2\" >101</td>\n",
       "                        <td id=\"T_ff95385e_f876_11ea_b4ae_c5cca79c7e0frow2_col3\" class=\"data row2 col3\" >0</td>\n",
       "                        <td id=\"T_ff95385e_f876_11ea_b4ae_c5cca79c7e0frow2_col4\" class=\"data row2 col4\" >1</td>\n",
       "                        <td id=\"T_ff95385e_f876_11ea_b4ae_c5cca79c7e0frow2_col5\" class=\"data row2 col5\" >3</td>\n",
       "                        <td id=\"T_ff95385e_f876_11ea_b4ae_c5cca79c7e0frow2_col6\" class=\"data row2 col6\" >6</td>\n",
       "            </tr>\n",
       "            <tr>\n",
       "                        <th id=\"T_ff95385e_f876_11ea_b4ae_c5cca79c7e0flevel0_row3\" class=\"row_heading level0 row3\" >693</th>\n",
       "                        <td id=\"T_ff95385e_f876_11ea_b4ae_c5cca79c7e0frow3_col0\" class=\"data row3 col0\" >6</td>\n",
       "                        <td id=\"T_ff95385e_f876_11ea_b4ae_c5cca79c7e0frow3_col1\" class=\"data row3 col1\" >3</td>\n",
       "                        <td id=\"T_ff95385e_f876_11ea_b4ae_c5cca79c7e0frow3_col2\" class=\"data row3 col2\" >3</td>\n",
       "                        <td id=\"T_ff95385e_f876_11ea_b4ae_c5cca79c7e0frow3_col3\" class=\"data row3 col3\" >163</td>\n",
       "                        <td id=\"T_ff95385e_f876_11ea_b4ae_c5cca79c7e0frow3_col4\" class=\"data row3 col4\" >4</td>\n",
       "                        <td id=\"T_ff95385e_f876_11ea_b4ae_c5cca79c7e0frow3_col5\" class=\"data row3 col5\" >1245</td>\n",
       "                        <td id=\"T_ff95385e_f876_11ea_b4ae_c5cca79c7e0frow3_col6\" class=\"data row3 col6\" >2</td>\n",
       "            </tr>\n",
       "            <tr>\n",
       "                        <th id=\"T_ff95385e_f876_11ea_b4ae_c5cca79c7e0flevel0_row4\" class=\"row_heading level0 row4\" >697</th>\n",
       "                        <td id=\"T_ff95385e_f876_11ea_b4ae_c5cca79c7e0frow4_col0\" class=\"data row4 col0\" >2</td>\n",
       "                        <td id=\"T_ff95385e_f876_11ea_b4ae_c5cca79c7e0frow4_col1\" class=\"data row4 col1\" >2</td>\n",
       "                        <td id=\"T_ff95385e_f876_11ea_b4ae_c5cca79c7e0frow4_col2\" class=\"data row4 col2\" >0</td>\n",
       "                        <td id=\"T_ff95385e_f876_11ea_b4ae_c5cca79c7e0frow4_col3\" class=\"data row4 col3\" >0</td>\n",
       "                        <td id=\"T_ff95385e_f876_11ea_b4ae_c5cca79c7e0frow4_col4\" class=\"data row4 col4\" >23</td>\n",
       "                        <td id=\"T_ff95385e_f876_11ea_b4ae_c5cca79c7e0frow4_col5\" class=\"data row4 col5\" >1</td>\n",
       "                        <td id=\"T_ff95385e_f876_11ea_b4ae_c5cca79c7e0frow4_col6\" class=\"data row4 col6\" >2</td>\n",
       "            </tr>\n",
       "            <tr>\n",
       "                        <th id=\"T_ff95385e_f876_11ea_b4ae_c5cca79c7e0flevel0_row5\" class=\"row_heading level0 row5\" >707</th>\n",
       "                        <td id=\"T_ff95385e_f876_11ea_b4ae_c5cca79c7e0frow5_col0\" class=\"data row5 col0\" >5</td>\n",
       "                        <td id=\"T_ff95385e_f876_11ea_b4ae_c5cca79c7e0frow5_col1\" class=\"data row5 col1\" >3</td>\n",
       "                        <td id=\"T_ff95385e_f876_11ea_b4ae_c5cca79c7e0frow5_col2\" class=\"data row5 col2\" >0</td>\n",
       "                        <td id=\"T_ff95385e_f876_11ea_b4ae_c5cca79c7e0frow5_col3\" class=\"data row5 col3\" >0</td>\n",
       "                        <td id=\"T_ff95385e_f876_11ea_b4ae_c5cca79c7e0frow5_col4\" class=\"data row5 col4\" >9</td>\n",
       "                        <td id=\"T_ff95385e_f876_11ea_b4ae_c5cca79c7e0frow5_col5\" class=\"data row5 col5\" >141</td>\n",
       "                        <td id=\"T_ff95385e_f876_11ea_b4ae_c5cca79c7e0frow5_col6\" class=\"data row5 col6\" >15</td>\n",
       "            </tr>\n",
       "            <tr>\n",
       "                        <th id=\"T_ff95385e_f876_11ea_b4ae_c5cca79c7e0flevel0_row6\" class=\"row_heading level0 row6\" >710</th>\n",
       "                        <td id=\"T_ff95385e_f876_11ea_b4ae_c5cca79c7e0frow6_col0\" class=\"data row6 col0\" >0</td>\n",
       "                        <td id=\"T_ff95385e_f876_11ea_b4ae_c5cca79c7e0frow6_col1\" class=\"data row6 col1\" >7</td>\n",
       "                        <td id=\"T_ff95385e_f876_11ea_b4ae_c5cca79c7e0frow6_col2\" class=\"data row6 col2\" >0</td>\n",
       "                        <td id=\"T_ff95385e_f876_11ea_b4ae_c5cca79c7e0frow6_col3\" class=\"data row6 col3\" >0</td>\n",
       "                        <td id=\"T_ff95385e_f876_11ea_b4ae_c5cca79c7e0frow6_col4\" class=\"data row6 col4\" >2</td>\n",
       "                        <td id=\"T_ff95385e_f876_11ea_b4ae_c5cca79c7e0frow6_col5\" class=\"data row6 col5\" >2</td>\n",
       "                        <td id=\"T_ff95385e_f876_11ea_b4ae_c5cca79c7e0frow6_col6\" class=\"data row6 col6\" >113</td>\n",
       "            </tr>\n",
       "    </tbody></table>"
      ],
      "text/plain": [
       "<pandas.io.formats.style.Styler at 0x7f68b4359ed0>"
      ]
     },
     "execution_count": 11,
     "metadata": {},
     "output_type": "execute_result"
    }
   ],
   "source": [
    "conf_matrix = get_confusion_matrix(model, X_test, Y_test)\n",
    "print(conf_matrix)\n",
    "\n",
    "# implementation for highlighting main diagonal taken from \n",
    "# https://stackoverflow.com/a/56916309\n",
    "\n",
    "def highlight_diag(df):\n",
    "    a = numpy.full(df.shape, '', dtype='<U24')\n",
    "    numpy.fill_diagonal(a, 'background-color: yellow')\n",
    "    return pd.DataFrame(a, index=df.index, columns=df.columns)\n",
    "\n",
    "\n",
    "pd.DataFrame(conf_matrix, columns=researchconcepts, index= researchconcepts).style.apply(highlight_diag, axis=None)"
   ]
  },
  {
   "cell_type": "code",
   "execution_count": 12,
   "metadata": {},
   "outputs": [],
   "source": [
    "model.save('CWE_MLP_Var1_word2vec_weightedClasses.h5')"
   ]
  },
  {
   "cell_type": "code",
   "execution_count": 7,
   "metadata": {},
   "outputs": [],
   "source": [
    "# model.load_weights('CWE_MLP_Var1_word2vec_weightedClasses.h5')"
   ]
  }
 ],
 "metadata": {
  "kernelspec": {
   "display_name": "Python 3.7",
   "language": "python",
   "name": "python3"
  },
  "language_info": {
   "codemirror_mode": {
    "name": "ipython",
    "version": 3
   },
   "file_extension": ".py",
   "mimetype": "text/x-python",
   "name": "python",
   "nbconvert_exporter": "python",
   "pygments_lexer": "ipython3",
   "version": "3.7.8"
  }
 },
 "nbformat": 4,
 "nbformat_minor": 4
}
