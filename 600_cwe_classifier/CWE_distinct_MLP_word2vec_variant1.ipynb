{
 "cells": [
  {
   "cell_type": "markdown",
   "metadata": {},
   "source": [
    "# MLP - CWE Classifier\n",
    "\n",
    "- **Training set**: LO_SARD102 (0.75 split)\n",
    "- **Test/Validation set:** LO_SARD102 (0.25 split)\n",
    "- **Features**: word2vec average\n",
    "- **Class imbalance processing**: Class weights"
   ]
  },
  {
   "cell_type": "code",
   "execution_count": 1,
   "metadata": {},
   "outputs": [
    {
     "name": "stderr",
     "output_type": "stream",
     "text": [
      "/home/scheuererra68323/venv37/lib/python3.7/site-packages/pandas/compat/__init__.py:117: UserWarning: Could not import the lzma module. Your installed Python is incomplete. Attempting to use lzma compression will result in a RuntimeError.\n",
      "  warnings.warn(msg)\n"
     ]
    }
   ],
   "source": [
    "import tensorflow as tf\n",
    "from tensorflow import keras\n",
    "from tensorflow.keras import layers\n",
    "from tensorflow.keras.utils import to_categorical\n",
    "import pandas as pd\n",
    "import numpy\n",
    "import matplotlib.pyplot as plt\n",
    "from helper_functions import *\n",
    "from sklearn.model_selection import train_test_split"
   ]
  },
  {
   "cell_type": "markdown",
   "metadata": {},
   "source": [
    "## Load labeled dataset"
   ]
  },
  {
   "cell_type": "code",
   "execution_count": 3,
   "metadata": {
    "scrolled": true
   },
   "outputs": [
    {
     "name": "stdout",
     "output_type": "stream",
     "text": [
      "(23003, 100)\n"
     ]
    }
   ],
   "source": [
    "X = numpy.stack(\n",
    "    pd.read_hdf('LO_SARD102_CweCluster_word2vec.h5', key='X').word2vec_avg,\n",
    "    axis=0\n",
    ")\n",
    "print(X.shape)"
   ]
  },
  {
   "cell_type": "code",
   "execution_count": 4,
   "metadata": {},
   "outputs": [
    {
     "name": "stdout",
     "output_type": "stream",
     "text": [
      "[664, 682, 691, 693, 697, 707, 710]\n",
      "(23003, 7)\n"
     ]
    }
   ],
   "source": [
    "# CWE by Research Concepts (CWE-IDs)\n",
    "researchconcepts = [284, 435, 664, 682, 691, 693, 697, 703, 707, 710]\n",
    "\n",
    "y = numpy.array(pd.read_hdf('LO_SARD102_CweCluster_word2vec.h5', key='y'))\n",
    "\n",
    "# delete CWE clusters w/o any examples\n",
    "_y = pd.DataFrame(y, columns=researchconcepts)\n",
    "_y = _y.loc[:, (_y != 0).any(axis=0)]\n",
    "\n",
    "researchconcepts = list(_y.columns)\n",
    "print(researchconcepts)\n",
    "\n",
    "y = _y.values\n",
    "print(y.shape)"
   ]
  },
  {
   "cell_type": "code",
   "execution_count": 5,
   "metadata": {},
   "outputs": [
    {
     "name": "stdout",
     "output_type": "stream",
     "text": [
      "(9859, 100)\n",
      "(9859, 7)\n"
     ]
    }
   ],
   "source": [
    "indices_singleClusterFit = numpy.array(_y.T.sum().loc[_y.T.sum() == 1].index)\n",
    "X_singleClusterFit = X[indices_singleClusterFit]\n",
    "y_singleClusterFit = y[indices_singleClusterFit]\n",
    "print(X_singleClusterFit.shape)\n",
    "print(y_singleClusterFit.shape)\n",
    "#y_singleClusterFit = y_singleClusterFit.argmax(axis=1)"
   ]
  },
  {
   "cell_type": "markdown",
   "metadata": {},
   "source": [
    "## Create train, test, validation sets"
   ]
  },
  {
   "cell_type": "code",
   "execution_count": 6,
   "metadata": {
    "scrolled": false
   },
   "outputs": [
    {
     "name": "stdout",
     "output_type": "stream",
     "text": [
      "X_train: (5915, 100)\n",
      "Y_train: (5915, 7)\n",
      "\n",
      "X_val: (1972, 100)\n",
      "Y_val: (1972, 7)\n",
      "\n",
      "X_test: (1972, 100)\n",
      "Y_test: (1972, 7)\n"
     ]
    }
   ],
   "source": [
    "X_train, X_test, Y_train, Y_test = train_test_split(\n",
    "    X_singleClusterFit, y_singleClusterFit, test_size=0.2, random_state=42)\n",
    "\n",
    "X_train, X_val, Y_train, Y_val = train_test_split(\n",
    "    X_train, Y_train, test_size=0.25, random_state=42) # 0.25 x 0.8 = 0.2\n",
    "\n",
    "\n",
    "print(f\"X_train: {X_train.shape}\")\n",
    "print(f\"Y_train: {Y_train.shape}\")\n",
    "print()\n",
    "print(f\"X_val: {X_val.shape}\")\n",
    "print(f\"Y_val: {Y_val.shape}\")\n",
    "print()\n",
    "print(f\"X_test: {X_test.shape}\")\n",
    "print(f\"Y_test: {Y_test.shape}\")"
   ]
  },
  {
   "cell_type": "code",
   "execution_count": 7,
   "metadata": {},
   "outputs": [
    {
     "data": {
      "text/plain": [
       "{0: 0.06280660026757841,\n",
       " 1: 1.2593144560357674,\n",
       " 2: 1.106020942408377,\n",
       " 3: 0.07471264367816091,\n",
       " 4: 7.681818181818182,\n",
       " 5: 0.06342891457739079,\n",
       " 6: 0.6348610067618333}"
      ]
     },
     "execution_count": 7,
     "metadata": {},
     "output_type": "execute_result"
    }
   ],
   "source": [
    "class_weights = [( 1 / _y[_class].value_counts()[1] ) * Y_train.shape[0] / Y_train.shape[1] for _class in researchconcepts]\n",
    "class_weights = {i:class_weights[i] for i in range(len(class_weights))}\n",
    "class_weights"
   ]
  },
  {
   "cell_type": "markdown",
   "metadata": {},
   "source": [
    "## Define and train model"
   ]
  },
  {
   "cell_type": "code",
   "execution_count": 8,
   "metadata": {
    "scrolled": false
   },
   "outputs": [
    {
     "name": "stdout",
     "output_type": "stream",
     "text": [
      "Model: \"sequential\"\n",
      "_________________________________________________________________\n",
      "Layer (type)                 Output Shape              Param #   \n",
      "=================================================================\n",
      "dense (Dense)                (None, 100)               10100     \n",
      "_________________________________________________________________\n",
      "dropout (Dropout)            (None, 100)               0         \n",
      "_________________________________________________________________\n",
      "dense_1 (Dense)              (None, 100)               10100     \n",
      "_________________________________________________________________\n",
      "dense_2 (Dense)              (None, 100)               10100     \n",
      "_________________________________________________________________\n",
      "dense_3 (Dense)              (None, 7)                 707       \n",
      "=================================================================\n",
      "Total params: 31,007\n",
      "Trainable params: 31,007\n",
      "Non-trainable params: 0\n",
      "_________________________________________________________________\n"
     ]
    },
    {
     "data": {
      "image/png": "[encoded data removed]",
      "text/plain": [
       "<Figure size 432x288 with 1 Axes>"
      ]
     },
     "metadata": {
      "needs_background": "light"
     },
     "output_type": "display_data"
    },
    {
     "data": {
      "image/png": "[encoded data removed]",
      "text/plain": [
       "<Figure size 432x288 with 1 Axes>"
      ]
     },
     "metadata": {
      "needs_background": "light"
     },
     "output_type": "display_data"
    }
   ],
   "source": [
    "num_classes = Y_train.shape[1]\n",
    "hidden_size = 100\n",
    "model = keras.Sequential(\n",
    "        [\n",
    "            layers.Dense(hidden_size,\n",
    "                         input_dim=X_train.shape[1],\n",
    "                         kernel_initializer='glorot_uniform',\n",
    "                         activation=tf.nn.relu),\n",
    "            \n",
    "            layers.Dropout(0.1),\n",
    "                        \n",
    "            layers.Dense(hidden_size,\n",
    "                         kernel_initializer='glorot_uniform',\n",
    "                         activation=tf.nn.relu),\n",
    "            \n",
    "            layers.Dense(hidden_size,\n",
    "                         kernel_initializer='glorot_uniform',\n",
    "                         activation=tf.nn.relu),\n",
    "            \n",
    "            \n",
    "            layers.Dense(num_classes, \n",
    "                         kernel_initializer='glorot_uniform', \n",
    "                         activation=tf.nn.softmax),\n",
    "        ]\n",
    "    )\n",
    "model.summary()\n",
    "model.compile(loss='categorical_crossentropy',\n",
    "              optimizer='adam',\n",
    "              metrics=['accuracy'])\n",
    "\n",
    "history = model.fit(X_train, Y_train,\n",
    "                    batch_size=256, #X_train.shape[0],\n",
    "                    epochs=75,\n",
    "                    verbose=False,\n",
    "                    validation_data=(X_val, Y_val),\n",
    "                    class_weight=class_weights\n",
    "                   )\n",
    "\n",
    "plot_loss(history)\n",
    "plot_accuracy(history)"
   ]
  },
  {
   "cell_type": "markdown",
   "metadata": {},
   "source": [
    "## Evaluation on test"
   ]
  },
  {
   "cell_type": "code",
   "execution_count": 11,
   "metadata": {},
   "outputs": [
    {
     "name": "stdout",
     "output_type": "stream",
     "text": [
      "[[1277   35   19    0   95    0   28]\n",
      " [   0   87    0    0    1    0    1]\n",
      " [   1    1   93    0    4    0    2]\n",
      " [   1    0    0   10    0    0    0]\n",
      " [   0    0    1    0   22    0    0]\n",
      " [   7   11    0    0    8  110   26]\n",
      " [   1    3    1    0    7    0  120]]\n",
      "\n",
      "Test loss:\t0.361958\n",
      "Test accuracy:\t0.871704\n"
     ]
    },
    {
     "data": {
      "text/html": [
       "<style  type=\"text/css\" >\n",
       "    #T_fdcf8c3e_f873_11ea_b4ae_c5cca79c7e0frow0_col0 {\n",
       "            background-color:  yellow;\n",
       "        }    #T_fdcf8c3e_f873_11ea_b4ae_c5cca79c7e0frow1_col1 {\n",
       "            background-color:  yellow;\n",
       "        }    #T_fdcf8c3e_f873_11ea_b4ae_c5cca79c7e0frow2_col2 {\n",
       "            background-color:  yellow;\n",
       "        }    #T_fdcf8c3e_f873_11ea_b4ae_c5cca79c7e0frow3_col3 {\n",
       "            background-color:  yellow;\n",
       "        }    #T_fdcf8c3e_f873_11ea_b4ae_c5cca79c7e0frow4_col4 {\n",
       "            background-color:  yellow;\n",
       "        }    #T_fdcf8c3e_f873_11ea_b4ae_c5cca79c7e0frow5_col5 {\n",
       "            background-color:  yellow;\n",
       "        }    #T_fdcf8c3e_f873_11ea_b4ae_c5cca79c7e0frow6_col6 {\n",
       "            background-color:  yellow;\n",
       "        }</style><table id=\"T_fdcf8c3e_f873_11ea_b4ae_c5cca79c7e0f\" ><thead>    <tr>        <th class=\"blank level0\" ></th>        <th class=\"col_heading level0 col0\" >664</th>        <th class=\"col_heading level0 col1\" >682</th>        <th class=\"col_heading level0 col2\" >691</th>        <th class=\"col_heading level0 col3\" >693</th>        <th class=\"col_heading level0 col4\" >697</th>        <th class=\"col_heading level0 col5\" >707</th>        <th class=\"col_heading level0 col6\" >710</th>    </tr></thead><tbody>\n",
       "                <tr>\n",
       "                        <th id=\"T_fdcf8c3e_f873_11ea_b4ae_c5cca79c7e0flevel0_row0\" class=\"row_heading level0 row0\" >664</th>\n",
       "                        <td id=\"T_fdcf8c3e_f873_11ea_b4ae_c5cca79c7e0frow0_col0\" class=\"data row0 col0\" >1277</td>\n",
       "                        <td id=\"T_fdcf8c3e_f873_11ea_b4ae_c5cca79c7e0frow0_col1\" class=\"data row0 col1\" >35</td>\n",
       "                        <td id=\"T_fdcf8c3e_f873_11ea_b4ae_c5cca79c7e0frow0_col2\" class=\"data row0 col2\" >19</td>\n",
       "                        <td id=\"T_fdcf8c3e_f873_11ea_b4ae_c5cca79c7e0frow0_col3\" class=\"data row0 col3\" >0</td>\n",
       "                        <td id=\"T_fdcf8c3e_f873_11ea_b4ae_c5cca79c7e0frow0_col4\" class=\"data row0 col4\" >95</td>\n",
       "                        <td id=\"T_fdcf8c3e_f873_11ea_b4ae_c5cca79c7e0frow0_col5\" class=\"data row0 col5\" >0</td>\n",
       "                        <td id=\"T_fdcf8c3e_f873_11ea_b4ae_c5cca79c7e0frow0_col6\" class=\"data row0 col6\" >28</td>\n",
       "            </tr>\n",
       "            <tr>\n",
       "                        <th id=\"T_fdcf8c3e_f873_11ea_b4ae_c5cca79c7e0flevel0_row1\" class=\"row_heading level0 row1\" >682</th>\n",
       "                        <td id=\"T_fdcf8c3e_f873_11ea_b4ae_c5cca79c7e0frow1_col0\" class=\"data row1 col0\" >0</td>\n",
       "                        <td id=\"T_fdcf8c3e_f873_11ea_b4ae_c5cca79c7e0frow1_col1\" class=\"data row1 col1\" >87</td>\n",
       "                        <td id=\"T_fdcf8c3e_f873_11ea_b4ae_c5cca79c7e0frow1_col2\" class=\"data row1 col2\" >0</td>\n",
       "                        <td id=\"T_fdcf8c3e_f873_11ea_b4ae_c5cca79c7e0frow1_col3\" class=\"data row1 col3\" >0</td>\n",
       "                        <td id=\"T_fdcf8c3e_f873_11ea_b4ae_c5cca79c7e0frow1_col4\" class=\"data row1 col4\" >1</td>\n",
       "                        <td id=\"T_fdcf8c3e_f873_11ea_b4ae_c5cca79c7e0frow1_col5\" class=\"data row1 col5\" >0</td>\n",
       "                        <td id=\"T_fdcf8c3e_f873_11ea_b4ae_c5cca79c7e0frow1_col6\" class=\"data row1 col6\" >1</td>\n",
       "            </tr>\n",
       "            <tr>\n",
       "                        <th id=\"T_fdcf8c3e_f873_11ea_b4ae_c5cca79c7e0flevel0_row2\" class=\"row_heading level0 row2\" >691</th>\n",
       "                        <td id=\"T_fdcf8c3e_f873_11ea_b4ae_c5cca79c7e0frow2_col0\" class=\"data row2 col0\" >1</td>\n",
       "                        <td id=\"T_fdcf8c3e_f873_11ea_b4ae_c5cca79c7e0frow2_col1\" class=\"data row2 col1\" >1</td>\n",
       "                        <td id=\"T_fdcf8c3e_f873_11ea_b4ae_c5cca79c7e0frow2_col2\" class=\"data row2 col2\" >93</td>\n",
       "                        <td id=\"T_fdcf8c3e_f873_11ea_b4ae_c5cca79c7e0frow2_col3\" class=\"data row2 col3\" >0</td>\n",
       "                        <td id=\"T_fdcf8c3e_f873_11ea_b4ae_c5cca79c7e0frow2_col4\" class=\"data row2 col4\" >4</td>\n",
       "                        <td id=\"T_fdcf8c3e_f873_11ea_b4ae_c5cca79c7e0frow2_col5\" class=\"data row2 col5\" >0</td>\n",
       "                        <td id=\"T_fdcf8c3e_f873_11ea_b4ae_c5cca79c7e0frow2_col6\" class=\"data row2 col6\" >2</td>\n",
       "            </tr>\n",
       "            <tr>\n",
       "                        <th id=\"T_fdcf8c3e_f873_11ea_b4ae_c5cca79c7e0flevel0_row3\" class=\"row_heading level0 row3\" >693</th>\n",
       "                        <td id=\"T_fdcf8c3e_f873_11ea_b4ae_c5cca79c7e0frow3_col0\" class=\"data row3 col0\" >1</td>\n",
       "                        <td id=\"T_fdcf8c3e_f873_11ea_b4ae_c5cca79c7e0frow3_col1\" class=\"data row3 col1\" >0</td>\n",
       "                        <td id=\"T_fdcf8c3e_f873_11ea_b4ae_c5cca79c7e0frow3_col2\" class=\"data row3 col2\" >0</td>\n",
       "                        <td id=\"T_fdcf8c3e_f873_11ea_b4ae_c5cca79c7e0frow3_col3\" class=\"data row3 col3\" >10</td>\n",
       "                        <td id=\"T_fdcf8c3e_f873_11ea_b4ae_c5cca79c7e0frow3_col4\" class=\"data row3 col4\" >0</td>\n",
       "                        <td id=\"T_fdcf8c3e_f873_11ea_b4ae_c5cca79c7e0frow3_col5\" class=\"data row3 col5\" >0</td>\n",
       "                        <td id=\"T_fdcf8c3e_f873_11ea_b4ae_c5cca79c7e0frow3_col6\" class=\"data row3 col6\" >0</td>\n",
       "            </tr>\n",
       "            <tr>\n",
       "                        <th id=\"T_fdcf8c3e_f873_11ea_b4ae_c5cca79c7e0flevel0_row4\" class=\"row_heading level0 row4\" >697</th>\n",
       "                        <td id=\"T_fdcf8c3e_f873_11ea_b4ae_c5cca79c7e0frow4_col0\" class=\"data row4 col0\" >0</td>\n",
       "                        <td id=\"T_fdcf8c3e_f873_11ea_b4ae_c5cca79c7e0frow4_col1\" class=\"data row4 col1\" >0</td>\n",
       "                        <td id=\"T_fdcf8c3e_f873_11ea_b4ae_c5cca79c7e0frow4_col2\" class=\"data row4 col2\" >1</td>\n",
       "                        <td id=\"T_fdcf8c3e_f873_11ea_b4ae_c5cca79c7e0frow4_col3\" class=\"data row4 col3\" >0</td>\n",
       "                        <td id=\"T_fdcf8c3e_f873_11ea_b4ae_c5cca79c7e0frow4_col4\" class=\"data row4 col4\" >22</td>\n",
       "                        <td id=\"T_fdcf8c3e_f873_11ea_b4ae_c5cca79c7e0frow4_col5\" class=\"data row4 col5\" >0</td>\n",
       "                        <td id=\"T_fdcf8c3e_f873_11ea_b4ae_c5cca79c7e0frow4_col6\" class=\"data row4 col6\" >0</td>\n",
       "            </tr>\n",
       "            <tr>\n",
       "                        <th id=\"T_fdcf8c3e_f873_11ea_b4ae_c5cca79c7e0flevel0_row5\" class=\"row_heading level0 row5\" >707</th>\n",
       "                        <td id=\"T_fdcf8c3e_f873_11ea_b4ae_c5cca79c7e0frow5_col0\" class=\"data row5 col0\" >7</td>\n",
       "                        <td id=\"T_fdcf8c3e_f873_11ea_b4ae_c5cca79c7e0frow5_col1\" class=\"data row5 col1\" >11</td>\n",
       "                        <td id=\"T_fdcf8c3e_f873_11ea_b4ae_c5cca79c7e0frow5_col2\" class=\"data row5 col2\" >0</td>\n",
       "                        <td id=\"T_fdcf8c3e_f873_11ea_b4ae_c5cca79c7e0frow5_col3\" class=\"data row5 col3\" >0</td>\n",
       "                        <td id=\"T_fdcf8c3e_f873_11ea_b4ae_c5cca79c7e0frow5_col4\" class=\"data row5 col4\" >8</td>\n",
       "                        <td id=\"T_fdcf8c3e_f873_11ea_b4ae_c5cca79c7e0frow5_col5\" class=\"data row5 col5\" >110</td>\n",
       "                        <td id=\"T_fdcf8c3e_f873_11ea_b4ae_c5cca79c7e0frow5_col6\" class=\"data row5 col6\" >26</td>\n",
       "            </tr>\n",
       "            <tr>\n",
       "                        <th id=\"T_fdcf8c3e_f873_11ea_b4ae_c5cca79c7e0flevel0_row6\" class=\"row_heading level0 row6\" >710</th>\n",
       "                        <td id=\"T_fdcf8c3e_f873_11ea_b4ae_c5cca79c7e0frow6_col0\" class=\"data row6 col0\" >1</td>\n",
       "                        <td id=\"T_fdcf8c3e_f873_11ea_b4ae_c5cca79c7e0frow6_col1\" class=\"data row6 col1\" >3</td>\n",
       "                        <td id=\"T_fdcf8c3e_f873_11ea_b4ae_c5cca79c7e0frow6_col2\" class=\"data row6 col2\" >1</td>\n",
       "                        <td id=\"T_fdcf8c3e_f873_11ea_b4ae_c5cca79c7e0frow6_col3\" class=\"data row6 col3\" >0</td>\n",
       "                        <td id=\"T_fdcf8c3e_f873_11ea_b4ae_c5cca79c7e0frow6_col4\" class=\"data row6 col4\" >7</td>\n",
       "                        <td id=\"T_fdcf8c3e_f873_11ea_b4ae_c5cca79c7e0frow6_col5\" class=\"data row6 col5\" >0</td>\n",
       "                        <td id=\"T_fdcf8c3e_f873_11ea_b4ae_c5cca79c7e0frow6_col6\" class=\"data row6 col6\" >120</td>\n",
       "            </tr>\n",
       "    </tbody></table>"
      ],
      "text/plain": [
       "<pandas.io.formats.style.Styler at 0x7fcbf41e6a50>"
      ]
     },
     "execution_count": 11,
     "metadata": {},
     "output_type": "execute_result"
    }
   ],
   "source": [
    "conf_matrix = get_confusion_matrix(model, X_test, Y_test)\n",
    "print(conf_matrix)\n",
    "\n",
    "# implementation for highlighting main diagonal taken from \n",
    "# https://stackoverflow.com/a/56916309\n",
    "def highlight_diag(df):\n",
    "    a = numpy.full(df.shape, '', dtype='<U24')\n",
    "    numpy.fill_diagonal(a, 'background-color: yellow')\n",
    "    return pd.DataFrame(a, index=df.index, columns=df.columns)\n",
    "\n",
    "score = model.evaluate(X_test, Y_test, verbose=0)\n",
    "print('\\nTest loss:\\t{:.6f}'.format(score[0]))\n",
    "print('Test accuracy:\\t{:.6f}'.format(score[1]))\n",
    "\n",
    "pd.DataFrame(conf_matrix, columns=researchconcepts, index=researchconcepts).style.apply(highlight_diag, axis=None)"
   ]
  },
  {
   "cell_type": "code",
   "execution_count": 15,
   "metadata": {},
   "outputs": [
    {
     "name": "stdout",
     "output_type": "stream",
     "text": [
      "              precision    recall  f1-score   support\n",
      "\n",
      "     CWE-664     0.9922    0.8783    0.9318      1454\n",
      "     CWE-682     0.6350    0.9775    0.7699        89\n",
      "     CWE-691     0.8158    0.9208    0.8651       101\n",
      "     CWE-693     1.0000    0.9091    0.9524        11\n",
      "     CWE-697     0.1606    0.9565    0.2750        23\n",
      "     CWE-707     1.0000    0.6790    0.8088       162\n",
      "     CWE-710     0.6780    0.9091    0.7767       132\n",
      "\n",
      "   micro avg     0.8717    0.8717    0.8717      1972\n",
      "   macro avg     0.7545    0.8900    0.7685      1972\n",
      "weighted avg     0.9370    0.8717    0.8930      1972\n",
      " samples avg     0.8717    0.8717    0.8717      1972\n",
      "\n"
     ]
    }
   ],
   "source": [
    "from sklearn.metrics import classification_report\n",
    "print(classification_report(Y_test, to_categorical( numpy.argmax(model.predict(X_test), axis=1) ),\n",
    "                           digits=4,\n",
    "                           target_names=[\"CWE-\"+str(cwe_id) for cwe_id in researchconcepts]) )"
   ]
  },
  {
   "cell_type": "code",
   "execution_count": 16,
   "metadata": {},
   "outputs": [],
   "source": [
    "savename = 'CWE_MLP_Var1_distinct_word2vec_weightedClasses.h5'\n",
    "model.save(savename)\n",
    "#model.load_weights(savename)"
   ]
  }
 ],
 "metadata": {
  "kernelspec": {
   "display_name": "Python 3.7",
   "language": "python",
   "name": "python3"
  },
  "language_info": {
   "codemirror_mode": {
    "name": "ipython",
    "version": 3
   },
   "file_extension": ".py",
   "mimetype": "text/x-python",
   "name": "python",
   "nbconvert_exporter": "python",
   "pygments_lexer": "ipython3",
   "version": "3.7.8"
  }
 },
 "nbformat": 4,
 "nbformat_minor": 4
}
