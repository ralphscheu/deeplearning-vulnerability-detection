{
 "cells": [
  {
   "cell_type": "code",
   "execution_count": 1,
   "metadata": {},
   "outputs": [],
   "source": [
    "import pandas as pd\n",
    "import subprocess\n",
    "import re\n",
    "from IPython.display import clear_output\n",
    "import pathlib\n",
    "from tqdm import tqdm\n",
    "from clang.cindex import *\n",
    "\n",
    "Config.set_library_path('/mnt/md0/user/scheuererra68323/clang/llvm-project/build/lib')\n",
    "\n",
    "CODE_INPUT_DIR = r'/mnt/md0/user/scheuererra68323/testset_jtt/C/testcases'"
   ]
  },
  {
   "cell_type": "code",
   "execution_count": 2,
   "metadata": {},
   "outputs": [
    {
     "name": "stdout",
     "output_type": "stream",
     "text": [
      "found: 101231 source files\n"
     ]
    }
   ],
   "source": [
    "# find source code files\n",
    "\n",
    "source_file_paths = []\n",
    "\n",
    "for ext in ('*.c', '*.cxx', '*.cpp'):\n",
    "    source_file_paths.extend( pathlib.Path(CODE_INPUT_DIR).rglob(ext) )\n",
    "\n",
    "print(\"found: {} source files\".format(len(source_file_paths)))"
   ]
  },
  {
   "cell_type": "code",
   "execution_count": 3,
   "metadata": {},
   "outputs": [
    {
     "name": "stderr",
     "output_type": "stream",
     "text": [
      "/usr/local/lib/python3.7/dist-packages/tqdm/std.py:648: FutureWarning: The Panel class is removed from pandas. Accessing it from the top-level namespace will also be removed in the next version\n",
      "  from pandas import Panel\n",
      "  2%|▏         | 1662/101231 [02:14<2:41:34, 10.27it/s]"
     ]
    },
    {
     "ename": "KeyboardInterrupt",
     "evalue": "",
     "output_type": "error",
     "traceback": [
      "\u001b[0;31m---------------------------------------------------------------------------\u001b[0m",
      "\u001b[0;31mKeyboardInterrupt\u001b[0m                         Traceback (most recent call last)",
      "\u001b[0;32m<ipython-input-3-f110c7878593>\u001b[0m in \u001b[0;36m<module>\u001b[0;34m\u001b[0m\n\u001b[1;32m     14\u001b[0m \u001b[0;34m\u001b[0m\u001b[0m\n\u001b[1;32m     15\u001b[0m     \u001b[0mindex\u001b[0m \u001b[0;34m=\u001b[0m \u001b[0mIndex\u001b[0m\u001b[0;34m.\u001b[0m\u001b[0mcreate\u001b[0m\u001b[0;34m(\u001b[0m\u001b[0;34m)\u001b[0m\u001b[0;34m\u001b[0m\u001b[0;34m\u001b[0m\u001b[0m\n\u001b[0;32m---> 16\u001b[0;31m     \u001b[0mtu\u001b[0m \u001b[0;34m=\u001b[0m \u001b[0mindex\u001b[0m\u001b[0;34m.\u001b[0m\u001b[0mparse\u001b[0m\u001b[0;34m(\u001b[0m\u001b[0mpath\u001b[0m\u001b[0;34m)\u001b[0m\u001b[0;34m\u001b[0m\u001b[0;34m\u001b[0m\u001b[0m\n\u001b[0m\u001b[1;32m     17\u001b[0m     \u001b[0;32mfor\u001b[0m \u001b[0mnode\u001b[0m \u001b[0;32min\u001b[0m \u001b[0mtu\u001b[0m\u001b[0;34m.\u001b[0m\u001b[0mcursor\u001b[0m\u001b[0;34m.\u001b[0m\u001b[0mwalk_preorder\u001b[0m\u001b[0;34m(\u001b[0m\u001b[0;34m)\u001b[0m\u001b[0;34m:\u001b[0m\u001b[0;34m\u001b[0m\u001b[0;34m\u001b[0m\u001b[0m\n\u001b[1;32m     18\u001b[0m         \u001b[0;32mif\u001b[0m \u001b[0mstr\u001b[0m\u001b[0;34m(\u001b[0m\u001b[0mnode\u001b[0m\u001b[0;34m.\u001b[0m\u001b[0mlocation\u001b[0m\u001b[0;34m.\u001b[0m\u001b[0mfile\u001b[0m\u001b[0;34m)\u001b[0m \u001b[0;34m!=\u001b[0m \u001b[0mstr\u001b[0m\u001b[0;34m(\u001b[0m\u001b[0mpath\u001b[0m\u001b[0;34m)\u001b[0m\u001b[0;34m:\u001b[0m\u001b[0;34m\u001b[0m\u001b[0;34m\u001b[0m\u001b[0m\n",
      "\u001b[0;32m~/.local/lib/python3.7/site-packages/clang/cindex.py\u001b[0m in \u001b[0;36mparse\u001b[0;34m(self, path, args, unsaved_files, options)\u001b[0m\n\u001b[1;32m   2719\u001b[0m         \"\"\"\n\u001b[1;32m   2720\u001b[0m         return TranslationUnit.from_source(path, args, unsaved_files, options,\n\u001b[0;32m-> 2721\u001b[0;31m                                            self)\n\u001b[0m\u001b[1;32m   2722\u001b[0m \u001b[0;34m\u001b[0m\u001b[0m\n\u001b[1;32m   2723\u001b[0m \u001b[0;32mclass\u001b[0m \u001b[0mTranslationUnit\u001b[0m\u001b[0;34m(\u001b[0m\u001b[0mClangObject\u001b[0m\u001b[0;34m)\u001b[0m\u001b[0;34m:\u001b[0m\u001b[0;34m\u001b[0m\u001b[0;34m\u001b[0m\u001b[0m\n",
      "\u001b[0;32m~/.local/lib/python3.7/site-packages/clang/cindex.py\u001b[0m in \u001b[0;36mfrom_source\u001b[0;34m(cls, filename, args, unsaved_files, options, index)\u001b[0m\n\u001b[1;32m   2830\u001b[0m                                     \u001b[0margs_array\u001b[0m\u001b[0;34m,\u001b[0m\u001b[0;34m\u001b[0m\u001b[0;34m\u001b[0m\u001b[0m\n\u001b[1;32m   2831\u001b[0m                                     \u001b[0mlen\u001b[0m\u001b[0;34m(\u001b[0m\u001b[0margs\u001b[0m\u001b[0;34m)\u001b[0m\u001b[0;34m,\u001b[0m \u001b[0munsaved_array\u001b[0m\u001b[0;34m,\u001b[0m\u001b[0;34m\u001b[0m\u001b[0;34m\u001b[0m\u001b[0m\n\u001b[0;32m-> 2832\u001b[0;31m                                     len(unsaved_files), options)\n\u001b[0m\u001b[1;32m   2833\u001b[0m \u001b[0;34m\u001b[0m\u001b[0m\n\u001b[1;32m   2834\u001b[0m         \u001b[0;32mif\u001b[0m \u001b[0;32mnot\u001b[0m \u001b[0mptr\u001b[0m\u001b[0;34m:\u001b[0m\u001b[0;34m\u001b[0m\u001b[0;34m\u001b[0m\u001b[0m\n",
      "\u001b[0;31mKeyboardInterrupt\u001b[0m: "
     ]
    }
   ],
   "source": [
    "num_found = 0\n",
    "node_types = []\n",
    "code_samples = pd.DataFrame(columns=['path', 'line_start', 'line_stop', 'code_snippet']) \n",
    "\n",
    "show_progress = True\n",
    "\n",
    "i = 1\n",
    "n = len(source_file_paths)   # insert number of relevant files here\n",
    "\n",
    "tqdm.pandas(desc=\"Extract Functions\")\n",
    "for path in tqdm(source_file_paths):\n",
    "\n",
    "    code = open(path, encoding='utf-8').read().split('\\n')\n",
    "    \n",
    "    index = Index.create()\n",
    "    tu = index.parse(path)\n",
    "    for node in tu.cursor.walk_preorder():\n",
    "        if str(node.location.file) != str(path):\n",
    "            #print(str(node.location.file) ,\"!=\", str(path))\n",
    "            pass\n",
    "        elif node.kind in [CursorKind.FUNCTION_DECL, \n",
    "                           CursorKind.CXX_METHOD, \n",
    "                           CursorKind.CONSTRUCTOR,\n",
    "                           CursorKind.DESTRUCTOR] and node.get_definition() is not None:\n",
    "            # found a function declaration -> extract the function body\n",
    "            num_found+=1\n",
    "            line_start = node.get_definition().extent.start.line\n",
    "            line_stop  = node.get_definition().extent.end.line\n",
    "            \n",
    "            #print (\"###{} -- {}-{}\".format(node.kind, line_start, line_stop))\n",
    "            \n",
    "            # append relevant code lines\n",
    "            code_snippet_lines = code[line_start-1:line_stop]\n",
    "            code_snippet = '\\n'.join(code_snippet_lines)\n",
    "            \n",
    "            #print(code_snippet)\n",
    "\n",
    "            # find first and last curly braces\n",
    "            try:\n",
    "                i1 = code_snippet.index('{')\n",
    "                i2 = code_snippet.rindex('}')\n",
    "            except:\n",
    "                break\n",
    "                \n",
    "            code_snippet_lines = code_snippet[i1+1:i2].strip().split('\\n')\n",
    "\n",
    "            #print( code_snippet_lines )\n",
    "\n",
    "            if code_snippet != '':\n",
    "                code_samples = code_samples.append({\n",
    "                    'path' :        pathlib.Path.as_posix(path),   # convert path to posix style before saving\n",
    "                    'line_start' :  line_start,\n",
    "                    'line_stop' :   line_stop,\n",
    "                    'code_snippet': code_snippet_lines\n",
    "                }, ignore_index=True)\n",
    "                \n",
    "            else:\n",
    "                pass\n",
    "        \n",
    "        \n",
    "print(num_found)\n",
    "code_samples#.code_snippet"
   ]
  },
  {
   "cell_type": "markdown",
   "metadata": {},
   "source": [
    "## Save to HDF"
   ]
  },
  {
   "cell_type": "code",
   "execution_count": null,
   "metadata": {},
   "outputs": [],
   "source": [
    "code_samples.to_hdf('/mnt/md0/user/scheuererra68323/JTT_ExtractFunctions.h5', key='JTT_ExtractFunctions')"
   ]
  },
  {
   "cell_type": "code",
   "execution_count": null,
   "metadata": {},
   "outputs": [],
   "source": []
  },
  {
   "cell_type": "code",
   "execution_count": null,
   "metadata": {},
   "outputs": [],
   "source": []
  },
  {
   "cell_type": "markdown",
   "metadata": {},
   "source": [
    "### Determine dataset from filepath"
   ]
  },
  {
   "cell_type": "code",
   "execution_count": null,
   "metadata": {},
   "outputs": [],
   "source": [
    "df = code_samples.copy()\n",
    "\n",
    "df['dataset'] = df.path.str.extract('code_input\\/([^/]+)/')\n",
    "df.groupby('dataset').count()"
   ]
  },
  {
   "cell_type": "code",
   "execution_count": null,
   "metadata": {},
   "outputs": [],
   "source": []
  }
 ],
 "metadata": {
  "kernelspec": {
   "display_name": "Python 3",
   "language": "python",
   "name": "python3"
  },
  "language_info": {
   "codemirror_mode": {
    "name": "ipython",
    "version": 3
   },
   "file_extension": ".py",
   "mimetype": "text/x-python",
   "name": "python",
   "nbconvert_exporter": "python",
   "pygments_lexer": "ipython3",
   "version": "3.7.3"
  }
 },
 "nbformat": 4,
 "nbformat_minor": 4
}
