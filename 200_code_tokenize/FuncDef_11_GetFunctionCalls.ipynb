{
 "cells": [
  {
   "cell_type": "code",
   "execution_count": 1,
   "metadata": {},
   "outputs": [],
   "source": [
    "import pandas as pd\n",
    "from clang.cindex import *\n",
    "from tqdm import tqdm\n",
    "import swifter"
   ]
  },
  {
   "cell_type": "code",
   "execution_count": 2,
   "metadata": {},
   "outputs": [],
   "source": [
    "Config.set_library_path('/mnt/md0/user/scheuererra68323/clang/llvm-project/build/lib')"
   ]
  },
  {
   "cell_type": "code",
   "execution_count": 5,
   "metadata": {},
   "outputs": [
    {
     "name": "stdout",
     "output_type": "stream",
     "text": [
      "(100000, 4)\n"
     ]
    },
    {
     "data": {
      "text/html": [
       "<div>\n",
       "<style scoped>\n",
       "    .dataframe tbody tr th:only-of-type {\n",
       "        vertical-align: middle;\n",
       "    }\n",
       "\n",
       "    .dataframe tbody tr th {\n",
       "        vertical-align: top;\n",
       "    }\n",
       "\n",
       "    .dataframe thead th {\n",
       "        text-align: right;\n",
       "    }\n",
       "</style>\n",
       "<table border=\"1\" class=\"dataframe\">\n",
       "  <thead>\n",
       "    <tr style=\"text-align: right;\">\n",
       "      <th></th>\n",
       "      <th>path</th>\n",
       "      <th>line_start</th>\n",
       "      <th>line_stop</th>\n",
       "      <th>code_snippet</th>\n",
       "    </tr>\n",
       "  </thead>\n",
       "  <tbody>\n",
       "    <tr>\n",
       "      <th>181060</th>\n",
       "      <td>/mnt/md0/user/scheuererra68323/testset_jtt/C/t...</td>\n",
       "      <td>42</td>\n",
       "      <td>55</td>\n",
       "      <td>[while(1),     {,         {,             char ...</td>\n",
       "    </tr>\n",
       "    <tr>\n",
       "      <th>164522</th>\n",
       "      <td>/mnt/md0/user/scheuererra68323/testset_jtt/C/t...</td>\n",
       "      <td>116</td>\n",
       "      <td>152</td>\n",
       "      <td>[wchar_t * data;,     wchar_t dataBuffer[100] ...</td>\n",
       "    </tr>\n",
       "    <tr>\n",
       "      <th>134828</th>\n",
       "      <td>/mnt/md0/user/scheuererra68323/testset_jtt/C/t...</td>\n",
       "      <td>53</td>\n",
       "      <td>56</td>\n",
       "      <td>[goodG2B();]</td>\n",
       "    </tr>\n",
       "    <tr>\n",
       "      <th>331121</th>\n",
       "      <td>/mnt/md0/user/scheuererra68323/testset_jtt/C/t...</td>\n",
       "      <td>23</td>\n",
       "      <td>28</td>\n",
       "      <td>[data = dataCopy;,     /* FIX: Use a positive ...</td>\n",
       "    </tr>\n",
       "    <tr>\n",
       "      <th>78921</th>\n",
       "      <td>/mnt/md0/user/scheuererra68323/testset_jtt/C/t...</td>\n",
       "      <td>45</td>\n",
       "      <td>48</td>\n",
       "      <td>[CWE190_Integer_Overflow__int_max_preinc_53d_g...</td>\n",
       "    </tr>\n",
       "  </tbody>\n",
       "</table>\n",
       "</div>"
      ],
      "text/plain": [
       "                                                     path line_start  \\\n",
       "181060  /mnt/md0/user/scheuererra68323/testset_jtt/C/t...         42   \n",
       "164522  /mnt/md0/user/scheuererra68323/testset_jtt/C/t...        116   \n",
       "134828  /mnt/md0/user/scheuererra68323/testset_jtt/C/t...         53   \n",
       "331121  /mnt/md0/user/scheuererra68323/testset_jtt/C/t...         23   \n",
       "78921   /mnt/md0/user/scheuererra68323/testset_jtt/C/t...         45   \n",
       "\n",
       "       line_stop                                       code_snippet  \n",
       "181060        55  [while(1),     {,         {,             char ...  \n",
       "164522       152  [wchar_t * data;,     wchar_t dataBuffer[100] ...  \n",
       "134828        56                                       [goodG2B();]  \n",
       "331121        28  [data = dataCopy;,     /* FIX: Use a positive ...  \n",
       "78921         48  [CWE190_Integer_Overflow__int_max_preinc_53d_g...  "
      ]
     },
     "execution_count": 5,
     "metadata": {},
     "output_type": "execute_result"
    }
   ],
   "source": [
    "code_samples = pd.read_hdf(\"/mnt/md0/user/scheuererra68323/testset_jtt/JTT_ExtractFunctions.h5\")\n",
    "code_samples = code_samples.sample(n=100000, random_state=0)\n",
    "\n",
    "# fix paths\n",
    "#code_samples.path = '/mnt/md0/user/scheuererra68323/' + code_samples.path\n",
    "#code_samples.path = code_samples.path.str.replace('SARD-testsuite-102', 'SARD-102')\n",
    "print(code_samples.shape)\n",
    "code_samples.head()"
   ]
  },
  {
   "cell_type": "code",
   "execution_count": null,
   "metadata": {},
   "outputs": [
    {
     "data": {
      "application/vnd.jupyter.widget-view+json": {
       "model_id": "f541cd2b126a494d82250eb949ef48ad",
       "version_major": 2,
       "version_minor": 0
      },
      "text/plain": [
       "HBox(children=(IntProgress(value=0, description='Pandas Apply', max=100000, style=ProgressStyle(description_wi…"
      ]
     },
     "metadata": {},
     "output_type": "display_data"
    }
   ],
   "source": [
    "def find_function_calls_in_file(sample):\n",
    "    \n",
    "    # this will contain names of all called external functions\n",
    "    external_function_names = set()\n",
    "\n",
    "    try:\n",
    "        # get AST with libclang\n",
    "        index = Index.create()\n",
    "        tu = index.parse(sample.path)\n",
    "\n",
    "        for node in tu.cursor.walk_preorder():\n",
    "            if(sample.line_start <= node.location.line <= sample.line_stop):\n",
    "                if str(node.location.file) != str(sample.path):\n",
    "                    pass\n",
    "                elif node.kind in [CursorKind.CALL_EXPR]:\n",
    "                    if node.get_definition() is None or str(node.get_definition().location.file) != str(sample.path):\n",
    "                        # this is a call of a external function or method\n",
    "                        #print (\"# {}\\t--\\t{}\\t--\\t{}\".format(node.location.line, node.spelling, \"External Function Call\"))\n",
    "                        external_function_names.add(node.spelling)\n",
    "    except:\n",
    "        print(sample.path)\n",
    "        pass\n",
    "    \n",
    "    return list(external_function_names)\n",
    "\n",
    "code_samples['external_function_names'] = code_samples.swifter.apply(find_function_calls_in_file, axis=\"columns\")"
   ]
  },
  {
   "cell_type": "code",
   "execution_count": null,
   "metadata": {},
   "outputs": [],
   "source": [
    "print(code_samples.head())"
   ]
  },
  {
   "cell_type": "markdown",
   "metadata": {},
   "source": [
    "## Save to HDF"
   ]
  },
  {
   "cell_type": "code",
   "execution_count": 6,
   "metadata": {},
   "outputs": [
    {
     "name": "stderr",
     "output_type": "stream",
     "text": [
      "/home/scheuererra68323/.local/lib/python3.7/site-packages/pandas/core/generic.py:2505: PerformanceWarning: \n",
      "your performance may suffer as PyTables will pickle object types that it cannot\n",
      "map directly to c-types [inferred_type->mixed-integer,key->block0_values] [items->Index(['path', 'line_start', 'line_stop', 'code_snippet',\n",
      "       'external_function_names'],\n",
      "      dtype='object')]\n",
      "\n",
      "  encoding=encoding,\n"
     ]
    }
   ],
   "source": [
    "code_samples.to_hdf('/mnt/md0/user/scheuererra68323/JTT_wExtFuncCalls.h5', key='JTT_wExtFuncCalls')"
   ]
  },
  {
   "cell_type": "code",
   "execution_count": 7,
   "metadata": {},
   "outputs": [
    {
     "name": "stdout",
     "output_type": "stream",
     "text": [
      "saved output to /mnt/md0/user/scheuererra68323/JTT_wExtFuncCalls.h5\n"
     ]
    }
   ],
   "source": [
    "print(\"saved output to /mnt/md0/user/scheuererra68323/JTT_wExtFuncCalls.h5\")"
   ]
  },
  {
   "cell_type": "code",
   "execution_count": null,
   "metadata": {},
   "outputs": [],
   "source": []
  }
 ],
 "metadata": {
  "kernelspec": {
   "display_name": "Python 3",
   "language": "python",
   "name": "python3"
  },
  "language_info": {
   "codemirror_mode": {
    "name": "ipython",
    "version": 3
   },
   "file_extension": ".py",
   "mimetype": "text/x-python",
   "name": "python",
   "nbconvert_exporter": "python",
   "pygments_lexer": "ipython3",
   "version": "3.7.3"
  }
 },
 "nbformat": 4,
 "nbformat_minor": 4
}
