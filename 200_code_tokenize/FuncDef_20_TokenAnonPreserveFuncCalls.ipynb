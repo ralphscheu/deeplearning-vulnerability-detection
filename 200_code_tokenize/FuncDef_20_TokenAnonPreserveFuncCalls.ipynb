{
 "cells": [
  {
   "cell_type": "markdown",
   "metadata": {},
   "source": [
    "# Tokenize and anonymize code samples"
   ]
  },
  {
   "cell_type": "code",
   "execution_count": 1,
   "metadata": {},
   "outputs": [],
   "source": [
    "import pandas as pd\n",
    "import subprocess\n",
    "import re\n",
    "from tqdm import tqdm\n",
    "#from pandas import Panel"
   ]
  },
  {
   "cell_type": "markdown",
   "metadata": {},
   "source": [
    "## Load function defs with dump_tokens output"
   ]
  },
  {
   "cell_type": "code",
   "execution_count": 3,
   "metadata": {},
   "outputs": [
    {
     "name": "stdout",
     "output_type": "stream",
     "text": [
      "(25000, 6)\n"
     ]
    },
    {
     "data": {
      "text/html": [
       "<div>\n",
       "<style scoped>\n",
       "    .dataframe tbody tr th:only-of-type {\n",
       "        vertical-align: middle;\n",
       "    }\n",
       "\n",
       "    .dataframe tbody tr th {\n",
       "        vertical-align: top;\n",
       "    }\n",
       "\n",
       "    .dataframe thead th {\n",
       "        text-align: right;\n",
       "    }\n",
       "</style>\n",
       "<table border=\"1\" class=\"dataframe\">\n",
       "  <thead>\n",
       "    <tr style=\"text-align: right;\">\n",
       "      <th></th>\n",
       "      <th>path</th>\n",
       "      <th>line_start</th>\n",
       "      <th>line_stop</th>\n",
       "      <th>code_snippet</th>\n",
       "      <th>external_function_names</th>\n",
       "      <th>dump_tokens_output</th>\n",
       "    </tr>\n",
       "    <tr>\n",
       "      <th>index</th>\n",
       "      <th></th>\n",
       "      <th></th>\n",
       "      <th></th>\n",
       "      <th></th>\n",
       "      <th></th>\n",
       "      <th></th>\n",
       "    </tr>\n",
       "  </thead>\n",
       "  <tbody>\n",
       "    <tr>\n",
       "      <th>83452</th>\n",
       "      <td>/mnt/md0/user/scheuererra68323/testset_jtt/C/t...</td>\n",
       "      <td>22</td>\n",
       "      <td>39</td>\n",
       "      <td>[unsigned int data;,     data = 0;,     if(glo...</td>\n",
       "      <td>[printUnsignedLine, globalReturnsTrue]</td>\n",
       "      <td>unsigned 'unsigned'\\t [StartOfLine]\\tLoc=&lt;&lt;std...</td>\n",
       "    </tr>\n",
       "    <tr>\n",
       "      <th>248990</th>\n",
       "      <td>/mnt/md0/user/scheuererra68323/testset_jtt/C/t...</td>\n",
       "      <td>199</td>\n",
       "      <td>203</td>\n",
       "      <td>[goodG2B();,     goodB2G();]</td>\n",
       "      <td>[]</td>\n",
       "      <td>identifier 'goodG2B'\\t [StartOfLine]\\tLoc=&lt;&lt;st...</td>\n",
       "    </tr>\n",
       "    <tr>\n",
       "      <th>220067</th>\n",
       "      <td>/mnt/md0/user/scheuererra68323/testset_jtt/C/t...</td>\n",
       "      <td>56</td>\n",
       "      <td>67</td>\n",
       "      <td>[int64_t * data;,     /* Initialize data*/,   ...</td>\n",
       "      <td>[CWE762_Mismatched_Memory_Management_Routines_...</td>\n",
       "      <td>identifier 'int64_t'\\t [StartOfLine]\\tLoc=&lt;&lt;st...</td>\n",
       "    </tr>\n",
       "    <tr>\n",
       "      <th>283612</th>\n",
       "      <td>/mnt/md0/user/scheuererra68323/testset_jtt/C/t...</td>\n",
       "      <td>52</td>\n",
       "      <td>57</td>\n",
       "      <td>[printIntLine(data-&gt;intOne);,     /* POTENTIAL...</td>\n",
       "      <td>[]</td>\n",
       "      <td>identifier 'printIntLine'\\t [StartOfLine]\\tLoc...</td>\n",
       "    </tr>\n",
       "    <tr>\n",
       "      <th>142227</th>\n",
       "      <td>/mnt/md0/user/scheuererra68323/testset_jtt/C/t...</td>\n",
       "      <td>46</td>\n",
       "      <td>52</td>\n",
       "      <td>[if(GLOBAL_CONST_FIVE==5),     {,         sign...</td>\n",
       "      <td>[signal]</td>\n",
       "      <td>if 'if'\\t [StartOfLine]\\tLoc=&lt;&lt;stdin&gt;:1:1&gt;\\nl_...</td>\n",
       "    </tr>\n",
       "  </tbody>\n",
       "</table>\n",
       "</div>"
      ],
      "text/plain": [
       "                                                     path  line_start  \\\n",
       "index                                                                   \n",
       "83452   /mnt/md0/user/scheuererra68323/testset_jtt/C/t...          22   \n",
       "248990  /mnt/md0/user/scheuererra68323/testset_jtt/C/t...         199   \n",
       "220067  /mnt/md0/user/scheuererra68323/testset_jtt/C/t...          56   \n",
       "283612  /mnt/md0/user/scheuererra68323/testset_jtt/C/t...          52   \n",
       "142227  /mnt/md0/user/scheuererra68323/testset_jtt/C/t...          46   \n",
       "\n",
       "        line_stop                                       code_snippet  \\\n",
       "index                                                                  \n",
       "83452          39  [unsigned int data;,     data = 0;,     if(glo...   \n",
       "248990        203                       [goodG2B();,     goodB2G();]   \n",
       "220067         67  [int64_t * data;,     /* Initialize data*/,   ...   \n",
       "283612         57  [printIntLine(data->intOne);,     /* POTENTIAL...   \n",
       "142227         52  [if(GLOBAL_CONST_FIVE==5),     {,         sign...   \n",
       "\n",
       "                                  external_function_names  \\\n",
       "index                                                       \n",
       "83452              [printUnsignedLine, globalReturnsTrue]   \n",
       "248990                                                 []   \n",
       "220067  [CWE762_Mismatched_Memory_Management_Routines_...   \n",
       "283612                                                 []   \n",
       "142227                                           [signal]   \n",
       "\n",
       "                                       dump_tokens_output  \n",
       "index                                                      \n",
       "83452   unsigned 'unsigned'\\t [StartOfLine]\\tLoc=<<std...  \n",
       "248990  identifier 'goodG2B'\\t [StartOfLine]\\tLoc=<<st...  \n",
       "220067  identifier 'int64_t'\\t [StartOfLine]\\tLoc=<<st...  \n",
       "283612  identifier 'printIntLine'\\t [StartOfLine]\\tLoc...  \n",
       "142227  if 'if'\\t [StartOfLine]\\tLoc=<<stdin>:1:1>\\nl_...  "
      ]
     },
     "execution_count": 3,
     "metadata": {},
     "output_type": "execute_result"
    }
   ],
   "source": [
    "df = pd.read_parquet(r'/mnt/md0/user/scheuererra68323/JTT/JTT_DumpTokens_wExtFuncCalls.parquet')\n",
    "print(df.shape)\n",
    "df.head()"
   ]
  },
  {
   "cell_type": "markdown",
   "metadata": {},
   "source": [
    "## Parse output of clang -dump-tokens"
   ]
  },
  {
   "cell_type": "code",
   "execution_count": 4,
   "metadata": {},
   "outputs": [
    {
     "name": "stderr",
     "output_type": "stream",
     "text": [
      "/usr/local/lib/python3.7/dist-packages/tqdm/std.py:648: FutureWarning: The Panel class is removed from pandas. Accessing it from the top-level namespace will also be removed in the next version\n",
      "  from pandas import Panel\n",
      "Get Function Calls: 100%|██████████| 25000/25000 [04:56<00:00, 84.33it/s]\n"
     ]
    }
   ],
   "source": [
    "def handle_identifiers(row, external_function_names):\n",
    "    if row.token_text in external_function_names:\n",
    "        return row.token_text\n",
    "    elif row.token_type == 'identifier':\n",
    "        return row['identifier_anon']\n",
    "    elif row.token_type == 'string_literal':\n",
    "        return '<string_literal>'\n",
    "    elif row.token_type == 'wide_string_literal':\n",
    "        return '<wide_string_literal>'\n",
    "    elif row.token_type == 'utf16_string_literal':\n",
    "        return '<utf16_string_literal>'\n",
    "    elif row.token_type == 'char_constant':\n",
    "        return '<char_constant>'\n",
    "    elif row.token_type == 'numeric_constant':\n",
    "        return '<numeric_constant>'\n",
    "    else:\n",
    "        #if row.token_text == 'token_text_to_investigate':\n",
    "        #    print(\"-------\")\n",
    "        #    print(\"token_text_to_investigate -\\t\", row.dump_tokens_output)\n",
    "        #    print(\"-------\")\n",
    "        return row.token_text\n",
    "\n",
    "def parse_dump_tokens(row):\n",
    "    tokens = pd.DataFrame(row.dump_tokens_output.split('\\n'), columns=['dump_tokens_output'])\n",
    "\n",
    "    tokens['token_type'] = tokens['dump_tokens_output'].str.extract('(\\w+)')\n",
    "    tokens['token_text'] = tokens['dump_tokens_output'].str.extract(r'\\w+ \\'(.+)\\'') #.reset_index()[0]\n",
    "    \n",
    "    # remove eof, empty lines and error messages from command output\n",
    "    tokens = tokens[ tokens.token_text.notnull() ]\n",
    "    tokens = tokens[ tokens.token_text.map(len) >= 1 ]\n",
    "    \n",
    "    regex = r\"<stdin>|#|\\s*~|\\s*\\^\"    \n",
    "    if not tokens[ tokens.dump_tokens_output.str.match( regex ) ].empty:\n",
    "        tokens = tokens[ tokens.dump_tokens_output.str.match( regex ) == False ]\n",
    "    \n",
    "    if tokens.empty:\n",
    "        return None\n",
    "   \n",
    "    # create a lookup table for identifier anonymization\n",
    "    anonymize_identifiers = pd.DataFrame( tokens[tokens.token_type=='identifier'].token_text.unique() , columns=['token_text'])\n",
    "    anonymize_identifiers['index_txt'] = anonymize_identifiers.reset_index()['index'].astype(str)\n",
    "    anonymize_identifiers['identifier_anon'] = 'identifier' + anonymize_identifiers.index_txt\n",
    "    anonymize_identifiers.drop(['index_txt'], axis='columns', inplace=True)\n",
    "    \n",
    "    tokens = tokens.merge(anonymize_identifiers, on='token_text', how='left')\n",
    "    \n",
    "    tokens['token_anon'] = tokens.apply(handle_identifiers, axis='columns', args=[row.external_function_names])\n",
    "    \n",
    "    return  list(tokens.token_anon)\n",
    "\n",
    "\n",
    "tqdm.pandas(desc=\"Get Function Calls\")\n",
    "df['token_anon'] = df.progress_apply(parse_dump_tokens, axis='columns')\n",
    "df = df[df.token_anon.notnull()]"
   ]
  },
  {
   "cell_type": "code",
   "execution_count": 5,
   "metadata": {},
   "outputs": [
    {
     "name": "stdout",
     "output_type": "stream",
     "text": [
      "(24999, 7)\n",
      "                                                     path  line_start  \\\n",
      "index                                                                   \n",
      "83452   /mnt/md0/user/scheuererra68323/testset_jtt/C/t...          22   \n",
      "248990  /mnt/md0/user/scheuererra68323/testset_jtt/C/t...         199   \n",
      "220067  /mnt/md0/user/scheuererra68323/testset_jtt/C/t...          56   \n",
      "283612  /mnt/md0/user/scheuererra68323/testset_jtt/C/t...          52   \n",
      "142227  /mnt/md0/user/scheuererra68323/testset_jtt/C/t...          46   \n",
      "\n",
      "        line_stop                                       code_snippet  \\\n",
      "index                                                                  \n",
      "83452          39  [unsigned int data;,     data = 0;,     if(glo...   \n",
      "248990        203                       [goodG2B();,     goodB2G();]   \n",
      "220067         67  [int64_t * data;,     /* Initialize data*/,   ...   \n",
      "283612         57  [printIntLine(data->intOne);,     /* POTENTIAL...   \n",
      "142227         52  [if(GLOBAL_CONST_FIVE==5),     {,         sign...   \n",
      "\n",
      "                                  external_function_names  \\\n",
      "index                                                       \n",
      "83452              [printUnsignedLine, globalReturnsTrue]   \n",
      "248990                                                 []   \n",
      "220067  [CWE762_Mismatched_Memory_Management_Routines_...   \n",
      "283612                                                 []   \n",
      "142227                                           [signal]   \n",
      "\n",
      "                                       dump_tokens_output  \\\n",
      "index                                                       \n",
      "83452   unsigned 'unsigned'\\t [StartOfLine]\\tLoc=<<std...   \n",
      "248990  identifier 'goodG2B'\\t [StartOfLine]\\tLoc=<<st...   \n",
      "220067  identifier 'int64_t'\\t [StartOfLine]\\tLoc=<<st...   \n",
      "283612  identifier 'printIntLine'\\t [StartOfLine]\\tLoc...   \n",
      "142227  if 'if'\\t [StartOfLine]\\tLoc=<<stdin>:1:1>\\nl_...   \n",
      "\n",
      "                                               token_anon  \n",
      "index                                                      \n",
      "83452   [unsigned, int, identifier0, ;, identifier0, =...  \n",
      "248990       [identifier0, (, ), ;, identifier1, (, ), ;]  \n",
      "220067  [identifier0, *, identifier1, ;, identifier1, ...  \n",
      "283612  [identifier0, (, identifier1, ->, identifier2,...  \n",
      "142227  [if, (, identifier0, ==, <numeric_constant>, )...  \n"
     ]
    }
   ],
   "source": [
    "print(df.shape)\n",
    "print(df.head())"
   ]
  },
  {
   "cell_type": "code",
   "execution_count": 6,
   "metadata": {},
   "outputs": [],
   "source": [
    "#df2 = df.copy()#.sample(n=2000, random_state=0)\n",
    "#unique_token_anon = pd.DataFrame(df2.token_anon.sum())[0].unique()\n",
    "#print(len(unique_token_anon),\"distinct tokens found\")\n",
    "#print(unique_token_anon)"
   ]
  },
  {
   "cell_type": "markdown",
   "metadata": {},
   "source": [
    "## Save output"
   ]
  },
  {
   "cell_type": "code",
   "execution_count": 6,
   "metadata": {},
   "outputs": [],
   "source": [
    "import fastparquet\n",
    "fastparquet.write(\"/mnt/md0/user/scheuererra68323/JTT/JTT_TokenAnon_wExtFuncCalls.parquet\", df, row_group_offsets=1000, compression=\"gzip\")"
   ]
  },
  {
   "cell_type": "markdown",
   "metadata": {},
   "source": [
    "## Test: Show token_anon"
   ]
  },
  {
   "cell_type": "code",
   "execution_count": null,
   "metadata": {},
   "outputs": [],
   "source": [
    "#print(len(unique_token_anon), \"unique tokens found\")\n",
    "#print(unique_token_anon)"
   ]
  },
  {
   "cell_type": "code",
   "execution_count": null,
   "metadata": {},
   "outputs": [],
   "source": []
  }
 ],
 "metadata": {
  "kernelspec": {
   "display_name": "Python 3",
   "language": "python",
   "name": "python3"
  },
  "language_info": {
   "codemirror_mode": {
    "name": "ipython",
    "version": 3
   },
   "file_extension": ".py",
   "mimetype": "text/x-python",
   "name": "python",
   "nbconvert_exporter": "python",
   "pygments_lexer": "ipython3",
   "version": "3.7.3"
  }
 },
 "nbformat": 4,
 "nbformat_minor": 4
}
