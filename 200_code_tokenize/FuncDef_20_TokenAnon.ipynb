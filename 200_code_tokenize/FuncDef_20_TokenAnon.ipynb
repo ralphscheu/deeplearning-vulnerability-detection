{
 "cells": [
  {
   "cell_type": "markdown",
   "metadata": {},
   "source": [
    "# Tokenize and anonymize code samples"
   ]
  },
  {
   "cell_type": "code",
   "execution_count": 3,
   "metadata": {},
   "outputs": [],
   "source": [
    "import pandas as pd\n",
    "import subprocess\n",
    "import re\n",
    "from tqdm import tqdm"
   ]
  },
  {
   "cell_type": "markdown",
   "metadata": {},
   "source": [
    "## Load function defs with dump_tokens output"
   ]
  },
  {
   "cell_type": "code",
   "execution_count": 4,
   "metadata": {},
   "outputs": [
    {
     "name": "stderr",
     "output_type": "stream",
     "text": [
      "C:\\Users\\ralph\\.conda\\envs\\ba-vulnn\\lib\\site-packages\\fastparquet\\encoding.py:222: NumbaDeprecationWarning: \u001b[1mThe 'numba.jitclass' decorator has moved to 'numba.experimental.jitclass' to better reflect the experimental nature of the functionality. Please update your imports to accommodate this change and see http://numba.pydata.org/numba-doc/latest/reference/deprecation.html#change-of-jitclass-location for the time frame.\u001b[0m\n",
      "  Numpy8 = numba.jitclass(spec8)(NumpyIO)\n",
      "C:\\Users\\ralph\\.conda\\envs\\ba-vulnn\\lib\\site-packages\\fastparquet\\encoding.py:224: NumbaDeprecationWarning: \u001b[1mThe 'numba.jitclass' decorator has moved to 'numba.experimental.jitclass' to better reflect the experimental nature of the functionality. Please update your imports to accommodate this change and see http://numba.pydata.org/numba-doc/latest/reference/deprecation.html#change-of-jitclass-location for the time frame.\u001b[0m\n",
      "  Numpy32 = numba.jitclass(spec32)(NumpyIO)\n",
      "C:\\Users\\ralph\\.conda\\envs\\ba-vulnn\\lib\\site-packages\\fastparquet\\dataframe.py:5: FutureWarning: pandas.core.index is deprecated and will be removed in a future version.  The public classes are available in the top-level namespace.\n",
      "  from pandas.core.index import CategoricalIndex, RangeIndex, Index, MultiIndex\n"
     ]
    },
    {
     "name": "stdout",
     "output_type": "stream",
     "text": [
      "(304846, 5)\n"
     ]
    },
    {
     "data": {
      "text/html": [
       "<div>\n",
       "<style scoped>\n",
       "    .dataframe tbody tr th:only-of-type {\n",
       "        vertical-align: middle;\n",
       "    }\n",
       "\n",
       "    .dataframe tbody tr th {\n",
       "        vertical-align: top;\n",
       "    }\n",
       "\n",
       "    .dataframe thead th {\n",
       "        text-align: right;\n",
       "    }\n",
       "</style>\n",
       "<table border=\"1\" class=\"dataframe\">\n",
       "  <thead>\n",
       "    <tr style=\"text-align: right;\">\n",
       "      <th></th>\n",
       "      <th>path</th>\n",
       "      <th>line_start</th>\n",
       "      <th>line_stop</th>\n",
       "      <th>code_snippet</th>\n",
       "      <th>dump_tokens_output</th>\n",
       "    </tr>\n",
       "    <tr>\n",
       "      <th>index</th>\n",
       "      <th></th>\n",
       "      <th></th>\n",
       "      <th></th>\n",
       "      <th></th>\n",
       "      <th></th>\n",
       "    </tr>\n",
       "  </thead>\n",
       "  <tbody>\n",
       "    <tr>\n",
       "      <th>0</th>\n",
       "      <td>code_input/libreoffice-6.4.2.2/bean/native/uni...</td>\n",
       "      <td>38</td>\n",
       "      <td>51</td>\n",
       "      <td>[jclass c;,     (*env)-&gt;ExceptionClear(env);, ...</td>\n",
       "      <td>identifier 'jclass'\\t [StartOfLine]\\tLoc=&lt;&lt;std...</td>\n",
       "    </tr>\n",
       "    <tr>\n",
       "      <th>1</th>\n",
       "      <td>code_input/libreoffice-6.4.2.2/bean/native/win...</td>\n",
       "      <td>42</td>\n",
       "      <td>55</td>\n",
       "      <td>[jclass c;,     (*env)-&gt;ExceptionClear(env);, ...</td>\n",
       "      <td>identifier 'jclass'\\t [StartOfLine]\\tLoc=&lt;&lt;std...</td>\n",
       "    </tr>\n",
       "    <tr>\n",
       "      <th>2</th>\n",
       "      <td>code_input/libreoffice-6.4.2.2/cppuhelper/sour...</td>\n",
       "      <td>42</td>\n",
       "      <td>82</td>\n",
       "      <td>[HKEY hkey;,     DWORD type;,     wchar_t* dat...</td>\n",
       "      <td>identifier 'HKEY'\\t [StartOfLine]\\tLoc=&lt;&lt;stdin...</td>\n",
       "    </tr>\n",
       "    <tr>\n",
       "      <th>3</th>\n",
       "      <td>code_input/libreoffice-6.4.2.2/cppuhelper/sour...</td>\n",
       "      <td>90</td>\n",
       "      <td>114</td>\n",
       "      <td>[const wchar_t* UNOPATHVARNAME = L\"UNO_PATH\";,...</td>\n",
       "      <td>const 'const'\\t [StartOfLine]\\tLoc=&lt;&lt;stdin&gt;:1:...</td>\n",
       "    </tr>\n",
       "    <tr>\n",
       "      <th>4</th>\n",
       "      <td>code_input/libreoffice-6.4.2.2/cppuhelper/sour...</td>\n",
       "      <td>210</td>\n",
       "      <td>217</td>\n",
       "      <td>[return platformSpecific();]</td>\n",
       "      <td>return 'return'\\t [StartOfLine]\\tLoc=&lt;&lt;stdin&gt;:...</td>\n",
       "    </tr>\n",
       "    <tr>\n",
       "      <th>5</th>\n",
       "      <td>code_input/libreoffice-6.4.2.2/desktop/source/...</td>\n",
       "      <td>47</td>\n",
       "      <td>55</td>\n",
       "      <td>[int ret = soffice_main();, #ifdef DBG_UTIL, #...</td>\n",
       "      <td>int 'int'\\t [StartOfLine]\\tLoc=&lt;&lt;stdin&gt;:1:1&gt;\\n...</td>\n",
       "    </tr>\n",
       "    <tr>\n",
       "      <th>6</th>\n",
       "      <td>code_input/libreoffice-6.4.2.2/desktop/source/...</td>\n",
       "      <td>24</td>\n",
       "      <td>26</td>\n",
       "      <td>[return unopkg_main();]</td>\n",
       "      <td>return 'return'\\t [StartOfLine]\\tLoc=&lt;&lt;stdin&gt;:...</td>\n",
       "    </tr>\n",
       "    <tr>\n",
       "      <th>7</th>\n",
       "      <td>code_input/libreoffice-6.4.2.2/desktop/test/de...</td>\n",
       "      <td>23</td>\n",
       "      <td>33</td>\n",
       "      <td>[//prevent warning about unused parameters,   ...</td>\n",
       "      <td>l_paren '('\\t [StartOfLine] [LeadingSpace]\\tLo...</td>\n",
       "    </tr>\n",
       "    <tr>\n",
       "      <th>8</th>\n",
       "      <td>code_input/libreoffice-6.4.2.2/desktop/unx/sou...</td>\n",
       "      <td>16</td>\n",
       "      <td>20</td>\n",
       "      <td>[return !rtl_ustr_ascii_compare_WithLength (st...</td>\n",
       "      <td>return 'return'\\t [StartOfLine]\\tLoc=&lt;&lt;stdin&gt;:...</td>\n",
       "    </tr>\n",
       "    <tr>\n",
       "      <th>9</th>\n",
       "      <td>code_input/libreoffice-6.4.2.2/desktop/unx/sou...</td>\n",
       "      <td>60</td>\n",
       "      <td>128</td>\n",
       "      <td>[Args *args;,     sal_uInt32 nArgs, i, j;, ,  ...</td>\n",
       "      <td>identifier 'Args'\\t [StartOfLine]\\tLoc=&lt;&lt;stdin...</td>\n",
       "    </tr>\n",
       "  </tbody>\n",
       "</table>\n",
       "</div>"
      ],
      "text/plain": [
       "                                                    path  line_start  \\\n",
       "index                                                                  \n",
       "0      code_input/libreoffice-6.4.2.2/bean/native/uni...          38   \n",
       "1      code_input/libreoffice-6.4.2.2/bean/native/win...          42   \n",
       "2      code_input/libreoffice-6.4.2.2/cppuhelper/sour...          42   \n",
       "3      code_input/libreoffice-6.4.2.2/cppuhelper/sour...          90   \n",
       "4      code_input/libreoffice-6.4.2.2/cppuhelper/sour...         210   \n",
       "5      code_input/libreoffice-6.4.2.2/desktop/source/...          47   \n",
       "6      code_input/libreoffice-6.4.2.2/desktop/source/...          24   \n",
       "7      code_input/libreoffice-6.4.2.2/desktop/test/de...          23   \n",
       "8      code_input/libreoffice-6.4.2.2/desktop/unx/sou...          16   \n",
       "9      code_input/libreoffice-6.4.2.2/desktop/unx/sou...          60   \n",
       "\n",
       "       line_stop                                       code_snippet  \\\n",
       "index                                                                 \n",
       "0             51  [jclass c;,     (*env)->ExceptionClear(env);, ...   \n",
       "1             55  [jclass c;,     (*env)->ExceptionClear(env);, ...   \n",
       "2             82  [HKEY hkey;,     DWORD type;,     wchar_t* dat...   \n",
       "3            114  [const wchar_t* UNOPATHVARNAME = L\"UNO_PATH\";,...   \n",
       "4            217                       [return platformSpecific();]   \n",
       "5             55  [int ret = soffice_main();, #ifdef DBG_UTIL, #...   \n",
       "6             26                            [return unopkg_main();]   \n",
       "7             33  [//prevent warning about unused parameters,   ...   \n",
       "8             20  [return !rtl_ustr_ascii_compare_WithLength (st...   \n",
       "9            128  [Args *args;,     sal_uInt32 nArgs, i, j;, ,  ...   \n",
       "\n",
       "                                      dump_tokens_output  \n",
       "index                                                     \n",
       "0      identifier 'jclass'\\t [StartOfLine]\\tLoc=<<std...  \n",
       "1      identifier 'jclass'\\t [StartOfLine]\\tLoc=<<std...  \n",
       "2      identifier 'HKEY'\\t [StartOfLine]\\tLoc=<<stdin...  \n",
       "3      const 'const'\\t [StartOfLine]\\tLoc=<<stdin>:1:...  \n",
       "4      return 'return'\\t [StartOfLine]\\tLoc=<<stdin>:...  \n",
       "5      int 'int'\\t [StartOfLine]\\tLoc=<<stdin>:1:1>\\n...  \n",
       "6      return 'return'\\t [StartOfLine]\\tLoc=<<stdin>:...  \n",
       "7      l_paren '('\\t [StartOfLine] [LeadingSpace]\\tLo...  \n",
       "8      return 'return'\\t [StartOfLine]\\tLoc=<<stdin>:...  \n",
       "9      identifier 'Args'\\t [StartOfLine]\\tLoc=<<stdin...  "
      ]
     },
     "execution_count": 4,
     "metadata": {},
     "output_type": "execute_result"
    }
   ],
   "source": [
    "df = pd.read_parquet(r'./FuncDef_15_DumpTokens.parquet')\n",
    "print(df.shape)\n",
    "df.head(10)"
   ]
  },
  {
   "cell_type": "markdown",
   "metadata": {},
   "source": [
    "## Parse output of clang -dump-tokens"
   ]
  },
  {
   "cell_type": "code",
   "execution_count": 5,
   "metadata": {},
   "outputs": [
    {
     "name": "stderr",
     "output_type": "stream",
     "text": [
      "C:\\Users\\ralph\\.conda\\envs\\ba-vulnn\\lib\\site-packages\\tqdm\\std.py:666: FutureWarning: The Panel class is removed from pandas. Accessing it from the top-level namespace will also be removed in the next version\n",
      "  from pandas import Panel\n",
      "Get Function Calls: 100%|██████████| 304846/304846 [1:39:49<00:00, 50.90it/s]  \n"
     ]
    }
   ],
   "source": [
    "def handle_identifiers(row):\n",
    "    if row.token_type == 'identifier':\n",
    "        return row['identifier_anon']\n",
    "    elif row.token_type == 'string_literal':\n",
    "        return '<string_literal>'\n",
    "    elif row.token_type == 'wide_string_literal':\n",
    "        return '<wide_string_literal>'\n",
    "    elif row.token_type == 'utf16_string_literal':\n",
    "        return '<utf16_string_literal>'\n",
    "    elif row.token_type == 'char_constant':\n",
    "        return '<char_constant>'\n",
    "    elif row.token_type == 'numeric_constant':\n",
    "        return '<numeric_constant>'\n",
    "    else:\n",
    "        #if row.token_text == 'token_text_to_investigate':\n",
    "        #    print(\"-------\")\n",
    "        #    print(\"token_text_to_investigate -\\t\", row.dump_tokens_output)\n",
    "        #    print(\"-------\")\n",
    "        return row['token_text']\n",
    "\n",
    "def parse_dump_tokens(row):\n",
    "    tokens = pd.DataFrame(row.dump_tokens_output.split('\\n'), columns=['dump_tokens_output'])\n",
    "\n",
    "    tokens['token_type'] = tokens['dump_tokens_output'].str.extract('(\\w+)')\n",
    "    tokens['token_text'] = tokens['dump_tokens_output'].str.extract(r'\\w+ \\'(.+)\\'') #.reset_index()[0]\n",
    "    \n",
    "    # remove eof, empty lines and error messages from command output\n",
    "    tokens = tokens[ tokens.token_text.notnull() ]\n",
    "    tokens = tokens[ tokens.token_text.map(len) >= 1 ]\n",
    "    \n",
    "    regex = r\"<stdin>|#|\\s*~|\\s*\\^\"    \n",
    "    if not tokens[ tokens.dump_tokens_output.str.match( regex ) ].empty:\n",
    "        tokens = tokens[ tokens.dump_tokens_output.str.match( regex ) == False ]\n",
    "    \n",
    "    if tokens.empty:\n",
    "        return None\n",
    "   \n",
    "    # create a lookup table for identifier anonymization\n",
    "    anonymize_identifiers = pd.DataFrame( tokens[tokens.token_type=='identifier'].token_text.unique() , columns=['token_text'])\n",
    "    anonymize_identifiers['index_txt'] = anonymize_identifiers.reset_index()['index'].astype(str)\n",
    "    anonymize_identifiers['identifier_anon'] = 'identifier' + anonymize_identifiers.index_txt\n",
    "    anonymize_identifiers.drop(['index_txt'], axis='columns', inplace=True)\n",
    "    \n",
    "    tokens = tokens.merge(anonymize_identifiers, on='token_text', how='left')\n",
    "    \n",
    "    tokens['token_anon'] = tokens.apply(handle_identifiers, axis='columns')\n",
    "    \n",
    "    return  list(tokens.token_anon)\n",
    "\n",
    "\n",
    "tqdm.pandas(desc=\"Get Function Calls\")\n",
    "df['token_anon'] = df.progress_apply(parse_dump_tokens, axis='columns')\n",
    "df = df[df.token_anon.notnull()]"
   ]
  },
  {
   "cell_type": "code",
   "execution_count": 6,
   "metadata": {},
   "outputs": [
    {
     "name": "stdout",
     "output_type": "stream",
     "text": [
      "(292655, 6)\n"
     ]
    },
    {
     "data": {
      "text/html": [
       "<div>\n",
       "<style scoped>\n",
       "    .dataframe tbody tr th:only-of-type {\n",
       "        vertical-align: middle;\n",
       "    }\n",
       "\n",
       "    .dataframe tbody tr th {\n",
       "        vertical-align: top;\n",
       "    }\n",
       "\n",
       "    .dataframe thead th {\n",
       "        text-align: right;\n",
       "    }\n",
       "</style>\n",
       "<table border=\"1\" class=\"dataframe\">\n",
       "  <thead>\n",
       "    <tr style=\"text-align: right;\">\n",
       "      <th></th>\n",
       "      <th>path</th>\n",
       "      <th>line_start</th>\n",
       "      <th>line_stop</th>\n",
       "      <th>code_snippet</th>\n",
       "      <th>dump_tokens_output</th>\n",
       "      <th>token_anon</th>\n",
       "    </tr>\n",
       "    <tr>\n",
       "      <th>index</th>\n",
       "      <th></th>\n",
       "      <th></th>\n",
       "      <th></th>\n",
       "      <th></th>\n",
       "      <th></th>\n",
       "      <th></th>\n",
       "    </tr>\n",
       "  </thead>\n",
       "  <tbody>\n",
       "    <tr>\n",
       "      <th>0</th>\n",
       "      <td>code_input/libreoffice-6.4.2.2/bean/native/uni...</td>\n",
       "      <td>38</td>\n",
       "      <td>51</td>\n",
       "      <td>[jclass c;,     (*env)-&gt;ExceptionClear(env);, ...</td>\n",
       "      <td>identifier 'jclass'\\t [StartOfLine]\\tLoc=&lt;&lt;std...</td>\n",
       "      <td>[identifier0, identifier1, ;, (, *, identifier...</td>\n",
       "    </tr>\n",
       "    <tr>\n",
       "      <th>1</th>\n",
       "      <td>code_input/libreoffice-6.4.2.2/bean/native/win...</td>\n",
       "      <td>42</td>\n",
       "      <td>55</td>\n",
       "      <td>[jclass c;,     (*env)-&gt;ExceptionClear(env);, ...</td>\n",
       "      <td>identifier 'jclass'\\t [StartOfLine]\\tLoc=&lt;&lt;std...</td>\n",
       "      <td>[identifier0, identifier1, ;, (, *, identifier...</td>\n",
       "    </tr>\n",
       "    <tr>\n",
       "      <th>2</th>\n",
       "      <td>code_input/libreoffice-6.4.2.2/cppuhelper/sour...</td>\n",
       "      <td>42</td>\n",
       "      <td>82</td>\n",
       "      <td>[HKEY hkey;,     DWORD type;,     wchar_t* dat...</td>\n",
       "      <td>identifier 'HKEY'\\t [StartOfLine]\\tLoc=&lt;&lt;stdin...</td>\n",
       "      <td>[identifier0, identifier1, ;, identifier2, ide...</td>\n",
       "    </tr>\n",
       "    <tr>\n",
       "      <th>3</th>\n",
       "      <td>code_input/libreoffice-6.4.2.2/cppuhelper/sour...</td>\n",
       "      <td>90</td>\n",
       "      <td>114</td>\n",
       "      <td>[const wchar_t* UNOPATHVARNAME = L\"UNO_PATH\";,...</td>\n",
       "      <td>const 'const'\\t [StartOfLine]\\tLoc=&lt;&lt;stdin&gt;:1:...</td>\n",
       "      <td>[const, wchar_t, *, identifier0, =, &lt;wide_stri...</td>\n",
       "    </tr>\n",
       "    <tr>\n",
       "      <th>4</th>\n",
       "      <td>code_input/libreoffice-6.4.2.2/cppuhelper/sour...</td>\n",
       "      <td>210</td>\n",
       "      <td>217</td>\n",
       "      <td>[return platformSpecific();]</td>\n",
       "      <td>return 'return'\\t [StartOfLine]\\tLoc=&lt;&lt;stdin&gt;:...</td>\n",
       "      <td>[return, identifier0, (, ), ;]</td>\n",
       "    </tr>\n",
       "  </tbody>\n",
       "</table>\n",
       "</div>"
      ],
      "text/plain": [
       "                                                    path  line_start  \\\n",
       "index                                                                  \n",
       "0      code_input/libreoffice-6.4.2.2/bean/native/uni...          38   \n",
       "1      code_input/libreoffice-6.4.2.2/bean/native/win...          42   \n",
       "2      code_input/libreoffice-6.4.2.2/cppuhelper/sour...          42   \n",
       "3      code_input/libreoffice-6.4.2.2/cppuhelper/sour...          90   \n",
       "4      code_input/libreoffice-6.4.2.2/cppuhelper/sour...         210   \n",
       "\n",
       "       line_stop                                       code_snippet  \\\n",
       "index                                                                 \n",
       "0             51  [jclass c;,     (*env)->ExceptionClear(env);, ...   \n",
       "1             55  [jclass c;,     (*env)->ExceptionClear(env);, ...   \n",
       "2             82  [HKEY hkey;,     DWORD type;,     wchar_t* dat...   \n",
       "3            114  [const wchar_t* UNOPATHVARNAME = L\"UNO_PATH\";,...   \n",
       "4            217                       [return platformSpecific();]   \n",
       "\n",
       "                                      dump_tokens_output  \\\n",
       "index                                                      \n",
       "0      identifier 'jclass'\\t [StartOfLine]\\tLoc=<<std...   \n",
       "1      identifier 'jclass'\\t [StartOfLine]\\tLoc=<<std...   \n",
       "2      identifier 'HKEY'\\t [StartOfLine]\\tLoc=<<stdin...   \n",
       "3      const 'const'\\t [StartOfLine]\\tLoc=<<stdin>:1:...   \n",
       "4      return 'return'\\t [StartOfLine]\\tLoc=<<stdin>:...   \n",
       "\n",
       "                                              token_anon  \n",
       "index                                                     \n",
       "0      [identifier0, identifier1, ;, (, *, identifier...  \n",
       "1      [identifier0, identifier1, ;, (, *, identifier...  \n",
       "2      [identifier0, identifier1, ;, identifier2, ide...  \n",
       "3      [const, wchar_t, *, identifier0, =, <wide_stri...  \n",
       "4                         [return, identifier0, (, ), ;]  "
      ]
     },
     "execution_count": 6,
     "metadata": {},
     "output_type": "execute_result"
    }
   ],
   "source": [
    "print(df.shape)\n",
    "df.head()"
   ]
  },
  {
   "cell_type": "code",
   "execution_count": null,
   "metadata": {},
   "outputs": [],
   "source": [
    "df2 = df.copy()#.sample(n=2000, random_state=0)\n",
    "unique_token_anon = pd.DataFrame(df2.token_anon.sum())[0].unique()\n",
    "print(len(unique_token_anon),\"distinct tokens found\")\n",
    "print(unique_token_anon)"
   ]
  },
  {
   "cell_type": "markdown",
   "metadata": {},
   "source": [
    "## Save output"
   ]
  },
  {
   "cell_type": "code",
   "execution_count": 8,
   "metadata": {},
   "outputs": [
    {
     "name": "stderr",
     "output_type": "stream",
     "text": [
      "C:\\Users\\ralph\\.conda\\envs\\ba-vulnn\\lib\\site-packages\\pandas\\core\\generic.py:2505: PerformanceWarning: \n",
      "your performance may suffer as PyTables will pickle object types that it cannot\n",
      "map directly to c-types [inferred_type->mixed,key->block1_values] [items->Index(['path', 'code_snippet', 'dump_tokens_output', 'token_anon'], dtype='object')]\n",
      "\n",
      "  encoding=encoding,\n"
     ]
    },
    {
     "ename": "OverflowError",
     "evalue": "Python int too large to convert to C long",
     "output_type": "error",
     "traceback": [
      "\u001b[1;31m---------------------------------------------------------------------------\u001b[0m",
      "\u001b[1;31mOverflowError\u001b[0m                             Traceback (most recent call last)",
      "\u001b[1;32m<ipython-input-8-ea9d9ff3f175>\u001b[0m in \u001b[0;36m<module>\u001b[1;34m\u001b[0m\n\u001b[1;32m----> 1\u001b[1;33m \u001b[0mdf\u001b[0m\u001b[1;33m.\u001b[0m\u001b[0mto_hdf\u001b[0m\u001b[1;33m(\u001b[0m\u001b[1;34m'./FuncDef_20_TokenAnon.h5'\u001b[0m\u001b[1;33m,\u001b[0m \u001b[0mkey\u001b[0m\u001b[1;33m=\u001b[0m\u001b[1;34m'FuncDef_20_sample1k_TokenAnon'\u001b[0m\u001b[1;33m)\u001b[0m\u001b[1;33m\u001b[0m\u001b[1;33m\u001b[0m\u001b[0m\n\u001b[0m",
      "\u001b[1;32m~\\.conda\\envs\\ba-vulnn\\lib\\site-packages\\pandas\\core\\generic.py\u001b[0m in \u001b[0;36mto_hdf\u001b[1;34m(self, path_or_buf, key, mode, complevel, complib, append, format, index, min_itemsize, nan_rep, dropna, data_columns, errors, encoding)\u001b[0m\n\u001b[0;32m   2503\u001b[0m             \u001b[0mdata_columns\u001b[0m\u001b[1;33m=\u001b[0m\u001b[0mdata_columns\u001b[0m\u001b[1;33m,\u001b[0m\u001b[1;33m\u001b[0m\u001b[1;33m\u001b[0m\u001b[0m\n\u001b[0;32m   2504\u001b[0m             \u001b[0merrors\u001b[0m\u001b[1;33m=\u001b[0m\u001b[0merrors\u001b[0m\u001b[1;33m,\u001b[0m\u001b[1;33m\u001b[0m\u001b[1;33m\u001b[0m\u001b[0m\n\u001b[1;32m-> 2505\u001b[1;33m             \u001b[0mencoding\u001b[0m\u001b[1;33m=\u001b[0m\u001b[0mencoding\u001b[0m\u001b[1;33m,\u001b[0m\u001b[1;33m\u001b[0m\u001b[1;33m\u001b[0m\u001b[0m\n\u001b[0m\u001b[0;32m   2506\u001b[0m         )\n\u001b[0;32m   2507\u001b[0m \u001b[1;33m\u001b[0m\u001b[0m\n",
      "\u001b[1;32m~\\.conda\\envs\\ba-vulnn\\lib\\site-packages\\pandas\\io\\pytables.py\u001b[0m in \u001b[0;36mto_hdf\u001b[1;34m(path_or_buf, key, value, mode, complevel, complib, append, format, index, min_itemsize, nan_rep, dropna, data_columns, errors, encoding)\u001b[0m\n\u001b[0;32m    280\u001b[0m             \u001b[0mpath_or_buf\u001b[0m\u001b[1;33m,\u001b[0m \u001b[0mmode\u001b[0m\u001b[1;33m=\u001b[0m\u001b[0mmode\u001b[0m\u001b[1;33m,\u001b[0m \u001b[0mcomplevel\u001b[0m\u001b[1;33m=\u001b[0m\u001b[0mcomplevel\u001b[0m\u001b[1;33m,\u001b[0m \u001b[0mcomplib\u001b[0m\u001b[1;33m=\u001b[0m\u001b[0mcomplib\u001b[0m\u001b[1;33m\u001b[0m\u001b[1;33m\u001b[0m\u001b[0m\n\u001b[0;32m    281\u001b[0m         ) as store:\n\u001b[1;32m--> 282\u001b[1;33m             \u001b[0mf\u001b[0m\u001b[1;33m(\u001b[0m\u001b[0mstore\u001b[0m\u001b[1;33m)\u001b[0m\u001b[1;33m\u001b[0m\u001b[1;33m\u001b[0m\u001b[0m\n\u001b[0m\u001b[0;32m    283\u001b[0m     \u001b[1;32melse\u001b[0m\u001b[1;33m:\u001b[0m\u001b[1;33m\u001b[0m\u001b[1;33m\u001b[0m\u001b[0m\n\u001b[0;32m    284\u001b[0m         \u001b[0mf\u001b[0m\u001b[1;33m(\u001b[0m\u001b[0mpath_or_buf\u001b[0m\u001b[1;33m)\u001b[0m\u001b[1;33m\u001b[0m\u001b[1;33m\u001b[0m\u001b[0m\n",
      "\u001b[1;32m~\\.conda\\envs\\ba-vulnn\\lib\\site-packages\\pandas\\io\\pytables.py\u001b[0m in \u001b[0;36m<lambda>\u001b[1;34m(store)\u001b[0m\n\u001b[0;32m    272\u001b[0m             \u001b[0mdata_columns\u001b[0m\u001b[1;33m=\u001b[0m\u001b[0mdata_columns\u001b[0m\u001b[1;33m,\u001b[0m\u001b[1;33m\u001b[0m\u001b[1;33m\u001b[0m\u001b[0m\n\u001b[0;32m    273\u001b[0m             \u001b[0merrors\u001b[0m\u001b[1;33m=\u001b[0m\u001b[0merrors\u001b[0m\u001b[1;33m,\u001b[0m\u001b[1;33m\u001b[0m\u001b[1;33m\u001b[0m\u001b[0m\n\u001b[1;32m--> 274\u001b[1;33m             \u001b[0mencoding\u001b[0m\u001b[1;33m=\u001b[0m\u001b[0mencoding\u001b[0m\u001b[1;33m,\u001b[0m\u001b[1;33m\u001b[0m\u001b[1;33m\u001b[0m\u001b[0m\n\u001b[0m\u001b[0;32m    275\u001b[0m         )\n\u001b[0;32m    276\u001b[0m \u001b[1;33m\u001b[0m\u001b[0m\n",
      "\u001b[1;32m~\\.conda\\envs\\ba-vulnn\\lib\\site-packages\\pandas\\io\\pytables.py\u001b[0m in \u001b[0;36mput\u001b[1;34m(self, key, value, format, index, append, complib, complevel, min_itemsize, nan_rep, data_columns, encoding, errors)\u001b[0m\n\u001b[0;32m   1040\u001b[0m             \u001b[0mdata_columns\u001b[0m\u001b[1;33m=\u001b[0m\u001b[0mdata_columns\u001b[0m\u001b[1;33m,\u001b[0m\u001b[1;33m\u001b[0m\u001b[1;33m\u001b[0m\u001b[0m\n\u001b[0;32m   1041\u001b[0m             \u001b[0mencoding\u001b[0m\u001b[1;33m=\u001b[0m\u001b[0mencoding\u001b[0m\u001b[1;33m,\u001b[0m\u001b[1;33m\u001b[0m\u001b[1;33m\u001b[0m\u001b[0m\n\u001b[1;32m-> 1042\u001b[1;33m             \u001b[0merrors\u001b[0m\u001b[1;33m=\u001b[0m\u001b[0merrors\u001b[0m\u001b[1;33m,\u001b[0m\u001b[1;33m\u001b[0m\u001b[1;33m\u001b[0m\u001b[0m\n\u001b[0m\u001b[0;32m   1043\u001b[0m         )\n\u001b[0;32m   1044\u001b[0m \u001b[1;33m\u001b[0m\u001b[0m\n",
      "\u001b[1;32m~\\.conda\\envs\\ba-vulnn\\lib\\site-packages\\pandas\\io\\pytables.py\u001b[0m in \u001b[0;36m_write_to_group\u001b[1;34m(self, key, value, format, axes, index, append, complib, complevel, fletcher32, min_itemsize, chunksize, expectedrows, dropna, nan_rep, data_columns, encoding, errors)\u001b[0m\n\u001b[0;32m   1707\u001b[0m             \u001b[0mdropna\u001b[0m\u001b[1;33m=\u001b[0m\u001b[0mdropna\u001b[0m\u001b[1;33m,\u001b[0m\u001b[1;33m\u001b[0m\u001b[1;33m\u001b[0m\u001b[0m\n\u001b[0;32m   1708\u001b[0m             \u001b[0mnan_rep\u001b[0m\u001b[1;33m=\u001b[0m\u001b[0mnan_rep\u001b[0m\u001b[1;33m,\u001b[0m\u001b[1;33m\u001b[0m\u001b[1;33m\u001b[0m\u001b[0m\n\u001b[1;32m-> 1709\u001b[1;33m             \u001b[0mdata_columns\u001b[0m\u001b[1;33m=\u001b[0m\u001b[0mdata_columns\u001b[0m\u001b[1;33m,\u001b[0m\u001b[1;33m\u001b[0m\u001b[1;33m\u001b[0m\u001b[0m\n\u001b[0m\u001b[0;32m   1710\u001b[0m         )\n\u001b[0;32m   1711\u001b[0m \u001b[1;33m\u001b[0m\u001b[0m\n",
      "\u001b[1;32m~\\.conda\\envs\\ba-vulnn\\lib\\site-packages\\pandas\\io\\pytables.py\u001b[0m in \u001b[0;36mwrite\u001b[1;34m(self, obj, **kwargs)\u001b[0m\n\u001b[0;32m   3099\u001b[0m             \u001b[1;31m# I have no idea why, but writing values before items fixed #2299\u001b[0m\u001b[1;33m\u001b[0m\u001b[1;33m\u001b[0m\u001b[1;33m\u001b[0m\u001b[0m\n\u001b[0;32m   3100\u001b[0m             \u001b[0mblk_items\u001b[0m \u001b[1;33m=\u001b[0m \u001b[0mdata\u001b[0m\u001b[1;33m.\u001b[0m\u001b[0mitems\u001b[0m\u001b[1;33m.\u001b[0m\u001b[0mtake\u001b[0m\u001b[1;33m(\u001b[0m\u001b[0mblk\u001b[0m\u001b[1;33m.\u001b[0m\u001b[0mmgr_locs\u001b[0m\u001b[1;33m)\u001b[0m\u001b[1;33m\u001b[0m\u001b[1;33m\u001b[0m\u001b[0m\n\u001b[1;32m-> 3101\u001b[1;33m             \u001b[0mself\u001b[0m\u001b[1;33m.\u001b[0m\u001b[0mwrite_array\u001b[0m\u001b[1;33m(\u001b[0m\u001b[1;34mf\"block{i}_values\"\u001b[0m\u001b[1;33m,\u001b[0m \u001b[0mblk\u001b[0m\u001b[1;33m.\u001b[0m\u001b[0mvalues\u001b[0m\u001b[1;33m,\u001b[0m \u001b[0mitems\u001b[0m\u001b[1;33m=\u001b[0m\u001b[0mblk_items\u001b[0m\u001b[1;33m)\u001b[0m\u001b[1;33m\u001b[0m\u001b[1;33m\u001b[0m\u001b[0m\n\u001b[0m\u001b[0;32m   3102\u001b[0m             \u001b[0mself\u001b[0m\u001b[1;33m.\u001b[0m\u001b[0mwrite_index\u001b[0m\u001b[1;33m(\u001b[0m\u001b[1;34mf\"block{i}_items\"\u001b[0m\u001b[1;33m,\u001b[0m \u001b[0mblk_items\u001b[0m\u001b[1;33m)\u001b[0m\u001b[1;33m\u001b[0m\u001b[1;33m\u001b[0m\u001b[0m\n\u001b[0;32m   3103\u001b[0m \u001b[1;33m\u001b[0m\u001b[0m\n",
      "\u001b[1;32m~\\.conda\\envs\\ba-vulnn\\lib\\site-packages\\pandas\\io\\pytables.py\u001b[0m in \u001b[0;36mwrite_array\u001b[1;34m(self, key, value, items)\u001b[0m\n\u001b[0;32m   2956\u001b[0m \u001b[1;33m\u001b[0m\u001b[0m\n\u001b[0;32m   2957\u001b[0m             \u001b[0mvlarr\u001b[0m \u001b[1;33m=\u001b[0m \u001b[0mself\u001b[0m\u001b[1;33m.\u001b[0m\u001b[0m_handle\u001b[0m\u001b[1;33m.\u001b[0m\u001b[0mcreate_vlarray\u001b[0m\u001b[1;33m(\u001b[0m\u001b[0mself\u001b[0m\u001b[1;33m.\u001b[0m\u001b[0mgroup\u001b[0m\u001b[1;33m,\u001b[0m \u001b[0mkey\u001b[0m\u001b[1;33m,\u001b[0m \u001b[0m_tables\u001b[0m\u001b[1;33m(\u001b[0m\u001b[1;33m)\u001b[0m\u001b[1;33m.\u001b[0m\u001b[0mObjectAtom\u001b[0m\u001b[1;33m(\u001b[0m\u001b[1;33m)\u001b[0m\u001b[1;33m)\u001b[0m\u001b[1;33m\u001b[0m\u001b[1;33m\u001b[0m\u001b[0m\n\u001b[1;32m-> 2958\u001b[1;33m             \u001b[0mvlarr\u001b[0m\u001b[1;33m.\u001b[0m\u001b[0mappend\u001b[0m\u001b[1;33m(\u001b[0m\u001b[0mvalue\u001b[0m\u001b[1;33m)\u001b[0m\u001b[1;33m\u001b[0m\u001b[1;33m\u001b[0m\u001b[0m\n\u001b[0m\u001b[0;32m   2959\u001b[0m \u001b[1;33m\u001b[0m\u001b[0m\n\u001b[0;32m   2960\u001b[0m         \u001b[1;32melif\u001b[0m \u001b[0mempty_array\u001b[0m\u001b[1;33m:\u001b[0m\u001b[1;33m\u001b[0m\u001b[1;33m\u001b[0m\u001b[0m\n",
      "\u001b[1;32m~\\.conda\\envs\\ba-vulnn\\lib\\site-packages\\tables\\vlarray.py\u001b[0m in \u001b[0;36mappend\u001b[1;34m(self, sequence)\u001b[0m\n\u001b[0;32m    541\u001b[0m             \u001b[0mnparr\u001b[0m \u001b[1;33m=\u001b[0m \u001b[1;32mNone\u001b[0m\u001b[1;33m\u001b[0m\u001b[1;33m\u001b[0m\u001b[0m\n\u001b[0;32m    542\u001b[0m \u001b[1;33m\u001b[0m\u001b[0m\n\u001b[1;32m--> 543\u001b[1;33m         \u001b[0mself\u001b[0m\u001b[1;33m.\u001b[0m\u001b[0m_append\u001b[0m\u001b[1;33m(\u001b[0m\u001b[0mnparr\u001b[0m\u001b[1;33m,\u001b[0m \u001b[0mnobjects\u001b[0m\u001b[1;33m)\u001b[0m\u001b[1;33m\u001b[0m\u001b[1;33m\u001b[0m\u001b[0m\n\u001b[0m\u001b[0;32m    544\u001b[0m         \u001b[0mself\u001b[0m\u001b[1;33m.\u001b[0m\u001b[0mnrows\u001b[0m \u001b[1;33m+=\u001b[0m \u001b[1;36m1\u001b[0m\u001b[1;33m\u001b[0m\u001b[1;33m\u001b[0m\u001b[0m\n\u001b[0;32m    545\u001b[0m \u001b[1;33m\u001b[0m\u001b[0m\n",
      "\u001b[1;32mtables/hdf5extension.pyx\u001b[0m in \u001b[0;36mtables.hdf5extension.VLArray._append\u001b[1;34m()\u001b[0m\n",
      "\u001b[1;31mOverflowError\u001b[0m: Python int too large to convert to C long"
     ]
    }
   ],
   "source": [
    "df.to_hdf('./FuncDef_20_TokenAnon.h5', key='FuncDef_20_sample1k_TokenAnon')"
   ]
  },
  {
   "cell_type": "code",
   "execution_count": 7,
   "metadata": {},
   "outputs": [],
   "source": [
    "import fastparquet\n",
    "fastparquet.write(\"./FuncDef_20_TokenAnon.parquet\", df, row_group_offsets=1000, compression=\"gzip\")"
   ]
  },
  {
   "cell_type": "markdown",
   "metadata": {},
   "source": [
    "## Test: Show token_anon"
   ]
  },
  {
   "cell_type": "code",
   "execution_count": 1,
   "metadata": {},
   "outputs": [
    {
     "ename": "NameError",
     "evalue": "name 'pd' is not defined",
     "output_type": "error",
     "traceback": [
      "\u001b[1;31m---------------------------------------------------------------------------\u001b[0m",
      "\u001b[1;31mNameError\u001b[0m                                 Traceback (most recent call last)",
      "\u001b[1;32m<ipython-input-1-82ef1b432605>\u001b[0m in \u001b[0;36m<module>\u001b[1;34m\u001b[0m\n\u001b[1;32m----> 1\u001b[1;33m \u001b[0mlen\u001b[0m\u001b[1;33m(\u001b[0m\u001b[0mpd\u001b[0m\u001b[1;33m.\u001b[0m\u001b[0mDataFrame\u001b[0m\u001b[1;33m(\u001b[0m\u001b[0mtoken_anon\u001b[0m\u001b[1;33m.\u001b[0m\u001b[0mtoken_anon\u001b[0m\u001b[1;33m.\u001b[0m\u001b[0msum\u001b[0m\u001b[1;33m(\u001b[0m\u001b[1;33m)\u001b[0m\u001b[1;33m)\u001b[0m\u001b[1;33m[\u001b[0m\u001b[1;36m0\u001b[0m\u001b[1;33m]\u001b[0m\u001b[1;33m.\u001b[0m\u001b[0munique\u001b[0m\u001b[1;33m(\u001b[0m\u001b[1;33m)\u001b[0m\u001b[1;33m)\u001b[0m\u001b[1;33m\u001b[0m\u001b[1;33m\u001b[0m\u001b[0m\n\u001b[0m",
      "\u001b[1;31mNameError\u001b[0m: name 'pd' is not defined"
     ]
    }
   ],
   "source": [
    "len(pd.DataFrame(token_anon.token_anon.sum())[0].unique())"
   ]
  },
  {
   "cell_type": "code",
   "execution_count": null,
   "metadata": {},
   "outputs": [],
   "source": []
  }
 ],
 "metadata": {
  "kernelspec": {
   "display_name": "Python 3",
   "language": "python",
   "name": "python3"
  },
  "language_info": {
   "codemirror_mode": {
    "name": "ipython",
    "version": 3
   },
   "file_extension": ".py",
   "mimetype": "text/x-python",
   "name": "python",
   "nbconvert_exporter": "python",
   "pygments_lexer": "ipython3",
   "version": "3.7.3"
  }
 },
 "nbformat": 4,
 "nbformat_minor": 4
}
