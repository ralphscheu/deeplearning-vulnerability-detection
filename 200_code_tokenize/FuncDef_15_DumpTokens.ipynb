{
 "cells": [
  {
   "cell_type": "code",
   "execution_count": 1,
   "metadata": {},
   "outputs": [],
   "source": [
    "import pandas as pd\n",
    "import subprocess\n",
    "from pathlib import Path\n",
    "import re\n",
    "from tqdm import tqdm\n",
    "from subprocess import Popen, PIPE, STDOUT\n",
    "import swifter"
   ]
  },
  {
   "cell_type": "markdown",
   "metadata": {},
   "source": [
    "## Import RawSource"
   ]
  },
  {
   "cell_type": "code",
   "execution_count": 2,
   "metadata": {},
   "outputs": [],
   "source": [
    "FuncDef_11_wExtFuncCalls = pd.read_hdf('/mnt/md0/user/scheuererra68323/JTT/JTT_wExtFuncCalls.h5')"
   ]
  },
  {
   "cell_type": "code",
   "execution_count": 3,
   "metadata": {},
   "outputs": [
    {
     "name": "stdout",
     "output_type": "stream",
     "text": [
      "(350765, 5)\n"
     ]
    },
    {
     "data": {
      "text/html": [
       "<div>\n",
       "<style scoped>\n",
       "    .dataframe tbody tr th:only-of-type {\n",
       "        vertical-align: middle;\n",
       "    }\n",
       "\n",
       "    .dataframe tbody tr th {\n",
       "        vertical-align: top;\n",
       "    }\n",
       "\n",
       "    .dataframe thead th {\n",
       "        text-align: right;\n",
       "    }\n",
       "</style>\n",
       "<table border=\"1\" class=\"dataframe\">\n",
       "  <thead>\n",
       "    <tr style=\"text-align: right;\">\n",
       "      <th></th>\n",
       "      <th>path</th>\n",
       "      <th>line_start</th>\n",
       "      <th>line_stop</th>\n",
       "      <th>code_snippet</th>\n",
       "      <th>external_function_names</th>\n",
       "    </tr>\n",
       "  </thead>\n",
       "  <tbody>\n",
       "    <tr>\n",
       "      <th>0</th>\n",
       "      <td>/mnt/md0/user/scheuererra68323/testset_jtt/C/t...</td>\n",
       "      <td>25</td>\n",
       "      <td>28</td>\n",
       "      <td>[return 1;]</td>\n",
       "      <td>[]</td>\n",
       "    </tr>\n",
       "    <tr>\n",
       "      <th>1</th>\n",
       "      <td>/mnt/md0/user/scheuererra68323/testset_jtt/C/t...</td>\n",
       "      <td>30</td>\n",
       "      <td>33</td>\n",
       "      <td>[return 0;]</td>\n",
       "      <td>[]</td>\n",
       "    </tr>\n",
       "    <tr>\n",
       "      <th>2</th>\n",
       "      <td>/mnt/md0/user/scheuererra68323/testset_jtt/C/t...</td>\n",
       "      <td>37</td>\n",
       "      <td>50</td>\n",
       "      <td>[wchar_t * data;,     if(staticReturnsTrue()),...</td>\n",
       "      <td>[]</td>\n",
       "    </tr>\n",
       "    <tr>\n",
       "      <th>3</th>\n",
       "      <td>/mnt/md0/user/scheuererra68323/testset_jtt/C/t...</td>\n",
       "      <td>57</td>\n",
       "      <td>76</td>\n",
       "      <td>[wchar_t * data;,     if(staticReturnsTrue()),...</td>\n",
       "      <td>[printLine]</td>\n",
       "    </tr>\n",
       "    <tr>\n",
       "      <th>4</th>\n",
       "      <td>/mnt/md0/user/scheuererra68323/testset_jtt/C/t...</td>\n",
       "      <td>79</td>\n",
       "      <td>93</td>\n",
       "      <td>[wchar_t * data;,     if(staticReturnsTrue()),...</td>\n",
       "      <td>[]</td>\n",
       "    </tr>\n",
       "  </tbody>\n",
       "</table>\n",
       "</div>"
      ],
      "text/plain": [
       "                                                path line_start line_stop  \\\n",
       "0  /mnt/md0/user/scheuererra68323/testset_jtt/C/t...         25        28   \n",
       "1  /mnt/md0/user/scheuererra68323/testset_jtt/C/t...         30        33   \n",
       "2  /mnt/md0/user/scheuererra68323/testset_jtt/C/t...         37        50   \n",
       "3  /mnt/md0/user/scheuererra68323/testset_jtt/C/t...         57        76   \n",
       "4  /mnt/md0/user/scheuererra68323/testset_jtt/C/t...         79        93   \n",
       "\n",
       "                                        code_snippet external_function_names  \n",
       "0                                        [return 1;]                      []  \n",
       "1                                        [return 0;]                      []  \n",
       "2  [wchar_t * data;,     if(staticReturnsTrue()),...                      []  \n",
       "3  [wchar_t * data;,     if(staticReturnsTrue()),...             [printLine]  \n",
       "4  [wchar_t * data;,     if(staticReturnsTrue()),...                      []  "
      ]
     },
     "execution_count": 3,
     "metadata": {},
     "output_type": "execute_result"
    }
   ],
   "source": [
    "print(FuncDef_11_wExtFuncCalls.shape)\n",
    "FuncDef_11_wExtFuncCalls.head()"
   ]
  },
  {
   "cell_type": "markdown",
   "metadata": {},
   "source": [
    "## Run clang -dump-tokens on code snippet"
   ]
  },
  {
   "cell_type": "code",
   "execution_count": 4,
   "metadata": {},
   "outputs": [
    {
     "name": "stderr",
     "output_type": "stream",
     "text": [
      "Dump Tokens: 100%|██████████| 25000/25000 [30:14<00:00, 13.78it/s]\n"
     ]
    },
    {
     "data": {
      "text/html": [
       "<div>\n",
       "<style scoped>\n",
       "    .dataframe tbody tr th:only-of-type {\n",
       "        vertical-align: middle;\n",
       "    }\n",
       "\n",
       "    .dataframe tbody tr th {\n",
       "        vertical-align: top;\n",
       "    }\n",
       "\n",
       "    .dataframe thead th {\n",
       "        text-align: right;\n",
       "    }\n",
       "</style>\n",
       "<table border=\"1\" class=\"dataframe\">\n",
       "  <thead>\n",
       "    <tr style=\"text-align: right;\">\n",
       "      <th></th>\n",
       "      <th>path</th>\n",
       "      <th>line_start</th>\n",
       "      <th>line_stop</th>\n",
       "      <th>code_snippet</th>\n",
       "      <th>external_function_names</th>\n",
       "      <th>dump_tokens_output</th>\n",
       "    </tr>\n",
       "  </thead>\n",
       "  <tbody>\n",
       "    <tr>\n",
       "      <th>83452</th>\n",
       "      <td>/mnt/md0/user/scheuererra68323/testset_jtt/C/t...</td>\n",
       "      <td>22</td>\n",
       "      <td>39</td>\n",
       "      <td>[unsigned int data;,     data = 0;,     if(glo...</td>\n",
       "      <td>[printUnsignedLine, globalReturnsTrue]</td>\n",
       "      <td>unsigned 'unsigned'\\t [StartOfLine]\\tLoc=&lt;&lt;std...</td>\n",
       "    </tr>\n",
       "    <tr>\n",
       "      <th>248990</th>\n",
       "      <td>/mnt/md0/user/scheuererra68323/testset_jtt/C/t...</td>\n",
       "      <td>199</td>\n",
       "      <td>203</td>\n",
       "      <td>[goodG2B();,     goodB2G();]</td>\n",
       "      <td>[]</td>\n",
       "      <td>identifier 'goodG2B'\\t [StartOfLine]\\tLoc=&lt;&lt;st...</td>\n",
       "    </tr>\n",
       "    <tr>\n",
       "      <th>220067</th>\n",
       "      <td>/mnt/md0/user/scheuererra68323/testset_jtt/C/t...</td>\n",
       "      <td>56</td>\n",
       "      <td>67</td>\n",
       "      <td>[int64_t * data;,     /* Initialize data*/,   ...</td>\n",
       "      <td>[CWE762_Mismatched_Memory_Management_Routines_...</td>\n",
       "      <td>identifier 'int64_t'\\t [StartOfLine]\\tLoc=&lt;&lt;st...</td>\n",
       "    </tr>\n",
       "    <tr>\n",
       "      <th>283612</th>\n",
       "      <td>/mnt/md0/user/scheuererra68323/testset_jtt/C/t...</td>\n",
       "      <td>52</td>\n",
       "      <td>57</td>\n",
       "      <td>[printIntLine(data-&gt;intOne);,     /* POTENTIAL...</td>\n",
       "      <td>[]</td>\n",
       "      <td>identifier 'printIntLine'\\t [StartOfLine]\\tLoc...</td>\n",
       "    </tr>\n",
       "    <tr>\n",
       "      <th>142227</th>\n",
       "      <td>/mnt/md0/user/scheuererra68323/testset_jtt/C/t...</td>\n",
       "      <td>46</td>\n",
       "      <td>52</td>\n",
       "      <td>[if(GLOBAL_CONST_FIVE==5),     {,         sign...</td>\n",
       "      <td>[signal]</td>\n",
       "      <td>if 'if'\\t [StartOfLine]\\tLoc=&lt;&lt;stdin&gt;:1:1&gt;\\nl_...</td>\n",
       "    </tr>\n",
       "  </tbody>\n",
       "</table>\n",
       "</div>"
      ],
      "text/plain": [
       "                                                     path line_start  \\\n",
       "83452   /mnt/md0/user/scheuererra68323/testset_jtt/C/t...         22   \n",
       "248990  /mnt/md0/user/scheuererra68323/testset_jtt/C/t...        199   \n",
       "220067  /mnt/md0/user/scheuererra68323/testset_jtt/C/t...         56   \n",
       "283612  /mnt/md0/user/scheuererra68323/testset_jtt/C/t...         52   \n",
       "142227  /mnt/md0/user/scheuererra68323/testset_jtt/C/t...         46   \n",
       "\n",
       "       line_stop                                       code_snippet  \\\n",
       "83452         39  [unsigned int data;,     data = 0;,     if(glo...   \n",
       "248990       203                       [goodG2B();,     goodB2G();]   \n",
       "220067        67  [int64_t * data;,     /* Initialize data*/,   ...   \n",
       "283612        57  [printIntLine(data->intOne);,     /* POTENTIAL...   \n",
       "142227        52  [if(GLOBAL_CONST_FIVE==5),     {,         sign...   \n",
       "\n",
       "                                  external_function_names  \\\n",
       "83452              [printUnsignedLine, globalReturnsTrue]   \n",
       "248990                                                 []   \n",
       "220067  [CWE762_Mismatched_Memory_Management_Routines_...   \n",
       "283612                                                 []   \n",
       "142227                                           [signal]   \n",
       "\n",
       "                                       dump_tokens_output  \n",
       "83452   unsigned 'unsigned'\\t [StartOfLine]\\tLoc=<<std...  \n",
       "248990  identifier 'goodG2B'\\t [StartOfLine]\\tLoc=<<st...  \n",
       "220067  identifier 'int64_t'\\t [StartOfLine]\\tLoc=<<st...  \n",
       "283612  identifier 'printIntLine'\\t [StartOfLine]\\tLoc...  \n",
       "142227  if 'if'\\t [StartOfLine]\\tLoc=<<stdin>:1:1>\\nl_...  "
      ]
     },
     "execution_count": 4,
     "metadata": {},
     "output_type": "execute_result"
    }
   ],
   "source": [
    "df = FuncDef_11_wExtFuncCalls.copy().sample(n=25000)\n",
    "\n",
    "def run_dump_tokens(_code_snippet):\n",
    "    _code_snippet = '\\n'.join(_code_snippet)\n",
    "    _code_snippet = _code_snippet.encode('utf8') # encode code string to bytes for piping into clang\n",
    "    \n",
    "    p = Popen([r'clang', '-cc1', '-x', 'c++', '-dump-tokens'], stdout=PIPE, stdin=PIPE, stderr=PIPE)\n",
    "    return p.communicate(input=_code_snippet)[1].decode('utf8')\n",
    "\n",
    "   #return subprocess.run([r'clang', '-cc1', '-x', 'c++', '-dump-tokens'], \n",
    "    #                                   shell=True,\n",
    "     #                                  capture_output=True,\n",
    "      #                                 encoding='utf-8',\n",
    "       #                                input=_code_snippet\n",
    "        #                              ).stderr\n",
    "\n",
    "tqdm.pandas(desc=\"Dump Tokens\")\n",
    "df['dump_tokens_output'] = df.code_snippet.progress_apply(run_dump_tokens)\n",
    "\n",
    "df.head()"
   ]
  },
  {
   "cell_type": "code",
   "execution_count": 5,
   "metadata": {},
   "outputs": [
    {
     "name": "stdout",
     "output_type": "stream",
     "text": [
      "(25000, 6)\n",
      "path                       object\n",
      "line_start                 object\n",
      "line_stop                  object\n",
      "code_snippet               object\n",
      "external_function_names    object\n",
      "dump_tokens_output         object\n",
      "dtype: object\n"
     ]
    }
   ],
   "source": [
    "print(df.shape)\n",
    "print(df.dtypes)"
   ]
  },
  {
   "cell_type": "code",
   "execution_count": 6,
   "metadata": {},
   "outputs": [],
   "source": [
    "#print(df.iloc[0].path)\n",
    "#print()\n",
    "#print( \"\".join(df.iloc[0].code_snippet))#[0:500])\n",
    "#print()\n",
    "#print(df.iloc[0].dump_tokens_output[0:500])"
   ]
  },
  {
   "cell_type": "markdown",
   "metadata": {},
   "source": [
    "## Store the output"
   ]
  },
  {
   "cell_type": "code",
   "execution_count": 7,
   "metadata": {},
   "outputs": [
    {
     "name": "stderr",
     "output_type": "stream",
     "text": [
      "/home/scheuererra68323/.local/lib/python3.7/site-packages/fastparquet/encoding.py:222: NumbaDeprecationWarning: \u001b[1mThe 'numba.jitclass' decorator has moved to 'numba.experimental.jitclass' to better reflect the experimental nature of the functionality. Please update your imports to accommodate this change and see http://numba.pydata.org/numba-doc/latest/reference/deprecation.html#change-of-jitclass-location for the time frame.\u001b[0m\n",
      "  Numpy8 = numba.jitclass(spec8)(NumpyIO)\n",
      "/home/scheuererra68323/.local/lib/python3.7/site-packages/fastparquet/encoding.py:224: NumbaDeprecationWarning: \u001b[1mThe 'numba.jitclass' decorator has moved to 'numba.experimental.jitclass' to better reflect the experimental nature of the functionality. Please update your imports to accommodate this change and see http://numba.pydata.org/numba-doc/latest/reference/deprecation.html#change-of-jitclass-location for the time frame.\u001b[0m\n",
      "  Numpy32 = numba.jitclass(spec32)(NumpyIO)\n"
     ]
    }
   ],
   "source": [
    "import fastparquet\n",
    "fastparquet.write(\"/mnt/md0/user/scheuererra68323/JTT/JTT_DumpTokens_wExtFuncCalls.parquet\", df, row_group_offsets=1000, compression=\"gzip\")"
   ]
  },
  {
   "cell_type": "code",
   "execution_count": null,
   "metadata": {},
   "outputs": [],
   "source": []
  },
  {
   "cell_type": "code",
   "execution_count": null,
   "metadata": {},
   "outputs": [],
   "source": []
  },
  {
   "cell_type": "code",
   "execution_count": null,
   "metadata": {},
   "outputs": [],
   "source": []
  },
  {
   "cell_type": "code",
   "execution_count": null,
   "metadata": {},
   "outputs": [],
   "source": []
  }
 ],
 "metadata": {
  "kernelspec": {
   "display_name": "Python 3",
   "language": "python",
   "name": "python3"
  },
  "language_info": {
   "codemirror_mode": {
    "name": "ipython",
    "version": 3
   },
   "file_extension": ".py",
   "mimetype": "text/x-python",
   "name": "python",
   "nbconvert_exporter": "python",
   "pygments_lexer": "ipython3",
   "version": "3.7.3"
  }
 },
 "nbformat": 4,
 "nbformat_minor": 4
}
