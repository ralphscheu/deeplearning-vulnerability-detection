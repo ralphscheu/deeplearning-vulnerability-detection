{
 "cells": [
  {
   "cell_type": "markdown",
   "metadata": {},
   "source": [
    "## Tokenized and anonymized functions"
   ]
  },
  {
   "cell_type": "code",
   "execution_count": 38,
   "metadata": {},
   "outputs": [
    {
     "data": {
      "text/html": [
       "<div>\n",
       "<style scoped>\n",
       "    .dataframe tbody tr th:only-of-type {\n",
       "        vertical-align: middle;\n",
       "    }\n",
       "\n",
       "    .dataframe tbody tr th {\n",
       "        vertical-align: top;\n",
       "    }\n",
       "\n",
       "    .dataframe thead th {\n",
       "        text-align: right;\n",
       "    }\n",
       "</style>\n",
       "<table border=\"1\" class=\"dataframe\">\n",
       "  <thead>\n",
       "    <tr style=\"text-align: right;\">\n",
       "      <th></th>\n",
       "      <th>path</th>\n",
       "      <th>line_start</th>\n",
       "      <th>line_stop</th>\n",
       "      <th>code_snippet</th>\n",
       "      <th>dump_tokens_output</th>\n",
       "      <th>token_anon</th>\n",
       "    </tr>\n",
       "  </thead>\n",
       "  <tbody>\n",
       "    <tr>\n",
       "      <td>0</td>\n",
       "      <td>code_input/libreoffice-6.4.2.2/accessibility/s...</td>\n",
       "      <td>33</td>\n",
       "      <td>37</td>\n",
       "      <td>[if ( _nIndex &gt;= _sText.getLength() ),        ...</td>\n",
       "      <td>if 'if'\\t [StartOfLine]\\tLoc=&lt;&lt;stdin&gt;:1:1&gt;\\nl_...</td>\n",
       "      <td>[if, (, identifier0, &gt;=, identifier1, ., ident...</td>\n",
       "    </tr>\n",
       "    <tr>\n",
       "      <td>1</td>\n",
       "      <td>code_input/libreoffice-6.4.2.2/accessibility/s...</td>\n",
       "      <td>39</td>\n",
       "      <td>42</td>\n",
       "      <td>[return _nRow * _nColumnCount + _nColumn;]</td>\n",
       "      <td>return 'return'\\t [StartOfLine]\\tLoc=&lt;&lt;stdin&gt;:...</td>\n",
       "      <td>[return, identifier0, *, identifier1, +, ident...</td>\n",
       "    </tr>\n",
       "    <tr>\n",
       "      <td>2</td>\n",
       "      <td>code_input/libreoffice-6.4.2.2/accessibility/s...</td>\n",
       "      <td>36</td>\n",
       "      <td>40</td>\n",
       "      <td>[if ( _nIndex &gt;= _sText.getLength() ),        ...</td>\n",
       "      <td>if 'if'\\t [StartOfLine]\\tLoc=&lt;&lt;stdin&gt;:1:1&gt;\\nl_...</td>\n",
       "      <td>[if, (, identifier0, &gt;=, identifier1, ., ident...</td>\n",
       "    </tr>\n",
       "    <tr>\n",
       "      <td>3</td>\n",
       "      <td>code_input/libreoffice-6.4.2.2/accessibility/s...</td>\n",
       "      <td>42</td>\n",
       "      <td>47</td>\n",
       "      <td>[if ( _nIndex &lt; 0 || _nIndex &gt;= ACCESSIBLE_ACT...</td>\n",
       "      <td>if 'if'\\t [StartOfLine]\\tLoc=&lt;&lt;stdin&gt;:1:1&gt;\\nl_...</td>\n",
       "      <td>[if, (, identifier0, &lt;, 42, ||, identifier0, &gt;...</td>\n",
       "    </tr>\n",
       "    <tr>\n",
       "      <td>4</td>\n",
       "      <td>code_input/libreoffice-6.4.2.2/accessibility/s...</td>\n",
       "      <td>47</td>\n",
       "      <td>52</td>\n",
       "      <td>[if ( _nIndex &lt; 0 || _nIndex &gt;= ACCESSIBLE_ACT...</td>\n",
       "      <td>if 'if'\\t [StartOfLine]\\tLoc=&lt;&lt;stdin&gt;:1:1&gt;\\nl_...</td>\n",
       "      <td>[if, (, identifier0, &lt;, 42, ||, identifier0, &gt;...</td>\n",
       "    </tr>\n",
       "    <tr>\n",
       "      <td>...</td>\n",
       "      <td>...</td>\n",
       "      <td>...</td>\n",
       "      <td>...</td>\n",
       "      <td>...</td>\n",
       "      <td>...</td>\n",
       "      <td>...</td>\n",
       "    </tr>\n",
       "    <tr>\n",
       "      <td>14218</td>\n",
       "      <td>code_input/libreoffice-6.4.2.2/xmlsecurity/sou...</td>\n",
       "      <td>238</td>\n",
       "      <td>241</td>\n",
       "      <td>[xmlUnregisterStreamInputCallbacks() ;,     g_...</td>\n",
       "      <td>identifier 'xmlUnregisterStreamInputCallbacks'...</td>\n",
       "      <td>[identifier0, (, ), ;, identifier1, =, false, ;]</td>\n",
       "    </tr>\n",
       "    <tr>\n",
       "      <td>14220</td>\n",
       "      <td>code_input/libreoffice-6.4.2.2/xmlsecurity/sou...</td>\n",
       "      <td>40</td>\n",
       "      <td>53</td>\n",
       "      <td>[int              length = 0;,         CERTGen...</td>\n",
       "      <td>int 'int'\\t [StartOfLine]\\tLoc=&lt;&lt;stdin&gt;:1:1&gt;\\n...</td>\n",
       "      <td>[int, identifier0, =, 42, ;, identifier1, *, i...</td>\n",
       "    </tr>\n",
       "    <tr>\n",
       "      <td>14221</td>\n",
       "      <td>code_input/libreoffice-6.4.2.2/xmlsecurity/wor...</td>\n",
       "      <td>36</td>\n",
       "      <td>55</td>\n",
       "      <td>[GraphicFilter&amp; rFilter = GraphicFilter::GetGr...</td>\n",
       "      <td>identifier 'GraphicFilter'\\t [StartOfLine]\\tLo...</td>\n",
       "      <td>[identifier0, &amp;, identifier1, =, identifier0, ...</td>\n",
       "    </tr>\n",
       "    <tr>\n",
       "      <td>14222</td>\n",
       "      <td>code_input/libreoffice-6.4.2.2/xmlsecurity/wor...</td>\n",
       "      <td>57</td>\n",
       "      <td>202</td>\n",
       "      <td>[if (nArgc &lt; 2),     {,         SAL_WARN(\"xmls...</td>\n",
       "      <td>if 'if'\\t [StartOfLine]\\tLoc=&lt;&lt;stdin&gt;:1:1&gt;\\nl_...</td>\n",
       "      <td>[if, (, identifier0, &lt;, 42, ), {, identifier1,...</td>\n",
       "    </tr>\n",
       "    <tr>\n",
       "      <td>14223</td>\n",
       "      <td>code_input/libreoffice-6.4.2.2/xmlsecurity/wor...</td>\n",
       "      <td>205</td>\n",
       "      <td>216</td>\n",
       "      <td>[try,     {,         return pdfVerify(nArgc, p...</td>\n",
       "      <td>try 'try'\\t [StartOfLine]\\tLoc=&lt;&lt;stdin&gt;:1:1&gt;\\n...</td>\n",
       "      <td>[try, {, return, identifier0, (, identifier1, ...</td>\n",
       "    </tr>\n",
       "  </tbody>\n",
       "</table>\n",
       "<p>13299 rows × 6 columns</p>\n",
       "</div>"
      ],
      "text/plain": [
       "                                                    path line_start line_stop  \\\n",
       "0      code_input/libreoffice-6.4.2.2/accessibility/s...         33        37   \n",
       "1      code_input/libreoffice-6.4.2.2/accessibility/s...         39        42   \n",
       "2      code_input/libreoffice-6.4.2.2/accessibility/s...         36        40   \n",
       "3      code_input/libreoffice-6.4.2.2/accessibility/s...         42        47   \n",
       "4      code_input/libreoffice-6.4.2.2/accessibility/s...         47        52   \n",
       "...                                                  ...        ...       ...   \n",
       "14218  code_input/libreoffice-6.4.2.2/xmlsecurity/sou...        238       241   \n",
       "14220  code_input/libreoffice-6.4.2.2/xmlsecurity/sou...         40        53   \n",
       "14221  code_input/libreoffice-6.4.2.2/xmlsecurity/wor...         36        55   \n",
       "14222  code_input/libreoffice-6.4.2.2/xmlsecurity/wor...         57       202   \n",
       "14223  code_input/libreoffice-6.4.2.2/xmlsecurity/wor...        205       216   \n",
       "\n",
       "                                            code_snippet  \\\n",
       "0      [if ( _nIndex >= _sText.getLength() ),        ...   \n",
       "1             [return _nRow * _nColumnCount + _nColumn;]   \n",
       "2      [if ( _nIndex >= _sText.getLength() ),        ...   \n",
       "3      [if ( _nIndex < 0 || _nIndex >= ACCESSIBLE_ACT...   \n",
       "4      [if ( _nIndex < 0 || _nIndex >= ACCESSIBLE_ACT...   \n",
       "...                                                  ...   \n",
       "14218  [xmlUnregisterStreamInputCallbacks() ;,     g_...   \n",
       "14220  [int              length = 0;,         CERTGen...   \n",
       "14221  [GraphicFilter& rFilter = GraphicFilter::GetGr...   \n",
       "14222  [if (nArgc < 2),     {,         SAL_WARN(\"xmls...   \n",
       "14223  [try,     {,         return pdfVerify(nArgc, p...   \n",
       "\n",
       "                                      dump_tokens_output  \\\n",
       "0      if 'if'\\t [StartOfLine]\\tLoc=<<stdin>:1:1>\\nl_...   \n",
       "1      return 'return'\\t [StartOfLine]\\tLoc=<<stdin>:...   \n",
       "2      if 'if'\\t [StartOfLine]\\tLoc=<<stdin>:1:1>\\nl_...   \n",
       "3      if 'if'\\t [StartOfLine]\\tLoc=<<stdin>:1:1>\\nl_...   \n",
       "4      if 'if'\\t [StartOfLine]\\tLoc=<<stdin>:1:1>\\nl_...   \n",
       "...                                                  ...   \n",
       "14218  identifier 'xmlUnregisterStreamInputCallbacks'...   \n",
       "14220  int 'int'\\t [StartOfLine]\\tLoc=<<stdin>:1:1>\\n...   \n",
       "14221  identifier 'GraphicFilter'\\t [StartOfLine]\\tLo...   \n",
       "14222  if 'if'\\t [StartOfLine]\\tLoc=<<stdin>:1:1>\\nl_...   \n",
       "14223  try 'try'\\t [StartOfLine]\\tLoc=<<stdin>:1:1>\\n...   \n",
       "\n",
       "                                              token_anon  \n",
       "0      [if, (, identifier0, >=, identifier1, ., ident...  \n",
       "1      [return, identifier0, *, identifier1, +, ident...  \n",
       "2      [if, (, identifier0, >=, identifier1, ., ident...  \n",
       "3      [if, (, identifier0, <, 42, ||, identifier0, >...  \n",
       "4      [if, (, identifier0, <, 42, ||, identifier0, >...  \n",
       "...                                                  ...  \n",
       "14218   [identifier0, (, ), ;, identifier1, =, false, ;]  \n",
       "14220  [int, identifier0, =, 42, ;, identifier1, *, i...  \n",
       "14221  [identifier0, &, identifier1, =, identifier0, ...  \n",
       "14222  [if, (, identifier0, <, 42, ), {, identifier1,...  \n",
       "14223  [try, {, return, identifier0, (, identifier1, ...  \n",
       "\n",
       "[13299 rows x 6 columns]"
      ]
     },
     "execution_count": 38,
     "metadata": {},
     "output_type": "execute_result"
    }
   ],
   "source": [
    "import pandas as pd\n",
    "\n",
    "df = pd.read_hdf('FuncDef_20_TokenAnon_full.h5')\n",
    "df"
   ]
  },
  {
   "cell_type": "markdown",
   "metadata": {},
   "source": [
    "## Tokenization and anonymization pipeline"
   ]
  },
  {
   "cell_type": "markdown",
   "metadata": {},
   "source": [
    "### Raw code snippet"
   ]
  },
  {
   "cell_type": "code",
   "execution_count": 39,
   "metadata": {
    "scrolled": true
   },
   "outputs": [
    {
     "name": "stdout",
     "output_type": "stream",
     "text": [
      ">> code_input/libreoffice-6.4.2.2/sw/qa/extras/uiwriter/uiwriter.cxx\n",
      "\n",
      "SwDoc* pDoc = createDoc(\"fdo75110.odt\");\n",
      "    SwWrtShell* pWrtShell = pDoc->GetDocShell()->GetWrtShell();\n",
      "\n",
      "    pWrtShell->SelAll();\n",
      "    // The problem was that SwEditShell::DeleteSel() what this Delete() invokes took the wrong selection...\n",
      "    pWrtShell->Delete();\n",
      "    sw::UndoManager& rUndoManager = pDoc->GetUndoManager();\n",
      "    // ... so this Undo() call resulted in a crash.\n",
      "    rUndoManager.Undo();\n"
     ]
    }
   ],
   "source": [
    "ex = df.sample(n=1, random_state=2).iloc[0]\n",
    "print('>>', ex.path)\n",
    "print()\n",
    "print('\\n'.join(ex.code_snippet))"
   ]
  },
  {
   "cell_type": "markdown",
   "metadata": {},
   "source": [
    "### clang -dump-tokens"
   ]
  },
  {
   "cell_type": "code",
   "execution_count": 40,
   "metadata": {
    "scrolled": true
   },
   "outputs": [
    {
     "name": "stdout",
     "output_type": "stream",
     "text": [
      "identifier 'SwDoc'\t [StartOfLine]\tLoc=<<stdin>:1:1>\n",
      "star '*'\t\tLoc=<<stdin>:1:6>\n",
      "identifier 'pDoc'\t [LeadingSpace]\tLoc=<<stdin>:1:8>\n",
      "equal '='\t [LeadingSpace]\tLoc=<<stdin>:1:13>\n",
      "identifier 'createDoc'\t [LeadingSpace]\tLoc=<<stdin>:1:15>\n",
      "l_paren '('\t\tLoc=<<stdin>:1:24>\n",
      "string_literal '\"fdo75110.odt\"'\t\tLoc=<<stdin>:1:25>\n",
      "r_paren ')'\t\tLoc=<<stdin>:1:39>\n",
      "semi ';'\t\tLoc=<<stdin>:1:40>\n",
      "identifier 'SwWrtShell'\t [StartOfLine] [LeadingSpace]\tLoc=<<stdin>:2:5>\n",
      "star '*'\t\tLoc=<<stdin>:2:15>\n",
      "identifier 'pWrtShell'\t [LeadingSpace]\tLoc=<<stdin>:2:17>\n",
      "equal '='\t [LeadingSpace]\tLoc=<<stdin>:2:27>\n",
      "identifier 'pDoc'\t [LeadingSpace]\tLoc=<<stdin>:2:29>\n",
      "arrow '->'\t\tLoc=<<stdin>:2:33>\n",
      "identifier 'GetDocShell'\t\tLoc=<<stdin>:2:35>\n",
      "l_paren '('\t\tLoc=<<stdin>:2:46>\n",
      "r_paren ')'\t\tLoc=<<stdin>:2:47>\n",
      "arrow '->'\t\tLoc=<<stdin>:2:48>\n",
      "identifier 'GetWrtShell'\t\tLoc=<<stdin>:2:50>\n",
      "l_paren '('\t\tLoc=<<stdin>:2:61>\n",
      "r_paren ')'\t\tLoc=<<stdin>:2:62>\n",
      "semi ';'\t\tLoc=<<stdin>:2:63>\n",
      "identifier 'pWrtShell'\t [StartOfLine] [LeadingSpace]\tLoc=<<stdin>:4:5>\n",
      "arrow '->'\t\tLoc=<<stdin>:4:14>\n",
      "identifier 'SelAll'\t\tLoc=<<stdin>:4:16>\n",
      "l_paren '('\t\tLoc=<<stdin>:4:22>\n",
      "r_paren ')'\t\tLoc=<<stdin>:4:23>\n",
      "semi ';'\t\tLoc=<<stdin>:4:24>\n",
      "identifier 'pWrtShell'\t [StartOfLine] [LeadingSpace]\tLoc=<<stdin>:6:5>\n",
      "arrow '->'\t\tLoc=<<stdin>:6:14>\n",
      "identifier 'Delete'\t\tLoc=<<stdin>:6:16>\n",
      "l_paren '('\t\tLoc=<<stdin>:6:22>\n",
      "r_paren ')'\t\tLoc=<<stdin>:6:23>\n",
      "semi ';'\t\tLoc=<<stdin>:6:24>\n",
      "identifier 'sw'\t [StartOfLine] [LeadingSpace]\tLoc=<<stdin>:7:5>\n",
      "coloncolon '::'\t\tLoc=<<stdin>:7:7>\n",
      "identifier 'UndoManager'\t\tLoc=<<stdin>:7:9>\n",
      "amp '&'\t\tLoc=<<stdin>:7:20>\n",
      "identifier 'rUndoManager'\t [LeadingSpace]\tLoc=<<stdin>:7:22>\n",
      "equal '='\t [LeadingSpace]\tLoc=<<stdin>:7:35>\n",
      "identifier 'pDoc'\t [LeadingSpace]\tLoc=<<stdin>:7:37>\n",
      "arrow '->'\t\tLoc=<<stdin>:7:41>\n",
      "identifier 'GetUndoManager'\t\tLoc=<<stdin>:7:43>\n",
      "l_paren '('\t\tLoc=<<stdin>:7:57>\n",
      "r_paren ')'\t\tLoc=<<stdin>:7:58>\n",
      "semi ';'\t\tLoc=<<stdin>:7:59>\n",
      "identifier 'rUndoManager'\t [StartOfLine] [LeadingSpace]\tLoc=<<stdin>:9:5>\n",
      "period '.'\t\tLoc=<<stdin>:9:17>\n",
      "identifier 'Undo'\t\tLoc=<<stdin>:9:18>\n",
      "l_paren '('\t\tLoc=<<stdin>:9:22>\n",
      "r_paren ')'\t\tLoc=<<stdin>:9:23>\n",
      "semi ';'\t\tLoc=<<stdin>:9:24>\n",
      "eof ''\t\tLoc=<<stdin>:9:25>\n",
      "\n"
     ]
    }
   ],
   "source": [
    "print(ex.dump_tokens_output)"
   ]
  },
  {
   "cell_type": "markdown",
   "metadata": {},
   "source": [
    "### anonymization"
   ]
  },
  {
   "cell_type": "code",
   "execution_count": 41,
   "metadata": {},
   "outputs": [
    {
     "name": "stdout",
     "output_type": "stream",
     "text": [
      "identifier0*identifier1=identifier2(string_literal);\n",
      "identifier3*identifier4=identifier1->identifier5()->identifier6();\n",
      "identifier4->identifier7();\n",
      "identifier4->identifier8();\n",
      "identifier9::identifier10&identifier11=identifier1->identifier12();\n",
      "identifier11.identifier13();\n"
     ]
    }
   ],
   "source": [
    "for line in ''.join(ex.token_anon).split(';'):\n",
    "    if line != '':\n",
    "        print( '{};'.format(line) )"
   ]
  },
  {
   "cell_type": "code",
   "execution_count": null,
   "metadata": {},
   "outputs": [],
   "source": []
  },
  {
   "cell_type": "code",
   "execution_count": null,
   "metadata": {},
   "outputs": [],
   "source": []
  },
  {
   "cell_type": "code",
   "execution_count": null,
   "metadata": {},
   "outputs": [],
   "source": []
  },
  {
   "cell_type": "code",
   "execution_count": null,
   "metadata": {},
   "outputs": [],
   "source": []
  }
 ],
 "metadata": {
  "kernelspec": {
   "display_name": "Python 3",
   "language": "python",
   "name": "python3"
  },
  "language_info": {
   "codemirror_mode": {
    "name": "ipython",
    "version": 3
   },
   "file_extension": ".py",
   "mimetype": "text/x-python",
   "name": "python",
   "nbconvert_exporter": "python",
   "pygments_lexer": "ipython3",
   "version": "3.7.3"
  }
 },
 "nbformat": 4,
 "nbformat_minor": 4
}
